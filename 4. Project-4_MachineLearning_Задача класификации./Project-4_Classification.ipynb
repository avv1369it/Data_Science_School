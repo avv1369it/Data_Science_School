{
 "cells": [
  {
   "cell_type": "markdown",
   "id": "c353de9a",
   "metadata": {},
   "source": [
    "# PROJECT-4. Задача классификации"
   ]
  },
  {
   "cell_type": "markdown",
   "id": "a612c497",
   "metadata": {},
   "source": [
    "### Варламов Александр (поток DSPR-131)"
   ]
  },
  {
   "cell_type": "markdown",
   "id": "dbb8694e",
   "metadata": {},
   "source": [
    "# 1. Problem(Проблема)"
   ]
  },
  {
   "cell_type": "markdown",
   "id": "d7ee5469",
   "metadata": {},
   "source": [
    "### Проблема:"
   ]
  },
  {
   "cell_type": "markdown",
   "id": "626467b2",
   "metadata": {},
   "source": [
    "Банки хранят огромные объёмы информации о своих клиентах. Эти данные можно использовать для того, чтобы оставаться на связи с клиентами и индивидуально ориентировать их на подходящие именно им продукты или банковские предложения.\n",
    "\n",
    "Обычно с выбранными клиентами связываются напрямую через разные каналы связи: лично (например, при визите в банк), по телефону, по электронной почте, в мессенджерах и так далее. Этот вид маркетинга называется прямым маркетингом. На самом деле, прямой маркетинг используется для взаимодействия с клиентами в большинстве банков и страховых компаний. Но, разумеется, проведение маркетинговых кампаний и взаимодействие с клиентами — это ***трудозатратно и дорого***.\n",
    "\n",
    "Банк предоставил данные о последней маркетинговой кампании, которую проводил чтобы привлечь клиентов для открытия депозита."
   ]
  },
  {
   "cell_type": "markdown",
   "id": "0788ab44",
   "metadata": {},
   "source": [
    "### Цель проекта:"
   ]
  },
  {
   "cell_type": "markdown",
   "id": "00cb9b06",
   "metadata": {},
   "source": [
    "***Бизнес-цель***: определить характеристики, по которым можно выявить клиентов, более склонных к открытию депозита в банке, и за счёт этого повысить результативность маркетинговой кампании.\n",
    "\n",
    "***Техническая цель***: построить модель машинного обучения, которая на основе предложенных характеристик клиента будет предсказывать, воспользуется он предложением об открытии депозита или нет."
   ]
  },
  {
   "cell_type": "markdown",
   "id": "f323d786",
   "metadata": {},
   "source": [
    "### Задачи проекта:"
   ]
  },
  {
   "cell_type": "markdown",
   "id": "abc9fe47",
   "metadata": {},
   "source": [
    "1. **Провести первичную обработку данных** - необходимо обработать пропуски и выбросы в данных для дальнейшей работы с ними;\n",
    "2. **Провести разведывательный анализ данных (EDA)** - необходимо исследовать данные, определить первые закономерности и выдвинуть гипотезы;\n",
    "3. **Выполнить отбор и преобразование признаков** - необходимо перекодировать и преобразовать признаки для решения задачи класификации;\n",
    "4. **Построить модель класификации с использованием алгоритмов - логистическая регрессия и решающие деревья** - необходимо построить первую прогностическую модель и оценить ее качество, подобрать оптимальные параметры модели для получения наилучших результатов;\n",
    "5. **Построить модель класификации с помощью алгоритма - ансамбли моделей** - необходимо построить прогностическую модель с использованием более сложного алгоритма, оценить качество, подобрать оптимальные параметры;\n",
    "6. **Построение прогноза** - определить алгоритм для построения модели с более качественными предсказаниями, доработать предсказания и прогнозы."
   ]
  },
  {
   "cell_type": "markdown",
   "id": "2d7506e3",
   "metadata": {},
   "source": [
    "# 2. Collection(Сбор данных)"
   ]
  },
  {
   "cell_type": "markdown",
   "id": "6a7b9ee4",
   "metadata": {},
   "source": [
    "### Импорт необходимых библиотек и функций"
   ]
  },
  {
   "cell_type": "code",
   "execution_count": 673,
   "id": "4a6e54dc",
   "metadata": {},
   "outputs": [],
   "source": [
    "# базовые DS библиотеки\n",
    "import numpy as np\n",
    "import pandas as pd\n",
    "\n",
    "# библиотеки визуализации\n",
    "import matplotlib.pyplot as plt\n",
    "%matplotlib inline\n",
    "import seaborn as sns\n",
    "import plotly.express as px\n",
    "\n",
    "from sklearn import preprocessing \n",
    "from sklearn.preprocessing  import LabelEncoder\n",
    "from sklearn.preprocessing import MinMaxScaler\n",
    "\n",
    "from sklearn.linear_model import LogisticRegression \n",
    "from sklearn.tree import DecisionTreeClassifier\n",
    "from sklearn.ensemble import RandomForestClassifier\n",
    "from sklearn.ensemble import GradientBoostingClassifier\n",
    "from sklearn.ensemble import IsolationForest \n",
    "from sklearn.ensemble import StackingClassifier\n",
    "\n",
    "from sklearn import metrics \n",
    "\n",
    "from sklearn.model_selection import train_test_split # разделение выборки на train и test\n",
    "from sklearn.model_selection import GridSearchCV # оптимизация гиперпараметров \n",
    " \n",
    "from sklearn.feature_selection import SelectKBest, f_classif\n",
    "\n",
    "from category_encoders import OneHotEncoder #кодирование признаков\n",
    "\n",
    "import optuna\n",
    "\n",
    "# cтандартные python библиотеки\n",
    "import os\n",
    "import time\n",
    "import warnings\n",
    "warnings.filterwarnings('ignore')"
   ]
  },
  {
   "cell_type": "code",
   "execution_count": 507,
   "id": "5471cad3",
   "metadata": {},
   "outputs": [],
   "source": [
    "# фиксируем RANDOM_SEED, для воспроизводимости кода.\n",
    "RANDOM_SEED = 42"
   ]
  },
  {
   "cell_type": "code",
   "execution_count": 230,
   "id": "29757a3c",
   "metadata": {},
   "outputs": [],
   "source": [
    "# фиксируем версии установленных пакетов\n",
    "#!pip freeze > requrements.txt"
   ]
  },
  {
   "cell_type": "markdown",
   "id": "2e0dca95",
   "metadata": {},
   "source": [
    "### Загружаем данные"
   ]
  },
  {
   "cell_type": "code",
   "execution_count": 508,
   "id": "6602b8a3",
   "metadata": {},
   "outputs": [],
   "source": [
    "# загружаем данные в dataframe\n",
    "df = pd.read_csv('data/bank_fin.csv', sep=';')"
   ]
  },
  {
   "cell_type": "markdown",
   "id": "66923c88",
   "metadata": {},
   "source": [
    "### Первичный анализ"
   ]
  },
  {
   "cell_type": "code",
   "execution_count": 509,
   "id": "6e969959",
   "metadata": {},
   "outputs": [
    {
     "data": {
      "text/html": [
       "<div>\n",
       "<style scoped>\n",
       "    .dataframe tbody tr th:only-of-type {\n",
       "        vertical-align: middle;\n",
       "    }\n",
       "\n",
       "    .dataframe tbody tr th {\n",
       "        vertical-align: top;\n",
       "    }\n",
       "\n",
       "    .dataframe thead th {\n",
       "        text-align: right;\n",
       "    }\n",
       "</style>\n",
       "<table border=\"1\" class=\"dataframe\">\n",
       "  <thead>\n",
       "    <tr style=\"text-align: right;\">\n",
       "      <th></th>\n",
       "      <th>age</th>\n",
       "      <th>job</th>\n",
       "      <th>marital</th>\n",
       "      <th>education</th>\n",
       "      <th>default</th>\n",
       "      <th>balance</th>\n",
       "      <th>housing</th>\n",
       "      <th>loan</th>\n",
       "      <th>contact</th>\n",
       "      <th>day</th>\n",
       "      <th>month</th>\n",
       "      <th>duration</th>\n",
       "      <th>campaign</th>\n",
       "      <th>pdays</th>\n",
       "      <th>previous</th>\n",
       "      <th>poutcome</th>\n",
       "      <th>deposit</th>\n",
       "    </tr>\n",
       "  </thead>\n",
       "  <tbody>\n",
       "    <tr>\n",
       "      <th>0</th>\n",
       "      <td>59</td>\n",
       "      <td>admin.</td>\n",
       "      <td>married</td>\n",
       "      <td>secondary</td>\n",
       "      <td>no</td>\n",
       "      <td>2 343,00 $</td>\n",
       "      <td>yes</td>\n",
       "      <td>no</td>\n",
       "      <td>unknown</td>\n",
       "      <td>5</td>\n",
       "      <td>may</td>\n",
       "      <td>1042</td>\n",
       "      <td>1</td>\n",
       "      <td>-1</td>\n",
       "      <td>0</td>\n",
       "      <td>unknown</td>\n",
       "      <td>yes</td>\n",
       "    </tr>\n",
       "    <tr>\n",
       "      <th>1</th>\n",
       "      <td>56</td>\n",
       "      <td>admin.</td>\n",
       "      <td>married</td>\n",
       "      <td>secondary</td>\n",
       "      <td>no</td>\n",
       "      <td>45,00 $</td>\n",
       "      <td>no</td>\n",
       "      <td>no</td>\n",
       "      <td>unknown</td>\n",
       "      <td>5</td>\n",
       "      <td>may</td>\n",
       "      <td>1467</td>\n",
       "      <td>1</td>\n",
       "      <td>-1</td>\n",
       "      <td>0</td>\n",
       "      <td>unknown</td>\n",
       "      <td>yes</td>\n",
       "    </tr>\n",
       "    <tr>\n",
       "      <th>2</th>\n",
       "      <td>41</td>\n",
       "      <td>technician</td>\n",
       "      <td>married</td>\n",
       "      <td>secondary</td>\n",
       "      <td>no</td>\n",
       "      <td>1 270,00 $</td>\n",
       "      <td>yes</td>\n",
       "      <td>no</td>\n",
       "      <td>unknown</td>\n",
       "      <td>5</td>\n",
       "      <td>may</td>\n",
       "      <td>1389</td>\n",
       "      <td>1</td>\n",
       "      <td>-1</td>\n",
       "      <td>0</td>\n",
       "      <td>unknown</td>\n",
       "      <td>yes</td>\n",
       "    </tr>\n",
       "  </tbody>\n",
       "</table>\n",
       "</div>"
      ],
      "text/plain": [
       "   age         job  marital  education default       balance housing loan  \\\n",
       "0   59      admin.  married  secondary      no   2 343,00 $      yes   no   \n",
       "1   56      admin.  married  secondary      no      45,00 $       no   no   \n",
       "2   41  technician  married  secondary      no   1 270,00 $      yes   no   \n",
       "\n",
       "   contact  day month  duration  campaign  pdays  previous poutcome deposit  \n",
       "0  unknown    5   may      1042         1     -1         0  unknown     yes  \n",
       "1  unknown    5   may      1467         1     -1         0  unknown     yes  \n",
       "2  unknown    5   may      1389         1     -1         0  unknown     yes  "
      ]
     },
     "metadata": {},
     "output_type": "display_data"
    },
    {
     "data": {
      "text/html": [
       "<div>\n",
       "<style scoped>\n",
       "    .dataframe tbody tr th:only-of-type {\n",
       "        vertical-align: middle;\n",
       "    }\n",
       "\n",
       "    .dataframe tbody tr th {\n",
       "        vertical-align: top;\n",
       "    }\n",
       "\n",
       "    .dataframe thead th {\n",
       "        text-align: right;\n",
       "    }\n",
       "</style>\n",
       "<table border=\"1\" class=\"dataframe\">\n",
       "  <thead>\n",
       "    <tr style=\"text-align: right;\">\n",
       "      <th></th>\n",
       "      <th>age</th>\n",
       "      <th>job</th>\n",
       "      <th>marital</th>\n",
       "      <th>education</th>\n",
       "      <th>default</th>\n",
       "      <th>balance</th>\n",
       "      <th>housing</th>\n",
       "      <th>loan</th>\n",
       "      <th>contact</th>\n",
       "      <th>day</th>\n",
       "      <th>month</th>\n",
       "      <th>duration</th>\n",
       "      <th>campaign</th>\n",
       "      <th>pdays</th>\n",
       "      <th>previous</th>\n",
       "      <th>poutcome</th>\n",
       "      <th>deposit</th>\n",
       "    </tr>\n",
       "  </thead>\n",
       "  <tbody>\n",
       "    <tr>\n",
       "      <th>11161</th>\n",
       "      <td>34</td>\n",
       "      <td>technician</td>\n",
       "      <td>married</td>\n",
       "      <td>secondary</td>\n",
       "      <td>no</td>\n",
       "      <td>0  $</td>\n",
       "      <td>no</td>\n",
       "      <td>no</td>\n",
       "      <td>cellular</td>\n",
       "      <td>9</td>\n",
       "      <td>jul</td>\n",
       "      <td>628</td>\n",
       "      <td>1</td>\n",
       "      <td>-1</td>\n",
       "      <td>0</td>\n",
       "      <td>unknown</td>\n",
       "      <td>no</td>\n",
       "    </tr>\n",
       "  </tbody>\n",
       "</table>\n",
       "</div>"
      ],
      "text/plain": [
       "       age         job  marital  education default balance housing loan  \\\n",
       "11161   34  technician  married  secondary      no   0  $       no   no   \n",
       "\n",
       "        contact  day month  duration  campaign  pdays  previous poutcome  \\\n",
       "11161  cellular    9   jul       628         1     -1         0  unknown   \n",
       "\n",
       "      deposit  \n",
       "11161      no  "
      ]
     },
     "metadata": {},
     "output_type": "display_data"
    }
   ],
   "source": [
    "# выводим информацию о табличной структуре данных (голова - хвост)\n",
    "display(df.head(3))\n",
    "display(df.tail(1))"
   ]
  },
  {
   "cell_type": "code",
   "execution_count": 510,
   "id": "39e02b8a",
   "metadata": {},
   "outputs": [
    {
     "name": "stdout",
     "output_type": "stream",
     "text": [
      "<class 'pandas.core.frame.DataFrame'>\n",
      "RangeIndex: 11162 entries, 0 to 11161\n",
      "Data columns (total 17 columns):\n",
      " #   Column     Non-Null Count  Dtype \n",
      "---  ------     --------------  ----- \n",
      " 0   age        11162 non-null  int64 \n",
      " 1   job        11162 non-null  object\n",
      " 2   marital    11162 non-null  object\n",
      " 3   education  11162 non-null  object\n",
      " 4   default    11162 non-null  object\n",
      " 5   balance    11137 non-null  object\n",
      " 6   housing    11162 non-null  object\n",
      " 7   loan       11162 non-null  object\n",
      " 8   contact    11162 non-null  object\n",
      " 9   day        11162 non-null  int64 \n",
      " 10  month      11162 non-null  object\n",
      " 11  duration   11162 non-null  int64 \n",
      " 12  campaign   11162 non-null  int64 \n",
      " 13  pdays      11162 non-null  int64 \n",
      " 14  previous   11162 non-null  int64 \n",
      " 15  poutcome   11162 non-null  object\n",
      " 16  deposit    11162 non-null  object\n",
      "dtypes: int64(6), object(11)\n",
      "memory usage: 1.4+ MB\n"
     ]
    },
    {
     "data": {
      "text/plain": [
       "None"
      ]
     },
     "metadata": {},
     "output_type": "display_data"
    }
   ],
   "source": [
    "# выводим информацию о данных с использованием функции info\n",
    "display(df.info())"
   ]
  },
  {
   "cell_type": "code",
   "execution_count": 511,
   "id": "e96f9170",
   "metadata": {},
   "outputs": [
    {
     "data": {
      "text/html": [
       "<div>\n",
       "<style scoped>\n",
       "    .dataframe tbody tr th:only-of-type {\n",
       "        vertical-align: middle;\n",
       "    }\n",
       "\n",
       "    .dataframe tbody tr th {\n",
       "        vertical-align: top;\n",
       "    }\n",
       "\n",
       "    .dataframe thead th {\n",
       "        text-align: right;\n",
       "    }\n",
       "</style>\n",
       "<table border=\"1\" class=\"dataframe\">\n",
       "  <thead>\n",
       "    <tr style=\"text-align: right;\">\n",
       "      <th></th>\n",
       "      <th>age</th>\n",
       "      <th>day</th>\n",
       "      <th>duration</th>\n",
       "      <th>campaign</th>\n",
       "      <th>pdays</th>\n",
       "      <th>previous</th>\n",
       "    </tr>\n",
       "  </thead>\n",
       "  <tbody>\n",
       "    <tr>\n",
       "      <th>count</th>\n",
       "      <td>11162.000000</td>\n",
       "      <td>11162.000000</td>\n",
       "      <td>11162.000000</td>\n",
       "      <td>11162.000000</td>\n",
       "      <td>11162.000000</td>\n",
       "      <td>11162.000000</td>\n",
       "    </tr>\n",
       "    <tr>\n",
       "      <th>mean</th>\n",
       "      <td>41.231948</td>\n",
       "      <td>15.658036</td>\n",
       "      <td>371.993818</td>\n",
       "      <td>2.508421</td>\n",
       "      <td>51.330407</td>\n",
       "      <td>0.832557</td>\n",
       "    </tr>\n",
       "    <tr>\n",
       "      <th>std</th>\n",
       "      <td>11.913369</td>\n",
       "      <td>8.420740</td>\n",
       "      <td>347.128386</td>\n",
       "      <td>2.722077</td>\n",
       "      <td>108.758282</td>\n",
       "      <td>2.292007</td>\n",
       "    </tr>\n",
       "    <tr>\n",
       "      <th>min</th>\n",
       "      <td>18.000000</td>\n",
       "      <td>1.000000</td>\n",
       "      <td>2.000000</td>\n",
       "      <td>1.000000</td>\n",
       "      <td>-1.000000</td>\n",
       "      <td>0.000000</td>\n",
       "    </tr>\n",
       "    <tr>\n",
       "      <th>25%</th>\n",
       "      <td>32.000000</td>\n",
       "      <td>8.000000</td>\n",
       "      <td>138.000000</td>\n",
       "      <td>1.000000</td>\n",
       "      <td>-1.000000</td>\n",
       "      <td>0.000000</td>\n",
       "    </tr>\n",
       "    <tr>\n",
       "      <th>50%</th>\n",
       "      <td>39.000000</td>\n",
       "      <td>15.000000</td>\n",
       "      <td>255.000000</td>\n",
       "      <td>2.000000</td>\n",
       "      <td>-1.000000</td>\n",
       "      <td>0.000000</td>\n",
       "    </tr>\n",
       "    <tr>\n",
       "      <th>75%</th>\n",
       "      <td>49.000000</td>\n",
       "      <td>22.000000</td>\n",
       "      <td>496.000000</td>\n",
       "      <td>3.000000</td>\n",
       "      <td>20.750000</td>\n",
       "      <td>1.000000</td>\n",
       "    </tr>\n",
       "    <tr>\n",
       "      <th>max</th>\n",
       "      <td>95.000000</td>\n",
       "      <td>31.000000</td>\n",
       "      <td>3881.000000</td>\n",
       "      <td>63.000000</td>\n",
       "      <td>854.000000</td>\n",
       "      <td>58.000000</td>\n",
       "    </tr>\n",
       "  </tbody>\n",
       "</table>\n",
       "</div>"
      ],
      "text/plain": [
       "                age           day      duration      campaign         pdays  \\\n",
       "count  11162.000000  11162.000000  11162.000000  11162.000000  11162.000000   \n",
       "mean      41.231948     15.658036    371.993818      2.508421     51.330407   \n",
       "std       11.913369      8.420740    347.128386      2.722077    108.758282   \n",
       "min       18.000000      1.000000      2.000000      1.000000     -1.000000   \n",
       "25%       32.000000      8.000000    138.000000      1.000000     -1.000000   \n",
       "50%       39.000000     15.000000    255.000000      2.000000     -1.000000   \n",
       "75%       49.000000     22.000000    496.000000      3.000000     20.750000   \n",
       "max       95.000000     31.000000   3881.000000     63.000000    854.000000   \n",
       "\n",
       "           previous  \n",
       "count  11162.000000  \n",
       "mean       0.832557  \n",
       "std        2.292007  \n",
       "min        0.000000  \n",
       "25%        0.000000  \n",
       "50%        0.000000  \n",
       "75%        1.000000  \n",
       "max       58.000000  "
      ]
     },
     "metadata": {},
     "output_type": "display_data"
    }
   ],
   "source": [
    "# выводим статистическую информацию о признаках с помощью функции describe()\n",
    "display(df.describe())"
   ]
  },
  {
   "cell_type": "code",
   "execution_count": 512,
   "id": "dabe7fba",
   "metadata": {},
   "outputs": [
    {
     "data": {
      "text/html": [
       "<div>\n",
       "<style scoped>\n",
       "    .dataframe tbody tr th:only-of-type {\n",
       "        vertical-align: middle;\n",
       "    }\n",
       "\n",
       "    .dataframe tbody tr th {\n",
       "        vertical-align: top;\n",
       "    }\n",
       "\n",
       "    .dataframe thead th {\n",
       "        text-align: right;\n",
       "    }\n",
       "</style>\n",
       "<table border=\"1\" class=\"dataframe\">\n",
       "  <thead>\n",
       "    <tr style=\"text-align: right;\">\n",
       "      <th></th>\n",
       "      <th>job</th>\n",
       "      <th>marital</th>\n",
       "      <th>education</th>\n",
       "      <th>default</th>\n",
       "      <th>balance</th>\n",
       "      <th>housing</th>\n",
       "      <th>loan</th>\n",
       "      <th>contact</th>\n",
       "      <th>month</th>\n",
       "      <th>poutcome</th>\n",
       "      <th>deposit</th>\n",
       "    </tr>\n",
       "  </thead>\n",
       "  <tbody>\n",
       "    <tr>\n",
       "      <th>count</th>\n",
       "      <td>11162</td>\n",
       "      <td>11162</td>\n",
       "      <td>11162</td>\n",
       "      <td>11162</td>\n",
       "      <td>11137</td>\n",
       "      <td>11162</td>\n",
       "      <td>11162</td>\n",
       "      <td>11162</td>\n",
       "      <td>11162</td>\n",
       "      <td>11162</td>\n",
       "      <td>11162</td>\n",
       "    </tr>\n",
       "    <tr>\n",
       "      <th>unique</th>\n",
       "      <td>12</td>\n",
       "      <td>3</td>\n",
       "      <td>4</td>\n",
       "      <td>2</td>\n",
       "      <td>3802</td>\n",
       "      <td>2</td>\n",
       "      <td>2</td>\n",
       "      <td>3</td>\n",
       "      <td>12</td>\n",
       "      <td>4</td>\n",
       "      <td>2</td>\n",
       "    </tr>\n",
       "    <tr>\n",
       "      <th>top</th>\n",
       "      <td>management</td>\n",
       "      <td>married</td>\n",
       "      <td>secondary</td>\n",
       "      <td>no</td>\n",
       "      <td>0  $</td>\n",
       "      <td>no</td>\n",
       "      <td>no</td>\n",
       "      <td>cellular</td>\n",
       "      <td>may</td>\n",
       "      <td>unknown</td>\n",
       "      <td>no</td>\n",
       "    </tr>\n",
       "    <tr>\n",
       "      <th>freq</th>\n",
       "      <td>2566</td>\n",
       "      <td>6351</td>\n",
       "      <td>5476</td>\n",
       "      <td>10994</td>\n",
       "      <td>774</td>\n",
       "      <td>5881</td>\n",
       "      <td>9702</td>\n",
       "      <td>8042</td>\n",
       "      <td>2824</td>\n",
       "      <td>8326</td>\n",
       "      <td>5873</td>\n",
       "    </tr>\n",
       "  </tbody>\n",
       "</table>\n",
       "</div>"
      ],
      "text/plain": [
       "               job  marital  education default balance housing   loan  \\\n",
       "count        11162    11162      11162   11162   11137   11162  11162   \n",
       "unique          12        3          4       2    3802       2      2   \n",
       "top     management  married  secondary      no   0  $       no     no   \n",
       "freq          2566     6351       5476   10994     774    5881   9702   \n",
       "\n",
       "         contact  month poutcome deposit  \n",
       "count      11162  11162    11162   11162  \n",
       "unique         3     12        4       2  \n",
       "top     cellular    may  unknown      no  \n",
       "freq        8042   2824     8326    5873  "
      ]
     },
     "metadata": {},
     "output_type": "display_data"
    }
   ],
   "source": [
    "# выводим статистическую информацию о признаках типа object с помощью функции describe()\n",
    "display(df.describe(include='object'))"
   ]
  },
  {
   "cell_type": "markdown",
   "id": "ab628e73",
   "metadata": {},
   "source": [
    "### Краткие выводы и комментарии"
   ]
  },
  {
   "cell_type": "markdown",
   "id": "37b87eb8",
   "metadata": {},
   "source": [
    "1. Dataset содержит 11162 наблюдения и имеет 17 признаков;\n",
    "2. Данные представлены следующими типами: int64 - 6 признаков; object - 11 признаков;\n",
    "3. Пропуски данных имеются только в одном признаке - 'balance';\n",
    "4. Признак 'balance' имеет тип данных 'object', хотя содержит числовые данные в строковом виде;\n",
    "5. Часть признаков - 'contact', 'poutcome' имеют значения 'unknown', что может говорить о кодировке пропусков словом / значением (необходимо проверить все признаки типа 'object'); \n",
    "6. Признаки можно разделить на несколько категорий и расшифровать:\n",
    "\n",
    "    **Данные о клиентах банка:**\n",
    "\n",
    "       * age (возраст);\n",
    "       * job (сфера занятости);\n",
    "       * marital (семейное положение);\n",
    "       * education (уровень образования);\n",
    "       * default (имеется ли просроченный кредит);\n",
    "       * housing (имеется ли кредит на жильё);\n",
    "       * loan (имеется ли кредит на личные нужды);\n",
    "       * balance (баланс).\n",
    "\n",
    "    **Данные, связанные с последним контактом в контексте текущей маркетинговой кампании:**\n",
    "\n",
    "       * contact (тип контакта с клиентом);\n",
    "       * month (месяц, в котором был последний контакт);\n",
    "       * day (день, в который был последний контакт);\n",
    "       * duration (продолжительность контакта в секундах).\n",
    "\n",
    "    **Прочие признаки:**\n",
    "\n",
    "       * campaign (количество контактов с этим клиентом в течение текущей кампании);\n",
    "       * pdays (количество пропущенных дней с момента последней маркетинговой кампании до контакта в текущей кампании);\n",
    "       * previous (количество контактов до текущей кампании)\n",
    "       * poutcome (результат прошлой маркетинговой кампании).\n",
    "\n",
    "    **Целевая переменная**:\n",
    "\n",
    "       * deposit (которая определяет, согласится ли клиент открыть депозит в банке. Именно её мы будем пытаться предсказать в данном кейсе)."
   ]
  },
  {
   "cell_type": "markdown",
   "id": "8ba959b3",
   "metadata": {},
   "source": [
    "# 3. Cleaning(Очистка данных)."
   ]
  },
  {
   "cell_type": "markdown",
   "id": "39a8e298",
   "metadata": {},
   "source": [
    "На данном этапе определяются пропуски, аномалии и выбросы в данных."
   ]
  },
  {
   "cell_type": "markdown",
   "id": "85c7f174",
   "metadata": {},
   "source": [
    "## 3.1 Обработка пропусков."
   ]
  },
  {
   "cell_type": "code",
   "execution_count": 513,
   "id": "91754ebe",
   "metadata": {},
   "outputs": [
    {
     "data": {
      "text/plain": [
       "age           0\n",
       "job           0\n",
       "marital       0\n",
       "education     0\n",
       "default       0\n",
       "balance      25\n",
       "housing       0\n",
       "loan          0\n",
       "contact       0\n",
       "day           0\n",
       "month         0\n",
       "duration      0\n",
       "campaign      0\n",
       "pdays         0\n",
       "previous      0\n",
       "poutcome      0\n",
       "deposit       0\n",
       "dtype: int64"
      ]
     },
     "metadata": {},
     "output_type": "display_data"
    }
   ],
   "source": [
    "# формируем и выводим информацию о наличие пропусков в признаках\n",
    "cols_null = df.isnull().sum() # все признаки с пропусками по колличеству\n",
    "cols_null_percent = df.isnull().mean() * 100 # все признаки с пропусками в %\n",
    "cols_with_null_percent = cols_null_percent[cols_null_percent > 0].sort_values(ascending=False) # признаки с наличием пропусков (%)\n",
    "display(cols_null)\n",
    "#display(cols_null_percent)\n",
    "#display(cols_with_null_percent)"
   ]
  },
  {
   "cell_type": "markdown",
   "id": "712226a2",
   "metadata": {},
   "source": [
    "**Краткие комментарии / выводы:**\n",
    "\n",
    "1. Пропуски присутсвуют в 1 признаке - 'balance' и составляют 25 ячеек."
   ]
  },
  {
   "cell_type": "markdown",
   "id": "65291e50",
   "metadata": {},
   "source": [
    "Так как при первичном рассмотрении данных мы выявили, что признаки имеют значения 'unknown', проведем анализ какие признаки имеют данное значение и в каком количестве:"
   ]
  },
  {
   "cell_type": "code",
   "execution_count": 514,
   "id": "1c5bdf72",
   "metadata": {},
   "outputs": [
    {
     "name": "stdout",
     "output_type": "stream",
     "text": [
      "Признак 'job' содержит категорию 'unknown' и количество значений - 70.\n",
      "Признак 'education' содержит категорию 'unknown' и количество значений - 497.\n",
      "Признак 'contact' содержит категорию 'unknown' и количество значений - 2346.\n",
      "Признак 'poutcome' содержит категорию 'unknown' и количество значений - 8326.\n"
     ]
    }
   ],
   "source": [
    "# формируем код и выводим информацию о наличие значения unknown в признаках и его количеству\n",
    "object_features = df.select_dtypes(include='object').columns.tolist()\n",
    "\n",
    "for feature in object_features:\n",
    "    if 'unknown' in df[feature].unique():\n",
    "        unknown_number = df[feature].value_counts().loc['unknown']\n",
    "        print(f\"Признак '{feature}' содержит категорию 'unknown' и количество значений - {unknown_number}.\")"
   ]
  },
  {
   "cell_type": "markdown",
   "id": "c19b8242",
   "metadata": {},
   "source": [
    "**Краткие комментарии / выводы:**\n",
    "\n",
    "1. 4 признака имеют значение 'unknown', что может служить о скрытых пропусках. Примем во внимание и в последующем решим, что делать."
   ]
  },
  {
   "cell_type": "markdown",
   "id": "8fcf4fcd",
   "metadata": {},
   "source": [
    "### Задание 3"
   ]
  },
  {
   "cell_type": "markdown",
   "id": "9cd549ba",
   "metadata": {},
   "source": [
    "При первичном анализе мы выявили, что признак 'balance' имеет тип данных 'object', хотя содержит числовые данные в строковом виде. Обработаем его в числовой признак с типом данных 'float'."
   ]
  },
  {
   "cell_type": "code",
   "execution_count": 515,
   "id": "e1208abf",
   "metadata": {},
   "outputs": [
    {
     "data": {
      "text/plain": [
       "0    2343.0\n",
       "Name: balance, dtype: float64"
      ]
     },
     "metadata": {},
     "output_type": "display_data"
    }
   ],
   "source": [
    "# описываем функцию для преобразования данных str типа в тип float\n",
    "def get_balance(arg):\n",
    "    arg = str(arg).replace(' ', '').replace('$', '').replace(',', '.')\n",
    "    return arg\n",
    "# производим преобразование данных в признаке\n",
    "df['balance'] = df['balance'].apply(get_balance).astype(float)\n",
    "# выводим информацию по признаку для оценки преобразования\n",
    "display(df['balance'].head(1))"
   ]
  },
  {
   "cell_type": "code",
   "execution_count": 516,
   "id": "6f0f33ed",
   "metadata": {},
   "outputs": [
    {
     "data": {
      "text/plain": [
       "'Среднее значение признака до заполнения пропусков составляет: 1529.129.'"
      ]
     },
     "metadata": {},
     "output_type": "display_data"
    },
    {
     "data": {
      "text/plain": [
       "'Среднее значение признака после заполнения пропусков составляет: 1526.936.'"
      ]
     },
     "metadata": {},
     "output_type": "display_data"
    }
   ],
   "source": [
    "# выведем информацию о среднем значении признака balance до преобразования и после преобразования, пропуски заполним медианным значением\n",
    "mean_befor = df['balance'].mean()\n",
    "display(f'Среднее значение признака до заполнения пропусков составляет: {mean_befor.round(3)}.')\n",
    "df['balance'] = df['balance'].fillna(df['balance'].median())\n",
    "mean_after = df['balance'].mean()\n",
    "display(f'Среднее значение признака после заполнения пропусков составляет: {mean_after.round(3)}.')"
   ]
  },
  {
   "cell_type": "markdown",
   "id": "1097ec42",
   "metadata": {},
   "source": [
    "### Задание 5"
   ]
  },
  {
   "cell_type": "code",
   "execution_count": 517,
   "id": "0fa070a6",
   "metadata": {},
   "outputs": [],
   "source": [
    "# обработаем пропуски в категориальных признаках: job и education, заменив их на модальные значения\n",
    "df['job'] = df['job'].apply(lambda x: df['job'].mode()[0] if x == 'unknown' else x)\n",
    "df['education'] = df['education'].apply(lambda x: df['education'].mode()[0] if x == 'unknown' else x)"
   ]
  },
  {
   "cell_type": "markdown",
   "id": "d4396abe",
   "metadata": {},
   "source": [
    "После замены пропусков рассчитаем средний баланс для клиентов с самой популярной работой и самым популярным уровнем образования (т. е. для тех, у кого одновременно самая популярная работа и самое популярное образование). Ответ округлите до трёх знаков после точки-разделителя."
   ]
  },
  {
   "cell_type": "code",
   "execution_count": 518,
   "id": "60dceb3d",
   "metadata": {},
   "outputs": [
    {
     "name": "stdout",
     "output_type": "stream",
     "text": [
      "Средний баланс для клиентов с самой популярной работой и образованием составляет: 1598.883.\n"
     ]
    }
   ],
   "source": [
    "# формируем и выводим информацию\n",
    "mask_job = df['job'] == df['job'].value_counts().index[0]\n",
    "mask_education = df['education'] == df['education'].value_counts().index[0]\n",
    "balance_mean_mostpopular_job_education = df[mask_job & mask_education]['balance'].mean()\n",
    "print(f'Средний баланс для клиентов с самой популярной работой и образованием составляет: {balance_mean_mostpopular_job_education.round(3)}.')"
   ]
  },
  {
   "cell_type": "markdown",
   "id": "02af77c6",
   "metadata": {},
   "source": [
    "### Задание 6"
   ]
  },
  {
   "cell_type": "markdown",
   "id": "46313145",
   "metadata": {},
   "source": [
    "Изучите признак, отображающий баланс клиентов, на предмет выбросов.\n",
    "\n",
    "В математической статистике есть несколько подходов, позволяющих определить наличие выбросов. Мы будем считать, что выбросы находятся за пределами отрезка, нижняя граница которого определяется как нижний квартиль, из которого вычли полтора межквартильных размаха $(Q_1 - 1.5 * IQR)$ , а верхняя граница — как верхний квартиль, к которому прибавили полтора межквартильных размаха ($(Q_3 + 1.5 * IQR)$). Найдите эти границы, и отфильтруйте значения так, чтобы выбросов в данных не осталось."
   ]
  },
  {
   "cell_type": "code",
   "execution_count": 519,
   "id": "21521439",
   "metadata": {},
   "outputs": [
    {
     "data": {
      "image/png": "[encoded data removed]",
      "text/plain": [
       "<Figure size 1500x400 with 2 Axes>"
      ]
     },
     "metadata": {},
     "output_type": "display_data"
    }
   ],
   "source": [
    "# строим гистограмму и коробчатую диаграмму для визуальной оценки выбросов в признаке balance\n",
    "fig, axes = plt.subplots(nrows=1, ncols=2, figsize=(15, 4))\n",
    "hisplot = sns.histplot(data=df, x='balance', ax=axes[0]);\n",
    "hisplot.set_title('Balance Distribution');\n",
    "boxplot = sns.boxplot(data=df, x='balance', ax=axes[1]);\n",
    "boxplot.set_title('Balance Boxplot');"
   ]
  },
  {
   "cell_type": "code",
   "execution_count": 520,
   "id": "9f889dcf",
   "metadata": {},
   "outputs": [
    {
     "name": "stdout",
     "output_type": "stream",
     "text": [
      "Нижняя граница поиска выбросов по методу Тьюки составляет: -2241.0.\n",
      "Верхняя граница поиска выбросов по методу Тьюки составляет: 4063.0.\n"
     ]
    }
   ],
   "source": [
    "# определим нижнюю и верхнюю границы поиска выбросов по методу Тьюки при межквартальном размахе 1.5\n",
    "left, right = 1.5, 1.5\n",
    "quartile_1, quartile_3 = df['balance'].quantile(0.25), df['balance'].quantile(0.75)\n",
    "iqr = quartile_3 - quartile_1\n",
    "lower_bound = quartile_1 - (iqr * left)\n",
    "upper_bound = quartile_3 + (iqr * right)\n",
    "print(f'Нижняя граница поиска выбросов по методу Тьюки составляет: {lower_bound.round(0)}.')\n",
    "print(f'Верхняя граница поиска выбросов по методу Тьюки составляет: {upper_bound.round(0)}.')"
   ]
  },
  {
   "cell_type": "code",
   "execution_count": 521,
   "id": "3802cdd9",
   "metadata": {},
   "outputs": [],
   "source": [
    "# описываем функцию для поиска выбросов на основании метода межквартильных размахов (метода Тьюки)\n",
    "def outliers_iqr_mod_log(data, feature, left=1.5, right=1.5, log_scale=False):\n",
    "    if log_scale:\n",
    "        x = np.log(data[feature])\n",
    "    else:    \n",
    "        x = data[feature]\n",
    "    quartile_1, quartile_3 = x.quantile(0.25), x.quantile(0.75),\n",
    "    iqr = quartile_3 - quartile_1\n",
    "    lower_bound = quartile_1 - (iqr * left)\n",
    "    upper_bound = quartile_3 + (iqr * right)\n",
    "    outliers = data[(x<=lower_bound) | (x >= upper_bound)] # нестрогое неравенство, если ставить строгое то: outliers = data[(x<lower_bound) | (x > upper_bound)]\n",
    "    cleaned = data[(x>=lower_bound) & (x <= upper_bound)] # нестрогое неравенство, если ставить строгое то: cleaned = data[(x>lower_bound) & (x < upper_bound)]\n",
    "    return outliers, cleaned"
   ]
  },
  {
   "cell_type": "code",
   "execution_count": 522,
   "id": "a4cd6b13",
   "metadata": {},
   "outputs": [
    {
     "name": "stdout",
     "output_type": "stream",
     "text": [
      "Число выбросов по методу Тьюки: 1058.\n",
      "Результирующее число наблюдений после удаления выбросов: 10105.\n"
     ]
    }
   ],
   "source": [
    "# применяем функцию для признака balance и выводим информацию о количестве выбросов и количеству наблюдений в очищенном dataframe\n",
    "outliers, cleaned = outliers_iqr_mod_log(df, 'balance', left=1.5, right=1.5)\n",
    "print(f'Число выбросов по методу Тьюки: {outliers.shape[0]}.')\n",
    "print(f'Результирующее число наблюдений после удаления выбросов: {cleaned.shape[0]}.')"
   ]
  },
  {
   "cell_type": "code",
   "execution_count": 523,
   "id": "62e5f039",
   "metadata": {},
   "outputs": [
    {
     "data": {
      "image/png": "[encoded data removed]",
      "text/plain": [
       "<Figure size 1500x400 with 2 Axes>"
      ]
     },
     "metadata": {},
     "output_type": "display_data"
    }
   ],
   "source": [
    "# строим гистограмму и коробчатую диаграмму для визуальной оценки признака balance после удаления выбросов\n",
    "fig, axes = plt.subplots(nrows=1, ncols=2, figsize=(15, 4))\n",
    "hisplot = sns.histplot(data=cleaned, x='balance', ax=axes[0]);\n",
    "hisplot.set_title('Cleen_balance Distribution');\n",
    "boxplot = sns.boxplot(data=cleaned, x='balance', ax=axes[1]);\n",
    "boxplot.set_title('Cleen_balance Boxplot');"
   ]
  },
  {
   "cell_type": "code",
   "execution_count": 524,
   "id": "84077d48",
   "metadata": {},
   "outputs": [],
   "source": [
    "# сохраним копию очищенных данных\n",
    "df_cleen = cleaned.copy()"
   ]
  },
  {
   "cell_type": "markdown",
   "id": "99d797ff",
   "metadata": {},
   "source": [
    "## 4. Exploratory Data Analysis-EDA (Разведывательный анализ данных)"
   ]
  },
  {
   "cell_type": "markdown",
   "id": "21e1f083",
   "metadata": {},
   "source": [
    "### Задание 1"
   ]
  },
  {
   "cell_type": "code",
   "execution_count": 525,
   "id": "6d0cd3a8",
   "metadata": {},
   "outputs": [
    {
     "data": {
      "text/plain": [
       "deposit\n",
       "no     5424\n",
       "yes    4681\n",
       "Name: count, dtype: int64"
      ]
     },
     "execution_count": 525,
     "metadata": {},
     "output_type": "execute_result"
    }
   ],
   "source": [
    "# изучите соотношение классов в ваших данных на предмет несбалансированности, проиллюстрируйте результат\n",
    "# ваш код\n",
    "df_cleen['deposit'].value_counts()"
   ]
  },
  {
   "cell_type": "code",
   "execution_count": 526,
   "id": "5cfada16",
   "metadata": {},
   "outputs": [
    {
     "data": {
      "text/plain": [
       "<Axes: xlabel='deposit', ylabel='count'>"
      ]
     },
     "execution_count": 526,
     "metadata": {},
     "output_type": "execute_result"
    },
    {
     "data": {
      "image/png": "[encoded data removed]",
      "text/plain": [
       "<Figure size 640x480 with 1 Axes>"
      ]
     },
     "metadata": {},
     "output_type": "display_data"
    }
   ],
   "source": [
    "sns.countplot(data=df_cleen, x='deposit')"
   ]
  },
  {
   "cell_type": "markdown",
   "id": "426b1d40",
   "metadata": {},
   "source": [
    "### Задания 2 и 3"
   ]
  },
  {
   "cell_type": "code",
   "execution_count": 528,
   "id": "603cdb3c",
   "metadata": {},
   "outputs": [
    {
     "data": {
      "text/html": [
       "<div>\n",
       "<style scoped>\n",
       "    .dataframe tbody tr th:only-of-type {\n",
       "        vertical-align: middle;\n",
       "    }\n",
       "\n",
       "    .dataframe tbody tr th {\n",
       "        vertical-align: top;\n",
       "    }\n",
       "\n",
       "    .dataframe thead th {\n",
       "        text-align: right;\n",
       "    }\n",
       "</style>\n",
       "<table border=\"1\" class=\"dataframe\">\n",
       "  <thead>\n",
       "    <tr style=\"text-align: right;\">\n",
       "      <th></th>\n",
       "      <th>age</th>\n",
       "      <th>balance</th>\n",
       "      <th>day</th>\n",
       "      <th>duration</th>\n",
       "      <th>campaign</th>\n",
       "      <th>pdays</th>\n",
       "      <th>previous</th>\n",
       "    </tr>\n",
       "  </thead>\n",
       "  <tbody>\n",
       "    <tr>\n",
       "      <th>count</th>\n",
       "      <td>10105.000000</td>\n",
       "      <td>10105.000000</td>\n",
       "      <td>10105.000000</td>\n",
       "      <td>10105.000000</td>\n",
       "      <td>10105.000000</td>\n",
       "      <td>10105.000000</td>\n",
       "      <td>10105.000000</td>\n",
       "    </tr>\n",
       "    <tr>\n",
       "      <th>mean</th>\n",
       "      <td>40.895497</td>\n",
       "      <td>807.653538</td>\n",
       "      <td>15.590302</td>\n",
       "      <td>368.742603</td>\n",
       "      <td>2.517170</td>\n",
       "      <td>51.319644</td>\n",
       "      <td>0.816230</td>\n",
       "    </tr>\n",
       "    <tr>\n",
       "      <th>std</th>\n",
       "      <td>11.734931</td>\n",
       "      <td>994.151966</td>\n",
       "      <td>8.441510</td>\n",
       "      <td>346.651524</td>\n",
       "      <td>2.707159</td>\n",
       "      <td>109.644179</td>\n",
       "      <td>2.243795</td>\n",
       "    </tr>\n",
       "    <tr>\n",
       "      <th>min</th>\n",
       "      <td>18.000000</td>\n",
       "      <td>-2049.000000</td>\n",
       "      <td>1.000000</td>\n",
       "      <td>2.000000</td>\n",
       "      <td>1.000000</td>\n",
       "      <td>-1.000000</td>\n",
       "      <td>0.000000</td>\n",
       "    </tr>\n",
       "    <tr>\n",
       "      <th>25%</th>\n",
       "      <td>32.000000</td>\n",
       "      <td>95.000000</td>\n",
       "      <td>8.000000</td>\n",
       "      <td>137.000000</td>\n",
       "      <td>1.000000</td>\n",
       "      <td>-1.000000</td>\n",
       "      <td>0.000000</td>\n",
       "    </tr>\n",
       "    <tr>\n",
       "      <th>50%</th>\n",
       "      <td>38.000000</td>\n",
       "      <td>445.000000</td>\n",
       "      <td>15.000000</td>\n",
       "      <td>252.000000</td>\n",
       "      <td>2.000000</td>\n",
       "      <td>-1.000000</td>\n",
       "      <td>0.000000</td>\n",
       "    </tr>\n",
       "    <tr>\n",
       "      <th>75%</th>\n",
       "      <td>48.000000</td>\n",
       "      <td>1227.000000</td>\n",
       "      <td>22.000000</td>\n",
       "      <td>490.000000</td>\n",
       "      <td>3.000000</td>\n",
       "      <td>2.000000</td>\n",
       "      <td>1.000000</td>\n",
       "    </tr>\n",
       "    <tr>\n",
       "      <th>max</th>\n",
       "      <td>95.000000</td>\n",
       "      <td>4063.000000</td>\n",
       "      <td>31.000000</td>\n",
       "      <td>3881.000000</td>\n",
       "      <td>43.000000</td>\n",
       "      <td>854.000000</td>\n",
       "      <td>58.000000</td>\n",
       "    </tr>\n",
       "  </tbody>\n",
       "</table>\n",
       "</div>"
      ],
      "text/plain": [
       "                age       balance           day      duration      campaign  \\\n",
       "count  10105.000000  10105.000000  10105.000000  10105.000000  10105.000000   \n",
       "mean      40.895497    807.653538     15.590302    368.742603      2.517170   \n",
       "std       11.734931    994.151966      8.441510    346.651524      2.707159   \n",
       "min       18.000000  -2049.000000      1.000000      2.000000      1.000000   \n",
       "25%       32.000000     95.000000      8.000000    137.000000      1.000000   \n",
       "50%       38.000000    445.000000     15.000000    252.000000      2.000000   \n",
       "75%       48.000000   1227.000000     22.000000    490.000000      3.000000   \n",
       "max       95.000000   4063.000000     31.000000   3881.000000     43.000000   \n",
       "\n",
       "              pdays      previous  \n",
       "count  10105.000000  10105.000000  \n",
       "mean      51.319644      0.816230  \n",
       "std      109.644179      2.243795  \n",
       "min       -1.000000      0.000000  \n",
       "25%       -1.000000      0.000000  \n",
       "50%       -1.000000      0.000000  \n",
       "75%        2.000000      1.000000  \n",
       "max      854.000000     58.000000  "
      ]
     },
     "metadata": {},
     "output_type": "display_data"
    }
   ],
   "source": [
    "#рассчитайте описательные статистики для количественных переменных, проинтерпретируйте результат\n",
    "#ваш код\n",
    "display(df_cleen.describe())"
   ]
  },
  {
   "cell_type": "markdown",
   "id": "821dc39e",
   "metadata": {},
   "source": [
    "### Задания 4 и 5"
   ]
  },
  {
   "cell_type": "code",
   "execution_count": 529,
   "id": "bf45afc9",
   "metadata": {},
   "outputs": [
    {
     "data": {
      "text/html": [
       "<div>\n",
       "<style scoped>\n",
       "    .dataframe tbody tr th:only-of-type {\n",
       "        vertical-align: middle;\n",
       "    }\n",
       "\n",
       "    .dataframe tbody tr th {\n",
       "        vertical-align: top;\n",
       "    }\n",
       "\n",
       "    .dataframe thead th {\n",
       "        text-align: right;\n",
       "    }\n",
       "</style>\n",
       "<table border=\"1\" class=\"dataframe\">\n",
       "  <thead>\n",
       "    <tr style=\"text-align: right;\">\n",
       "      <th></th>\n",
       "      <th>job</th>\n",
       "      <th>marital</th>\n",
       "      <th>education</th>\n",
       "      <th>default</th>\n",
       "      <th>housing</th>\n",
       "      <th>loan</th>\n",
       "      <th>contact</th>\n",
       "      <th>month</th>\n",
       "      <th>poutcome</th>\n",
       "      <th>deposit</th>\n",
       "    </tr>\n",
       "  </thead>\n",
       "  <tbody>\n",
       "    <tr>\n",
       "      <th>count</th>\n",
       "      <td>10105</td>\n",
       "      <td>10105</td>\n",
       "      <td>10105</td>\n",
       "      <td>10105</td>\n",
       "      <td>10105</td>\n",
       "      <td>10105</td>\n",
       "      <td>10105</td>\n",
       "      <td>10105</td>\n",
       "      <td>10105</td>\n",
       "      <td>10105</td>\n",
       "    </tr>\n",
       "    <tr>\n",
       "      <th>unique</th>\n",
       "      <td>11</td>\n",
       "      <td>3</td>\n",
       "      <td>3</td>\n",
       "      <td>2</td>\n",
       "      <td>2</td>\n",
       "      <td>2</td>\n",
       "      <td>3</td>\n",
       "      <td>12</td>\n",
       "      <td>4</td>\n",
       "      <td>2</td>\n",
       "    </tr>\n",
       "    <tr>\n",
       "      <th>top</th>\n",
       "      <td>management</td>\n",
       "      <td>married</td>\n",
       "      <td>secondary</td>\n",
       "      <td>no</td>\n",
       "      <td>no</td>\n",
       "      <td>no</td>\n",
       "      <td>cellular</td>\n",
       "      <td>may</td>\n",
       "      <td>unknown</td>\n",
       "      <td>no</td>\n",
       "    </tr>\n",
       "    <tr>\n",
       "      <th>freq</th>\n",
       "      <td>2315</td>\n",
       "      <td>5715</td>\n",
       "      <td>5517</td>\n",
       "      <td>9939</td>\n",
       "      <td>5243</td>\n",
       "      <td>8712</td>\n",
       "      <td>7283</td>\n",
       "      <td>2617</td>\n",
       "      <td>7570</td>\n",
       "      <td>5424</td>\n",
       "    </tr>\n",
       "  </tbody>\n",
       "</table>\n",
       "</div>"
      ],
      "text/plain": [
       "               job  marital  education default housing   loan   contact  \\\n",
       "count        10105    10105      10105   10105   10105  10105     10105   \n",
       "unique          11        3          3       2       2      2         3   \n",
       "top     management  married  secondary      no      no     no  cellular   \n",
       "freq          2315     5715       5517    9939    5243   8712      7283   \n",
       "\n",
       "        month poutcome deposit  \n",
       "count   10105    10105   10105  \n",
       "unique     12        4       2  \n",
       "top       may  unknown      no  \n",
       "freq     2617     7570    5424  "
      ]
     },
     "metadata": {},
     "output_type": "display_data"
    }
   ],
   "source": [
    "#рассчитайте описательные статистики для категориальных переменных, проинтерпретируйте результат\n",
    "#ваш код\n",
    "#постройте визуализации, иллюстрирующие результаты\n",
    "display(df_cleen.describe(include=object))"
   ]
  },
  {
   "cell_type": "markdown",
   "id": "472cff5b",
   "metadata": {},
   "source": [
    "### Задание 6"
   ]
  },
  {
   "cell_type": "code",
   "execution_count": 530,
   "id": "2d640ce1",
   "metadata": {},
   "outputs": [
    {
     "data": {
      "text/plain": [
       "<Axes: xlabel='poutcome'>"
      ]
     },
     "execution_count": 530,
     "metadata": {},
     "output_type": "execute_result"
    },
    {
     "data": {
      "image/png": "[encoded data removed]",
      "text/plain": [
       "<Figure size 640x480 with 1 Axes>"
      ]
     },
     "metadata": {},
     "output_type": "display_data"
    }
   ],
   "source": [
    "# Узнайте, для какого статуса предыдущей маркетинговой кампании успех в текущей превалирует над количеством неудач.\n",
    "# ваш код\n",
    "types = df_cleen.groupby(\"poutcome\")['deposit'].value_counts(normalize=False).unstack()\n",
    "types.plot(kind='bar', stacked='True')"
   ]
  },
  {
   "cell_type": "markdown",
   "id": "9c32e3aa",
   "metadata": {},
   "source": [
    "### Задание 7"
   ]
  },
  {
   "cell_type": "code",
   "execution_count": 531,
   "id": "df437ec3",
   "metadata": {},
   "outputs": [
    {
     "data": {
      "text/plain": [
       "<Axes: xlabel='month'>"
      ]
     },
     "execution_count": 531,
     "metadata": {},
     "output_type": "execute_result"
    },
    {
     "data": {
      "image/png": "[encoded data removed]",
      "text/plain": [
       "<Figure size 640x480 with 1 Axes>"
      ]
     },
     "metadata": {},
     "output_type": "display_data"
    }
   ],
   "source": [
    "# узнайте, в каком месяце чаще всего отказывались от предложения открыть депозит\n",
    "# ваш код\n",
    "months_ = df_cleen.groupby('month')['deposit'].value_counts(normalize=False).unstack()\n",
    "months_.plot(kind='bar', stacked='True')"
   ]
  },
  {
   "cell_type": "markdown",
   "id": "5f20762f",
   "metadata": {},
   "source": [
    "### Задание 8"
   ]
  },
  {
   "cell_type": "code",
   "execution_count": 532,
   "id": "95d56f1b",
   "metadata": {},
   "outputs": [
    {
     "data": {
      "text/plain": [
       "<Axes: xlabel='age_group', ylabel='count'>"
      ]
     },
     "execution_count": 532,
     "metadata": {},
     "output_type": "execute_result"
    },
    {
     "data": {
      "image/png": "[encoded data removed]",
      "text/plain": [
       "<Figure size 640x480 with 1 Axes>"
      ]
     },
     "metadata": {},
     "output_type": "display_data"
    }
   ],
   "source": [
    "# создайте возрастные группы и определите, в каких группах более склонны открывать депозит, чем отказываться от предложения\n",
    "df_cleen['age_group'] = pd.cut(df_cleen['age'], [0, 30, 40, 50, 60, 9999], labels = ['<30','30-40','40-50','50-60','60+'])\n",
    "sns.countplot(x=\"age_group\", hue=\"deposit\", data=df_cleen)"
   ]
  },
  {
   "cell_type": "markdown",
   "id": "0841c685",
   "metadata": {},
   "source": [
    "### Задания 9 и 10"
   ]
  },
  {
   "cell_type": "code",
   "execution_count": 533,
   "id": "0d84a9e1",
   "metadata": {},
   "outputs": [
    {
     "data": {
      "text/plain": [
       "<Axes: xlabel='marital'>"
      ]
     },
     "execution_count": 533,
     "metadata": {},
     "output_type": "execute_result"
    },
    {
     "data": {
      "image/png": "[encoded data removed]",
      "text/plain": [
       "<Figure size 640x480 with 1 Axes>"
      ]
     },
     "metadata": {},
     "output_type": "display_data"
    }
   ],
   "source": [
    "# постройте визуализации для открывших и неоткрывших депозит в зависимости от семейного статуса\n",
    "marital_ = df_cleen.groupby('marital')['deposit'].value_counts(normalize=False).unstack()\n",
    "marital_.plot(kind='bar', stacked='True')"
   ]
  },
  {
   "cell_type": "code",
   "execution_count": 534,
   "id": "16333967",
   "metadata": {},
   "outputs": [
    {
     "data": {
      "text/plain": [
       "<Axes: xlabel='education'>"
      ]
     },
     "execution_count": 534,
     "metadata": {},
     "output_type": "execute_result"
    },
    {
     "data": {
      "image/png": "[encoded data removed]",
      "text/plain": [
       "<Figure size 640x480 with 1 Axes>"
      ]
     },
     "metadata": {},
     "output_type": "display_data"
    }
   ],
   "source": [
    "# постройте визуализации для открывших и неоткрывших депозит в зависимости от образования\n",
    "education_ = df_cleen.groupby('education')['deposit'].value_counts(normalize=False).unstack()\n",
    "education_.plot(kind='bar', stacked='True')"
   ]
  },
  {
   "cell_type": "code",
   "execution_count": 535,
   "id": "738224f8",
   "metadata": {},
   "outputs": [
    {
     "data": {
      "text/plain": [
       "<Axes: xlabel='job'>"
      ]
     },
     "execution_count": 535,
     "metadata": {},
     "output_type": "execute_result"
    },
    {
     "data": {
      "image/png": "[encoded data removed]",
      "text/plain": [
       "<Figure size 640x480 with 1 Axes>"
      ]
     },
     "metadata": {},
     "output_type": "display_data"
    }
   ],
   "source": [
    "# постройте визуализации для открывших и неоткрывших депозит в зависимости от вида профессиональной занятости\n",
    "job_ = df_cleen.groupby('job')['deposit'].value_counts(normalize=False).unstack()\n",
    "job_.plot(kind='bar', stacked='True')"
   ]
  },
  {
   "cell_type": "markdown",
   "id": "a521e204",
   "metadata": {},
   "source": [
    "### Задание 11"
   ]
  },
  {
   "cell_type": "code",
   "execution_count": 536,
   "id": "35ab0413",
   "metadata": {},
   "outputs": [],
   "source": [
    "# постройте сводную таблицу, чтобы определить люди с каким образованием и семейным статусом наиболее многочисленны\n",
    "#(если рассматривать тех, кто открыл депозит)\n",
    "mask_deposit_0 = df_cleen['deposit'] == 'no'\n",
    "mask_deposit_1 = df_cleen['deposit'] == 'yes'"
   ]
  },
  {
   "cell_type": "code",
   "execution_count": 537,
   "id": "a084616a",
   "metadata": {},
   "outputs": [
    {
     "data": {
      "text/html": [
       "<div>\n",
       "<style scoped>\n",
       "    .dataframe tbody tr th:only-of-type {\n",
       "        vertical-align: middle;\n",
       "    }\n",
       "\n",
       "    .dataframe tbody tr th {\n",
       "        vertical-align: top;\n",
       "    }\n",
       "\n",
       "    .dataframe thead th {\n",
       "        text-align: right;\n",
       "    }\n",
       "</style>\n",
       "<table border=\"1\" class=\"dataframe\">\n",
       "  <thead>\n",
       "    <tr style=\"text-align: right;\">\n",
       "      <th>marital</th>\n",
       "      <th>divorced</th>\n",
       "      <th>married</th>\n",
       "      <th>single</th>\n",
       "      <th>All</th>\n",
       "    </tr>\n",
       "    <tr>\n",
       "      <th>education</th>\n",
       "      <th></th>\n",
       "      <th></th>\n",
       "      <th></th>\n",
       "      <th></th>\n",
       "    </tr>\n",
       "  </thead>\n",
       "  <tbody>\n",
       "    <tr>\n",
       "      <th>primary</th>\n",
       "      <td>91</td>\n",
       "      <td>641</td>\n",
       "      <td>100</td>\n",
       "      <td>832</td>\n",
       "    </tr>\n",
       "    <tr>\n",
       "      <th>secondary</th>\n",
       "      <td>370</td>\n",
       "      <td>1830</td>\n",
       "      <td>866</td>\n",
       "      <td>3066</td>\n",
       "    </tr>\n",
       "    <tr>\n",
       "      <th>tertiary</th>\n",
       "      <td>163</td>\n",
       "      <td>832</td>\n",
       "      <td>531</td>\n",
       "      <td>1526</td>\n",
       "    </tr>\n",
       "    <tr>\n",
       "      <th>All</th>\n",
       "      <td>624</td>\n",
       "      <td>3303</td>\n",
       "      <td>1497</td>\n",
       "      <td>5424</td>\n",
       "    </tr>\n",
       "  </tbody>\n",
       "</table>\n",
       "</div>"
      ],
      "text/plain": [
       "marital    divorced  married  single   All\n",
       "education                                 \n",
       "primary          91      641     100   832\n",
       "secondary       370     1830     866  3066\n",
       "tertiary        163      832     531  1526\n",
       "All             624     3303    1497  5424"
      ]
     },
     "execution_count": 537,
     "metadata": {},
     "output_type": "execute_result"
    }
   ],
   "source": [
    "cleen_0 = pd.crosstab(index=df_cleen[mask_deposit_0]['education'], columns=df_cleen[mask_deposit_0]['marital'], margins=True)\n",
    "cleen_0\n"
   ]
  },
  {
   "cell_type": "code",
   "execution_count": 538,
   "id": "00b33317",
   "metadata": {},
   "outputs": [
    {
     "data": {
      "text/plain": [
       "<Axes: xlabel='marital', ylabel='education'>"
      ]
     },
     "execution_count": 538,
     "metadata": {},
     "output_type": "execute_result"
    },
    {
     "data": {
      "image/png": "[encoded data removed]",
      "text/plain": [
       "<Figure size 1500x600 with 2 Axes>"
      ]
     },
     "metadata": {},
     "output_type": "display_data"
    }
   ],
   "source": [
    "fig, axes = plt.subplots(ncols=1, nrows=1, figsize=(15,6))\n",
    "sns.heatmap(cleen_0, annot=True, cmap='GnBu')"
   ]
  },
  {
   "cell_type": "code",
   "execution_count": 539,
   "id": "70afbf22",
   "metadata": {},
   "outputs": [
    {
     "data": {
      "text/html": [
       "<div>\n",
       "<style scoped>\n",
       "    .dataframe tbody tr th:only-of-type {\n",
       "        vertical-align: middle;\n",
       "    }\n",
       "\n",
       "    .dataframe tbody tr th {\n",
       "        vertical-align: top;\n",
       "    }\n",
       "\n",
       "    .dataframe thead th {\n",
       "        text-align: right;\n",
       "    }\n",
       "</style>\n",
       "<table border=\"1\" class=\"dataframe\">\n",
       "  <thead>\n",
       "    <tr style=\"text-align: right;\">\n",
       "      <th>marital</th>\n",
       "      <th>divorced</th>\n",
       "      <th>married</th>\n",
       "      <th>single</th>\n",
       "      <th>All</th>\n",
       "    </tr>\n",
       "    <tr>\n",
       "      <th>education</th>\n",
       "      <th></th>\n",
       "      <th></th>\n",
       "      <th></th>\n",
       "      <th></th>\n",
       "    </tr>\n",
       "  </thead>\n",
       "  <tbody>\n",
       "    <tr>\n",
       "      <th>primary</th>\n",
       "      <td>96</td>\n",
       "      <td>339</td>\n",
       "      <td>82</td>\n",
       "      <td>517</td>\n",
       "    </tr>\n",
       "    <tr>\n",
       "      <th>secondary</th>\n",
       "      <td>283</td>\n",
       "      <td>1289</td>\n",
       "      <td>879</td>\n",
       "      <td>2451</td>\n",
       "    </tr>\n",
       "    <tr>\n",
       "      <th>tertiary</th>\n",
       "      <td>174</td>\n",
       "      <td>784</td>\n",
       "      <td>755</td>\n",
       "      <td>1713</td>\n",
       "    </tr>\n",
       "    <tr>\n",
       "      <th>All</th>\n",
       "      <td>553</td>\n",
       "      <td>2412</td>\n",
       "      <td>1716</td>\n",
       "      <td>4681</td>\n",
       "    </tr>\n",
       "  </tbody>\n",
       "</table>\n",
       "</div>"
      ],
      "text/plain": [
       "marital    divorced  married  single   All\n",
       "education                                 \n",
       "primary          96      339      82   517\n",
       "secondary       283     1289     879  2451\n",
       "tertiary        174      784     755  1713\n",
       "All             553     2412    1716  4681"
      ]
     },
     "execution_count": 539,
     "metadata": {},
     "output_type": "execute_result"
    }
   ],
   "source": [
    "cleen_1 = pd.crosstab(index=df_cleen[mask_deposit_1]['education'], columns=df_cleen[mask_deposit_1]['marital'], margins=True)\n",
    "cleen_1"
   ]
  },
  {
   "cell_type": "code",
   "execution_count": 540,
   "id": "57c6563f",
   "metadata": {},
   "outputs": [
    {
     "data": {
      "text/plain": [
       "<Axes: xlabel='marital', ylabel='education'>"
      ]
     },
     "execution_count": 540,
     "metadata": {},
     "output_type": "execute_result"
    },
    {
     "data": {
      "image/png": "[encoded data removed]",
      "text/plain": [
       "<Figure size 1500x600 with 2 Axes>"
      ]
     },
     "metadata": {},
     "output_type": "display_data"
    }
   ],
   "source": [
    "fig, axes = plt.subplots(ncols=1, nrows=1, figsize=(15,6))\n",
    "sns.heatmap(cleen_1, annot=True, cmap='GnBu')"
   ]
  },
  {
   "cell_type": "markdown",
   "id": "dfd805c0",
   "metadata": {},
   "source": [
    "## 4.1. Преобразование признаков"
   ]
  },
  {
   "cell_type": "markdown",
   "id": "c6d3f314",
   "metadata": {},
   "source": [
    "### Проведем преобразование бинарных категориальных признаков с помощью LabelEncoder"
   ]
  },
  {
   "cell_type": "code",
   "execution_count": 626,
   "id": "009f0792",
   "metadata": {},
   "outputs": [],
   "source": [
    "# создаем копию dataset\n",
    "df_encod = df_cleen.copy()"
   ]
  },
  {
   "cell_type": "code",
   "execution_count": 627,
   "id": "dd8dfb2c",
   "metadata": {},
   "outputs": [],
   "source": [
    "# инициируем модель\n",
    "lab_encod = LabelEncoder()\n",
    "# производим кодирование признаков\n",
    "cols = ['education', 'age_group', 'deposit', 'default', 'housing', 'loan']\n",
    "df_encod['education'] = lab_encod.fit_transform(df_encod['education'])\n",
    "df_encod['age_group'] = lab_encod.fit_transform(df_encod['age_group'])\n",
    "df_encod['deposit'] = lab_encod.fit_transform(df_encod['deposit'])\n",
    "df_encod['default'] = lab_encod.fit_transform(df_encod['default'])\n",
    "df_encod['housing'] = lab_encod.fit_transform(df_encod['housing'])\n",
    "df_encod['loan'] = lab_encod.fit_transform(df_encod['loan'])"
   ]
  },
  {
   "cell_type": "markdown",
   "id": "44e4b32e",
   "metadata": {},
   "source": [
    "### Проведем преобразование категориальных признаков с помощью функции get_dummies()"
   ]
  },
  {
   "cell_type": "code",
   "execution_count": 628,
   "id": "d5bd4540",
   "metadata": {},
   "outputs": [],
   "source": [
    "# создаем дамми-переменные\n",
    "df_encod = pd.get_dummies(df_encod, columns=['job'])\n",
    "df_encod = pd.get_dummies(df_encod, columns=['marital'])\n",
    "df_encod = pd.get_dummies(df_encod, columns=['contact'])\n",
    "df_encod = pd.get_dummies(df_encod, columns=['month'])\n",
    "df_encod = pd.get_dummies(df_encod, columns=['poutcome'])"
   ]
  },
  {
   "cell_type": "code",
   "execution_count": 629,
   "id": "c9a23521",
   "metadata": {},
   "outputs": [
    {
     "data": {
      "text/html": [
       "<div>\n",
       "<style scoped>\n",
       "    .dataframe tbody tr th:only-of-type {\n",
       "        vertical-align: middle;\n",
       "    }\n",
       "\n",
       "    .dataframe tbody tr th {\n",
       "        vertical-align: top;\n",
       "    }\n",
       "\n",
       "    .dataframe thead th {\n",
       "        text-align: right;\n",
       "    }\n",
       "</style>\n",
       "<table border=\"1\" class=\"dataframe\">\n",
       "  <thead>\n",
       "    <tr style=\"text-align: right;\">\n",
       "      <th></th>\n",
       "      <th>age</th>\n",
       "      <th>education</th>\n",
       "      <th>default</th>\n",
       "      <th>balance</th>\n",
       "      <th>housing</th>\n",
       "      <th>loan</th>\n",
       "      <th>day</th>\n",
       "      <th>duration</th>\n",
       "      <th>campaign</th>\n",
       "      <th>pdays</th>\n",
       "      <th>...</th>\n",
       "      <th>month_jun</th>\n",
       "      <th>month_mar</th>\n",
       "      <th>month_may</th>\n",
       "      <th>month_nov</th>\n",
       "      <th>month_oct</th>\n",
       "      <th>month_sep</th>\n",
       "      <th>poutcome_failure</th>\n",
       "      <th>poutcome_other</th>\n",
       "      <th>poutcome_success</th>\n",
       "      <th>poutcome_unknown</th>\n",
       "    </tr>\n",
       "  </thead>\n",
       "  <tbody>\n",
       "    <tr>\n",
       "      <th>0</th>\n",
       "      <td>59</td>\n",
       "      <td>1</td>\n",
       "      <td>0</td>\n",
       "      <td>2343.0</td>\n",
       "      <td>1</td>\n",
       "      <td>0</td>\n",
       "      <td>5</td>\n",
       "      <td>1042</td>\n",
       "      <td>1</td>\n",
       "      <td>-1</td>\n",
       "      <td>...</td>\n",
       "      <td>False</td>\n",
       "      <td>False</td>\n",
       "      <td>True</td>\n",
       "      <td>False</td>\n",
       "      <td>False</td>\n",
       "      <td>False</td>\n",
       "      <td>False</td>\n",
       "      <td>False</td>\n",
       "      <td>False</td>\n",
       "      <td>True</td>\n",
       "    </tr>\n",
       "    <tr>\n",
       "      <th>1</th>\n",
       "      <td>56</td>\n",
       "      <td>1</td>\n",
       "      <td>0</td>\n",
       "      <td>45.0</td>\n",
       "      <td>0</td>\n",
       "      <td>0</td>\n",
       "      <td>5</td>\n",
       "      <td>1467</td>\n",
       "      <td>1</td>\n",
       "      <td>-1</td>\n",
       "      <td>...</td>\n",
       "      <td>False</td>\n",
       "      <td>False</td>\n",
       "      <td>True</td>\n",
       "      <td>False</td>\n",
       "      <td>False</td>\n",
       "      <td>False</td>\n",
       "      <td>False</td>\n",
       "      <td>False</td>\n",
       "      <td>False</td>\n",
       "      <td>True</td>\n",
       "    </tr>\n",
       "    <tr>\n",
       "      <th>2</th>\n",
       "      <td>41</td>\n",
       "      <td>1</td>\n",
       "      <td>0</td>\n",
       "      <td>1270.0</td>\n",
       "      <td>1</td>\n",
       "      <td>0</td>\n",
       "      <td>5</td>\n",
       "      <td>1389</td>\n",
       "      <td>1</td>\n",
       "      <td>-1</td>\n",
       "      <td>...</td>\n",
       "      <td>False</td>\n",
       "      <td>False</td>\n",
       "      <td>True</td>\n",
       "      <td>False</td>\n",
       "      <td>False</td>\n",
       "      <td>False</td>\n",
       "      <td>False</td>\n",
       "      <td>False</td>\n",
       "      <td>False</td>\n",
       "      <td>True</td>\n",
       "    </tr>\n",
       "  </tbody>\n",
       "</table>\n",
       "<p>3 rows × 46 columns</p>\n",
       "</div>"
      ],
      "text/plain": [
       "   age  education  default  balance  housing  loan  day  duration  campaign  \\\n",
       "0   59          1        0   2343.0        1     0    5      1042         1   \n",
       "1   56          1        0     45.0        0     0    5      1467         1   \n",
       "2   41          1        0   1270.0        1     0    5      1389         1   \n",
       "\n",
       "   pdays  ...  month_jun  month_mar  month_may  month_nov  month_oct  \\\n",
       "0     -1  ...      False      False       True      False      False   \n",
       "1     -1  ...      False      False       True      False      False   \n",
       "2     -1  ...      False      False       True      False      False   \n",
       "\n",
       "   month_sep  poutcome_failure  poutcome_other  poutcome_success  \\\n",
       "0      False             False           False             False   \n",
       "1      False             False           False             False   \n",
       "2      False             False           False             False   \n",
       "\n",
       "   poutcome_unknown  \n",
       "0              True  \n",
       "1              True  \n",
       "2              True  \n",
       "\n",
       "[3 rows x 46 columns]"
      ]
     },
     "execution_count": 629,
     "metadata": {},
     "output_type": "execute_result"
    }
   ],
   "source": [
    "# выводим информацию для визуальной оценки\n",
    "df_encod.head(3)"
   ]
  },
  {
   "cell_type": "markdown",
   "id": "dea1621a",
   "metadata": {},
   "source": [
    "### Оценим мультиколлинеарность и взаимосвязь признаков с целевой переменной."
   ]
  },
  {
   "cell_type": "code",
   "execution_count": 630,
   "id": "204e0b65",
   "metadata": {},
   "outputs": [
    {
     "data": {
      "text/html": [
       "<div>\n",
       "<style scoped>\n",
       "    .dataframe tbody tr th:only-of-type {\n",
       "        vertical-align: middle;\n",
       "    }\n",
       "\n",
       "    .dataframe tbody tr th {\n",
       "        vertical-align: top;\n",
       "    }\n",
       "\n",
       "    .dataframe thead th {\n",
       "        text-align: right;\n",
       "    }\n",
       "</style>\n",
       "<table border=\"1\" class=\"dataframe\">\n",
       "  <thead>\n",
       "    <tr style=\"text-align: right;\">\n",
       "      <th></th>\n",
       "      <th>age</th>\n",
       "      <th>education</th>\n",
       "      <th>default</th>\n",
       "      <th>balance</th>\n",
       "      <th>housing</th>\n",
       "      <th>loan</th>\n",
       "      <th>day</th>\n",
       "      <th>duration</th>\n",
       "      <th>campaign</th>\n",
       "      <th>pdays</th>\n",
       "      <th>...</th>\n",
       "      <th>month_jun</th>\n",
       "      <th>month_mar</th>\n",
       "      <th>month_may</th>\n",
       "      <th>month_nov</th>\n",
       "      <th>month_oct</th>\n",
       "      <th>month_sep</th>\n",
       "      <th>poutcome_failure</th>\n",
       "      <th>poutcome_other</th>\n",
       "      <th>poutcome_success</th>\n",
       "      <th>poutcome_unknown</th>\n",
       "    </tr>\n",
       "  </thead>\n",
       "  <tbody>\n",
       "    <tr>\n",
       "      <th>age</th>\n",
       "      <td>1.000000</td>\n",
       "      <td>-0.191124</td>\n",
       "      <td>-0.009929</td>\n",
       "      <td>0.115164</td>\n",
       "      <td>-0.164196</td>\n",
       "      <td>-0.026357</td>\n",
       "      <td>0.000396</td>\n",
       "      <td>-0.006007</td>\n",
       "      <td>-0.001143</td>\n",
       "      <td>0.006107</td>\n",
       "      <td>...</td>\n",
       "      <td>0.009769</td>\n",
       "      <td>0.024785</td>\n",
       "      <td>-0.119656</td>\n",
       "      <td>0.026875</td>\n",
       "      <td>0.056998</td>\n",
       "      <td>0.036352</td>\n",
       "      <td>0.001994</td>\n",
       "      <td>-0.020942</td>\n",
       "      <td>0.060009</td>\n",
       "      <td>-0.031455</td>\n",
       "    </tr>\n",
       "    <tr>\n",
       "      <th>education</th>\n",
       "      <td>-0.191124</td>\n",
       "      <td>1.000000</td>\n",
       "      <td>-0.015692</td>\n",
       "      <td>0.043251</td>\n",
       "      <td>-0.094350</td>\n",
       "      <td>-0.052566</td>\n",
       "      <td>0.008989</td>\n",
       "      <td>-0.016869</td>\n",
       "      <td>-0.012280</td>\n",
       "      <td>0.024123</td>\n",
       "      <td>...</td>\n",
       "      <td>-0.036503</td>\n",
       "      <td>0.052196</td>\n",
       "      <td>-0.104157</td>\n",
       "      <td>0.028704</td>\n",
       "      <td>0.027617</td>\n",
       "      <td>0.030846</td>\n",
       "      <td>0.019845</td>\n",
       "      <td>0.015103</td>\n",
       "      <td>0.070489</td>\n",
       "      <td>-0.069069</td>\n",
       "    </tr>\n",
       "    <tr>\n",
       "      <th>default</th>\n",
       "      <td>-0.009929</td>\n",
       "      <td>-0.015692</td>\n",
       "      <td>1.000000</td>\n",
       "      <td>-0.110928</td>\n",
       "      <td>0.009551</td>\n",
       "      <td>0.074786</td>\n",
       "      <td>0.018724</td>\n",
       "      <td>-0.008162</td>\n",
       "      <td>0.033404</td>\n",
       "      <td>-0.037323</td>\n",
       "      <td>...</td>\n",
       "      <td>0.019626</td>\n",
       "      <td>-0.020028</td>\n",
       "      <td>-0.001761</td>\n",
       "      <td>0.000544</td>\n",
       "      <td>-0.023931</td>\n",
       "      <td>-0.016977</td>\n",
       "      <td>-0.025450</td>\n",
       "      <td>-0.017923</td>\n",
       "      <td>-0.041510</td>\n",
       "      <td>0.055032</td>\n",
       "    </tr>\n",
       "    <tr>\n",
       "      <th>balance</th>\n",
       "      <td>0.115164</td>\n",
       "      <td>0.043251</td>\n",
       "      <td>-0.110928</td>\n",
       "      <td>1.000000</td>\n",
       "      <td>-0.094919</td>\n",
       "      <td>-0.113089</td>\n",
       "      <td>-0.009987</td>\n",
       "      <td>0.025781</td>\n",
       "      <td>-0.042689</td>\n",
       "      <td>0.045155</td>\n",
       "      <td>...</td>\n",
       "      <td>0.039753</td>\n",
       "      <td>0.043832</td>\n",
       "      <td>-0.098073</td>\n",
       "      <td>0.081861</td>\n",
       "      <td>0.057041</td>\n",
       "      <td>0.047841</td>\n",
       "      <td>0.031040</td>\n",
       "      <td>0.028111</td>\n",
       "      <td>0.073358</td>\n",
       "      <td>-0.085456</td>\n",
       "    </tr>\n",
       "    <tr>\n",
       "      <th>housing</th>\n",
       "      <td>-0.164196</td>\n",
       "      <td>-0.094350</td>\n",
       "      <td>0.009551</td>\n",
       "      <td>-0.094919</td>\n",
       "      <td>1.000000</td>\n",
       "      <td>0.072252</td>\n",
       "      <td>-0.022644</td>\n",
       "      <td>0.038492</td>\n",
       "      <td>0.006257</td>\n",
       "      <td>0.064138</td>\n",
       "      <td>...</td>\n",
       "      <td>-0.073133</td>\n",
       "      <td>-0.075948</td>\n",
       "      <td>0.432605</td>\n",
       "      <td>-0.000219</td>\n",
       "      <td>-0.092026</td>\n",
       "      <td>-0.086893</td>\n",
       "      <td>0.085167</td>\n",
       "      <td>0.009830</td>\n",
       "      <td>-0.134477</td>\n",
       "      <td>0.024082</td>\n",
       "    </tr>\n",
       "    <tr>\n",
       "      <th>loan</th>\n",
       "      <td>-0.026357</td>\n",
       "      <td>-0.052566</td>\n",
       "      <td>0.074786</td>\n",
       "      <td>-0.113089</td>\n",
       "      <td>0.072252</td>\n",
       "      <td>1.000000</td>\n",
       "      <td>0.019136</td>\n",
       "      <td>0.001476</td>\n",
       "      <td>0.033889</td>\n",
       "      <td>-0.030788</td>\n",
       "      <td>...</td>\n",
       "      <td>-0.014897</td>\n",
       "      <td>-0.041105</td>\n",
       "      <td>0.002778</td>\n",
       "      <td>0.017720</td>\n",
       "      <td>-0.032357</td>\n",
       "      <td>-0.046196</td>\n",
       "      <td>0.007458</td>\n",
       "      <td>-0.019289</td>\n",
       "      <td>-0.082098</td>\n",
       "      <td>0.059235</td>\n",
       "    </tr>\n",
       "    <tr>\n",
       "      <th>day</th>\n",
       "      <td>0.000396</td>\n",
       "      <td>0.008989</td>\n",
       "      <td>0.018724</td>\n",
       "      <td>-0.009987</td>\n",
       "      <td>-0.022644</td>\n",
       "      <td>0.019136</td>\n",
       "      <td>1.000000</td>\n",
       "      <td>-0.016695</td>\n",
       "      <td>0.142169</td>\n",
       "      <td>-0.078757</td>\n",
       "      <td>...</td>\n",
       "      <td>-0.182032</td>\n",
       "      <td>-0.044303</td>\n",
       "      <td>-0.014580</td>\n",
       "      <td>0.056471</td>\n",
       "      <td>0.072179</td>\n",
       "      <td>-0.068744</td>\n",
       "      <td>-0.071175</td>\n",
       "      <td>-0.008806</td>\n",
       "      <td>-0.044366</td>\n",
       "      <td>0.085442</td>\n",
       "    </tr>\n",
       "    <tr>\n",
       "      <th>duration</th>\n",
       "      <td>-0.006007</td>\n",
       "      <td>-0.016869</td>\n",
       "      <td>-0.008162</td>\n",
       "      <td>0.025781</td>\n",
       "      <td>0.038492</td>\n",
       "      <td>0.001476</td>\n",
       "      <td>-0.016695</td>\n",
       "      <td>1.000000</td>\n",
       "      <td>-0.042576</td>\n",
       "      <td>-0.033053</td>\n",
       "      <td>...</td>\n",
       "      <td>-0.003061</td>\n",
       "      <td>-0.034640</td>\n",
       "      <td>0.007983</td>\n",
       "      <td>-0.015655</td>\n",
       "      <td>-0.012541</td>\n",
       "      <td>-0.012077</td>\n",
       "      <td>-0.039476</td>\n",
       "      <td>-0.009497</td>\n",
       "      <td>-0.025971</td>\n",
       "      <td>0.050571</td>\n",
       "    </tr>\n",
       "    <tr>\n",
       "      <th>campaign</th>\n",
       "      <td>-0.001143</td>\n",
       "      <td>-0.012280</td>\n",
       "      <td>0.033404</td>\n",
       "      <td>-0.042689</td>\n",
       "      <td>0.006257</td>\n",
       "      <td>0.033889</td>\n",
       "      <td>0.142169</td>\n",
       "      <td>-0.042576</td>\n",
       "      <td>1.000000</td>\n",
       "      <td>-0.105214</td>\n",
       "      <td>...</td>\n",
       "      <td>0.046763</td>\n",
       "      <td>-0.030574</td>\n",
       "      <td>-0.044348</td>\n",
       "      <td>-0.077307</td>\n",
       "      <td>-0.071519</td>\n",
       "      <td>-0.048672</td>\n",
       "      <td>-0.082282</td>\n",
       "      <td>-0.024854</td>\n",
       "      <td>-0.094260</td>\n",
       "      <td>0.134842</td>\n",
       "    </tr>\n",
       "    <tr>\n",
       "      <th>pdays</th>\n",
       "      <td>0.006107</td>\n",
       "      <td>0.024123</td>\n",
       "      <td>-0.037323</td>\n",
       "      <td>0.045155</td>\n",
       "      <td>0.064138</td>\n",
       "      <td>-0.030788</td>\n",
       "      <td>-0.078757</td>\n",
       "      <td>-0.033053</td>\n",
       "      <td>-0.105214</td>\n",
       "      <td>1.000000</td>\n",
       "      <td>...</td>\n",
       "      <td>-0.093551</td>\n",
       "      <td>0.024192</td>\n",
       "      <td>0.028678</td>\n",
       "      <td>-0.007350</td>\n",
       "      <td>0.079833</td>\n",
       "      <td>0.110907</td>\n",
       "      <td>0.608719</td>\n",
       "      <td>0.338049</td>\n",
       "      <td>0.326215</td>\n",
       "      <td>-0.824031</td>\n",
       "    </tr>\n",
       "    <tr>\n",
       "      <th>previous</th>\n",
       "      <td>0.025383</td>\n",
       "      <td>0.025368</td>\n",
       "      <td>-0.036605</td>\n",
       "      <td>0.060419</td>\n",
       "      <td>-0.000221</td>\n",
       "      <td>-0.020087</td>\n",
       "      <td>-0.059739</td>\n",
       "      <td>-0.034233</td>\n",
       "      <td>-0.052312</td>\n",
       "      <td>0.513708</td>\n",
       "      <td>...</td>\n",
       "      <td>-0.050067</td>\n",
       "      <td>0.025225</td>\n",
       "      <td>-0.025077</td>\n",
       "      <td>0.019722</td>\n",
       "      <td>0.055077</td>\n",
       "      <td>0.099795</td>\n",
       "      <td>0.347800</td>\n",
       "      <td>0.318888</td>\n",
       "      <td>0.328978</td>\n",
       "      <td>-0.628346</td>\n",
       "    </tr>\n",
       "    <tr>\n",
       "      <th>deposit</th>\n",
       "      <td>0.024357</td>\n",
       "      <td>0.098253</td>\n",
       "      <td>-0.038872</td>\n",
       "      <td>0.135893</td>\n",
       "      <td>-0.200290</td>\n",
       "      <td>-0.107240</td>\n",
       "      <td>-0.056878</td>\n",
       "      <td>0.457818</td>\n",
       "      <td>-0.130707</td>\n",
       "      <td>0.147917</td>\n",
       "      <td>...</td>\n",
       "      <td>-0.008533</td>\n",
       "      <td>0.135348</td>\n",
       "      <td>-0.168203</td>\n",
       "      <td>-0.027754</td>\n",
       "      <td>0.130599</td>\n",
       "      <td>0.125239</td>\n",
       "      <td>0.021124</td>\n",
       "      <td>0.039319</td>\n",
       "      <td>0.288491</td>\n",
       "      <td>-0.228300</td>\n",
       "    </tr>\n",
       "    <tr>\n",
       "      <th>age_group</th>\n",
       "      <td>-0.008359</td>\n",
       "      <td>-0.057120</td>\n",
       "      <td>0.001258</td>\n",
       "      <td>0.019336</td>\n",
       "      <td>-0.139389</td>\n",
       "      <td>-0.028942</td>\n",
       "      <td>0.003868</td>\n",
       "      <td>0.004618</td>\n",
       "      <td>-0.048313</td>\n",
       "      <td>-0.014888</td>\n",
       "      <td>...</td>\n",
       "      <td>0.002175</td>\n",
       "      <td>0.049329</td>\n",
       "      <td>-0.039955</td>\n",
       "      <td>-0.052553</td>\n",
       "      <td>0.063648</td>\n",
       "      <td>0.045263</td>\n",
       "      <td>-0.047184</td>\n",
       "      <td>0.011126</td>\n",
       "      <td>0.064523</td>\n",
       "      <td>-0.014778</td>\n",
       "    </tr>\n",
       "    <tr>\n",
       "      <th>job_admin.</th>\n",
       "      <td>-0.057502</td>\n",
       "      <td>-0.055817</td>\n",
       "      <td>-0.022421</td>\n",
       "      <td>-0.028057</td>\n",
       "      <td>0.063547</td>\n",
       "      <td>0.049098</td>\n",
       "      <td>-0.010680</td>\n",
       "      <td>-0.023585</td>\n",
       "      <td>-0.018834</td>\n",
       "      <td>0.046293</td>\n",
       "      <td>...</td>\n",
       "      <td>-0.001089</td>\n",
       "      <td>0.003533</td>\n",
       "      <td>0.027696</td>\n",
       "      <td>-0.008095</td>\n",
       "      <td>0.006208</td>\n",
       "      <td>0.006847</td>\n",
       "      <td>0.038762</td>\n",
       "      <td>0.008044</td>\n",
       "      <td>0.004628</td>\n",
       "      <td>-0.035007</td>\n",
       "    </tr>\n",
       "    <tr>\n",
       "      <th>job_blue-collar</th>\n",
       "      <td>-0.065917</td>\n",
       "      <td>-0.371796</td>\n",
       "      <td>0.022989</td>\n",
       "      <td>-0.049484</td>\n",
       "      <td>0.194115</td>\n",
       "      <td>0.056857</td>\n",
       "      <td>-0.019876</td>\n",
       "      <td>0.032253</td>\n",
       "      <td>0.002430</td>\n",
       "      <td>-0.024269</td>\n",
       "      <td>...</td>\n",
       "      <td>0.032766</td>\n",
       "      <td>-0.055255</td>\n",
       "      <td>0.170969</td>\n",
       "      <td>-0.025624</td>\n",
       "      <td>-0.051792</td>\n",
       "      <td>-0.045333</td>\n",
       "      <td>-0.015957</td>\n",
       "      <td>0.003622</td>\n",
       "      <td>-0.074494</td>\n",
       "      <td>0.059758</td>\n",
       "    </tr>\n",
       "    <tr>\n",
       "      <th>job_entrepreneur</th>\n",
       "      <td>0.028390</td>\n",
       "      <td>0.024219</td>\n",
       "      <td>0.023264</td>\n",
       "      <td>-0.008727</td>\n",
       "      <td>0.006600</td>\n",
       "      <td>0.038298</td>\n",
       "      <td>-0.005463</td>\n",
       "      <td>0.000594</td>\n",
       "      <td>0.011168</td>\n",
       "      <td>-0.026802</td>\n",
       "      <td>...</td>\n",
       "      <td>0.026586</td>\n",
       "      <td>-0.019403</td>\n",
       "      <td>-0.018227</td>\n",
       "      <td>0.045535</td>\n",
       "      <td>-0.019363</td>\n",
       "      <td>-0.008032</td>\n",
       "      <td>0.002007</td>\n",
       "      <td>-0.022674</td>\n",
       "      <td>-0.034155</td>\n",
       "      <td>0.032629</td>\n",
       "    </tr>\n",
       "    <tr>\n",
       "      <th>job_housemaid</th>\n",
       "      <td>0.092661</td>\n",
       "      <td>-0.144242</td>\n",
       "      <td>0.019273</td>\n",
       "      <td>0.000907</td>\n",
       "      <td>-0.063824</td>\n",
       "      <td>-0.028973</td>\n",
       "      <td>0.010920</td>\n",
       "      <td>-0.010009</td>\n",
       "      <td>0.008832</td>\n",
       "      <td>-0.023625</td>\n",
       "      <td>...</td>\n",
       "      <td>0.049777</td>\n",
       "      <td>0.004569</td>\n",
       "      <td>-0.053982</td>\n",
       "      <td>-0.005830</td>\n",
       "      <td>0.012923</td>\n",
       "      <td>-0.007499</td>\n",
       "      <td>-0.015545</td>\n",
       "      <td>-0.008928</td>\n",
       "      <td>-0.005594</td>\n",
       "      <td>0.019350</td>\n",
       "    </tr>\n",
       "    <tr>\n",
       "      <th>job_management</th>\n",
       "      <td>-0.036163</td>\n",
       "      <td>0.518735</td>\n",
       "      <td>-0.000055</td>\n",
       "      <td>0.039205</td>\n",
       "      <td>-0.077697</td>\n",
       "      <td>-0.052683</td>\n",
       "      <td>0.003025</td>\n",
       "      <td>-0.024309</td>\n",
       "      <td>0.018159</td>\n",
       "      <td>0.010868</td>\n",
       "      <td>...</td>\n",
       "      <td>-0.026360</td>\n",
       "      <td>0.036884</td>\n",
       "      <td>-0.095434</td>\n",
       "      <td>0.030269</td>\n",
       "      <td>0.010856</td>\n",
       "      <td>0.037880</td>\n",
       "      <td>0.004471</td>\n",
       "      <td>0.010845</td>\n",
       "      <td>0.035995</td>\n",
       "      <td>-0.032725</td>\n",
       "    </tr>\n",
       "    <tr>\n",
       "      <th>job_retired</th>\n",
       "      <td>0.545524</td>\n",
       "      <td>-0.148800</td>\n",
       "      <td>-0.018524</td>\n",
       "      <td>0.091421</td>\n",
       "      <td>-0.168785</td>\n",
       "      <td>-0.045674</td>\n",
       "      <td>-0.005226</td>\n",
       "      <td>0.006052</td>\n",
       "      <td>-0.037189</td>\n",
       "      <td>0.007287</td>\n",
       "      <td>...</td>\n",
       "      <td>-0.010806</td>\n",
       "      <td>0.046085</td>\n",
       "      <td>-0.090053</td>\n",
       "      <td>-0.016737</td>\n",
       "      <td>0.071483</td>\n",
       "      <td>0.062945</td>\n",
       "      <td>-0.011205</td>\n",
       "      <td>-0.002926</td>\n",
       "      <td>0.070006</td>\n",
       "      <td>-0.037501</td>\n",
       "    </tr>\n",
       "    <tr>\n",
       "      <th>job_self-employed</th>\n",
       "      <td>-0.027947</td>\n",
       "      <td>0.091001</td>\n",
       "      <td>0.008924</td>\n",
       "      <td>0.009889</td>\n",
       "      <td>-0.019555</td>\n",
       "      <td>0.004113</td>\n",
       "      <td>0.001565</td>\n",
       "      <td>0.014513</td>\n",
       "      <td>0.006299</td>\n",
       "      <td>-0.012057</td>\n",
       "      <td>...</td>\n",
       "      <td>0.004955</td>\n",
       "      <td>0.002135</td>\n",
       "      <td>-0.017982</td>\n",
       "      <td>0.026810</td>\n",
       "      <td>0.009364</td>\n",
       "      <td>-0.019143</td>\n",
       "      <td>-0.009059</td>\n",
       "      <td>0.004926</td>\n",
       "      <td>-0.000882</td>\n",
       "      <td>0.004705</td>\n",
       "    </tr>\n",
       "    <tr>\n",
       "      <th>job_services</th>\n",
       "      <td>-0.077266</td>\n",
       "      <td>-0.103846</td>\n",
       "      <td>-0.020168</td>\n",
       "      <td>-0.037633</td>\n",
       "      <td>0.080129</td>\n",
       "      <td>0.032109</td>\n",
       "      <td>0.002787</td>\n",
       "      <td>0.013911</td>\n",
       "      <td>0.009145</td>\n",
       "      <td>-0.002427</td>\n",
       "      <td>...</td>\n",
       "      <td>0.012644</td>\n",
       "      <td>-0.012503</td>\n",
       "      <td>0.066271</td>\n",
       "      <td>-0.019849</td>\n",
       "      <td>-0.031120</td>\n",
       "      <td>-0.023491</td>\n",
       "      <td>-0.003684</td>\n",
       "      <td>-0.015454</td>\n",
       "      <td>-0.028109</td>\n",
       "      <td>0.029125</td>\n",
       "    </tr>\n",
       "    <tr>\n",
       "      <th>job_student</th>\n",
       "      <td>-0.231436</td>\n",
       "      <td>-0.009494</td>\n",
       "      <td>-0.019190</td>\n",
       "      <td>0.007133</td>\n",
       "      <td>-0.124261</td>\n",
       "      <td>-0.071385</td>\n",
       "      <td>-0.010712</td>\n",
       "      <td>-0.017974</td>\n",
       "      <td>-0.023710</td>\n",
       "      <td>0.025137</td>\n",
       "      <td>...</td>\n",
       "      <td>-0.017265</td>\n",
       "      <td>0.023515</td>\n",
       "      <td>-0.032509</td>\n",
       "      <td>-0.004541</td>\n",
       "      <td>0.031885</td>\n",
       "      <td>0.027500</td>\n",
       "      <td>-0.006769</td>\n",
       "      <td>0.040725</td>\n",
       "      <td>0.060619</td>\n",
       "      <td>-0.055835</td>\n",
       "    </tr>\n",
       "    <tr>\n",
       "      <th>job_technician</th>\n",
       "      <td>-0.074596</td>\n",
       "      <td>0.047966</td>\n",
       "      <td>0.004419</td>\n",
       "      <td>-0.010460</td>\n",
       "      <td>0.004772</td>\n",
       "      <td>0.009501</td>\n",
       "      <td>0.031050</td>\n",
       "      <td>-0.007488</td>\n",
       "      <td>0.022406</td>\n",
       "      <td>-0.017993</td>\n",
       "      <td>...</td>\n",
       "      <td>-0.030950</td>\n",
       "      <td>-0.016709</td>\n",
       "      <td>-0.009936</td>\n",
       "      <td>-0.008488</td>\n",
       "      <td>-0.003454</td>\n",
       "      <td>-0.024729</td>\n",
       "      <td>0.005355</td>\n",
       "      <td>-0.011311</td>\n",
       "      <td>-0.018613</td>\n",
       "      <td>0.014196</td>\n",
       "    </tr>\n",
       "    <tr>\n",
       "      <th>job_unemployed</th>\n",
       "      <td>0.001263</td>\n",
       "      <td>-0.031813</td>\n",
       "      <td>0.011120</td>\n",
       "      <td>0.009689</td>\n",
       "      <td>-0.059712</td>\n",
       "      <td>-0.039883</td>\n",
       "      <td>-0.001380</td>\n",
       "      <td>0.027641</td>\n",
       "      <td>-0.023728</td>\n",
       "      <td>0.005833</td>\n",
       "      <td>...</td>\n",
       "      <td>-0.004043</td>\n",
       "      <td>0.004451</td>\n",
       "      <td>-0.036727</td>\n",
       "      <td>0.009096</td>\n",
       "      <td>-0.003121</td>\n",
       "      <td>0.002940</td>\n",
       "      <td>-0.009655</td>\n",
       "      <td>-0.012524</td>\n",
       "      <td>0.030416</td>\n",
       "      <td>-0.007316</td>\n",
       "    </tr>\n",
       "    <tr>\n",
       "      <th>marital_divorced</th>\n",
       "      <td>0.185312</td>\n",
       "      <td>-0.033425</td>\n",
       "      <td>0.021028</td>\n",
       "      <td>-0.030406</td>\n",
       "      <td>0.009686</td>\n",
       "      <td>0.028408</td>\n",
       "      <td>0.003626</td>\n",
       "      <td>0.023425</td>\n",
       "      <td>-0.009653</td>\n",
       "      <td>-0.013343</td>\n",
       "      <td>...</td>\n",
       "      <td>0.013260</td>\n",
       "      <td>0.004882</td>\n",
       "      <td>0.009281</td>\n",
       "      <td>0.011729</td>\n",
       "      <td>-0.001757</td>\n",
       "      <td>-0.010148</td>\n",
       "      <td>-0.024844</td>\n",
       "      <td>-0.008730</td>\n",
       "      <td>-0.020206</td>\n",
       "      <td>0.035771</td>\n",
       "    </tr>\n",
       "    <tr>\n",
       "      <th>marital_married</th>\n",
       "      <td>0.316681</td>\n",
       "      <td>-0.133514</td>\n",
       "      <td>-0.007670</td>\n",
       "      <td>0.032056</td>\n",
       "      <td>0.036857</td>\n",
       "      <td>0.044692</td>\n",
       "      <td>0.001760</td>\n",
       "      <td>-0.037747</td>\n",
       "      <td>0.055415</td>\n",
       "      <td>-0.020003</td>\n",
       "      <td>...</td>\n",
       "      <td>0.002957</td>\n",
       "      <td>-0.030392</td>\n",
       "      <td>-0.031935</td>\n",
       "      <td>0.033558</td>\n",
       "      <td>-0.013898</td>\n",
       "      <td>-0.019805</td>\n",
       "      <td>0.011364</td>\n",
       "      <td>-0.030038</td>\n",
       "      <td>-0.008541</td>\n",
       "      <td>0.012296</td>\n",
       "    </tr>\n",
       "    <tr>\n",
       "      <th>marital_single</th>\n",
       "      <td>-0.464737</td>\n",
       "      <td>0.165140</td>\n",
       "      <td>-0.006322</td>\n",
       "      <td>-0.013176</td>\n",
       "      <td>-0.045904</td>\n",
       "      <td>-0.067140</td>\n",
       "      <td>-0.004371</td>\n",
       "      <td>0.024042</td>\n",
       "      <td>-0.052335</td>\n",
       "      <td>0.030483</td>\n",
       "      <td>...</td>\n",
       "      <td>-0.012282</td>\n",
       "      <td>0.028986</td>\n",
       "      <td>0.027599</td>\n",
       "      <td>-0.043800</td>\n",
       "      <td>0.016004</td>\n",
       "      <td>0.028071</td>\n",
       "      <td>0.005018</td>\n",
       "      <td>0.037987</td>\n",
       "      <td>0.023010</td>\n",
       "      <td>-0.037729</td>\n",
       "    </tr>\n",
       "    <tr>\n",
       "      <th>contact_cellular</th>\n",
       "      <td>-0.074062</td>\n",
       "      <td>0.172697</td>\n",
       "      <td>-0.028878</td>\n",
       "      <td>0.030039</td>\n",
       "      <td>-0.186832</td>\n",
       "      <td>0.000653</td>\n",
       "      <td>-0.006511</td>\n",
       "      <td>0.022006</td>\n",
       "      <td>-0.068573</td>\n",
       "      <td>0.208006</td>\n",
       "      <td>...</td>\n",
       "      <td>-0.319383</td>\n",
       "      <td>0.064403</td>\n",
       "      <td>-0.337438</td>\n",
       "      <td>0.108127</td>\n",
       "      <td>0.032717</td>\n",
       "      <td>0.053452</td>\n",
       "      <td>0.166336</td>\n",
       "      <td>0.091506</td>\n",
       "      <td>0.148420</td>\n",
       "      <td>-0.264559</td>\n",
       "    </tr>\n",
       "    <tr>\n",
       "      <th>contact_telephone</th>\n",
       "      <td>0.194455</td>\n",
       "      <td>-0.080767</td>\n",
       "      <td>-0.021596</td>\n",
       "      <td>0.061140</td>\n",
       "      <td>-0.084942</td>\n",
       "      <td>-0.016394</td>\n",
       "      <td>0.013647</td>\n",
       "      <td>-0.022244</td>\n",
       "      <td>0.056650</td>\n",
       "      <td>0.004120</td>\n",
       "      <td>...</td>\n",
       "      <td>-0.064427</td>\n",
       "      <td>0.006604</td>\n",
       "      <td>-0.076916</td>\n",
       "      <td>0.029959</td>\n",
       "      <td>0.069496</td>\n",
       "      <td>0.024017</td>\n",
       "      <td>-0.005817</td>\n",
       "      <td>0.014167</td>\n",
       "      <td>0.000254</td>\n",
       "      <td>-0.002934</td>\n",
       "    </tr>\n",
       "    <tr>\n",
       "      <th>contact_unknown</th>\n",
       "      <td>-0.036224</td>\n",
       "      <td>-0.140256</td>\n",
       "      <td>0.044621</td>\n",
       "      <td>-0.069737</td>\n",
       "      <td>0.255649</td>\n",
       "      <td>0.009172</td>\n",
       "      <td>-0.001105</td>\n",
       "      <td>-0.010665</td>\n",
       "      <td>0.040870</td>\n",
       "      <td>-0.230080</td>\n",
       "      <td>...</td>\n",
       "      <td>0.388312</td>\n",
       "      <td>-0.074450</td>\n",
       "      <td>0.415598</td>\n",
       "      <td>-0.136376</td>\n",
       "      <td>-0.077706</td>\n",
       "      <td>-0.072969</td>\n",
       "      <td>-0.178493</td>\n",
       "      <td>-0.108666</td>\n",
       "      <td>-0.162550</td>\n",
       "      <td>0.291242</td>\n",
       "    </tr>\n",
       "    <tr>\n",
       "      <th>month_apr</th>\n",
       "      <td>-0.026208</td>\n",
       "      <td>0.015456</td>\n",
       "      <td>-0.018812</td>\n",
       "      <td>0.050392</td>\n",
       "      <td>0.031485</td>\n",
       "      <td>-0.040164</td>\n",
       "      <td>0.110547</td>\n",
       "      <td>0.027398</td>\n",
       "      <td>-0.075791</td>\n",
       "      <td>0.080709</td>\n",
       "      <td>...</td>\n",
       "      <td>-0.104766</td>\n",
       "      <td>-0.046360</td>\n",
       "      <td>-0.176848</td>\n",
       "      <td>-0.086518</td>\n",
       "      <td>-0.055393</td>\n",
       "      <td>-0.050315</td>\n",
       "      <td>0.067926</td>\n",
       "      <td>0.041458</td>\n",
       "      <td>-0.000767</td>\n",
       "      <td>-0.068823</td>\n",
       "    </tr>\n",
       "    <tr>\n",
       "      <th>month_aug</th>\n",
       "      <td>0.060980</td>\n",
       "      <td>0.102218</td>\n",
       "      <td>-0.003966</td>\n",
       "      <td>-0.008252</td>\n",
       "      <td>-0.235772</td>\n",
       "      <td>-0.064208</td>\n",
       "      <td>-0.001758</td>\n",
       "      <td>-0.024372</td>\n",
       "      <td>0.149425</td>\n",
       "      <td>-0.066859</td>\n",
       "      <td>...</td>\n",
       "      <td>-0.139574</td>\n",
       "      <td>-0.061763</td>\n",
       "      <td>-0.235606</td>\n",
       "      <td>-0.115263</td>\n",
       "      <td>-0.073798</td>\n",
       "      <td>-0.067031</td>\n",
       "      <td>-0.062600</td>\n",
       "      <td>-0.040444</td>\n",
       "      <td>0.007390</td>\n",
       "      <td>0.060037</td>\n",
       "    </tr>\n",
       "    <tr>\n",
       "      <th>month_dec</th>\n",
       "      <td>0.031151</td>\n",
       "      <td>0.004171</td>\n",
       "      <td>-0.012456</td>\n",
       "      <td>0.027092</td>\n",
       "      <td>-0.059625</td>\n",
       "      <td>-0.029521</td>\n",
       "      <td>-0.011651</td>\n",
       "      <td>0.007100</td>\n",
       "      <td>-0.014967</td>\n",
       "      <td>0.045581</td>\n",
       "      <td>...</td>\n",
       "      <td>-0.033754</td>\n",
       "      <td>-0.014936</td>\n",
       "      <td>-0.056977</td>\n",
       "      <td>-0.027874</td>\n",
       "      <td>-0.017847</td>\n",
       "      <td>-0.016210</td>\n",
       "      <td>0.002631</td>\n",
       "      <td>0.036861</td>\n",
       "      <td>0.068706</td>\n",
       "      <td>-0.066145</td>\n",
       "    </tr>\n",
       "    <tr>\n",
       "      <th>month_feb</th>\n",
       "      <td>0.014729</td>\n",
       "      <td>0.036743</td>\n",
       "      <td>-0.020260</td>\n",
       "      <td>0.010160</td>\n",
       "      <td>-0.079198</td>\n",
       "      <td>-0.012067</td>\n",
       "      <td>-0.236222</td>\n",
       "      <td>-0.025231</td>\n",
       "      <td>-0.039026</td>\n",
       "      <td>0.054450</td>\n",
       "      <td>...</td>\n",
       "      <td>-0.096203</td>\n",
       "      <td>-0.042571</td>\n",
       "      <td>-0.162394</td>\n",
       "      <td>-0.079446</td>\n",
       "      <td>-0.050866</td>\n",
       "      <td>-0.046202</td>\n",
       "      <td>0.060970</td>\n",
       "      <td>0.038671</td>\n",
       "      <td>0.035524</td>\n",
       "      <td>-0.086813</td>\n",
       "    </tr>\n",
       "    <tr>\n",
       "      <th>month_jan</th>\n",
       "      <td>0.017477</td>\n",
       "      <td>-0.002330</td>\n",
       "      <td>0.003382</td>\n",
       "      <td>-0.011331</td>\n",
       "      <td>-0.090039</td>\n",
       "      <td>0.003325</td>\n",
       "      <td>0.225136</td>\n",
       "      <td>-0.010272</td>\n",
       "      <td>-0.053519</td>\n",
       "      <td>0.015399</td>\n",
       "      <td>...</td>\n",
       "      <td>-0.063231</td>\n",
       "      <td>-0.027980</td>\n",
       "      <td>-0.106736</td>\n",
       "      <td>-0.052217</td>\n",
       "      <td>-0.033432</td>\n",
       "      <td>-0.030367</td>\n",
       "      <td>0.007226</td>\n",
       "      <td>0.055332</td>\n",
       "      <td>0.013933</td>\n",
       "      <td>-0.041744</td>\n",
       "    </tr>\n",
       "    <tr>\n",
       "      <th>month_jul</th>\n",
       "      <td>-0.003662</td>\n",
       "      <td>-0.049832</td>\n",
       "      <td>0.048653</td>\n",
       "      <td>-0.086824</td>\n",
       "      <td>-0.029806</td>\n",
       "      <td>0.163249</td>\n",
       "      <td>0.130897</td>\n",
       "      <td>0.056203</td>\n",
       "      <td>0.118163</td>\n",
       "      <td>-0.108347</td>\n",
       "      <td>...</td>\n",
       "      <td>-0.141495</td>\n",
       "      <td>-0.062613</td>\n",
       "      <td>-0.238848</td>\n",
       "      <td>-0.116849</td>\n",
       "      <td>-0.074813</td>\n",
       "      <td>-0.067954</td>\n",
       "      <td>-0.103570</td>\n",
       "      <td>-0.055530</td>\n",
       "      <td>-0.067140</td>\n",
       "      <td>0.147044</td>\n",
       "    </tr>\n",
       "    <tr>\n",
       "      <th>month_jun</th>\n",
       "      <td>0.009769</td>\n",
       "      <td>-0.036503</td>\n",
       "      <td>0.019626</td>\n",
       "      <td>0.039753</td>\n",
       "      <td>-0.073133</td>\n",
       "      <td>-0.014897</td>\n",
       "      <td>-0.182032</td>\n",
       "      <td>-0.003061</td>\n",
       "      <td>0.046763</td>\n",
       "      <td>-0.093551</td>\n",
       "      <td>...</td>\n",
       "      <td>1.000000</td>\n",
       "      <td>-0.054275</td>\n",
       "      <td>-0.207042</td>\n",
       "      <td>-0.101289</td>\n",
       "      <td>-0.064851</td>\n",
       "      <td>-0.058905</td>\n",
       "      <td>-0.074250</td>\n",
       "      <td>-0.036578</td>\n",
       "      <td>-0.020967</td>\n",
       "      <td>0.085584</td>\n",
       "    </tr>\n",
       "    <tr>\n",
       "      <th>month_mar</th>\n",
       "      <td>0.024785</td>\n",
       "      <td>0.052196</td>\n",
       "      <td>-0.020028</td>\n",
       "      <td>0.043832</td>\n",
       "      <td>-0.075948</td>\n",
       "      <td>-0.041105</td>\n",
       "      <td>-0.044303</td>\n",
       "      <td>-0.034640</td>\n",
       "      <td>-0.030574</td>\n",
       "      <td>0.024192</td>\n",
       "      <td>...</td>\n",
       "      <td>-0.054275</td>\n",
       "      <td>1.000000</td>\n",
       "      <td>-0.091618</td>\n",
       "      <td>-0.044821</td>\n",
       "      <td>-0.028697</td>\n",
       "      <td>-0.026066</td>\n",
       "      <td>-0.000021</td>\n",
       "      <td>0.026776</td>\n",
       "      <td>0.044550</td>\n",
       "      <td>-0.043056</td>\n",
       "    </tr>\n",
       "    <tr>\n",
       "      <th>month_may</th>\n",
       "      <td>-0.119656</td>\n",
       "      <td>-0.104157</td>\n",
       "      <td>-0.001761</td>\n",
       "      <td>-0.098073</td>\n",
       "      <td>0.432605</td>\n",
       "      <td>0.002778</td>\n",
       "      <td>-0.014580</td>\n",
       "      <td>0.007983</td>\n",
       "      <td>-0.044348</td>\n",
       "      <td>0.028678</td>\n",
       "      <td>...</td>\n",
       "      <td>-0.207042</td>\n",
       "      <td>-0.091618</td>\n",
       "      <td>1.000000</td>\n",
       "      <td>-0.170979</td>\n",
       "      <td>-0.109470</td>\n",
       "      <td>-0.099433</td>\n",
       "      <td>0.034538</td>\n",
       "      <td>-0.012275</td>\n",
       "      <td>-0.099107</td>\n",
       "      <td>0.047688</td>\n",
       "    </tr>\n",
       "    <tr>\n",
       "      <th>month_nov</th>\n",
       "      <td>0.026875</td>\n",
       "      <td>0.028704</td>\n",
       "      <td>0.000544</td>\n",
       "      <td>0.081861</td>\n",
       "      <td>-0.000219</td>\n",
       "      <td>0.017720</td>\n",
       "      <td>0.056471</td>\n",
       "      <td>-0.015655</td>\n",
       "      <td>-0.077307</td>\n",
       "      <td>-0.007350</td>\n",
       "      <td>...</td>\n",
       "      <td>-0.101289</td>\n",
       "      <td>-0.044821</td>\n",
       "      <td>-0.170979</td>\n",
       "      <td>1.000000</td>\n",
       "      <td>-0.053555</td>\n",
       "      <td>-0.048645</td>\n",
       "      <td>0.063342</td>\n",
       "      <td>0.005001</td>\n",
       "      <td>0.015353</td>\n",
       "      <td>-0.058439</td>\n",
       "    </tr>\n",
       "    <tr>\n",
       "      <th>month_oct</th>\n",
       "      <td>0.056998</td>\n",
       "      <td>0.027617</td>\n",
       "      <td>-0.023931</td>\n",
       "      <td>0.057041</td>\n",
       "      <td>-0.092026</td>\n",
       "      <td>-0.032357</td>\n",
       "      <td>0.072179</td>\n",
       "      <td>-0.012541</td>\n",
       "      <td>-0.071519</td>\n",
       "      <td>0.079833</td>\n",
       "      <td>...</td>\n",
       "      <td>-0.064851</td>\n",
       "      <td>-0.028697</td>\n",
       "      <td>-0.109470</td>\n",
       "      <td>-0.053555</td>\n",
       "      <td>1.000000</td>\n",
       "      <td>-0.031145</td>\n",
       "      <td>0.044624</td>\n",
       "      <td>0.010524</td>\n",
       "      <td>0.111386</td>\n",
       "      <td>-0.112154</td>\n",
       "    </tr>\n",
       "    <tr>\n",
       "      <th>month_sep</th>\n",
       "      <td>0.036352</td>\n",
       "      <td>0.030846</td>\n",
       "      <td>-0.016977</td>\n",
       "      <td>0.047841</td>\n",
       "      <td>-0.086893</td>\n",
       "      <td>-0.046196</td>\n",
       "      <td>-0.068744</td>\n",
       "      <td>-0.012077</td>\n",
       "      <td>-0.048672</td>\n",
       "      <td>0.110907</td>\n",
       "      <td>...</td>\n",
       "      <td>-0.058905</td>\n",
       "      <td>-0.026066</td>\n",
       "      <td>-0.099433</td>\n",
       "      <td>-0.048645</td>\n",
       "      <td>-0.031145</td>\n",
       "      <td>1.000000</td>\n",
       "      <td>0.029983</td>\n",
       "      <td>0.050486</td>\n",
       "      <td>0.135072</td>\n",
       "      <td>-0.137132</td>\n",
       "    </tr>\n",
       "    <tr>\n",
       "      <th>poutcome_failure</th>\n",
       "      <td>0.001994</td>\n",
       "      <td>0.019845</td>\n",
       "      <td>-0.025450</td>\n",
       "      <td>0.031040</td>\n",
       "      <td>0.085167</td>\n",
       "      <td>0.007458</td>\n",
       "      <td>-0.071175</td>\n",
       "      <td>-0.039476</td>\n",
       "      <td>-0.082282</td>\n",
       "      <td>0.608719</td>\n",
       "      <td>...</td>\n",
       "      <td>-0.074250</td>\n",
       "      <td>-0.000021</td>\n",
       "      <td>0.034538</td>\n",
       "      <td>0.063342</td>\n",
       "      <td>0.044624</td>\n",
       "      <td>0.029983</td>\n",
       "      <td>1.000000</td>\n",
       "      <td>-0.078494</td>\n",
       "      <td>-0.112774</td>\n",
       "      <td>-0.606736</td>\n",
       "    </tr>\n",
       "    <tr>\n",
       "      <th>poutcome_other</th>\n",
       "      <td>-0.020942</td>\n",
       "      <td>0.015103</td>\n",
       "      <td>-0.017923</td>\n",
       "      <td>0.028111</td>\n",
       "      <td>0.009830</td>\n",
       "      <td>-0.019289</td>\n",
       "      <td>-0.008806</td>\n",
       "      <td>-0.009497</td>\n",
       "      <td>-0.024854</td>\n",
       "      <td>0.338049</td>\n",
       "      <td>...</td>\n",
       "      <td>-0.036578</td>\n",
       "      <td>0.026776</td>\n",
       "      <td>-0.012275</td>\n",
       "      <td>0.005001</td>\n",
       "      <td>0.010524</td>\n",
       "      <td>0.050486</td>\n",
       "      <td>-0.078494</td>\n",
       "      <td>1.000000</td>\n",
       "      <td>-0.071806</td>\n",
       "      <td>-0.386326</td>\n",
       "    </tr>\n",
       "    <tr>\n",
       "      <th>poutcome_success</th>\n",
       "      <td>0.060009</td>\n",
       "      <td>0.070489</td>\n",
       "      <td>-0.041510</td>\n",
       "      <td>0.073358</td>\n",
       "      <td>-0.134477</td>\n",
       "      <td>-0.082098</td>\n",
       "      <td>-0.044366</td>\n",
       "      <td>-0.025971</td>\n",
       "      <td>-0.094260</td>\n",
       "      <td>0.326215</td>\n",
       "      <td>...</td>\n",
       "      <td>-0.020967</td>\n",
       "      <td>0.044550</td>\n",
       "      <td>-0.099107</td>\n",
       "      <td>0.015353</td>\n",
       "      <td>0.111386</td>\n",
       "      <td>0.135072</td>\n",
       "      <td>-0.112774</td>\n",
       "      <td>-0.071806</td>\n",
       "      <td>1.000000</td>\n",
       "      <td>-0.555044</td>\n",
       "    </tr>\n",
       "    <tr>\n",
       "      <th>poutcome_unknown</th>\n",
       "      <td>-0.031455</td>\n",
       "      <td>-0.069069</td>\n",
       "      <td>0.055032</td>\n",
       "      <td>-0.085456</td>\n",
       "      <td>0.024082</td>\n",
       "      <td>0.059235</td>\n",
       "      <td>0.085442</td>\n",
       "      <td>0.050571</td>\n",
       "      <td>0.134842</td>\n",
       "      <td>-0.824031</td>\n",
       "      <td>...</td>\n",
       "      <td>0.085584</td>\n",
       "      <td>-0.043056</td>\n",
       "      <td>0.047688</td>\n",
       "      <td>-0.058439</td>\n",
       "      <td>-0.112154</td>\n",
       "      <td>-0.137132</td>\n",
       "      <td>-0.606736</td>\n",
       "      <td>-0.386326</td>\n",
       "      <td>-0.555044</td>\n",
       "      <td>1.000000</td>\n",
       "    </tr>\n",
       "  </tbody>\n",
       "</table>\n",
       "<p>46 rows × 46 columns</p>\n",
       "</div>"
      ],
      "text/plain": [
       "                        age  education   default   balance   housing  \\\n",
       "age                1.000000  -0.191124 -0.009929  0.115164 -0.164196   \n",
       "education         -0.191124   1.000000 -0.015692  0.043251 -0.094350   \n",
       "default           -0.009929  -0.015692  1.000000 -0.110928  0.009551   \n",
       "balance            0.115164   0.043251 -0.110928  1.000000 -0.094919   \n",
       "housing           -0.164196  -0.094350  0.009551 -0.094919  1.000000   \n",
       "loan              -0.026357  -0.052566  0.074786 -0.113089  0.072252   \n",
       "day                0.000396   0.008989  0.018724 -0.009987 -0.022644   \n",
       "duration          -0.006007  -0.016869 -0.008162  0.025781  0.038492   \n",
       "campaign          -0.001143  -0.012280  0.033404 -0.042689  0.006257   \n",
       "pdays              0.006107   0.024123 -0.037323  0.045155  0.064138   \n",
       "previous           0.025383   0.025368 -0.036605  0.060419 -0.000221   \n",
       "deposit            0.024357   0.098253 -0.038872  0.135893 -0.200290   \n",
       "age_group         -0.008359  -0.057120  0.001258  0.019336 -0.139389   \n",
       "job_admin.        -0.057502  -0.055817 -0.022421 -0.028057  0.063547   \n",
       "job_blue-collar   -0.065917  -0.371796  0.022989 -0.049484  0.194115   \n",
       "job_entrepreneur   0.028390   0.024219  0.023264 -0.008727  0.006600   \n",
       "job_housemaid      0.092661  -0.144242  0.019273  0.000907 -0.063824   \n",
       "job_management    -0.036163   0.518735 -0.000055  0.039205 -0.077697   \n",
       "job_retired        0.545524  -0.148800 -0.018524  0.091421 -0.168785   \n",
       "job_self-employed -0.027947   0.091001  0.008924  0.009889 -0.019555   \n",
       "job_services      -0.077266  -0.103846 -0.020168 -0.037633  0.080129   \n",
       "job_student       -0.231436  -0.009494 -0.019190  0.007133 -0.124261   \n",
       "job_technician    -0.074596   0.047966  0.004419 -0.010460  0.004772   \n",
       "job_unemployed     0.001263  -0.031813  0.011120  0.009689 -0.059712   \n",
       "marital_divorced   0.185312  -0.033425  0.021028 -0.030406  0.009686   \n",
       "marital_married    0.316681  -0.133514 -0.007670  0.032056  0.036857   \n",
       "marital_single    -0.464737   0.165140 -0.006322 -0.013176 -0.045904   \n",
       "contact_cellular  -0.074062   0.172697 -0.028878  0.030039 -0.186832   \n",
       "contact_telephone  0.194455  -0.080767 -0.021596  0.061140 -0.084942   \n",
       "contact_unknown   -0.036224  -0.140256  0.044621 -0.069737  0.255649   \n",
       "month_apr         -0.026208   0.015456 -0.018812  0.050392  0.031485   \n",
       "month_aug          0.060980   0.102218 -0.003966 -0.008252 -0.235772   \n",
       "month_dec          0.031151   0.004171 -0.012456  0.027092 -0.059625   \n",
       "month_feb          0.014729   0.036743 -0.020260  0.010160 -0.079198   \n",
       "month_jan          0.017477  -0.002330  0.003382 -0.011331 -0.090039   \n",
       "month_jul         -0.003662  -0.049832  0.048653 -0.086824 -0.029806   \n",
       "month_jun          0.009769  -0.036503  0.019626  0.039753 -0.073133   \n",
       "month_mar          0.024785   0.052196 -0.020028  0.043832 -0.075948   \n",
       "month_may         -0.119656  -0.104157 -0.001761 -0.098073  0.432605   \n",
       "month_nov          0.026875   0.028704  0.000544  0.081861 -0.000219   \n",
       "month_oct          0.056998   0.027617 -0.023931  0.057041 -0.092026   \n",
       "month_sep          0.036352   0.030846 -0.016977  0.047841 -0.086893   \n",
       "poutcome_failure   0.001994   0.019845 -0.025450  0.031040  0.085167   \n",
       "poutcome_other    -0.020942   0.015103 -0.017923  0.028111  0.009830   \n",
       "poutcome_success   0.060009   0.070489 -0.041510  0.073358 -0.134477   \n",
       "poutcome_unknown  -0.031455  -0.069069  0.055032 -0.085456  0.024082   \n",
       "\n",
       "                       loan       day  duration  campaign     pdays  ...  \\\n",
       "age               -0.026357  0.000396 -0.006007 -0.001143  0.006107  ...   \n",
       "education         -0.052566  0.008989 -0.016869 -0.012280  0.024123  ...   \n",
       "default            0.074786  0.018724 -0.008162  0.033404 -0.037323  ...   \n",
       "balance           -0.113089 -0.009987  0.025781 -0.042689  0.045155  ...   \n",
       "housing            0.072252 -0.022644  0.038492  0.006257  0.064138  ...   \n",
       "loan               1.000000  0.019136  0.001476  0.033889 -0.030788  ...   \n",
       "day                0.019136  1.000000 -0.016695  0.142169 -0.078757  ...   \n",
       "duration           0.001476 -0.016695  1.000000 -0.042576 -0.033053  ...   \n",
       "campaign           0.033889  0.142169 -0.042576  1.000000 -0.105214  ...   \n",
       "pdays             -0.030788 -0.078757 -0.033053 -0.105214  1.000000  ...   \n",
       "previous          -0.020087 -0.059739 -0.034233 -0.052312  0.513708  ...   \n",
       "deposit           -0.107240 -0.056878  0.457818 -0.130707  0.147917  ...   \n",
       "age_group         -0.028942  0.003868  0.004618 -0.048313 -0.014888  ...   \n",
       "job_admin.         0.049098 -0.010680 -0.023585 -0.018834  0.046293  ...   \n",
       "job_blue-collar    0.056857 -0.019876  0.032253  0.002430 -0.024269  ...   \n",
       "job_entrepreneur   0.038298 -0.005463  0.000594  0.011168 -0.026802  ...   \n",
       "job_housemaid     -0.028973  0.010920 -0.010009  0.008832 -0.023625  ...   \n",
       "job_management    -0.052683  0.003025 -0.024309  0.018159  0.010868  ...   \n",
       "job_retired       -0.045674 -0.005226  0.006052 -0.037189  0.007287  ...   \n",
       "job_self-employed  0.004113  0.001565  0.014513  0.006299 -0.012057  ...   \n",
       "job_services       0.032109  0.002787  0.013911  0.009145 -0.002427  ...   \n",
       "job_student       -0.071385 -0.010712 -0.017974 -0.023710  0.025137  ...   \n",
       "job_technician     0.009501  0.031050 -0.007488  0.022406 -0.017993  ...   \n",
       "job_unemployed    -0.039883 -0.001380  0.027641 -0.023728  0.005833  ...   \n",
       "marital_divorced   0.028408  0.003626  0.023425 -0.009653 -0.013343  ...   \n",
       "marital_married    0.044692  0.001760 -0.037747  0.055415 -0.020003  ...   \n",
       "marital_single    -0.067140 -0.004371  0.024042 -0.052335  0.030483  ...   \n",
       "contact_cellular   0.000653 -0.006511  0.022006 -0.068573  0.208006  ...   \n",
       "contact_telephone -0.016394  0.013647 -0.022244  0.056650  0.004120  ...   \n",
       "contact_unknown    0.009172 -0.001105 -0.010665  0.040870 -0.230080  ...   \n",
       "month_apr         -0.040164  0.110547  0.027398 -0.075791  0.080709  ...   \n",
       "month_aug         -0.064208 -0.001758 -0.024372  0.149425 -0.066859  ...   \n",
       "month_dec         -0.029521 -0.011651  0.007100 -0.014967  0.045581  ...   \n",
       "month_feb         -0.012067 -0.236222 -0.025231 -0.039026  0.054450  ...   \n",
       "month_jan          0.003325  0.225136 -0.010272 -0.053519  0.015399  ...   \n",
       "month_jul          0.163249  0.130897  0.056203  0.118163 -0.108347  ...   \n",
       "month_jun         -0.014897 -0.182032 -0.003061  0.046763 -0.093551  ...   \n",
       "month_mar         -0.041105 -0.044303 -0.034640 -0.030574  0.024192  ...   \n",
       "month_may          0.002778 -0.014580  0.007983 -0.044348  0.028678  ...   \n",
       "month_nov          0.017720  0.056471 -0.015655 -0.077307 -0.007350  ...   \n",
       "month_oct         -0.032357  0.072179 -0.012541 -0.071519  0.079833  ...   \n",
       "month_sep         -0.046196 -0.068744 -0.012077 -0.048672  0.110907  ...   \n",
       "poutcome_failure   0.007458 -0.071175 -0.039476 -0.082282  0.608719  ...   \n",
       "poutcome_other    -0.019289 -0.008806 -0.009497 -0.024854  0.338049  ...   \n",
       "poutcome_success  -0.082098 -0.044366 -0.025971 -0.094260  0.326215  ...   \n",
       "poutcome_unknown   0.059235  0.085442  0.050571  0.134842 -0.824031  ...   \n",
       "\n",
       "                   month_jun  month_mar  month_may  month_nov  month_oct  \\\n",
       "age                 0.009769   0.024785  -0.119656   0.026875   0.056998   \n",
       "education          -0.036503   0.052196  -0.104157   0.028704   0.027617   \n",
       "default             0.019626  -0.020028  -0.001761   0.000544  -0.023931   \n",
       "balance             0.039753   0.043832  -0.098073   0.081861   0.057041   \n",
       "housing            -0.073133  -0.075948   0.432605  -0.000219  -0.092026   \n",
       "loan               -0.014897  -0.041105   0.002778   0.017720  -0.032357   \n",
       "day                -0.182032  -0.044303  -0.014580   0.056471   0.072179   \n",
       "duration           -0.003061  -0.034640   0.007983  -0.015655  -0.012541   \n",
       "campaign            0.046763  -0.030574  -0.044348  -0.077307  -0.071519   \n",
       "pdays              -0.093551   0.024192   0.028678  -0.007350   0.079833   \n",
       "previous           -0.050067   0.025225  -0.025077   0.019722   0.055077   \n",
       "deposit            -0.008533   0.135348  -0.168203  -0.027754   0.130599   \n",
       "age_group           0.002175   0.049329  -0.039955  -0.052553   0.063648   \n",
       "job_admin.         -0.001089   0.003533   0.027696  -0.008095   0.006208   \n",
       "job_blue-collar     0.032766  -0.055255   0.170969  -0.025624  -0.051792   \n",
       "job_entrepreneur    0.026586  -0.019403  -0.018227   0.045535  -0.019363   \n",
       "job_housemaid       0.049777   0.004569  -0.053982  -0.005830   0.012923   \n",
       "job_management     -0.026360   0.036884  -0.095434   0.030269   0.010856   \n",
       "job_retired        -0.010806   0.046085  -0.090053  -0.016737   0.071483   \n",
       "job_self-employed   0.004955   0.002135  -0.017982   0.026810   0.009364   \n",
       "job_services        0.012644  -0.012503   0.066271  -0.019849  -0.031120   \n",
       "job_student        -0.017265   0.023515  -0.032509  -0.004541   0.031885   \n",
       "job_technician     -0.030950  -0.016709  -0.009936  -0.008488  -0.003454   \n",
       "job_unemployed     -0.004043   0.004451  -0.036727   0.009096  -0.003121   \n",
       "marital_divorced    0.013260   0.004882   0.009281   0.011729  -0.001757   \n",
       "marital_married     0.002957  -0.030392  -0.031935   0.033558  -0.013898   \n",
       "marital_single     -0.012282   0.028986   0.027599  -0.043800   0.016004   \n",
       "contact_cellular   -0.319383   0.064403  -0.337438   0.108127   0.032717   \n",
       "contact_telephone  -0.064427   0.006604  -0.076916   0.029959   0.069496   \n",
       "contact_unknown     0.388312  -0.074450   0.415598  -0.136376  -0.077706   \n",
       "month_apr          -0.104766  -0.046360  -0.176848  -0.086518  -0.055393   \n",
       "month_aug          -0.139574  -0.061763  -0.235606  -0.115263  -0.073798   \n",
       "month_dec          -0.033754  -0.014936  -0.056977  -0.027874  -0.017847   \n",
       "month_feb          -0.096203  -0.042571  -0.162394  -0.079446  -0.050866   \n",
       "month_jan          -0.063231  -0.027980  -0.106736  -0.052217  -0.033432   \n",
       "month_jul          -0.141495  -0.062613  -0.238848  -0.116849  -0.074813   \n",
       "month_jun           1.000000  -0.054275  -0.207042  -0.101289  -0.064851   \n",
       "month_mar          -0.054275   1.000000  -0.091618  -0.044821  -0.028697   \n",
       "month_may          -0.207042  -0.091618   1.000000  -0.170979  -0.109470   \n",
       "month_nov          -0.101289  -0.044821  -0.170979   1.000000  -0.053555   \n",
       "month_oct          -0.064851  -0.028697  -0.109470  -0.053555   1.000000   \n",
       "month_sep          -0.058905  -0.026066  -0.099433  -0.048645  -0.031145   \n",
       "poutcome_failure   -0.074250  -0.000021   0.034538   0.063342   0.044624   \n",
       "poutcome_other     -0.036578   0.026776  -0.012275   0.005001   0.010524   \n",
       "poutcome_success   -0.020967   0.044550  -0.099107   0.015353   0.111386   \n",
       "poutcome_unknown    0.085584  -0.043056   0.047688  -0.058439  -0.112154   \n",
       "\n",
       "                   month_sep  poutcome_failure  poutcome_other  \\\n",
       "age                 0.036352          0.001994       -0.020942   \n",
       "education           0.030846          0.019845        0.015103   \n",
       "default            -0.016977         -0.025450       -0.017923   \n",
       "balance             0.047841          0.031040        0.028111   \n",
       "housing            -0.086893          0.085167        0.009830   \n",
       "loan               -0.046196          0.007458       -0.019289   \n",
       "day                -0.068744         -0.071175       -0.008806   \n",
       "duration           -0.012077         -0.039476       -0.009497   \n",
       "campaign           -0.048672         -0.082282       -0.024854   \n",
       "pdays               0.110907          0.608719        0.338049   \n",
       "previous            0.099795          0.347800        0.318888   \n",
       "deposit             0.125239          0.021124        0.039319   \n",
       "age_group           0.045263         -0.047184        0.011126   \n",
       "job_admin.          0.006847          0.038762        0.008044   \n",
       "job_blue-collar    -0.045333         -0.015957        0.003622   \n",
       "job_entrepreneur   -0.008032          0.002007       -0.022674   \n",
       "job_housemaid      -0.007499         -0.015545       -0.008928   \n",
       "job_management      0.037880          0.004471        0.010845   \n",
       "job_retired         0.062945         -0.011205       -0.002926   \n",
       "job_self-employed  -0.019143         -0.009059        0.004926   \n",
       "job_services       -0.023491         -0.003684       -0.015454   \n",
       "job_student         0.027500         -0.006769        0.040725   \n",
       "job_technician     -0.024729          0.005355       -0.011311   \n",
       "job_unemployed      0.002940         -0.009655       -0.012524   \n",
       "marital_divorced   -0.010148         -0.024844       -0.008730   \n",
       "marital_married    -0.019805          0.011364       -0.030038   \n",
       "marital_single      0.028071          0.005018        0.037987   \n",
       "contact_cellular    0.053452          0.166336        0.091506   \n",
       "contact_telephone   0.024017         -0.005817        0.014167   \n",
       "contact_unknown    -0.072969         -0.178493       -0.108666   \n",
       "month_apr          -0.050315          0.067926        0.041458   \n",
       "month_aug          -0.067031         -0.062600       -0.040444   \n",
       "month_dec          -0.016210          0.002631        0.036861   \n",
       "month_feb          -0.046202          0.060970        0.038671   \n",
       "month_jan          -0.030367          0.007226        0.055332   \n",
       "month_jul          -0.067954         -0.103570       -0.055530   \n",
       "month_jun          -0.058905         -0.074250       -0.036578   \n",
       "month_mar          -0.026066         -0.000021        0.026776   \n",
       "month_may          -0.099433          0.034538       -0.012275   \n",
       "month_nov          -0.048645          0.063342        0.005001   \n",
       "month_oct          -0.031145          0.044624        0.010524   \n",
       "month_sep           1.000000          0.029983        0.050486   \n",
       "poutcome_failure    0.029983          1.000000       -0.078494   \n",
       "poutcome_other      0.050486         -0.078494        1.000000   \n",
       "poutcome_success    0.135072         -0.112774       -0.071806   \n",
       "poutcome_unknown   -0.137132         -0.606736       -0.386326   \n",
       "\n",
       "                   poutcome_success  poutcome_unknown  \n",
       "age                        0.060009         -0.031455  \n",
       "education                  0.070489         -0.069069  \n",
       "default                   -0.041510          0.055032  \n",
       "balance                    0.073358         -0.085456  \n",
       "housing                   -0.134477          0.024082  \n",
       "loan                      -0.082098          0.059235  \n",
       "day                       -0.044366          0.085442  \n",
       "duration                  -0.025971          0.050571  \n",
       "campaign                  -0.094260          0.134842  \n",
       "pdays                      0.326215         -0.824031  \n",
       "previous                   0.328978         -0.628346  \n",
       "deposit                    0.288491         -0.228300  \n",
       "age_group                  0.064523         -0.014778  \n",
       "job_admin.                 0.004628         -0.035007  \n",
       "job_blue-collar           -0.074494          0.059758  \n",
       "job_entrepreneur          -0.034155          0.032629  \n",
       "job_housemaid             -0.005594          0.019350  \n",
       "job_management             0.035995         -0.032725  \n",
       "job_retired                0.070006         -0.037501  \n",
       "job_self-employed         -0.000882          0.004705  \n",
       "job_services              -0.028109          0.029125  \n",
       "job_student                0.060619         -0.055835  \n",
       "job_technician            -0.018613          0.014196  \n",
       "job_unemployed             0.030416         -0.007316  \n",
       "marital_divorced          -0.020206          0.035771  \n",
       "marital_married           -0.008541          0.012296  \n",
       "marital_single             0.023010         -0.037729  \n",
       "contact_cellular           0.148420         -0.264559  \n",
       "contact_telephone          0.000254         -0.002934  \n",
       "contact_unknown           -0.162550          0.291242  \n",
       "month_apr                 -0.000767         -0.068823  \n",
       "month_aug                  0.007390          0.060037  \n",
       "month_dec                  0.068706         -0.066145  \n",
       "month_feb                  0.035524         -0.086813  \n",
       "month_jan                  0.013933         -0.041744  \n",
       "month_jul                 -0.067140          0.147044  \n",
       "month_jun                 -0.020967          0.085584  \n",
       "month_mar                  0.044550         -0.043056  \n",
       "month_may                 -0.099107          0.047688  \n",
       "month_nov                  0.015353         -0.058439  \n",
       "month_oct                  0.111386         -0.112154  \n",
       "month_sep                  0.135072         -0.137132  \n",
       "poutcome_failure          -0.112774         -0.606736  \n",
       "poutcome_other            -0.071806         -0.386326  \n",
       "poutcome_success           1.000000         -0.555044  \n",
       "poutcome_unknown          -0.555044          1.000000  \n",
       "\n",
       "[46 rows x 46 columns]"
      ]
     },
     "execution_count": 630,
     "metadata": {},
     "output_type": "execute_result"
    }
   ],
   "source": [
    "# выводим матрицу корреляции\n",
    "df_encod.corr()"
   ]
  },
  {
   "cell_type": "code",
   "execution_count": 631,
   "id": "6f78cf9a",
   "metadata": {},
   "outputs": [
    {
     "data": {
      "text/plain": [
       "Text(0.5, 1.0, 'Матрица первичной корреляции')"
      ]
     },
     "execution_count": 631,
     "metadata": {},
     "output_type": "execute_result"
    },
    {
     "data": {
      "image/png": "[encoded data removed]",
      "text/plain": [
       "<Figure size 1700x1000 with 2 Axes>"
      ]
     },
     "metadata": {},
     "output_type": "display_data"
    }
   ],
   "source": [
    "# выводим график - heatmap c оценкой первичной кореляции числовых признаков\n",
    "fig, axes = plt.subplots(ncols=1, nrows=1, figsize=(17,10))\n",
    "sns.heatmap(data=df_encod.corr(method='spearman'), annot=False, cmap='Spectral')\n",
    "plt.title('Матрица первичной корреляции')"
   ]
  },
  {
   "cell_type": "code",
   "execution_count": 632,
   "id": "a8d7556e",
   "metadata": {},
   "outputs": [],
   "source": [
    "# описываем функцию вывода признаков с высокой кореляцией\n",
    "def get_high_correlation(df, threshold=0.7):\n",
    "    corr = df.corr().abs()\n",
    "    high_corr = (corr[(corr > threshold) & (corr != 1)]\n",
    "                      .stack()\n",
    "                      .reset_index()\n",
    "                      .rename(columns={0: 'correlation', 'level_0': 'feature_1', 'level_1': 'feature_2'}))\n",
    "    high_corr = high_corr[high_corr['feature_1'] != high_corr['feature_2']].sort_values(by='correlation', ascending=False)\n",
    "                      \n",
    "    return high_corr"
   ]
  },
  {
   "cell_type": "code",
   "execution_count": 633,
   "id": "33b2bbf7",
   "metadata": {},
   "outputs": [
    {
     "data": {
      "text/html": [
       "<div>\n",
       "<style scoped>\n",
       "    .dataframe tbody tr th:only-of-type {\n",
       "        vertical-align: middle;\n",
       "    }\n",
       "\n",
       "    .dataframe tbody tr th {\n",
       "        vertical-align: top;\n",
       "    }\n",
       "\n",
       "    .dataframe thead th {\n",
       "        text-align: right;\n",
       "    }\n",
       "</style>\n",
       "<table border=\"1\" class=\"dataframe\">\n",
       "  <thead>\n",
       "    <tr style=\"text-align: right;\">\n",
       "      <th></th>\n",
       "      <th>feature_1</th>\n",
       "      <th>feature_2</th>\n",
       "      <th>correlation</th>\n",
       "    </tr>\n",
       "  </thead>\n",
       "  <tbody>\n",
       "    <tr>\n",
       "      <th>3</th>\n",
       "      <td>contact_cellular</td>\n",
       "      <td>contact_unknown</td>\n",
       "      <td>0.837885</td>\n",
       "    </tr>\n",
       "    <tr>\n",
       "      <th>4</th>\n",
       "      <td>contact_unknown</td>\n",
       "      <td>contact_cellular</td>\n",
       "      <td>0.837885</td>\n",
       "    </tr>\n",
       "    <tr>\n",
       "      <th>0</th>\n",
       "      <td>pdays</td>\n",
       "      <td>poutcome_unknown</td>\n",
       "      <td>0.824031</td>\n",
       "    </tr>\n",
       "    <tr>\n",
       "      <th>5</th>\n",
       "      <td>poutcome_unknown</td>\n",
       "      <td>pdays</td>\n",
       "      <td>0.824031</td>\n",
       "    </tr>\n",
       "    <tr>\n",
       "      <th>1</th>\n",
       "      <td>marital_married</td>\n",
       "      <td>marital_single</td>\n",
       "      <td>0.779038</td>\n",
       "    </tr>\n",
       "    <tr>\n",
       "      <th>2</th>\n",
       "      <td>marital_single</td>\n",
       "      <td>marital_married</td>\n",
       "      <td>0.779038</td>\n",
       "    </tr>\n",
       "  </tbody>\n",
       "</table>\n",
       "</div>"
      ],
      "text/plain": [
       "          feature_1         feature_2  correlation\n",
       "3  contact_cellular   contact_unknown     0.837885\n",
       "4   contact_unknown  contact_cellular     0.837885\n",
       "0             pdays  poutcome_unknown     0.824031\n",
       "5  poutcome_unknown             pdays     0.824031\n",
       "1   marital_married    marital_single     0.779038\n",
       "2    marital_single   marital_married     0.779038"
      ]
     },
     "metadata": {},
     "output_type": "display_data"
    }
   ],
   "source": [
    "# выводим данные о степени кореляции признаков со значением 0.7 и более\n",
    "high_corr = get_high_correlation(df_encod)\n",
    "display(high_corr)"
   ]
  },
  {
   "cell_type": "markdown",
   "id": "c2f0a9b0",
   "metadata": {},
   "source": [
    "### Определяем целевую переменную и матрицу наблюдений, а также разделяем выборку на обучающую и тестовую (при разбиении задаем random_state = 42, размер тестовой выборки - 0.33, сохраняем соотношений целевого признака)."
   ]
  },
  {
   "cell_type": "code",
   "execution_count": 572,
   "id": "ac09a494",
   "metadata": {},
   "outputs": [],
   "source": [
    "# формируем матрицу наблюдений и вектор правильных ответов\n",
    "X = df_encod.drop(['deposit'], axis=1)\n",
    "y = df_encod['deposit']\n",
    "# производим деление выборки на train и test \n",
    "X_train, X_test, y_train, y_test = train_test_split(X, y, stratify=y, random_state = RANDOM_SEED, test_size = 0.33)"
   ]
  },
  {
   "cell_type": "code",
   "execution_count": 573,
   "id": "66f7c5cc",
   "metadata": {},
   "outputs": [
    {
     "name": "stdout",
     "output_type": "stream",
     "text": [
      "['balance' 'housing' 'duration' 'campaign' 'pdays' 'previous' 'age_group'\n",
      " 'contact_cellular' 'contact_unknown' 'month_mar' 'month_may' 'month_oct'\n",
      " 'month_sep' 'poutcome_success' 'poutcome_unknown']\n"
     ]
    }
   ],
   "source": [
    "# с помощью SelectKBest проводим отбор 15 наиболее важных признаков\n",
    "select = SelectKBest(f_classif, k=15)\n",
    "select.fit(X_train, y_train)\n",
    "features_select = select.get_feature_names_out()\n",
    "# выводим список наиболее важных признаков\n",
    "print(features_select)"
   ]
  },
  {
   "cell_type": "code",
   "execution_count": 620,
   "id": "7c0c9e7c",
   "metadata": {},
   "outputs": [],
   "source": [
    "# формируем матрицы наблюдений train и test с учетом признаков отобранных SelektKBest\n",
    "X_train = X_train[features_select]\n",
    "X_test = X_test[features_select]\n",
    "# нормализуйте данные с помощью minmaxsxaler\n",
    "mm_scaler = preprocessing.MinMaxScaler()\n",
    "mm_scaler.fit(X_train)\n",
    "X_train_scaled = mm_scaler.transform(X_train)\n",
    "X_test_scaled = mm_scaler.transform(X_test)"
   ]
  },
  {
   "cell_type": "markdown",
   "id": "90ff0a0d",
   "metadata": {},
   "source": [
    "### Задание 4.1"
   ]
  },
  {
   "cell_type": "code",
   "execution_count": 621,
   "id": "f70ff212",
   "metadata": {},
   "outputs": [
    {
     "name": "stdout",
     "output_type": "stream",
     "text": [
      "Сумма значений признака после преобразования = 11995.\n"
     ]
    }
   ],
   "source": [
    "# найдите сумму получившихся значений для признака education.\n",
    "print('Сумма значений признака после преобразования = {}.'.format(df_encod['education'].sum()))"
   ]
  },
  {
   "cell_type": "markdown",
   "id": "8c93e73d",
   "metadata": {},
   "source": [
    "### Задания 4.2"
   ]
  },
  {
   "cell_type": "code",
   "execution_count": 622,
   "id": "8ed783c9",
   "metadata": {},
   "outputs": [
    {
     "name": "stdout",
     "output_type": "stream",
     "text": [
      "Стандартное отклонение признака deposit составляет: 0.499\n"
     ]
    }
   ],
   "source": [
    "# dычислите стандартное отклонение по преобразованной в корректный вид целевой переменной deposit. Ответ округлите до трёх знаков после точки-разделителя.\n",
    "import statistics\n",
    "stdev_deposit = statistics.stdev(df_encod['deposit'])\n",
    "print(f'Стандартное отклонение признака deposit составляет: {round(stdev_deposit, 3)}')"
   ]
  },
  {
   "cell_type": "markdown",
   "id": "8bd14de4",
   "metadata": {},
   "source": [
    "### Задание 4.3"
   ]
  },
  {
   "cell_type": "code",
   "execution_count": 623,
   "id": "fd75518f",
   "metadata": {},
   "outputs": [
    {
     "name": "stdout",
     "output_type": "stream",
     "text": [
      "Сумма средних арефмитических по категориям default, housing, loan = 0.635\n"
     ]
    }
   ],
   "source": [
    "# вычислите среднее арифметическое для каждой из получившихся переменных, сложите три результата и в качестве ответа впишите итог, округлив его до трёх знаков после точки-разделителя.\n",
    "avg_default = df_encod['default'].sum() / len(df_encod['default'])\n",
    "avg_housing = df_encod['housing'].sum() / len(df_encod['housing'])\n",
    "avg_loan = df_encod['loan'].sum() / len(df_encod['loan'])\n",
    "print(f'Сумма средних арефмитических по категориям default, housing, loan = {round((avg_default+avg_housing+avg_loan), 3)}')"
   ]
  },
  {
   "cell_type": "markdown",
   "id": "c40dc02a",
   "metadata": {},
   "source": [
    "### Задание 4.4"
   ]
  },
  {
   "cell_type": "markdown",
   "id": "7eb21cf8",
   "metadata": {},
   "source": [
    "Так как функция get_dammies() производит удаление преобразуемых признаков, проведем кодировку с помощью OneHotEncoder библиотеки category_encoders "
   ]
  },
  {
   "cell_type": "code",
   "execution_count": 624,
   "id": "37349801",
   "metadata": {},
   "outputs": [
    {
     "data": {
      "text/plain": [
       "'После кодирования общее количество признаков без учета целевой переменной составляет: 50.'"
      ]
     },
     "metadata": {},
     "output_type": "display_data"
    }
   ],
   "source": [
    "# cколько всего признаков в датасете, не считая целевую переменную? Введите ответ, посчитав уже добавленные dummy-переменные, но до удаления номинальных.\n",
    "encoder = OneHotEncoder(cols=(['job', 'marital', 'contact', 'month', 'poutcome']))\n",
    "type_bin = encoder.fit_transform(df_cleen[['job', 'marital', 'contact', 'month', 'poutcome']])\n",
    "df_cat_encoder = pd.concat([df_cleen, type_bin], axis=1)\n",
    "display(f'После кодирования общее количество признаков без учета целевой переменной составляет: {df_cat_encoder.shape[1] - 1}.')"
   ]
  },
  {
   "cell_type": "markdown",
   "id": "9a23e318",
   "metadata": {},
   "source": [
    "### Задания 4.5"
   ]
  },
  {
   "cell_type": "code",
   "execution_count": 584,
   "id": "a72069b2",
   "metadata": {},
   "outputs": [
    {
     "name": "stdout",
     "output_type": "stream",
     "text": [
      "Корреляция между deposit и poutcome_success составляет: 0.288.\n",
      "Корреляция между deposit и duration составляет: 0.458.\n",
      "Корреляция между deposit и contact_cellular составляет: 0.224.\n"
     ]
    }
   ],
   "source": [
    "# расставьте признаки, в наибольшей степени коррелирующие с целевой переменной, по убыванию силы линейной взаимосвязи.\n",
    "corr_1 = df_encod['deposit'].corr(df_encod['poutcome_success'])\n",
    "print(f'Корреляция между deposit и poutcome_success составляет: {corr_1.round(3)}.')\n",
    "corr_2 = df_encod['deposit'].corr(df_encod['duration'])\n",
    "print(f'Корреляция между deposit и duration составляет: {corr_2.round(3)}.')\n",
    "corr_3 = df_encod['deposit'].corr(df_encod['contact_cellular'])\n",
    "print(f'Корреляция между deposit и contact_cellular составляет: {corr_3.round(3)}.')"
   ]
  },
  {
   "cell_type": "markdown",
   "id": "0240f5d3",
   "metadata": {},
   "source": [
    "### Задания 4.6"
   ]
  },
  {
   "cell_type": "code",
   "execution_count": 619,
   "id": "7d08ee80",
   "metadata": {},
   "outputs": [
    {
     "data": {
      "text/html": [
       "<div>\n",
       "<style scoped>\n",
       "    .dataframe tbody tr th:only-of-type {\n",
       "        vertical-align: middle;\n",
       "    }\n",
       "\n",
       "    .dataframe tbody tr th {\n",
       "        vertical-align: top;\n",
       "    }\n",
       "\n",
       "    .dataframe thead th {\n",
       "        text-align: right;\n",
       "    }\n",
       "</style>\n",
       "<table border=\"1\" class=\"dataframe\">\n",
       "  <thead>\n",
       "    <tr style=\"text-align: right;\">\n",
       "      <th></th>\n",
       "      <th>feature_1</th>\n",
       "      <th>feature_2</th>\n",
       "      <th>correlation</th>\n",
       "    </tr>\n",
       "  </thead>\n",
       "  <tbody>\n",
       "  </tbody>\n",
       "</table>\n",
       "</div>"
      ],
      "text/plain": [
       "Empty DataFrame\n",
       "Columns: [feature_1, feature_2, correlation]\n",
       "Index: []"
      ]
     },
     "metadata": {},
     "output_type": "display_data"
    }
   ],
   "source": [
    "# есть ли среди признаков мультиколлинеарность? Будем считать достаточно сильной корреляцию не менее 0.9.\n",
    "# выводим данные о степени кореляции признаков со значением более 0.9 и более\n",
    "high_corr = get_high_correlation(df_encod, threshold=0.9)\n",
    "display(high_corr)"
   ]
  },
  {
   "cell_type": "markdown",
   "id": "32bce604",
   "metadata": {},
   "source": [
    "### Задания 4.7"
   ]
  },
  {
   "cell_type": "code",
   "execution_count": 588,
   "id": "e3a097a4",
   "metadata": {},
   "outputs": [
    {
     "name": "stdout",
     "output_type": "stream",
     "text": [
      "Размер тестовой выборки (3335, 15)\n"
     ]
    }
   ],
   "source": [
    "# каким получился размер тестовой выборки?\n",
    "print(f'Размер тестовой выборки {X_test.shape}')"
   ]
  },
  {
   "cell_type": "markdown",
   "id": "abb40bc5",
   "metadata": {},
   "source": [
    "### Задания 4.8"
   ]
  },
  {
   "cell_type": "code",
   "execution_count": 593,
   "id": "c82d038a",
   "metadata": {},
   "outputs": [
    {
     "name": "stdout",
     "output_type": "stream",
     "text": [
      "Среднее значение целевой переменной на тестовой выборке составляет: 0.46.\n"
     ]
    }
   ],
   "source": [
    "# kаково среднее значение целевой переменной на тестовой выборке? Ответ округлите до двух знаков после точки-разделителя.\n",
    "deposit_avg_test = df_encod['deposit'].mean()\n",
    "print(f'Среднее значение целевой переменной на тестовой выборке составляет: {deposit_avg_test.round(2)}.')"
   ]
  },
  {
   "cell_type": "markdown",
   "id": "2e381a4f",
   "metadata": {},
   "source": [
    "### Задание 4.9"
   ]
  },
  {
   "cell_type": "code",
   "execution_count": 595,
   "id": "3e2e59aa",
   "metadata": {},
   "outputs": [
    {
     "name": "stdout",
     "output_type": "stream",
     "text": [
      "Перечень 15 признаков отобранных SelectKBest: ['balance' 'housing' 'duration' 'campaign' 'pdays' 'previous' 'age_group'\n",
      " 'contact_cellular' 'contact_unknown' 'month_mar' 'month_may' 'month_oct'\n",
      " 'month_sep' 'poutcome_success' 'poutcome_unknown'].\n",
      "\n",
      "В данный перечень не входит признак - month_jan.\n"
     ]
    }
   ],
   "source": [
    "# укажите одну переменную, не попавшую в данный перечень:\n",
    "print(f'Перечень 15 признаков отобранных SelectKBest: {features_select}.')\n",
    "print()\n",
    "print('В данный перечень не входит признак - month_jan.')"
   ]
  },
  {
   "cell_type": "markdown",
   "id": "60132ef3",
   "metadata": {},
   "source": [
    "### Задание 4.10"
   ]
  },
  {
   "cell_type": "code",
   "execution_count": 596,
   "id": "3def9658",
   "metadata": {},
   "outputs": [
    {
     "name": "stdout",
     "output_type": "stream",
     "text": [
      "Среднее арифметическое первого предикта из тестовой выборки после преобразования и отбора наиболее важных 15 признаков составляет: 0.47.\n"
     ]
    }
   ],
   "source": [
    "# рассчитайте среднее арифметическое для первого предиктора (т. е. для первого столбца матрицы) из тестовой выборки. Ответ округлите до двух знаков после точки-разделителя.\n",
    "avg_first_predict = X_test_scaled[:, 0].mean().round(2)\n",
    "print(f'Среднее арифметическое первого предикта из тестовой выборки после преобразования и отбора наиболее важных 15 признаков составляет: {avg_first_predict}.')"
   ]
  },
  {
   "cell_type": "markdown",
   "id": "d986ad00",
   "metadata": {},
   "source": [
    "# 5. Model bulding (Моделирование)"
   ]
  },
  {
   "cell_type": "markdown",
   "id": "0894c632",
   "metadata": {},
   "source": [
    "## 5.1: Решение задачи классификации: логистическая регрессия и решающие деревья"
   ]
  },
  {
   "cell_type": "markdown",
   "id": "41b8ff06",
   "metadata": {},
   "source": [
    "### Задание 1"
   ]
  },
  {
   "cell_type": "code",
   "execution_count": 641,
   "id": "8acc0166",
   "metadata": {},
   "outputs": [
    {
     "name": "stdout",
     "output_type": "stream",
     "text": [
      "train_dataset\n",
      "              precision    recall  f1-score   support\n",
      "\n",
      "           0       0.81      0.88      0.84      3634\n",
      "           1       0.84      0.76      0.80      3136\n",
      "\n",
      "    accuracy                           0.82      6770\n",
      "   macro avg       0.83      0.82      0.82      6770\n",
      "weighted avg       0.83      0.82      0.82      6770\n",
      "\n",
      "test_dataset\n",
      "              precision    recall  f1-score   support\n",
      "\n",
      "           0       0.79      0.87      0.83      1790\n",
      "           1       0.83      0.74      0.78      1545\n",
      "\n",
      "    accuracy                           0.81      3335\n",
      "   macro avg       0.81      0.80      0.81      3335\n",
      "weighted avg       0.81      0.81      0.81      3335\n",
      "\n"
     ]
    }
   ],
   "source": [
    "# обучите логистическую регрессию и рассчитайте метрики качества\n",
    "# cоздаем объект класса логистическая регрессия\n",
    "log_reg = LogisticRegression(\n",
    "    solver='sag', #алгоритм оптимизации\n",
    "    random_state=RANDOM_SEED, #генератор случайных чисел\n",
    "    max_iter=1000 #количество итераций на сходимость\n",
    ")\n",
    "# обучаем модель\n",
    "log_reg.fit(X_train_scaled, y_train)\n",
    "\n",
    "# делаем предсказание для тренировочной выборки\n",
    "y_train_pred = log_reg.predict(X_train_scaled)\n",
    "# выводим отчет о метриках классификации\n",
    "print('train_dataset')\n",
    "print(metrics.classification_report(y_train, y_train_pred))\n",
    "# делаем предсказание для тестовой выборки\n",
    "y_test_pred = log_reg.predict(X_test_scaled)\n",
    "# выводим отчет о метриках классификации\n",
    "print('test_dataset')\n",
    "print(metrics.classification_report(y_test, y_test_pred))"
   ]
  },
  {
   "cell_type": "markdown",
   "id": "29b7e0ba",
   "metadata": {},
   "source": [
    "### Задания 2,3,4"
   ]
  },
  {
   "cell_type": "code",
   "execution_count": 650,
   "id": "c91a588b",
   "metadata": {},
   "outputs": [
    {
     "name": "stdout",
     "output_type": "stream",
     "text": [
      "train_dataset\n",
      "              precision    recall  f1-score   support\n",
      "\n",
      "           0       0.86      0.79      0.82      3634\n",
      "           1       0.77      0.86      0.81      3136\n",
      "\n",
      "    accuracy                           0.82      6770\n",
      "   macro avg       0.82      0.82      0.82      6770\n",
      "weighted avg       0.82      0.82      0.82      6770\n",
      "\n",
      "test_dataset\n",
      "              precision    recall  f1-score   support\n",
      "\n",
      "           0       0.85      0.77      0.81      1790\n",
      "           1       0.76      0.84      0.80      1545\n",
      "\n",
      "    accuracy                           0.81      3335\n",
      "   macro avg       0.81      0.81      0.81      3335\n",
      "weighted avg       0.81      0.81      0.81      3335\n",
      "\n"
     ]
    }
   ],
   "source": [
    "# обучите решающие деревья, настройте максимальную глубину\n",
    "# инициируем и обучаем модель \"Дерево решений\" и выводим метрики:\n",
    "model_DecTreeClas = DecisionTreeClassifier(\n",
    "    criterion='entropy',\n",
    "    random_state=RANDOM_SEED,\n",
    "    max_depth=6\n",
    ")\n",
    "model_DecTreeClas.fit(X_train_scaled, y_train)\n",
    "\n",
    "# делаем предсказание для тренировочной выборки\n",
    "y_train_pred = model_DecTreeClas.predict(X_train_scaled)\n",
    "# выводим отчет о метриках классификации\n",
    "print('train_dataset')\n",
    "print(metrics.classification_report(y_train, y_train_pred))\n",
    "# делаем предсказание для тестовой выборки\n",
    "y_test_pred = model_DecTreeClas.predict(X_test_scaled)\n",
    "# вывод отчет о метриках классификации\n",
    "print('test_dataset')\n",
    "print(metrics.classification_report(y_test, y_test_pred))"
   ]
  },
  {
   "cell_type": "code",
   "execution_count": 653,
   "id": "8588a3ff",
   "metadata": {},
   "outputs": [
    {
     "name": "stdout",
     "output_type": "stream",
     "text": [
      "CPU times: user 71 ms, sys: 13 ms, total: 83.9 ms\n",
      "Wall time: 1.16 s\n",
      "f1_score на тренировочном наборе: 0.83\n",
      "f1_score на тестовом наборе: 0.80355\n",
      "Наилучшие значения гиперпараметров: {'max_depth': 7, 'min_samples_split': 7}\n"
     ]
    }
   ],
   "source": [
    "# формируем сетку гиперпараметров\n",
    "param_grid ={#'n_estimators': list(range(100, 500, 50)), # количество деревьев\n",
    "              'max_depth': [3, 5, 7], # максимальная глубина деревьев\n",
    "              'min_samples_split': [2, 5, 7, 10] # максимальное количество листьев\n",
    "               #'max_features': [0.01, 0.1, 0.3, 0.5, 0.7, 0.9, 1],\n",
    "               #'subsample': []}, # доля выборки при обучении каздого алгоритма дерева\n",
    "              }\n",
    "# cоздаем объект класса GridSearchCV                 \n",
    "grid_search = GridSearchCV(\n",
    "    estimator=DecisionTreeClassifier(criterion='entropy', random_state=RANDOM_SEED),\n",
    "    param_grid=param_grid, \n",
    "    cv=3,\n",
    "    scoring=('f1'),\n",
    "    return_train_score=True, \n",
    "    n_jobs = -1\n",
    ") \n",
    "# обучаем модель  \n",
    "%time grid_search.fit(X_train_scaled, y_train) \n",
    "# формируем предсказания целевой переменной\n",
    "y_train_pred = grid_search.predict(X_train_scaled)\n",
    "y_test_pred = grid_search.predict(X_test_scaled)\n",
    "print('f1_score на тренировочном наборе: {:.2f}'.format(metrics.f1_score(y_train, y_train_pred)))\n",
    "print('f1_score на тестовом наборе: {:.5f}'.format(metrics.f1_score(y_test, y_test_pred)))\n",
    "print(\"Наилучшие значения гиперпараметров: {}\".format(grid_search.best_params_))"
   ]
  },
  {
   "cell_type": "markdown",
   "id": "fe823c18",
   "metadata": {},
   "source": [
    "### Задание 5"
   ]
  },
  {
   "cell_type": "code",
   "execution_count": 282,
   "id": "63574943",
   "metadata": {},
   "outputs": [],
   "source": [
    "# подберите оптимальные параметры с помощью gridsearch"
   ]
  },
  {
   "cell_type": "markdown",
   "id": "ed0fc831",
   "metadata": {},
   "source": [
    "## 5.2: Решение задачи классификации: ансамбли моделей и построение прогноза"
   ]
  },
  {
   "cell_type": "markdown",
   "id": "f9e36ff2",
   "metadata": {},
   "source": [
    "### Задание 1"
   ]
  },
  {
   "cell_type": "code",
   "execution_count": 660,
   "id": "e708e3fe",
   "metadata": {},
   "outputs": [
    {
     "name": "stdout",
     "output_type": "stream",
     "text": [
      "train_dataset\n",
      "              precision    recall  f1-score   support\n",
      "\n",
      "           0       0.88      0.86      0.87      3634\n",
      "           1       0.84      0.86      0.85      3136\n",
      "\n",
      "    accuracy                           0.86      6770\n",
      "   macro avg       0.86      0.86      0.86      6770\n",
      "weighted avg       0.86      0.86      0.86      6770\n",
      "\n",
      "test_dataset\n",
      "              precision    recall  f1-score   support\n",
      "\n",
      "           0       0.85      0.82      0.84      1790\n",
      "           1       0.80      0.83      0.82      1545\n",
      "\n",
      "    accuracy                           0.83      3335\n",
      "   macro avg       0.83      0.83      0.83      3335\n",
      "weighted avg       0.83      0.83      0.83      3335\n",
      "\n"
     ]
    }
   ],
   "source": [
    "# обучите на ваших данных случайный лес\n",
    "# инициируем и обучаем модель \"Случайный лес\" и выводим метрики:\n",
    "model_RandForClas = RandomForestClassifier(\n",
    "    criterion='gini',\n",
    "    n_estimators=100,\n",
    "    max_depth=10,\n",
    "    min_samples_leaf=5,\n",
    "    random_state=RANDOM_SEED\n",
    ")\n",
    "model_RandForClas.fit(X_train_scaled, y_train)\n",
    "\n",
    "# делаем предсказание для тренировочной выборки\n",
    "y_train_pred = model_RandForClas.predict(X_train_scaled)\n",
    "# вывод отчет о метриках классификации\n",
    "print('train_dataset')\n",
    "print(metrics.classification_report(y_train, y_train_pred))\n",
    "# делаем предсказание для тестовой выборки\n",
    "y_test_pred = model_RandForClas.predict(X_test_scaled)\n",
    "# вывод отчет о метриках классификации\n",
    "print('test_dataset')\n",
    "print(metrics.classification_report(y_test, y_test_pred))"
   ]
  },
  {
   "cell_type": "markdown",
   "id": "71d7b13d",
   "metadata": {},
   "source": [
    "### Задания 2 и 3"
   ]
  },
  {
   "cell_type": "code",
   "execution_count": 661,
   "id": "99f12dfe",
   "metadata": {},
   "outputs": [
    {
     "name": "stdout",
     "output_type": "stream",
     "text": [
      "train_dataset\n",
      "              precision    recall  f1-score   support\n",
      "\n",
      "           0       0.90      0.89      0.89      3634\n",
      "           1       0.87      0.89      0.88      3136\n",
      "\n",
      "    accuracy                           0.89      6770\n",
      "   macro avg       0.89      0.89      0.89      6770\n",
      "weighted avg       0.89      0.89      0.89      6770\n",
      "\n",
      "test_dataset\n",
      "              precision    recall  f1-score   support\n",
      "\n",
      "           0       0.85      0.82      0.84      1790\n",
      "           1       0.80      0.83      0.82      1545\n",
      "\n",
      "    accuracy                           0.83      3335\n",
      "   macro avg       0.83      0.83      0.83      3335\n",
      "weighted avg       0.83      0.83      0.83      3335\n",
      "\n"
     ]
    }
   ],
   "source": [
    "# используйте для классификации градиентный бустинг и сравните качество со случайным лесом\n",
    "# инициируем и обучаем модель \"Градиентый бустинг\" и выводим метрики:\n",
    "model_GradBoosClas = GradientBoostingClassifier(\n",
    "    learning_rate=0.05,\n",
    "    n_estimators=300,\n",
    "    min_samples_leaf=5,\n",
    "    max_depth=5,\n",
    "    random_state=RANDOM_SEED\n",
    ")\n",
    "model_GradBoosClas.fit(X_train_scaled, y_train)\n",
    "\n",
    "# делаем предсказание для тренировочной выборки\n",
    "y_train_pred = model_GradBoosClas.predict(X_train_scaled)\n",
    "# вывод отчет о метриках классификации\n",
    "print('train_dataset')\n",
    "print(metrics.classification_report(y_train, y_train_pred))\n",
    "# делаем предсказание для тестовой выборки\n",
    "y_test_pred = model_GradBoosClas.predict(X_test_scaled)\n",
    "# вывод отчет о метриках классификации\n",
    "print('test_dataset')\n",
    "print(metrics.classification_report(y_test, y_test_pred))"
   ]
  },
  {
   "cell_type": "markdown",
   "id": "b08718ae",
   "metadata": {},
   "source": [
    "### Задание 4"
   ]
  },
  {
   "cell_type": "code",
   "execution_count": 664,
   "id": "0bd42fb0",
   "metadata": {},
   "outputs": [
    {
     "name": "stdout",
     "output_type": "stream",
     "text": [
      "train_dataset\n",
      "              precision    recall  f1-score   support\n",
      "\n",
      "           0       0.88      0.88      0.88      3634\n",
      "           1       0.86      0.86      0.86      3136\n",
      "\n",
      "    accuracy                           0.87      6770\n",
      "   macro avg       0.87      0.87      0.87      6770\n",
      "weighted avg       0.87      0.87      0.87      6770\n",
      "\n",
      "test_dataset\n",
      "              precision    recall  f1-score   support\n",
      "\n",
      "           0       0.84      0.84      0.84      1790\n",
      "           1       0.81      0.81      0.81      1545\n",
      "\n",
      "    accuracy                           0.82      3335\n",
      "   macro avg       0.82      0.82      0.82      3335\n",
      "weighted avg       0.82      0.82      0.82      3335\n",
      "\n"
     ]
    }
   ],
   "source": [
    "# объедините уже известные вам алгоритмы с помощью стекинга \n",
    "\n",
    "estimators = [\n",
    "    ('model_DecTreeClas', DecisionTreeClassifier(\n",
    "        criterion='entropy',\n",
    "        min_samples_leaf=5,\n",
    "        max_depth=6,\n",
    "        random_state=42\n",
    "        )\n",
    "    ),\n",
    "    ('log_reg', LogisticRegression(\n",
    "        solver='sag',\n",
    "        random_state=42 \n",
    "        )\n",
    "    ),\n",
    "    ('model_GradBoosClas', GradientBoostingClassifier(\n",
    "        learning_rate=0.05,\n",
    "        n_estimators=300,\n",
    "        min_samples_leaf=5,\n",
    "        max_depth=5,\n",
    "        random_state=42\n",
    "        )\n",
    "    )\n",
    "]\n",
    "\n",
    "stack = StackingClassifier(\n",
    "    estimators,\n",
    "    final_estimator=LogisticRegression(random_state=RANDOM_SEED)\n",
    ")\n",
    "stack.fit(X_train_scaled, y_train)\n",
    "\n",
    "# делаем предсказание для тренировочной выборки\n",
    "y_train_pred = stack.predict(X_train_scaled)\n",
    "# вывод отчет о метриках классификации\n",
    "print('train_dataset')\n",
    "print(metrics.classification_report(y_train, y_train_pred))\n",
    "# делаем предсказание для тестовой выборки\n",
    "y_test_pred = stack.predict(X_test_scaled)\n",
    "# вывод отчет о метриках классификации\n",
    "print('test_dataset')\n",
    "print(metrics.classification_report(y_test, y_test_pred))"
   ]
  },
  {
   "cell_type": "markdown",
   "id": "51479597",
   "metadata": {},
   "source": [
    "***NB! Правильный ответ - 0,82*** У меня 0.81"
   ]
  },
  {
   "cell_type": "markdown",
   "id": "6247a5fb",
   "metadata": {},
   "source": [
    "### Задание 5"
   ]
  },
  {
   "cell_type": "code",
   "execution_count": 665,
   "id": "35de769c",
   "metadata": {},
   "outputs": [
    {
     "name": "stdout",
     "output_type": "stream",
     "text": [
      "[0.05795212 0.04772538 0.50710587 0.01477693 0.05507909 0.00845623\n",
      " 0.03990225 0.00358823 0.07261403 0.02781861 0.01521407 0.01988016\n",
      " 0.01352999 0.11495825 0.00139878]\n"
     ]
    }
   ],
   "source": [
    "# оцените, какие признаки демонстрируют наибольшую  важность в модели градиентного бустинга\n",
    "feature_importan = model_GradBoosClas.feature_importances_\n",
    "print(feature_importan)"
   ]
  },
  {
   "cell_type": "code",
   "execution_count": 694,
   "id": "f95fa54e",
   "metadata": {},
   "outputs": [
    {
     "data": {
      "image/png": "[encoded data removed]",
      "text/plain": [
       "<Figure size 1400x700 with 1 Axes>"
      ]
     },
     "metadata": {},
     "output_type": "display_data"
    }
   ],
   "source": [
    "imporance = pd.Series(model_GradBoosClas.feature_importances_,\n",
    "                      df_encod[features_select].columns)\n",
    "fig, ax = plt.subplots(figsize=(14,7))\n",
    "imporance.plot.bar(ax=ax)\n",
    "ax.set_title(\"Важность признаков\")\n",
    "ax.set_xlabel('Признак')\n",
    "ax.set_ylabel('Важность')\n",
    "fig.tight_layout()"
   ]
  },
  {
   "cell_type": "markdown",
   "id": "96974dda",
   "metadata": {},
   "source": [
    "### Задания 6,7,8"
   ]
  },
  {
   "cell_type": "code",
   "execution_count": 709,
   "id": "c48e29e9",
   "metadata": {},
   "outputs": [],
   "source": [
    "# реализуйте оптимизацию гиперпараметров с помощью Optuna\n",
    "\n",
    "# описываем функцию для расчета объекта класса Optuna\n",
    "def optuna_rf(trial):\n",
    "  # задаем пространства поиска гиперпараметров\n",
    "  criterion = trial.suggest_categorical('criterion', ['gini', 'entropy', 'log_loss'])\n",
    "  n_estimators = trial.suggest_int('n_estimators', 100, 1000, 1)\n",
    "  max_depth = trial.suggest_int('max_depth', 10, 50, 1)\n",
    "  min_samples_leaf = trial.suggest_int('min_samples_leaf', 2, 20, 1)\n",
    "\n",
    "  # создаем модель\n",
    "  model = RandomForestClassifier(\n",
    "                                criterion=criterion,\n",
    "                                n_estimators=n_estimators,\n",
    "                                max_depth=max_depth,\n",
    "                                min_samples_leaf=min_samples_leaf,\n",
    "                                random_state=RANDOM_SEED)\n",
    "  # обучаем модель\n",
    "  model.fit(X_train_scaled, y_train)\n",
    "  score = metrics.f1_score(y_train, model.predict(X_train_scaled))\n",
    "\n",
    "  return score"
   ]
  },
  {
   "cell_type": "code",
   "execution_count": 710,
   "id": "57f2bba8",
   "metadata": {},
   "outputs": [
    {
     "name": "stderr",
     "output_type": "stream",
     "text": [
      "[I 2023-10-01 14:29:00,012] A new study created in memory with name: RandomForestClassifier\n",
      "[I 2023-10-01 14:29:04,367] Trial 0 finished with value: 0.8935373087730253 and parameters: {'criterion': 'gini', 'n_estimators': 758, 'max_depth': 50, 'min_samples_leaf': 3}. Best is trial 0 with value: 0.8935373087730253.\n",
      "[I 2023-10-01 14:29:06,850] Trial 1 finished with value: 0.8464185173600249 and parameters: {'criterion': 'log_loss', 'n_estimators': 547, 'max_depth': 47, 'min_samples_leaf': 11}. Best is trial 0 with value: 0.8935373087730253.\n",
      "[I 2023-10-01 14:29:08,532] Trial 2 finished with value: 0.9247446975648075 and parameters: {'criterion': 'entropy', 'n_estimators': 255, 'max_depth': 27, 'min_samples_leaf': 2}. Best is trial 2 with value: 0.9247446975648075.\n",
      "[I 2023-10-01 14:29:12,049] Trial 3 finished with value: 0.8610201216658867 and parameters: {'criterion': 'gini', 'n_estimators': 678, 'max_depth': 37, 'min_samples_leaf': 6}. Best is trial 2 with value: 0.9247446975648075.\n",
      "[I 2023-10-01 14:29:13,585] Trial 4 finished with value: 0.8456354803322362 and parameters: {'criterion': 'entropy', 'n_estimators': 293, 'max_depth': 16, 'min_samples_leaf': 11}. Best is trial 2 with value: 0.9247446975648075.\n",
      "[I 2023-10-01 14:29:16,647] Trial 5 finished with value: 0.8361351139041635 and parameters: {'criterion': 'entropy', 'n_estimators': 651, 'max_depth': 34, 'min_samples_leaf': 18}. Best is trial 2 with value: 0.9247446975648075.\n",
      "[I 2023-10-01 14:29:19,022] Trial 6 finished with value: 0.8609292173370752 and parameters: {'criterion': 'gini', 'n_estimators': 458, 'max_depth': 42, 'min_samples_leaf': 6}. Best is trial 2 with value: 0.9247446975648075.\n",
      "[I 2023-10-01 14:29:19,955] Trial 7 finished with value: 0.9168108193112126 and parameters: {'criterion': 'entropy', 'n_estimators': 145, 'max_depth': 20, 'min_samples_leaf': 2}. Best is trial 2 with value: 0.9247446975648075.\n",
      "[I 2023-10-01 14:29:23,215] Trial 8 finished with value: 0.8406524466750314 and parameters: {'criterion': 'gini', 'n_estimators': 699, 'max_depth': 47, 'min_samples_leaf': 13}. Best is trial 2 with value: 0.9247446975648075.\n",
      "[I 2023-10-01 14:29:24,878] Trial 9 finished with value: 0.8404522613065327 and parameters: {'criterion': 'log_loss', 'n_estimators': 307, 'max_depth': 30, 'min_samples_leaf': 14}. Best is trial 2 with value: 0.9247446975648075.\n",
      "[I 2023-10-01 14:29:29,746] Trial 10 finished with value: 0.8579013116801998 and parameters: {'criterion': 'entropy', 'n_estimators': 906, 'max_depth': 23, 'min_samples_leaf': 7}. Best is trial 2 with value: 0.9247446975648075.\n",
      "[I 2023-10-01 14:29:30,438] Trial 11 finished with value: 0.8589803921568626 and parameters: {'criterion': 'entropy', 'n_estimators': 110, 'max_depth': 10, 'min_samples_leaf': 2}. Best is trial 2 with value: 0.9247446975648075.\n",
      "[I 2023-10-01 14:29:31,320] Trial 12 finished with value: 0.9246499921346547 and parameters: {'criterion': 'entropy', 'n_estimators': 110, 'max_depth': 25, 'min_samples_leaf': 2}. Best is trial 2 with value: 0.9247446975648075.\n",
      "[I 2023-10-01 14:29:32,707] Trial 13 finished with value: 0.8539255552080075 and parameters: {'criterion': 'entropy', 'n_estimators': 261, 'max_depth': 27, 'min_samples_leaf': 8}. Best is trial 2 with value: 0.9247446975648075.\n",
      "[I 2023-10-01 14:29:34,903] Trial 14 finished with value: 0.8687373185578273 and parameters: {'criterion': 'entropy', 'n_estimators': 410, 'max_depth': 25, 'min_samples_leaf': 5}. Best is trial 2 with value: 0.9247446975648075.\n",
      "[I 2023-10-01 14:29:36,198] Trial 15 finished with value: 0.8734514662066803 and parameters: {'criterion': 'entropy', 'n_estimators': 222, 'max_depth': 17, 'min_samples_leaf': 4}. Best is trial 2 with value: 0.9247446975648075.\n",
      "[I 2023-10-01 14:29:37,955] Trial 16 finished with value: 0.8319420381162389 and parameters: {'criterion': 'log_loss', 'n_estimators': 426, 'max_depth': 33, 'min_samples_leaf': 20}. Best is trial 2 with value: 0.9247446975648075.\n",
      "[I 2023-10-01 14:29:38,959] Trial 17 finished with value: 0.855 and parameters: {'criterion': 'entropy', 'n_estimators': 180, 'max_depth': 39, 'min_samples_leaf': 8}. Best is trial 2 with value: 0.9247446975648075.\n",
      "[I 2023-10-01 14:29:40,887] Trial 18 finished with value: 0.8527712724434037 and parameters: {'criterion': 'entropy', 'n_estimators': 341, 'max_depth': 28, 'min_samples_leaf': 9}. Best is trial 2 with value: 0.9247446975648075.\n",
      "[I 2023-10-01 14:29:41,661] Trial 19 finished with value: 0.857098137423697 and parameters: {'criterion': 'log_loss', 'n_estimators': 133, 'max_depth': 11, 'min_samples_leaf': 4}. Best is trial 2 with value: 0.9247446975648075.\n",
      "[I 2023-10-01 14:29:45,848] Trial 20 finished with value: 0.8390335738939442 and parameters: {'criterion': 'entropy', 'n_estimators': 950, 'max_depth': 22, 'min_samples_leaf': 15}. Best is trial 2 with value: 0.9247446975648075.\n",
      "[I 2023-10-01 14:29:47,038] Trial 21 finished with value: 0.9169027384324835 and parameters: {'criterion': 'entropy', 'n_estimators': 184, 'max_depth': 20, 'min_samples_leaf': 2}. Best is trial 2 with value: 0.9247446975648075.\n",
      "[I 2023-10-01 14:29:48,437] Trial 22 finished with value: 0.9115796098174953 and parameters: {'criterion': 'entropy', 'n_estimators': 218, 'max_depth': 18, 'min_samples_leaf': 2}. Best is trial 2 with value: 0.9247446975648075.\n",
      "[I 2023-10-01 14:29:49,035] Trial 23 finished with value: 0.8768365114098156 and parameters: {'criterion': 'entropy', 'n_estimators': 102, 'max_depth': 31, 'min_samples_leaf': 4}. Best is trial 2 with value: 0.9247446975648075.\n",
      "[I 2023-10-01 14:29:50,899] Trial 24 finished with value: 0.8583059339282919 and parameters: {'criterion': 'entropy', 'n_estimators': 346, 'max_depth': 13, 'min_samples_leaf': 5}. Best is trial 2 with value: 0.9247446975648075.\n",
      "[I 2023-10-01 14:29:52,475] Trial 25 finished with value: 0.9238259776975027 and parameters: {'criterion': 'entropy', 'n_estimators': 220, 'max_depth': 25, 'min_samples_leaf': 2}. Best is trial 2 with value: 0.9247446975648075.\n",
      "[I 2023-10-01 14:29:55,342] Trial 26 finished with value: 0.8795991858462502 and parameters: {'criterion': 'entropy', 'n_estimators': 502, 'max_depth': 26, 'min_samples_leaf': 4}. Best is trial 2 with value: 0.9247446975648075.\n",
      "[I 2023-10-01 14:29:56,527] Trial 27 finished with value: 0.8520137371214487 and parameters: {'criterion': 'entropy', 'n_estimators': 241, 'max_depth': 24, 'min_samples_leaf': 9}. Best is trial 2 with value: 0.9247446975648075.\n",
      "[I 2023-10-01 14:29:58,621] Trial 28 finished with value: 0.8629346639638235 and parameters: {'criterion': 'log_loss', 'n_estimators': 365, 'max_depth': 29, 'min_samples_leaf': 6}. Best is trial 2 with value: 0.9247446975648075.\n",
      "[I 2023-10-01 14:29:59,691] Trial 29 finished with value: 0.8939228245586626 and parameters: {'criterion': 'gini', 'n_estimators': 176, 'max_depth': 34, 'min_samples_leaf': 3}. Best is trial 2 with value: 0.9247446975648075.\n"
     ]
    },
    {
     "name": "stdout",
     "output_type": "stream",
     "text": [
      "CPU times: user 58.6 s, sys: 763 ms, total: 59.4 s\n",
      "Wall time: 59.7 s\n"
     ]
    }
   ],
   "source": [
    "%%time\n",
    "# cоздаем объект исследования (максимизируя метрику direction=\"maximize\")\n",
    "study = optuna.create_study(study_name=\"RandomForestClassifier\", direction=\"maximize\")\n",
    "# производим поиск лучшей комбинации гиперпараметров (n_trials - количество итераций)\n",
    "study.optimize(optuna_rf, n_trials=30)"
   ]
  },
  {
   "cell_type": "code",
   "execution_count": 711,
   "id": "d1997f5f",
   "metadata": {},
   "outputs": [
    {
     "name": "stdout",
     "output_type": "stream",
     "text": [
      "Наилучшие значения гиперпараметров {'criterion': 'entropy', 'n_estimators': 255, 'max_depth': 27, 'min_samples_leaf': 2}\n",
      "f1_score на обучающем наборе: 0.92\n"
     ]
    }
   ],
   "source": [
    "# выводим лучшие гиперпараметры на тренировочной выборке\n",
    "print(\"Наилучшие значения гиперпараметров {}\".format(study.best_params))\n",
    "print(\"f1_score на обучающем наборе: {:.2f}\".format(study.best_value))"
   ]
  },
  {
   "cell_type": "code",
   "execution_count": 712,
   "id": "bd67c1cc",
   "metadata": {},
   "outputs": [
    {
     "name": "stdout",
     "output_type": "stream",
     "text": [
      "train_dataset\n",
      "              precision    recall  f1-score   support\n",
      "\n",
      "           0       0.95      0.92      0.93      3634\n",
      "           1       0.91      0.94      0.92      3136\n",
      "\n",
      "    accuracy                           0.93      6770\n",
      "   macro avg       0.93      0.93      0.93      6770\n",
      "weighted avg       0.93      0.93      0.93      6770\n",
      "\n",
      "test_dataset\n",
      "              precision    recall  f1-score   support\n",
      "\n",
      "           0       0.86      0.82      0.84      1790\n",
      "           1       0.80      0.84      0.82      1545\n",
      "\n",
      "    accuracy                           0.83      3335\n",
      "   macro avg       0.83      0.83      0.83      3335\n",
      "weighted avg       0.83      0.83      0.83      3335\n",
      "\n"
     ]
    }
   ],
   "source": [
    "# рассчитаем точность для тестовой выборки\n",
    "model_optuna = RandomForestClassifier(**study.best_params,random_state=RANDOM_SEED, )\n",
    "model_optuna.fit(X_train_scaled, y_train)\n",
    "\n",
    "# делаем предсказание для тренировочной выборки\n",
    "y_train_pred = model_optuna.predict(X_train_scaled)\n",
    "# вывод отчет о метриках классификации\n",
    "print('train_dataset')\n",
    "print(metrics.classification_report(y_train, y_train_pred))\n",
    "# делаем предсказание для тестовой выборки\n",
    "y_test_pred = model_optuna.predict(X_test_scaled)\n",
    "# вывод отчет о метриках классификации\n",
    "print('test_dataset')\n",
    "print(metrics.classification_report(y_test, y_test_pred))"
   ]
  },
  {
   "cell_type": "code",
   "execution_count": 691,
   "id": "560b7118",
   "metadata": {},
   "outputs": [
    {
     "data": {
      "application/vnd.plotly.v1+json": {
       "config": {
        "plotlyServerURL": "https://plot.ly"
       },
       "data": [
        {
         "mode": "markers",
         "name": "f1_score",
         "type": "scatter",
         "x": [
          0,
          1,
          2,
          3,
          4,
          5,
          6,
          7,
          8,
          9,
          10,
          11,
          12,
          13,
          14,
          15,
          16,
          17,
          18,
          19,
          20,
          21,
          22,
          23,
          24,
          25,
          26,
          27,
          28,
          29
         ],
         "y": [
          0.8870463078848561,
          0.8500390930414387,
          0.8664271207623808,
          0.8525410476935106,
          0.8749413053686023,
          0.8663335415365397,
          0.8572762645914397,
          0.8773082942097027,
          0.8510771152044957,
          0.8587447438093755,
          0.9221594475831764,
          0.9223772933981496,
          0.9221838719799184,
          0.8942758836409134,
          0.9211683417085427,
          0.8801375214877325,
          0.8459366175086288,
          0.8931917551530294,
          0.8655317819771983,
          0.8805503439649781,
          0.8612797758056984,
          0.9229803921568627,
          0.9231977383383068,
          0.8933375039099156,
          0.9168497019140256,
          0.8936170212765957,
          0.8797874003439112,
          0.9221350078492936,
          0.8759968725566849,
          0.8604212511788746
         ]
        },
        {
         "name": "Best Value",
         "type": "scatter",
         "x": [
          0,
          1,
          2,
          3,
          4,
          5,
          6,
          7,
          8,
          9,
          10,
          11,
          12,
          13,
          14,
          15,
          16,
          17,
          18,
          19,
          20,
          21,
          22,
          23,
          24,
          25,
          26,
          27,
          28,
          29
         ],
         "y": [
          0.8870463078848561,
          0.8870463078848561,
          0.8870463078848561,
          0.8870463078848561,
          0.8870463078848561,
          0.8870463078848561,
          0.8870463078848561,
          0.8870463078848561,
          0.8870463078848561,
          0.8870463078848561,
          0.9221594475831764,
          0.9223772933981496,
          0.9223772933981496,
          0.9223772933981496,
          0.9223772933981496,
          0.9223772933981496,
          0.9223772933981496,
          0.9223772933981496,
          0.9223772933981496,
          0.9223772933981496,
          0.9223772933981496,
          0.9229803921568627,
          0.9231977383383068,
          0.9231977383383068,
          0.9231977383383068,
          0.9231977383383068,
          0.9231977383383068,
          0.9231977383383068,
          0.9231977383383068,
          0.9231977383383068
         ]
        }
       ],
       "layout": {
        "template": {
         "data": {
          "bar": [
           {
            "error_x": {
             "color": "#2a3f5f"
            },
            "error_y": {
             "color": "#2a3f5f"
            },
            "marker": {
             "line": {
              "color": "#E5ECF6",
              "width": 0.5
             },
             "pattern": {
              "fillmode": "overlay",
              "size": 10,
              "solidity": 0.2
             }
            },
            "type": "bar"
           }
          ],
          "barpolar": [
           {
            "marker": {
             "line": {
              "color": "#E5ECF6",
              "width": 0.5
             },
             "pattern": {
              "fillmode": "overlay",
              "size": 10,
              "solidity": 0.2
             }
            },
            "type": "barpolar"
           }
          ],
          "carpet": [
           {
            "aaxis": {
             "endlinecolor": "#2a3f5f",
             "gridcolor": "white",
             "linecolor": "white",
             "minorgridcolor": "white",
             "startlinecolor": "#2a3f5f"
            },
            "baxis": {
             "endlinecolor": "#2a3f5f",
             "gridcolor": "white",
             "linecolor": "white",
             "minorgridcolor": "white",
             "startlinecolor": "#2a3f5f"
            },
            "type": "carpet"
           }
          ],
          "choropleth": [
           {
            "colorbar": {
             "outlinewidth": 0,
             "ticks": ""
            },
            "type": "choropleth"
           }
          ],
          "contour": [
           {
            "colorbar": {
             "outlinewidth": 0,
             "ticks": ""
            },
            "colorscale": [
             [
              0,
              "#0d0887"
             ],
             [
              0.1111111111111111,
              "#46039f"
             ],
             [
              0.2222222222222222,
              "#7201a8"
             ],
             [
              0.3333333333333333,
              "#9c179e"
             ],
             [
              0.4444444444444444,
              "#bd3786"
             ],
             [
              0.5555555555555556,
              "#d8576b"
             ],
             [
              0.6666666666666666,
              "#ed7953"
             ],
             [
              0.7777777777777778,
              "#fb9f3a"
             ],
             [
              0.8888888888888888,
              "#fdca26"
             ],
             [
              1,
              "#f0f921"
             ]
            ],
            "type": "contour"
           }
          ],
          "contourcarpet": [
           {
            "colorbar": {
             "outlinewidth": 0,
             "ticks": ""
            },
            "type": "contourcarpet"
           }
          ],
          "heatmap": [
           {
            "colorbar": {
             "outlinewidth": 0,
             "ticks": ""
            },
            "colorscale": [
             [
              0,
              "#0d0887"
             ],
             [
              0.1111111111111111,
              "#46039f"
             ],
             [
              0.2222222222222222,
              "#7201a8"
             ],
             [
              0.3333333333333333,
              "#9c179e"
             ],
             [
              0.4444444444444444,
              "#bd3786"
             ],
             [
              0.5555555555555556,
              "#d8576b"
             ],
             [
              0.6666666666666666,
              "#ed7953"
             ],
             [
              0.7777777777777778,
              "#fb9f3a"
             ],
             [
              0.8888888888888888,
              "#fdca26"
             ],
             [
              1,
              "#f0f921"
             ]
            ],
            "type": "heatmap"
           }
          ],
          "heatmapgl": [
           {
            "colorbar": {
             "outlinewidth": 0,
             "ticks": ""
            },
            "colorscale": [
             [
              0,
              "#0d0887"
             ],
             [
              0.1111111111111111,
              "#46039f"
             ],
             [
              0.2222222222222222,
              "#7201a8"
             ],
             [
              0.3333333333333333,
              "#9c179e"
             ],
             [
              0.4444444444444444,
              "#bd3786"
             ],
             [
              0.5555555555555556,
              "#d8576b"
             ],
             [
              0.6666666666666666,
              "#ed7953"
             ],
             [
              0.7777777777777778,
              "#fb9f3a"
             ],
             [
              0.8888888888888888,
              "#fdca26"
             ],
             [
              1,
              "#f0f921"
             ]
            ],
            "type": "heatmapgl"
           }
          ],
          "histogram": [
           {
            "marker": {
             "pattern": {
              "fillmode": "overlay",
              "size": 10,
              "solidity": 0.2
             }
            },
            "type": "histogram"
           }
          ],
          "histogram2d": [
           {
            "colorbar": {
             "outlinewidth": 0,
             "ticks": ""
            },
            "colorscale": [
             [
              0,
              "#0d0887"
             ],
             [
              0.1111111111111111,
              "#46039f"
             ],
             [
              0.2222222222222222,
              "#7201a8"
             ],
             [
              0.3333333333333333,
              "#9c179e"
             ],
             [
              0.4444444444444444,
              "#bd3786"
             ],
             [
              0.5555555555555556,
              "#d8576b"
             ],
             [
              0.6666666666666666,
              "#ed7953"
             ],
             [
              0.7777777777777778,
              "#fb9f3a"
             ],
             [
              0.8888888888888888,
              "#fdca26"
             ],
             [
              1,
              "#f0f921"
             ]
            ],
            "type": "histogram2d"
           }
          ],
          "histogram2dcontour": [
           {
            "colorbar": {
             "outlinewidth": 0,
             "ticks": ""
            },
            "colorscale": [
             [
              0,
              "#0d0887"
             ],
             [
              0.1111111111111111,
              "#46039f"
             ],
             [
              0.2222222222222222,
              "#7201a8"
             ],
             [
              0.3333333333333333,
              "#9c179e"
             ],
             [
              0.4444444444444444,
              "#bd3786"
             ],
             [
              0.5555555555555556,
              "#d8576b"
             ],
             [
              0.6666666666666666,
              "#ed7953"
             ],
             [
              0.7777777777777778,
              "#fb9f3a"
             ],
             [
              0.8888888888888888,
              "#fdca26"
             ],
             [
              1,
              "#f0f921"
             ]
            ],
            "type": "histogram2dcontour"
           }
          ],
          "mesh3d": [
           {
            "colorbar": {
             "outlinewidth": 0,
             "ticks": ""
            },
            "type": "mesh3d"
           }
          ],
          "parcoords": [
           {
            "line": {
             "colorbar": {
              "outlinewidth": 0,
              "ticks": ""
             }
            },
            "type": "parcoords"
           }
          ],
          "pie": [
           {
            "automargin": true,
            "type": "pie"
           }
          ],
          "scatter": [
           {
            "fillpattern": {
             "fillmode": "overlay",
             "size": 10,
             "solidity": 0.2
            },
            "type": "scatter"
           }
          ],
          "scatter3d": [
           {
            "line": {
             "colorbar": {
              "outlinewidth": 0,
              "ticks": ""
             }
            },
            "marker": {
             "colorbar": {
              "outlinewidth": 0,
              "ticks": ""
             }
            },
            "type": "scatter3d"
           }
          ],
          "scattercarpet": [
           {
            "marker": {
             "colorbar": {
              "outlinewidth": 0,
              "ticks": ""
             }
            },
            "type": "scattercarpet"
           }
          ],
          "scattergeo": [
           {
            "marker": {
             "colorbar": {
              "outlinewidth": 0,
              "ticks": ""
             }
            },
            "type": "scattergeo"
           }
          ],
          "scattergl": [
           {
            "marker": {
             "colorbar": {
              "outlinewidth": 0,
              "ticks": ""
             }
            },
            "type": "scattergl"
           }
          ],
          "scattermapbox": [
           {
            "marker": {
             "colorbar": {
              "outlinewidth": 0,
              "ticks": ""
             }
            },
            "type": "scattermapbox"
           }
          ],
          "scatterpolar": [
           {
            "marker": {
             "colorbar": {
              "outlinewidth": 0,
              "ticks": ""
             }
            },
            "type": "scatterpolar"
           }
          ],
          "scatterpolargl": [
           {
            "marker": {
             "colorbar": {
              "outlinewidth": 0,
              "ticks": ""
             }
            },
            "type": "scatterpolargl"
           }
          ],
          "scatterternary": [
           {
            "marker": {
             "colorbar": {
              "outlinewidth": 0,
              "ticks": ""
             }
            },
            "type": "scatterternary"
           }
          ],
          "surface": [
           {
            "colorbar": {
             "outlinewidth": 0,
             "ticks": ""
            },
            "colorscale": [
             [
              0,
              "#0d0887"
             ],
             [
              0.1111111111111111,
              "#46039f"
             ],
             [
              0.2222222222222222,
              "#7201a8"
             ],
             [
              0.3333333333333333,
              "#9c179e"
             ],
             [
              0.4444444444444444,
              "#bd3786"
             ],
             [
              0.5555555555555556,
              "#d8576b"
             ],
             [
              0.6666666666666666,
              "#ed7953"
             ],
             [
              0.7777777777777778,
              "#fb9f3a"
             ],
             [
              0.8888888888888888,
              "#fdca26"
             ],
             [
              1,
              "#f0f921"
             ]
            ],
            "type": "surface"
           }
          ],
          "table": [
           {
            "cells": {
             "fill": {
              "color": "#EBF0F8"
             },
             "line": {
              "color": "white"
             }
            },
            "header": {
             "fill": {
              "color": "#C8D4E3"
             },
             "line": {
              "color": "white"
             }
            },
            "type": "table"
           }
          ]
         },
         "layout": {
          "annotationdefaults": {
           "arrowcolor": "#2a3f5f",
           "arrowhead": 0,
           "arrowwidth": 1
          },
          "autotypenumbers": "strict",
          "coloraxis": {
           "colorbar": {
            "outlinewidth": 0,
            "ticks": ""
           }
          },
          "colorscale": {
           "diverging": [
            [
             0,
             "#8e0152"
            ],
            [
             0.1,
             "#c51b7d"
            ],
            [
             0.2,
             "#de77ae"
            ],
            [
             0.3,
             "#f1b6da"
            ],
            [
             0.4,
             "#fde0ef"
            ],
            [
             0.5,
             "#f7f7f7"
            ],
            [
             0.6,
             "#e6f5d0"
            ],
            [
             0.7,
             "#b8e186"
            ],
            [
             0.8,
             "#7fbc41"
            ],
            [
             0.9,
             "#4d9221"
            ],
            [
             1,
             "#276419"
            ]
           ],
           "sequential": [
            [
             0,
             "#0d0887"
            ],
            [
             0.1111111111111111,
             "#46039f"
            ],
            [
             0.2222222222222222,
             "#7201a8"
            ],
            [
             0.3333333333333333,
             "#9c179e"
            ],
            [
             0.4444444444444444,
             "#bd3786"
            ],
            [
             0.5555555555555556,
             "#d8576b"
            ],
            [
             0.6666666666666666,
             "#ed7953"
            ],
            [
             0.7777777777777778,
             "#fb9f3a"
            ],
            [
             0.8888888888888888,
             "#fdca26"
            ],
            [
             1,
             "#f0f921"
            ]
           ],
           "sequentialminus": [
            [
             0,
             "#0d0887"
            ],
            [
             0.1111111111111111,
             "#46039f"
            ],
            [
             0.2222222222222222,
             "#7201a8"
            ],
            [
             0.3333333333333333,
             "#9c179e"
            ],
            [
             0.4444444444444444,
             "#bd3786"
            ],
            [
             0.5555555555555556,
             "#d8576b"
            ],
            [
             0.6666666666666666,
             "#ed7953"
            ],
            [
             0.7777777777777778,
             "#fb9f3a"
            ],
            [
             0.8888888888888888,
             "#fdca26"
            ],
            [
             1,
             "#f0f921"
            ]
           ]
          },
          "colorway": [
           "#636efa",
           "#EF553B",
           "#00cc96",
           "#ab63fa",
           "#FFA15A",
           "#19d3f3",
           "#FF6692",
           "#B6E880",
           "#FF97FF",
           "#FECB52"
          ],
          "font": {
           "color": "#2a3f5f"
          },
          "geo": {
           "bgcolor": "white",
           "lakecolor": "white",
           "landcolor": "#E5ECF6",
           "showlakes": true,
           "showland": true,
           "subunitcolor": "white"
          },
          "hoverlabel": {
           "align": "left"
          },
          "hovermode": "closest",
          "mapbox": {
           "style": "light"
          },
          "paper_bgcolor": "white",
          "plot_bgcolor": "#E5ECF6",
          "polar": {
           "angularaxis": {
            "gridcolor": "white",
            "linecolor": "white",
            "ticks": ""
           },
           "bgcolor": "#E5ECF6",
           "radialaxis": {
            "gridcolor": "white",
            "linecolor": "white",
            "ticks": ""
           }
          },
          "scene": {
           "xaxis": {
            "backgroundcolor": "#E5ECF6",
            "gridcolor": "white",
            "gridwidth": 2,
            "linecolor": "white",
            "showbackground": true,
            "ticks": "",
            "zerolinecolor": "white"
           },
           "yaxis": {
            "backgroundcolor": "#E5ECF6",
            "gridcolor": "white",
            "gridwidth": 2,
            "linecolor": "white",
            "showbackground": true,
            "ticks": "",
            "zerolinecolor": "white"
           },
           "zaxis": {
            "backgroundcolor": "#E5ECF6",
            "gridcolor": "white",
            "gridwidth": 2,
            "linecolor": "white",
            "showbackground": true,
            "ticks": "",
            "zerolinecolor": "white"
           }
          },
          "shapedefaults": {
           "line": {
            "color": "#2a3f5f"
           }
          },
          "ternary": {
           "aaxis": {
            "gridcolor": "white",
            "linecolor": "white",
            "ticks": ""
           },
           "baxis": {
            "gridcolor": "white",
            "linecolor": "white",
            "ticks": ""
           },
           "bgcolor": "#E5ECF6",
           "caxis": {
            "gridcolor": "white",
            "linecolor": "white",
            "ticks": ""
           }
          },
          "title": {
           "x": 0.05
          },
          "xaxis": {
           "automargin": true,
           "gridcolor": "white",
           "linecolor": "white",
           "ticks": "",
           "title": {
            "standoff": 15
           },
           "zerolinecolor": "white",
           "zerolinewidth": 2
          },
          "yaxis": {
           "automargin": true,
           "gridcolor": "white",
           "linecolor": "white",
           "ticks": "",
           "title": {
            "standoff": 15
           },
           "zerolinecolor": "white",
           "zerolinewidth": 2
          }
         }
        },
        "title": {
         "text": "Optimization History Plot"
        },
        "xaxis": {
         "title": {
          "text": "Trial"
         }
        },
        "yaxis": {
         "title": {
          "text": "f1_score"
         }
        }
       }
      }
     },
     "metadata": {},
     "output_type": "display_data"
    }
   ],
   "source": [
    "# формируем и выводим график истории оптимизации\n",
    "optuna.visualization.plot_optimization_history(study, target_name=\"f1_score\")"
   ]
  },
  {
   "cell_type": "code",
   "execution_count": 692,
   "id": "c7d26606",
   "metadata": {},
   "outputs": [
    {
     "data": {
      "application/vnd.plotly.v1+json": {
       "config": {
        "plotlyServerURL": "https://plot.ly"
       },
       "data": [
        {
         "cliponaxis": false,
         "hovertemplate": [
          "n_estimators (IntDistribution): 0.015395808933892812<extra></extra>",
          "max_depth (IntDistribution): 0.052955414674451806<extra></extra>",
          "min_samples_leaf (IntDistribution): 0.9316487763916554<extra></extra>"
         ],
         "marker": {
          "color": "rgb(66,146,198)"
         },
         "orientation": "h",
         "text": [
          "0.02",
          "0.05",
          "0.93"
         ],
         "textposition": "outside",
         "type": "bar",
         "x": [
          0.015395808933892812,
          0.052955414674451806,
          0.9316487763916554
         ],
         "y": [
          "n_estimators",
          "max_depth",
          "min_samples_leaf"
         ]
        }
       ],
       "layout": {
        "showlegend": false,
        "template": {
         "data": {
          "bar": [
           {
            "error_x": {
             "color": "#2a3f5f"
            },
            "error_y": {
             "color": "#2a3f5f"
            },
            "marker": {
             "line": {
              "color": "#E5ECF6",
              "width": 0.5
             },
             "pattern": {
              "fillmode": "overlay",
              "size": 10,
              "solidity": 0.2
             }
            },
            "type": "bar"
           }
          ],
          "barpolar": [
           {
            "marker": {
             "line": {
              "color": "#E5ECF6",
              "width": 0.5
             },
             "pattern": {
              "fillmode": "overlay",
              "size": 10,
              "solidity": 0.2
             }
            },
            "type": "barpolar"
           }
          ],
          "carpet": [
           {
            "aaxis": {
             "endlinecolor": "#2a3f5f",
             "gridcolor": "white",
             "linecolor": "white",
             "minorgridcolor": "white",
             "startlinecolor": "#2a3f5f"
            },
            "baxis": {
             "endlinecolor": "#2a3f5f",
             "gridcolor": "white",
             "linecolor": "white",
             "minorgridcolor": "white",
             "startlinecolor": "#2a3f5f"
            },
            "type": "carpet"
           }
          ],
          "choropleth": [
           {
            "colorbar": {
             "outlinewidth": 0,
             "ticks": ""
            },
            "type": "choropleth"
           }
          ],
          "contour": [
           {
            "colorbar": {
             "outlinewidth": 0,
             "ticks": ""
            },
            "colorscale": [
             [
              0,
              "#0d0887"
             ],
             [
              0.1111111111111111,
              "#46039f"
             ],
             [
              0.2222222222222222,
              "#7201a8"
             ],
             [
              0.3333333333333333,
              "#9c179e"
             ],
             [
              0.4444444444444444,
              "#bd3786"
             ],
             [
              0.5555555555555556,
              "#d8576b"
             ],
             [
              0.6666666666666666,
              "#ed7953"
             ],
             [
              0.7777777777777778,
              "#fb9f3a"
             ],
             [
              0.8888888888888888,
              "#fdca26"
             ],
             [
              1,
              "#f0f921"
             ]
            ],
            "type": "contour"
           }
          ],
          "contourcarpet": [
           {
            "colorbar": {
             "outlinewidth": 0,
             "ticks": ""
            },
            "type": "contourcarpet"
           }
          ],
          "heatmap": [
           {
            "colorbar": {
             "outlinewidth": 0,
             "ticks": ""
            },
            "colorscale": [
             [
              0,
              "#0d0887"
             ],
             [
              0.1111111111111111,
              "#46039f"
             ],
             [
              0.2222222222222222,
              "#7201a8"
             ],
             [
              0.3333333333333333,
              "#9c179e"
             ],
             [
              0.4444444444444444,
              "#bd3786"
             ],
             [
              0.5555555555555556,
              "#d8576b"
             ],
             [
              0.6666666666666666,
              "#ed7953"
             ],
             [
              0.7777777777777778,
              "#fb9f3a"
             ],
             [
              0.8888888888888888,
              "#fdca26"
             ],
             [
              1,
              "#f0f921"
             ]
            ],
            "type": "heatmap"
           }
          ],
          "heatmapgl": [
           {
            "colorbar": {
             "outlinewidth": 0,
             "ticks": ""
            },
            "colorscale": [
             [
              0,
              "#0d0887"
             ],
             [
              0.1111111111111111,
              "#46039f"
             ],
             [
              0.2222222222222222,
              "#7201a8"
             ],
             [
              0.3333333333333333,
              "#9c179e"
             ],
             [
              0.4444444444444444,
              "#bd3786"
             ],
             [
              0.5555555555555556,
              "#d8576b"
             ],
             [
              0.6666666666666666,
              "#ed7953"
             ],
             [
              0.7777777777777778,
              "#fb9f3a"
             ],
             [
              0.8888888888888888,
              "#fdca26"
             ],
             [
              1,
              "#f0f921"
             ]
            ],
            "type": "heatmapgl"
           }
          ],
          "histogram": [
           {
            "marker": {
             "pattern": {
              "fillmode": "overlay",
              "size": 10,
              "solidity": 0.2
             }
            },
            "type": "histogram"
           }
          ],
          "histogram2d": [
           {
            "colorbar": {
             "outlinewidth": 0,
             "ticks": ""
            },
            "colorscale": [
             [
              0,
              "#0d0887"
             ],
             [
              0.1111111111111111,
              "#46039f"
             ],
             [
              0.2222222222222222,
              "#7201a8"
             ],
             [
              0.3333333333333333,
              "#9c179e"
             ],
             [
              0.4444444444444444,
              "#bd3786"
             ],
             [
              0.5555555555555556,
              "#d8576b"
             ],
             [
              0.6666666666666666,
              "#ed7953"
             ],
             [
              0.7777777777777778,
              "#fb9f3a"
             ],
             [
              0.8888888888888888,
              "#fdca26"
             ],
             [
              1,
              "#f0f921"
             ]
            ],
            "type": "histogram2d"
           }
          ],
          "histogram2dcontour": [
           {
            "colorbar": {
             "outlinewidth": 0,
             "ticks": ""
            },
            "colorscale": [
             [
              0,
              "#0d0887"
             ],
             [
              0.1111111111111111,
              "#46039f"
             ],
             [
              0.2222222222222222,
              "#7201a8"
             ],
             [
              0.3333333333333333,
              "#9c179e"
             ],
             [
              0.4444444444444444,
              "#bd3786"
             ],
             [
              0.5555555555555556,
              "#d8576b"
             ],
             [
              0.6666666666666666,
              "#ed7953"
             ],
             [
              0.7777777777777778,
              "#fb9f3a"
             ],
             [
              0.8888888888888888,
              "#fdca26"
             ],
             [
              1,
              "#f0f921"
             ]
            ],
            "type": "histogram2dcontour"
           }
          ],
          "mesh3d": [
           {
            "colorbar": {
             "outlinewidth": 0,
             "ticks": ""
            },
            "type": "mesh3d"
           }
          ],
          "parcoords": [
           {
            "line": {
             "colorbar": {
              "outlinewidth": 0,
              "ticks": ""
             }
            },
            "type": "parcoords"
           }
          ],
          "pie": [
           {
            "automargin": true,
            "type": "pie"
           }
          ],
          "scatter": [
           {
            "fillpattern": {
             "fillmode": "overlay",
             "size": 10,
             "solidity": 0.2
            },
            "type": "scatter"
           }
          ],
          "scatter3d": [
           {
            "line": {
             "colorbar": {
              "outlinewidth": 0,
              "ticks": ""
             }
            },
            "marker": {
             "colorbar": {
              "outlinewidth": 0,
              "ticks": ""
             }
            },
            "type": "scatter3d"
           }
          ],
          "scattercarpet": [
           {
            "marker": {
             "colorbar": {
              "outlinewidth": 0,
              "ticks": ""
             }
            },
            "type": "scattercarpet"
           }
          ],
          "scattergeo": [
           {
            "marker": {
             "colorbar": {
              "outlinewidth": 0,
              "ticks": ""
             }
            },
            "type": "scattergeo"
           }
          ],
          "scattergl": [
           {
            "marker": {
             "colorbar": {
              "outlinewidth": 0,
              "ticks": ""
             }
            },
            "type": "scattergl"
           }
          ],
          "scattermapbox": [
           {
            "marker": {
             "colorbar": {
              "outlinewidth": 0,
              "ticks": ""
             }
            },
            "type": "scattermapbox"
           }
          ],
          "scatterpolar": [
           {
            "marker": {
             "colorbar": {
              "outlinewidth": 0,
              "ticks": ""
             }
            },
            "type": "scatterpolar"
           }
          ],
          "scatterpolargl": [
           {
            "marker": {
             "colorbar": {
              "outlinewidth": 0,
              "ticks": ""
             }
            },
            "type": "scatterpolargl"
           }
          ],
          "scatterternary": [
           {
            "marker": {
             "colorbar": {
              "outlinewidth": 0,
              "ticks": ""
             }
            },
            "type": "scatterternary"
           }
          ],
          "surface": [
           {
            "colorbar": {
             "outlinewidth": 0,
             "ticks": ""
            },
            "colorscale": [
             [
              0,
              "#0d0887"
             ],
             [
              0.1111111111111111,
              "#46039f"
             ],
             [
              0.2222222222222222,
              "#7201a8"
             ],
             [
              0.3333333333333333,
              "#9c179e"
             ],
             [
              0.4444444444444444,
              "#bd3786"
             ],
             [
              0.5555555555555556,
              "#d8576b"
             ],
             [
              0.6666666666666666,
              "#ed7953"
             ],
             [
              0.7777777777777778,
              "#fb9f3a"
             ],
             [
              0.8888888888888888,
              "#fdca26"
             ],
             [
              1,
              "#f0f921"
             ]
            ],
            "type": "surface"
           }
          ],
          "table": [
           {
            "cells": {
             "fill": {
              "color": "#EBF0F8"
             },
             "line": {
              "color": "white"
             }
            },
            "header": {
             "fill": {
              "color": "#C8D4E3"
             },
             "line": {
              "color": "white"
             }
            },
            "type": "table"
           }
          ]
         },
         "layout": {
          "annotationdefaults": {
           "arrowcolor": "#2a3f5f",
           "arrowhead": 0,
           "arrowwidth": 1
          },
          "autotypenumbers": "strict",
          "coloraxis": {
           "colorbar": {
            "outlinewidth": 0,
            "ticks": ""
           }
          },
          "colorscale": {
           "diverging": [
            [
             0,
             "#8e0152"
            ],
            [
             0.1,
             "#c51b7d"
            ],
            [
             0.2,
             "#de77ae"
            ],
            [
             0.3,
             "#f1b6da"
            ],
            [
             0.4,
             "#fde0ef"
            ],
            [
             0.5,
             "#f7f7f7"
            ],
            [
             0.6,
             "#e6f5d0"
            ],
            [
             0.7,
             "#b8e186"
            ],
            [
             0.8,
             "#7fbc41"
            ],
            [
             0.9,
             "#4d9221"
            ],
            [
             1,
             "#276419"
            ]
           ],
           "sequential": [
            [
             0,
             "#0d0887"
            ],
            [
             0.1111111111111111,
             "#46039f"
            ],
            [
             0.2222222222222222,
             "#7201a8"
            ],
            [
             0.3333333333333333,
             "#9c179e"
            ],
            [
             0.4444444444444444,
             "#bd3786"
            ],
            [
             0.5555555555555556,
             "#d8576b"
            ],
            [
             0.6666666666666666,
             "#ed7953"
            ],
            [
             0.7777777777777778,
             "#fb9f3a"
            ],
            [
             0.8888888888888888,
             "#fdca26"
            ],
            [
             1,
             "#f0f921"
            ]
           ],
           "sequentialminus": [
            [
             0,
             "#0d0887"
            ],
            [
             0.1111111111111111,
             "#46039f"
            ],
            [
             0.2222222222222222,
             "#7201a8"
            ],
            [
             0.3333333333333333,
             "#9c179e"
            ],
            [
             0.4444444444444444,
             "#bd3786"
            ],
            [
             0.5555555555555556,
             "#d8576b"
            ],
            [
             0.6666666666666666,
             "#ed7953"
            ],
            [
             0.7777777777777778,
             "#fb9f3a"
            ],
            [
             0.8888888888888888,
             "#fdca26"
            ],
            [
             1,
             "#f0f921"
            ]
           ]
          },
          "colorway": [
           "#636efa",
           "#EF553B",
           "#00cc96",
           "#ab63fa",
           "#FFA15A",
           "#19d3f3",
           "#FF6692",
           "#B6E880",
           "#FF97FF",
           "#FECB52"
          ],
          "font": {
           "color": "#2a3f5f"
          },
          "geo": {
           "bgcolor": "white",
           "lakecolor": "white",
           "landcolor": "#E5ECF6",
           "showlakes": true,
           "showland": true,
           "subunitcolor": "white"
          },
          "hoverlabel": {
           "align": "left"
          },
          "hovermode": "closest",
          "mapbox": {
           "style": "light"
          },
          "paper_bgcolor": "white",
          "plot_bgcolor": "#E5ECF6",
          "polar": {
           "angularaxis": {
            "gridcolor": "white",
            "linecolor": "white",
            "ticks": ""
           },
           "bgcolor": "#E5ECF6",
           "radialaxis": {
            "gridcolor": "white",
            "linecolor": "white",
            "ticks": ""
           }
          },
          "scene": {
           "xaxis": {
            "backgroundcolor": "#E5ECF6",
            "gridcolor": "white",
            "gridwidth": 2,
            "linecolor": "white",
            "showbackground": true,
            "ticks": "",
            "zerolinecolor": "white"
           },
           "yaxis": {
            "backgroundcolor": "#E5ECF6",
            "gridcolor": "white",
            "gridwidth": 2,
            "linecolor": "white",
            "showbackground": true,
            "ticks": "",
            "zerolinecolor": "white"
           },
           "zaxis": {
            "backgroundcolor": "#E5ECF6",
            "gridcolor": "white",
            "gridwidth": 2,
            "linecolor": "white",
            "showbackground": true,
            "ticks": "",
            "zerolinecolor": "white"
           }
          },
          "shapedefaults": {
           "line": {
            "color": "#2a3f5f"
           }
          },
          "ternary": {
           "aaxis": {
            "gridcolor": "white",
            "linecolor": "white",
            "ticks": ""
           },
           "baxis": {
            "gridcolor": "white",
            "linecolor": "white",
            "ticks": ""
           },
           "bgcolor": "#E5ECF6",
           "caxis": {
            "gridcolor": "white",
            "linecolor": "white",
            "ticks": ""
           }
          },
          "title": {
           "x": 0.05
          },
          "xaxis": {
           "automargin": true,
           "gridcolor": "white",
           "linecolor": "white",
           "ticks": "",
           "title": {
            "standoff": 15
           },
           "zerolinecolor": "white",
           "zerolinewidth": 2
          },
          "yaxis": {
           "automargin": true,
           "gridcolor": "white",
           "linecolor": "white",
           "ticks": "",
           "title": {
            "standoff": 15
           },
           "zerolinecolor": "white",
           "zerolinewidth": 2
          }
         }
        },
        "title": {
         "text": "Hyperparameter Importances"
        },
        "xaxis": {
         "title": {
          "text": "Importance for f1_score"
         }
        },
        "yaxis": {
         "title": {
          "text": "Hyperparameter"
         }
        }
       }
      }
     },
     "metadata": {},
     "output_type": "display_data"
    }
   ],
   "source": [
    "# формируем и выводим график важности гиперпараметров\n",
    "optuna.visualization.plot_param_importances(study, target_name=\"f1_score\")"
   ]
  },
  {
   "cell_type": "code",
   "execution_count": 693,
   "id": "0cbf56c0",
   "metadata": {},
   "outputs": [
    {
     "data": {
      "application/vnd.plotly.v1+json": {
       "config": {
        "plotlyServerURL": "https://plot.ly"
       },
       "data": [
        {
         "colorbar": {
          "title": {
           "text": "f1_score"
          }
         },
         "colorscale": [
          [
           0,
           "rgb(247,251,255)"
          ],
          [
           0.125,
           "rgb(222,235,247)"
          ],
          [
           0.25,
           "rgb(198,219,239)"
          ],
          [
           0.375,
           "rgb(158,202,225)"
          ],
          [
           0.5,
           "rgb(107,174,214)"
          ],
          [
           0.625,
           "rgb(66,146,198)"
          ],
          [
           0.75,
           "rgb(33,113,181)"
          ],
          [
           0.875,
           "rgb(8,81,156)"
          ],
          [
           1,
           "rgb(8,48,107)"
          ]
         ],
         "connectgaps": true,
         "contours": {
          "coloring": "heatmap"
         },
         "hoverinfo": "none",
         "line": {
          "smoothing": 1.3
         },
         "reversescale": false,
         "type": "contour",
         "x": [
          9,
          10,
          12,
          13,
          14,
          16,
          17,
          18,
          19,
          20,
          21,
          22,
          23,
          24,
          25,
          26,
          27,
          28,
          29,
          30,
          31
         ],
         "y": [
          101.35,
          106,
          111,
          118,
          129,
          139,
          141,
          144,
          151,
          156,
          159,
          164,
          166,
          169,
          172,
          174,
          176,
          178,
          181,
          183,
          186,
          187,
          189,
          190,
          192,
          197,
          198,
          199,
          203.65
         ],
         "z": [
          [
           null,
           null,
           null,
           null,
           null,
           null,
           null,
           null,
           null,
           null,
           null,
           null,
           null,
           null,
           null,
           null,
           null,
           null,
           null,
           null,
           null
          ],
          [
           null,
           null,
           null,
           null,
           null,
           null,
           null,
           null,
           null,
           null,
           null,
           null,
           null,
           null,
           null,
           null,
           0.8664271207623808,
           null,
           null,
           null,
           null
          ],
          [
           null,
           null,
           null,
           null,
           null,
           null,
           null,
           0.8510771152044957,
           null,
           null,
           null,
           null,
           null,
           null,
           null,
           null,
           null,
           null,
           null,
           null,
           null
          ],
          [
           null,
           null,
           null,
           null,
           null,
           null,
           0.8525410476935106,
           null,
           null,
           null,
           null,
           null,
           null,
           null,
           null,
           null,
           null,
           null,
           null,
           null,
           null
          ],
          [
           null,
           null,
           null,
           null,
           null,
           null,
           null,
           null,
           null,
           null,
           null,
           null,
           null,
           null,
           0.8933375039099156,
           null,
           null,
           null,
           null,
           null,
           null
          ],
          [
           null,
           null,
           null,
           null,
           null,
           null,
           null,
           null,
           null,
           null,
           null,
           0.9211683417085427,
           null,
           null,
           null,
           null,
           null,
           null,
           null,
           null,
           null
          ],
          [
           null,
           null,
           null,
           null,
           null,
           null,
           null,
           null,
           null,
           null,
           null,
           null,
           null,
           null,
           null,
           0.8587447438093755,
           null,
           null,
           null,
           null,
           null
          ],
          [
           null,
           null,
           null,
           null,
           null,
           null,
           null,
           null,
           null,
           null,
           null,
           null,
           null,
           null,
           null,
           null,
           null,
           0.8805503439649781,
           null,
           null,
           null
          ],
          [
           null,
           null,
           null,
           null,
           null,
           null,
           null,
           null,
           null,
           null,
           null,
           null,
           0.9221350078492936,
           null,
           null,
           null,
           null,
           null,
           null,
           null,
           null
          ],
          [
           null,
           null,
           0.8749413053686023,
           null,
           null,
           null,
           null,
           null,
           null,
           null,
           null,
           null,
           null,
           null,
           null,
           null,
           null,
           null,
           null,
           null,
           null
          ],
          [
           null,
           null,
           null,
           0.8500390930414387,
           null,
           null,
           null,
           null,
           null,
           null,
           null,
           null,
           null,
           null,
           null,
           null,
           null,
           null,
           null,
           null,
           null
          ],
          [
           null,
           null,
           null,
           null,
           null,
           null,
           null,
           null,
           0.8773082942097027,
           null,
           null,
           null,
           null,
           null,
           null,
           null,
           null,
           null,
           null,
           null,
           null
          ],
          [
           null,
           null,
           null,
           null,
           0.8759968725566849,
           null,
           null,
           null,
           null,
           null,
           null,
           null,
           null,
           null,
           null,
           null,
           null,
           null,
           null,
           null,
           null
          ],
          [
           null,
           null,
           null,
           null,
           null,
           null,
           0.8870463078848561,
           null,
           null,
           null,
           null,
           null,
           null,
           null,
           null,
           null,
           null,
           null,
           null,
           null,
           null
          ],
          [
           null,
           null,
           null,
           null,
           null,
           null,
           null,
           null,
           null,
           0.9168497019140256,
           null,
           null,
           null,
           null,
           null,
           null,
           null,
           null,
           null,
           null,
           null
          ],
          [
           null,
           null,
           null,
           null,
           null,
           null,
           null,
           null,
           null,
           null,
           null,
           null,
           0.8663335415365397,
           null,
           null,
           null,
           null,
           null,
           null,
           null,
           null
          ],
          [
           null,
           0.8604212511788746,
           null,
           null,
           null,
           null,
           null,
           null,
           null,
           null,
           null,
           null,
           null,
           null,
           null,
           null,
           null,
           null,
           null,
           null,
           null
          ],
          [
           null,
           null,
           null,
           null,
           null,
           null,
           null,
           null,
           null,
           null,
           0.8655317819771983,
           null,
           null,
           null,
           null,
           null,
           null,
           null,
           null,
           null,
           null
          ],
          [
           null,
           null,
           null,
           null,
           null,
           null,
           null,
           null,
           null,
           null,
           null,
           null,
           null,
           null,
           null,
           null,
           null,
           null,
           0.8459366175086288,
           null,
           null
          ],
          [
           null,
           null,
           null,
           null,
           null,
           null,
           null,
           null,
           null,
           null,
           null,
           null,
           null,
           null,
           null,
           null,
           0.8797874003439112,
           null,
           null,
           null,
           null
          ],
          [
           null,
           null,
           null,
           null,
           null,
           null,
           null,
           null,
           null,
           null,
           null,
           null,
           null,
           null,
           0.8942758836409134,
           null,
           null,
           null,
           null,
           null,
           null
          ],
          [
           null,
           null,
           null,
           null,
           null,
           null,
           null,
           null,
           null,
           0.8612797758056984,
           null,
           null,
           null,
           null,
           null,
           null,
           null,
           null,
           null,
           null,
           null
          ],
          [
           null,
           null,
           null,
           null,
           null,
           null,
           null,
           null,
           null,
           null,
           null,
           0.9221594475831764,
           0.9229803921568627,
           null,
           null,
           null,
           null,
           null,
           null,
           null,
           null
          ],
          [
           null,
           null,
           null,
           null,
           null,
           null,
           null,
           null,
           null,
           null,
           null,
           null,
           0.9223772933981496,
           null,
           0.8936170212765957,
           null,
           null,
           null,
           null,
           null,
           null
          ],
          [
           null,
           null,
           null,
           null,
           null,
           null,
           null,
           null,
           null,
           null,
           null,
           null,
           null,
           0.9231977383383068,
           null,
           null,
           null,
           null,
           null,
           null,
           null
          ],
          [
           null,
           null,
           null,
           null,
           null,
           null,
           null,
           null,
           null,
           null,
           null,
           null,
           0.9221838719799184,
           null,
           null,
           null,
           null,
           null,
           null,
           0.8801375214877325,
           null
          ],
          [
           null,
           null,
           null,
           null,
           null,
           0.8572762645914397,
           null,
           null,
           null,
           null,
           null,
           null,
           null,
           null,
           null,
           null,
           null,
           null,
           null,
           null,
           null
          ],
          [
           null,
           null,
           null,
           null,
           null,
           null,
           null,
           null,
           null,
           null,
           null,
           null,
           null,
           0.8931917551530294,
           null,
           null,
           null,
           null,
           null,
           null,
           null
          ],
          [
           null,
           null,
           null,
           null,
           null,
           null,
           null,
           null,
           null,
           null,
           null,
           null,
           null,
           null,
           null,
           null,
           null,
           null,
           null,
           null,
           null
          ]
         ]
        },
        {
         "marker": {
          "color": "black",
          "line": {
           "color": "Grey",
           "width": 2
          }
         },
         "mode": "markers",
         "showlegend": false,
         "type": "scatter",
         "x": [
          17,
          13,
          27,
          17,
          12,
          23,
          16,
          19,
          18,
          26,
          22,
          23,
          23,
          25,
          22,
          30,
          29,
          24,
          21,
          28,
          20,
          23,
          24,
          25,
          20,
          25,
          27,
          23,
          14,
          10
         ],
         "y": [
          169,
          159,
          106,
          118,
          156,
          174,
          198,
          164,
          111,
          141,
          189,
          190,
          197,
          186,
          139,
          197,
          181,
          199,
          178,
          144,
          187,
          189,
          192,
          129,
          172,
          190,
          183,
          151,
          166,
          176
         ]
        }
       ],
       "layout": {
        "template": {
         "data": {
          "bar": [
           {
            "error_x": {
             "color": "#2a3f5f"
            },
            "error_y": {
             "color": "#2a3f5f"
            },
            "marker": {
             "line": {
              "color": "#E5ECF6",
              "width": 0.5
             },
             "pattern": {
              "fillmode": "overlay",
              "size": 10,
              "solidity": 0.2
             }
            },
            "type": "bar"
           }
          ],
          "barpolar": [
           {
            "marker": {
             "line": {
              "color": "#E5ECF6",
              "width": 0.5
             },
             "pattern": {
              "fillmode": "overlay",
              "size": 10,
              "solidity": 0.2
             }
            },
            "type": "barpolar"
           }
          ],
          "carpet": [
           {
            "aaxis": {
             "endlinecolor": "#2a3f5f",
             "gridcolor": "white",
             "linecolor": "white",
             "minorgridcolor": "white",
             "startlinecolor": "#2a3f5f"
            },
            "baxis": {
             "endlinecolor": "#2a3f5f",
             "gridcolor": "white",
             "linecolor": "white",
             "minorgridcolor": "white",
             "startlinecolor": "#2a3f5f"
            },
            "type": "carpet"
           }
          ],
          "choropleth": [
           {
            "colorbar": {
             "outlinewidth": 0,
             "ticks": ""
            },
            "type": "choropleth"
           }
          ],
          "contour": [
           {
            "colorbar": {
             "outlinewidth": 0,
             "ticks": ""
            },
            "colorscale": [
             [
              0,
              "#0d0887"
             ],
             [
              0.1111111111111111,
              "#46039f"
             ],
             [
              0.2222222222222222,
              "#7201a8"
             ],
             [
              0.3333333333333333,
              "#9c179e"
             ],
             [
              0.4444444444444444,
              "#bd3786"
             ],
             [
              0.5555555555555556,
              "#d8576b"
             ],
             [
              0.6666666666666666,
              "#ed7953"
             ],
             [
              0.7777777777777778,
              "#fb9f3a"
             ],
             [
              0.8888888888888888,
              "#fdca26"
             ],
             [
              1,
              "#f0f921"
             ]
            ],
            "type": "contour"
           }
          ],
          "contourcarpet": [
           {
            "colorbar": {
             "outlinewidth": 0,
             "ticks": ""
            },
            "type": "contourcarpet"
           }
          ],
          "heatmap": [
           {
            "colorbar": {
             "outlinewidth": 0,
             "ticks": ""
            },
            "colorscale": [
             [
              0,
              "#0d0887"
             ],
             [
              0.1111111111111111,
              "#46039f"
             ],
             [
              0.2222222222222222,
              "#7201a8"
             ],
             [
              0.3333333333333333,
              "#9c179e"
             ],
             [
              0.4444444444444444,
              "#bd3786"
             ],
             [
              0.5555555555555556,
              "#d8576b"
             ],
             [
              0.6666666666666666,
              "#ed7953"
             ],
             [
              0.7777777777777778,
              "#fb9f3a"
             ],
             [
              0.8888888888888888,
              "#fdca26"
             ],
             [
              1,
              "#f0f921"
             ]
            ],
            "type": "heatmap"
           }
          ],
          "heatmapgl": [
           {
            "colorbar": {
             "outlinewidth": 0,
             "ticks": ""
            },
            "colorscale": [
             [
              0,
              "#0d0887"
             ],
             [
              0.1111111111111111,
              "#46039f"
             ],
             [
              0.2222222222222222,
              "#7201a8"
             ],
             [
              0.3333333333333333,
              "#9c179e"
             ],
             [
              0.4444444444444444,
              "#bd3786"
             ],
             [
              0.5555555555555556,
              "#d8576b"
             ],
             [
              0.6666666666666666,
              "#ed7953"
             ],
             [
              0.7777777777777778,
              "#fb9f3a"
             ],
             [
              0.8888888888888888,
              "#fdca26"
             ],
             [
              1,
              "#f0f921"
             ]
            ],
            "type": "heatmapgl"
           }
          ],
          "histogram": [
           {
            "marker": {
             "pattern": {
              "fillmode": "overlay",
              "size": 10,
              "solidity": 0.2
             }
            },
            "type": "histogram"
           }
          ],
          "histogram2d": [
           {
            "colorbar": {
             "outlinewidth": 0,
             "ticks": ""
            },
            "colorscale": [
             [
              0,
              "#0d0887"
             ],
             [
              0.1111111111111111,
              "#46039f"
             ],
             [
              0.2222222222222222,
              "#7201a8"
             ],
             [
              0.3333333333333333,
              "#9c179e"
             ],
             [
              0.4444444444444444,
              "#bd3786"
             ],
             [
              0.5555555555555556,
              "#d8576b"
             ],
             [
              0.6666666666666666,
              "#ed7953"
             ],
             [
              0.7777777777777778,
              "#fb9f3a"
             ],
             [
              0.8888888888888888,
              "#fdca26"
             ],
             [
              1,
              "#f0f921"
             ]
            ],
            "type": "histogram2d"
           }
          ],
          "histogram2dcontour": [
           {
            "colorbar": {
             "outlinewidth": 0,
             "ticks": ""
            },
            "colorscale": [
             [
              0,
              "#0d0887"
             ],
             [
              0.1111111111111111,
              "#46039f"
             ],
             [
              0.2222222222222222,
              "#7201a8"
             ],
             [
              0.3333333333333333,
              "#9c179e"
             ],
             [
              0.4444444444444444,
              "#bd3786"
             ],
             [
              0.5555555555555556,
              "#d8576b"
             ],
             [
              0.6666666666666666,
              "#ed7953"
             ],
             [
              0.7777777777777778,
              "#fb9f3a"
             ],
             [
              0.8888888888888888,
              "#fdca26"
             ],
             [
              1,
              "#f0f921"
             ]
            ],
            "type": "histogram2dcontour"
           }
          ],
          "mesh3d": [
           {
            "colorbar": {
             "outlinewidth": 0,
             "ticks": ""
            },
            "type": "mesh3d"
           }
          ],
          "parcoords": [
           {
            "line": {
             "colorbar": {
              "outlinewidth": 0,
              "ticks": ""
             }
            },
            "type": "parcoords"
           }
          ],
          "pie": [
           {
            "automargin": true,
            "type": "pie"
           }
          ],
          "scatter": [
           {
            "fillpattern": {
             "fillmode": "overlay",
             "size": 10,
             "solidity": 0.2
            },
            "type": "scatter"
           }
          ],
          "scatter3d": [
           {
            "line": {
             "colorbar": {
              "outlinewidth": 0,
              "ticks": ""
             }
            },
            "marker": {
             "colorbar": {
              "outlinewidth": 0,
              "ticks": ""
             }
            },
            "type": "scatter3d"
           }
          ],
          "scattercarpet": [
           {
            "marker": {
             "colorbar": {
              "outlinewidth": 0,
              "ticks": ""
             }
            },
            "type": "scattercarpet"
           }
          ],
          "scattergeo": [
           {
            "marker": {
             "colorbar": {
              "outlinewidth": 0,
              "ticks": ""
             }
            },
            "type": "scattergeo"
           }
          ],
          "scattergl": [
           {
            "marker": {
             "colorbar": {
              "outlinewidth": 0,
              "ticks": ""
             }
            },
            "type": "scattergl"
           }
          ],
          "scattermapbox": [
           {
            "marker": {
             "colorbar": {
              "outlinewidth": 0,
              "ticks": ""
             }
            },
            "type": "scattermapbox"
           }
          ],
          "scatterpolar": [
           {
            "marker": {
             "colorbar": {
              "outlinewidth": 0,
              "ticks": ""
             }
            },
            "type": "scatterpolar"
           }
          ],
          "scatterpolargl": [
           {
            "marker": {
             "colorbar": {
              "outlinewidth": 0,
              "ticks": ""
             }
            },
            "type": "scatterpolargl"
           }
          ],
          "scatterternary": [
           {
            "marker": {
             "colorbar": {
              "outlinewidth": 0,
              "ticks": ""
             }
            },
            "type": "scatterternary"
           }
          ],
          "surface": [
           {
            "colorbar": {
             "outlinewidth": 0,
             "ticks": ""
            },
            "colorscale": [
             [
              0,
              "#0d0887"
             ],
             [
              0.1111111111111111,
              "#46039f"
             ],
             [
              0.2222222222222222,
              "#7201a8"
             ],
             [
              0.3333333333333333,
              "#9c179e"
             ],
             [
              0.4444444444444444,
              "#bd3786"
             ],
             [
              0.5555555555555556,
              "#d8576b"
             ],
             [
              0.6666666666666666,
              "#ed7953"
             ],
             [
              0.7777777777777778,
              "#fb9f3a"
             ],
             [
              0.8888888888888888,
              "#fdca26"
             ],
             [
              1,
              "#f0f921"
             ]
            ],
            "type": "surface"
           }
          ],
          "table": [
           {
            "cells": {
             "fill": {
              "color": "#EBF0F8"
             },
             "line": {
              "color": "white"
             }
            },
            "header": {
             "fill": {
              "color": "#C8D4E3"
             },
             "line": {
              "color": "white"
             }
            },
            "type": "table"
           }
          ]
         },
         "layout": {
          "annotationdefaults": {
           "arrowcolor": "#2a3f5f",
           "arrowhead": 0,
           "arrowwidth": 1
          },
          "autotypenumbers": "strict",
          "coloraxis": {
           "colorbar": {
            "outlinewidth": 0,
            "ticks": ""
           }
          },
          "colorscale": {
           "diverging": [
            [
             0,
             "#8e0152"
            ],
            [
             0.1,
             "#c51b7d"
            ],
            [
             0.2,
             "#de77ae"
            ],
            [
             0.3,
             "#f1b6da"
            ],
            [
             0.4,
             "#fde0ef"
            ],
            [
             0.5,
             "#f7f7f7"
            ],
            [
             0.6,
             "#e6f5d0"
            ],
            [
             0.7,
             "#b8e186"
            ],
            [
             0.8,
             "#7fbc41"
            ],
            [
             0.9,
             "#4d9221"
            ],
            [
             1,
             "#276419"
            ]
           ],
           "sequential": [
            [
             0,
             "#0d0887"
            ],
            [
             0.1111111111111111,
             "#46039f"
            ],
            [
             0.2222222222222222,
             "#7201a8"
            ],
            [
             0.3333333333333333,
             "#9c179e"
            ],
            [
             0.4444444444444444,
             "#bd3786"
            ],
            [
             0.5555555555555556,
             "#d8576b"
            ],
            [
             0.6666666666666666,
             "#ed7953"
            ],
            [
             0.7777777777777778,
             "#fb9f3a"
            ],
            [
             0.8888888888888888,
             "#fdca26"
            ],
            [
             1,
             "#f0f921"
            ]
           ],
           "sequentialminus": [
            [
             0,
             "#0d0887"
            ],
            [
             0.1111111111111111,
             "#46039f"
            ],
            [
             0.2222222222222222,
             "#7201a8"
            ],
            [
             0.3333333333333333,
             "#9c179e"
            ],
            [
             0.4444444444444444,
             "#bd3786"
            ],
            [
             0.5555555555555556,
             "#d8576b"
            ],
            [
             0.6666666666666666,
             "#ed7953"
            ],
            [
             0.7777777777777778,
             "#fb9f3a"
            ],
            [
             0.8888888888888888,
             "#fdca26"
            ],
            [
             1,
             "#f0f921"
            ]
           ]
          },
          "colorway": [
           "#636efa",
           "#EF553B",
           "#00cc96",
           "#ab63fa",
           "#FFA15A",
           "#19d3f3",
           "#FF6692",
           "#B6E880",
           "#FF97FF",
           "#FECB52"
          ],
          "font": {
           "color": "#2a3f5f"
          },
          "geo": {
           "bgcolor": "white",
           "lakecolor": "white",
           "landcolor": "#E5ECF6",
           "showlakes": true,
           "showland": true,
           "subunitcolor": "white"
          },
          "hoverlabel": {
           "align": "left"
          },
          "hovermode": "closest",
          "mapbox": {
           "style": "light"
          },
          "paper_bgcolor": "white",
          "plot_bgcolor": "#E5ECF6",
          "polar": {
           "angularaxis": {
            "gridcolor": "white",
            "linecolor": "white",
            "ticks": ""
           },
           "bgcolor": "#E5ECF6",
           "radialaxis": {
            "gridcolor": "white",
            "linecolor": "white",
            "ticks": ""
           }
          },
          "scene": {
           "xaxis": {
            "backgroundcolor": "#E5ECF6",
            "gridcolor": "white",
            "gridwidth": 2,
            "linecolor": "white",
            "showbackground": true,
            "ticks": "",
            "zerolinecolor": "white"
           },
           "yaxis": {
            "backgroundcolor": "#E5ECF6",
            "gridcolor": "white",
            "gridwidth": 2,
            "linecolor": "white",
            "showbackground": true,
            "ticks": "",
            "zerolinecolor": "white"
           },
           "zaxis": {
            "backgroundcolor": "#E5ECF6",
            "gridcolor": "white",
            "gridwidth": 2,
            "linecolor": "white",
            "showbackground": true,
            "ticks": "",
            "zerolinecolor": "white"
           }
          },
          "shapedefaults": {
           "line": {
            "color": "#2a3f5f"
           }
          },
          "ternary": {
           "aaxis": {
            "gridcolor": "white",
            "linecolor": "white",
            "ticks": ""
           },
           "baxis": {
            "gridcolor": "white",
            "linecolor": "white",
            "ticks": ""
           },
           "bgcolor": "#E5ECF6",
           "caxis": {
            "gridcolor": "white",
            "linecolor": "white",
            "ticks": ""
           }
          },
          "title": {
           "x": 0.05
          },
          "xaxis": {
           "automargin": true,
           "gridcolor": "white",
           "linecolor": "white",
           "ticks": "",
           "title": {
            "standoff": 15
           },
           "zerolinecolor": "white",
           "zerolinewidth": 2
          },
          "yaxis": {
           "automargin": true,
           "gridcolor": "white",
           "linecolor": "white",
           "ticks": "",
           "title": {
            "standoff": 15
           },
           "zerolinecolor": "white",
           "zerolinewidth": 2
          }
         }
        },
        "title": {
         "text": "Contour Plot"
        },
        "xaxis": {
         "range": [
          9,
          31
         ],
         "title": {
          "text": "max_depth"
         }
        },
        "yaxis": {
         "range": [
          101.35,
          203.65
         ],
         "title": {
          "text": "n_estimators"
         }
        }
       }
      }
     },
     "metadata": {},
     "output_type": "display_data"
    }
   ],
   "source": [
    "# формируем и выводим график связи комбинаций гиперпараметров и целевой метрики\n",
    "optuna.visualization.plot_contour(study, params=[\"max_depth\", \"n_estimators\"],\n",
    "                                  target_name=\"f1_score\")"
   ]
  }
 ],
 "metadata": {
  "kernelspec": {
   "display_name": "Python 3 (ipykernel)",
   "language": "python",
   "name": "python3"
  },
  "language_info": {
   "codemirror_mode": {
    "name": "ipython",
    "version": 3
   },
   "file_extension": ".py",
   "mimetype": "text/x-python",
   "name": "python",
   "nbconvert_exporter": "python",
   "pygments_lexer": "ipython3",
   "version": "3.10.11"
  }
 },
 "nbformat": 4,
 "nbformat_minor": 5
}
