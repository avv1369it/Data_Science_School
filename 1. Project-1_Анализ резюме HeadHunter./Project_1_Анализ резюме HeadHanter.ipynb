{
 "cells": [
  {
   "cell_type": "markdown",
   "id": "42289889-bd57-434e-9637-d3e354756316",
   "metadata": {},
   "source": [
    "<center> <img src = https://raw.githubusercontent.com/AndreyRysistov/DatasetsForPandas/main/hh%20label.jpg alt=\"drawing\" style=\"width:400px;\">"
   ]
  },
  {
   "cell_type": "markdown",
   "id": "829cb75b-f14e-4ba8-9195-7ba929a7d656",
   "metadata": {
    "tags": []
   },
   "source": [
    "# <center> Проект: Анализ резюме из HeadHunter\n",
    "   "
   ]
  },
  {
   "cell_type": "code",
   "execution_count": 1,
   "id": "dccfde33-2452-43fb-a8a5-5c6ebc02a71d",
   "metadata": {},
   "outputs": [],
   "source": [
    "import pandas as pd\n",
    "import numpy as np\n",
    "import matplotlib.pyplot as plt\n",
    "import seaborn as sns\n",
    "import plotly.express as px"
   ]
  },
  {
   "attachments": {},
   "cell_type": "markdown",
   "id": "0dc6476b-7a00-44f1-ac93-6e3baed33a29",
   "metadata": {},
   "source": [
    "# **1. Исследование структуры данных**"
   ]
  },
  {
   "attachments": {},
   "cell_type": "markdown",
   "id": "a500bf0e",
   "metadata": {},
   "source": [
    "Скачать базу данных резюме HeadHanter вы можете [здесь](https://disk.yandex.ru/d/cqRaCguPepcFog).\n",
    "\n",
    "Скачать базу данных с курсом валют вы можете [здесь](https://disk.yandex.ru/d/IcvJzHwWGdL1ew).\n",
    "\n",
    "Скачать Jupyter Notebook с графиками вы можете [здесь](https://disk.yandex.ru/d/s2v_bCMlic8KcA)"
   ]
  },
  {
   "attachments": {},
   "cell_type": "markdown",
   "id": "889782b6-8d1c-410e-8920-e57f27917c64",
   "metadata": {},
   "source": [
    "## 1.1 Загружаем данные с помощью библиотеки Pandas (разделитель ';')."
   ]
  },
  {
   "cell_type": "code",
   "execution_count": 2,
   "id": "bc39e68e-ed02-4ee2-9235-7258a2f867a8",
   "metadata": {},
   "outputs": [],
   "source": [
    "data_hh = pd.read_csv('data/dst-3.0_16_1_hh_database.csv', sep=';')"
   ]
  },
  {
   "attachments": {},
   "cell_type": "markdown",
   "id": "b583485d-1f9e-494e-ada4-80ffff7c53d6",
   "metadata": {},
   "source": [
    "## 1.2 Выведим по 3 первых и последних строки таблицы."
   ]
  },
  {
   "cell_type": "code",
   "execution_count": 3,
   "id": "5408c52c-3407-4a63-b25b-1aafa2322d28",
   "metadata": {},
   "outputs": [
    {
     "data": {
      "text/html": [
       "<div>\n",
       "<style scoped>\n",
       "    .dataframe tbody tr th:only-of-type {\n",
       "        vertical-align: middle;\n",
       "    }\n",
       "\n",
       "    .dataframe tbody tr th {\n",
       "        vertical-align: top;\n",
       "    }\n",
       "\n",
       "    .dataframe thead th {\n",
       "        text-align: right;\n",
       "    }\n",
       "</style>\n",
       "<table border=\"1\" class=\"dataframe\">\n",
       "  <thead>\n",
       "    <tr style=\"text-align: right;\">\n",
       "      <th></th>\n",
       "      <th>Пол, возраст</th>\n",
       "      <th>ЗП</th>\n",
       "      <th>Ищет работу на должность:</th>\n",
       "      <th>Город, переезд, командировки</th>\n",
       "      <th>Занятость</th>\n",
       "      <th>График</th>\n",
       "      <th>Опыт работы</th>\n",
       "      <th>Последнее/нынешнее место работы</th>\n",
       "      <th>Последняя/нынешняя должность</th>\n",
       "      <th>Образование и ВУЗ</th>\n",
       "      <th>Обновление резюме</th>\n",
       "      <th>Авто</th>\n",
       "    </tr>\n",
       "  </thead>\n",
       "  <tbody>\n",
       "    <tr>\n",
       "      <th>0</th>\n",
       "      <td>Мужчина ,  39 лет , родился 27 ноября 1979</td>\n",
       "      <td>29000 руб.</td>\n",
       "      <td>Системный администратор</td>\n",
       "      <td>Советск (Калининградская область) , не готов к...</td>\n",
       "      <td>частичная занятость, проектная работа, полная ...</td>\n",
       "      <td>гибкий график, полный день, сменный график, ва...</td>\n",
       "      <td>Опыт работы 16 лет 10 месяцев  Август 2010 — п...</td>\n",
       "      <td>МАОУ \"СОШ № 1 г.Немана\"</td>\n",
       "      <td>Системный администратор</td>\n",
       "      <td>Неоконченное высшее образование 2000  Балтийск...</td>\n",
       "      <td>16.04.2019 15:59</td>\n",
       "      <td>Имеется собственный автомобиль</td>\n",
       "    </tr>\n",
       "  </tbody>\n",
       "</table>\n",
       "</div>"
      ],
      "text/plain": [
       "                                 Пол, возраст          ЗП  \\\n",
       "0  Мужчина ,  39 лет , родился 27 ноября 1979  29000 руб.   \n",
       "\n",
       "  Ищет работу на должность:  \\\n",
       "0   Системный администратор   \n",
       "\n",
       "                        Город, переезд, командировки  \\\n",
       "0  Советск (Калининградская область) , не готов к...   \n",
       "\n",
       "                                           Занятость  \\\n",
       "0  частичная занятость, проектная работа, полная ...   \n",
       "\n",
       "                                              График  \\\n",
       "0  гибкий график, полный день, сменный график, ва...   \n",
       "\n",
       "                                         Опыт работы  \\\n",
       "0  Опыт работы 16 лет 10 месяцев  Август 2010 — п...   \n",
       "\n",
       "  Последнее/нынешнее место работы Последняя/нынешняя должность  \\\n",
       "0         МАОУ \"СОШ № 1 г.Немана\"      Системный администратор   \n",
       "\n",
       "                                   Образование и ВУЗ Обновление резюме  \\\n",
       "0  Неоконченное высшее образование 2000  Балтийск...  16.04.2019 15:59   \n",
       "\n",
       "                             Авто  \n",
       "0  Имеется собственный автомобиль  "
      ]
     },
     "metadata": {},
     "output_type": "display_data"
    },
    {
     "data": {
      "text/html": [
       "<div>\n",
       "<style scoped>\n",
       "    .dataframe tbody tr th:only-of-type {\n",
       "        vertical-align: middle;\n",
       "    }\n",
       "\n",
       "    .dataframe tbody tr th {\n",
       "        vertical-align: top;\n",
       "    }\n",
       "\n",
       "    .dataframe thead th {\n",
       "        text-align: right;\n",
       "    }\n",
       "</style>\n",
       "<table border=\"1\" class=\"dataframe\">\n",
       "  <thead>\n",
       "    <tr style=\"text-align: right;\">\n",
       "      <th></th>\n",
       "      <th>Пол, возраст</th>\n",
       "      <th>ЗП</th>\n",
       "      <th>Ищет работу на должность:</th>\n",
       "      <th>Город, переезд, командировки</th>\n",
       "      <th>Занятость</th>\n",
       "      <th>График</th>\n",
       "      <th>Опыт работы</th>\n",
       "      <th>Последнее/нынешнее место работы</th>\n",
       "      <th>Последняя/нынешняя должность</th>\n",
       "      <th>Образование и ВУЗ</th>\n",
       "      <th>Обновление резюме</th>\n",
       "      <th>Авто</th>\n",
       "    </tr>\n",
       "  </thead>\n",
       "  <tbody>\n",
       "    <tr>\n",
       "      <th>44743</th>\n",
       "      <td>Мужчина ,  38 лет , родился 25 апреля 1980</td>\n",
       "      <td>120000 руб.</td>\n",
       "      <td>Руководитель проекта</td>\n",
       "      <td>Москва , не готов к переезду , не готов к кома...</td>\n",
       "      <td>полная занятость</td>\n",
       "      <td>полный день</td>\n",
       "      <td>Опыт работы 15 лет 10 месяцев  Руководитель пр...</td>\n",
       "      <td>ПАО ГК ТНС энерго</td>\n",
       "      <td>Руководитель отдела технической поддержки</td>\n",
       "      <td>Высшее образование 1997  Южно-Российский госуд...</td>\n",
       "      <td>05.07.2018 20:15</td>\n",
       "      <td>Не указано</td>\n",
       "    </tr>\n",
       "  </tbody>\n",
       "</table>\n",
       "</div>"
      ],
      "text/plain": [
       "                                     Пол, возраст           ЗП  \\\n",
       "44743  Мужчина ,  38 лет , родился 25 апреля 1980  120000 руб.   \n",
       "\n",
       "      Ищет работу на должность:  \\\n",
       "44743      Руководитель проекта   \n",
       "\n",
       "                            Город, переезд, командировки         Занятость  \\\n",
       "44743  Москва , не готов к переезду , не готов к кома...  полная занятость   \n",
       "\n",
       "            График                                        Опыт работы  \\\n",
       "44743  полный день  Опыт работы 15 лет 10 месяцев  Руководитель пр...   \n",
       "\n",
       "      Последнее/нынешнее место работы  \\\n",
       "44743               ПАО ГК ТНС энерго   \n",
       "\n",
       "                    Последняя/нынешняя должность  \\\n",
       "44743  Руководитель отдела технической поддержки   \n",
       "\n",
       "                                       Образование и ВУЗ Обновление резюме  \\\n",
       "44743  Высшее образование 1997  Южно-Российский госуд...  05.07.2018 20:15   \n",
       "\n",
       "             Авто  \n",
       "44743  Не указано  "
      ]
     },
     "metadata": {},
     "output_type": "display_data"
    }
   ],
   "source": [
    "display(data_hh.head(1))\n",
    "display(data_hh.tail(1))"
   ]
  },
  {
   "attachments": {},
   "cell_type": "markdown",
   "id": "f3dff7ad",
   "metadata": {},
   "source": [
    "### Комментарии / Выводы 1.2:\n",
    "1. Данные загружены корректно, видимых повреждений нет."
   ]
  },
  {
   "attachments": {},
   "cell_type": "markdown",
   "id": "a2bfff1f-c975-4bf6-84be-2185d79dcb76",
   "metadata": {},
   "source": [
    "## 1.3 Выводим основную информацию о столбцах, типах данных, количеству строк, столбцов и не пустых данных в таблице."
   ]
  },
  {
   "cell_type": "code",
   "execution_count": 4,
   "id": "0a0bec3b",
   "metadata": {},
   "outputs": [
    {
     "name": "stdout",
     "output_type": "stream",
     "text": [
      "<class 'pandas.core.frame.DataFrame'>\n",
      "RangeIndex: 44744 entries, 0 to 44743\n",
      "Data columns (total 12 columns):\n",
      " #   Column                           Non-Null Count  Dtype \n",
      "---  ------                           --------------  ----- \n",
      " 0   Пол, возраст                     44744 non-null  object\n",
      " 1   ЗП                               44744 non-null  object\n",
      " 2   Ищет работу на должность:        44744 non-null  object\n",
      " 3   Город, переезд, командировки     44744 non-null  object\n",
      " 4   Занятость                        44744 non-null  object\n",
      " 5   График                           44744 non-null  object\n",
      " 6   Опыт работы                      44576 non-null  object\n",
      " 7   Последнее/нынешнее место работы  44743 non-null  object\n",
      " 8   Последняя/нынешняя должность     44742 non-null  object\n",
      " 9   Образование и ВУЗ                44744 non-null  object\n",
      " 10  Обновление резюме                44744 non-null  object\n",
      " 11  Авто                             44744 non-null  object\n",
      "dtypes: object(12)\n",
      "memory usage: 4.1+ MB\n"
     ]
    },
    {
     "data": {
      "text/plain": [
       "None"
      ]
     },
     "metadata": {},
     "output_type": "display_data"
    }
   ],
   "source": [
    "display(data_hh.info())"
   ]
  },
  {
   "attachments": {},
   "cell_type": "markdown",
   "id": "e7c358df",
   "metadata": {},
   "source": [
    "### Комментарии / Выводы 1.3:\n",
    "1. В загруженной таблице всего 44744 строки (0, 44743) и 12 столбцов (0, 11). \n",
    "2. Во всех столбцах тип данных -'object'. \n",
    "3. Имеются пустые данные в 3 столбцах - 'Опыт работы', 'Последнее / нынешнее место работы', 'Последняя / нынешняя должность'."
   ]
  },
  {
   "attachments": {},
   "cell_type": "markdown",
   "id": "b12eebfc",
   "metadata": {},
   "source": [
    "## 1.4 Выводим информацию о размере таблице (строки х столбцы)."
   ]
  },
  {
   "cell_type": "code",
   "execution_count": 5,
   "id": "c85b08da",
   "metadata": {},
   "outputs": [
    {
     "data": {
      "text/plain": [
       "(44744, 12)"
      ]
     },
     "metadata": {},
     "output_type": "display_data"
    }
   ],
   "source": [
    "display(data_hh.shape)"
   ]
  },
  {
   "attachments": {},
   "cell_type": "markdown",
   "id": "9a8a2181-6914-448b-85f1-38f5f18b8a93",
   "metadata": {},
   "source": [
    "## 1.5 Выводим статистическую информацию о столбцах.\n"
   ]
  },
  {
   "cell_type": "code",
   "execution_count": 6,
   "id": "be4e9bd3-a4db-4a20-82fb-6b02fc2957e0",
   "metadata": {},
   "outputs": [
    {
     "data": {
      "text/html": [
       "<div>\n",
       "<style scoped>\n",
       "    .dataframe tbody tr th:only-of-type {\n",
       "        vertical-align: middle;\n",
       "    }\n",
       "\n",
       "    .dataframe tbody tr th {\n",
       "        vertical-align: top;\n",
       "    }\n",
       "\n",
       "    .dataframe thead th {\n",
       "        text-align: right;\n",
       "    }\n",
       "</style>\n",
       "<table border=\"1\" class=\"dataframe\">\n",
       "  <thead>\n",
       "    <tr style=\"text-align: right;\">\n",
       "      <th></th>\n",
       "      <th>Пол, возраст</th>\n",
       "      <th>ЗП</th>\n",
       "      <th>Ищет работу на должность:</th>\n",
       "      <th>Город, переезд, командировки</th>\n",
       "      <th>Занятость</th>\n",
       "      <th>График</th>\n",
       "      <th>Опыт работы</th>\n",
       "      <th>Последнее/нынешнее место работы</th>\n",
       "      <th>Последняя/нынешняя должность</th>\n",
       "      <th>Образование и ВУЗ</th>\n",
       "      <th>Обновление резюме</th>\n",
       "      <th>Авто</th>\n",
       "    </tr>\n",
       "  </thead>\n",
       "  <tbody>\n",
       "    <tr>\n",
       "      <th>count</th>\n",
       "      <td>44744</td>\n",
       "      <td>44744</td>\n",
       "      <td>44744</td>\n",
       "      <td>44744</td>\n",
       "      <td>44744</td>\n",
       "      <td>44744</td>\n",
       "      <td>44576</td>\n",
       "      <td>44743</td>\n",
       "      <td>44742</td>\n",
       "      <td>44744</td>\n",
       "      <td>44744</td>\n",
       "      <td>44744</td>\n",
       "    </tr>\n",
       "    <tr>\n",
       "      <th>unique</th>\n",
       "      <td>16003</td>\n",
       "      <td>690</td>\n",
       "      <td>14929</td>\n",
       "      <td>10063</td>\n",
       "      <td>38</td>\n",
       "      <td>47</td>\n",
       "      <td>44413</td>\n",
       "      <td>30214</td>\n",
       "      <td>16927</td>\n",
       "      <td>40148</td>\n",
       "      <td>18838</td>\n",
       "      <td>2</td>\n",
       "    </tr>\n",
       "    <tr>\n",
       "      <th>top</th>\n",
       "      <td>Мужчина ,  32 года , родился 17 сентября 1986</td>\n",
       "      <td>50000 руб.</td>\n",
       "      <td>Системный администратор</td>\n",
       "      <td>Москва , не готов к переезду , не готов к кома...</td>\n",
       "      <td>полная занятость</td>\n",
       "      <td>полный день</td>\n",
       "      <td>Опыт работы 10 лет 8 месяцев  Апрель 2018 — по...</td>\n",
       "      <td>Индивидуальное предпринимательство / частная п...</td>\n",
       "      <td>Системный администратор</td>\n",
       "      <td>Высшее образование 1987 Военный инженерный Кра...</td>\n",
       "      <td>07.05.2019 09:50</td>\n",
       "      <td>Не указано</td>\n",
       "    </tr>\n",
       "    <tr>\n",
       "      <th>freq</th>\n",
       "      <td>18</td>\n",
       "      <td>4064</td>\n",
       "      <td>3099</td>\n",
       "      <td>1261</td>\n",
       "      <td>30026</td>\n",
       "      <td>22727</td>\n",
       "      <td>3</td>\n",
       "      <td>935</td>\n",
       "      <td>2062</td>\n",
       "      <td>4</td>\n",
       "      <td>25</td>\n",
       "      <td>32268</td>\n",
       "    </tr>\n",
       "  </tbody>\n",
       "</table>\n",
       "</div>"
      ],
      "text/plain": [
       "                                         Пол, возраст          ЗП  \\\n",
       "count                                           44744       44744   \n",
       "unique                                          16003         690   \n",
       "top     Мужчина ,  32 года , родился 17 сентября 1986  50000 руб.   \n",
       "freq                                               18        4064   \n",
       "\n",
       "       Ищет работу на должность:  \\\n",
       "count                      44744   \n",
       "unique                     14929   \n",
       "top      Системный администратор   \n",
       "freq                        3099   \n",
       "\n",
       "                             Город, переезд, командировки         Занятость  \\\n",
       "count                                               44744             44744   \n",
       "unique                                              10063                38   \n",
       "top     Москва , не готов к переезду , не готов к кома...  полная занятость   \n",
       "freq                                                 1261             30026   \n",
       "\n",
       "             График                                        Опыт работы  \\\n",
       "count         44744                                              44576   \n",
       "unique           47                                              44413   \n",
       "top     полный день  Опыт работы 10 лет 8 месяцев  Апрель 2018 — по...   \n",
       "freq          22727                                                  3   \n",
       "\n",
       "                          Последнее/нынешнее место работы  \\\n",
       "count                                               44743   \n",
       "unique                                              30214   \n",
       "top     Индивидуальное предпринимательство / частная п...   \n",
       "freq                                                  935   \n",
       "\n",
       "       Последняя/нынешняя должность  \\\n",
       "count                         44742   \n",
       "unique                        16927   \n",
       "top         Системный администратор   \n",
       "freq                           2062   \n",
       "\n",
       "                                        Образование и ВУЗ Обновление резюме  \\\n",
       "count                                               44744             44744   \n",
       "unique                                              40148             18838   \n",
       "top     Высшее образование 1987 Военный инженерный Кра...  07.05.2019 09:50   \n",
       "freq                                                    4                25   \n",
       "\n",
       "              Авто  \n",
       "count        44744  \n",
       "unique           2  \n",
       "top     Не указано  \n",
       "freq         32268  "
      ]
     },
     "metadata": {},
     "output_type": "display_data"
    }
   ],
   "source": [
    "display(data_hh.describe(include=object))"
   ]
  },
  {
   "attachments": {},
   "cell_type": "markdown",
   "id": "0e13e487",
   "metadata": {},
   "source": [
    "### Комментарии / Выводы 1.5:\n",
    "1. Так как все данные в столбцах категории 'object' выводим информацию толька для данной категории."
   ]
  },
  {
   "attachments": {},
   "cell_type": "markdown",
   "id": "7309adb4",
   "metadata": {},
   "source": [
    "## 1.6 Выводим информацию о количестве уникальных значений в столбце \"Опыт работы\"."
   ]
  },
  {
   "cell_type": "code",
   "execution_count": 7,
   "id": "423819e8",
   "metadata": {},
   "outputs": [
    {
     "name": "stdout",
     "output_type": "stream",
     "text": [
      "Количество уникальных значений в столбце \"Опыт работы\": 44413\n"
     ]
    }
   ],
   "source": [
    "nunique_job = data_hh['Опыт работы'].nunique()\n",
    "print(f'Количество уникальных значений в столбце \"Опыт работы\": {nunique_job}')"
   ]
  },
  {
   "attachments": {},
   "cell_type": "markdown",
   "id": "28e91971",
   "metadata": {},
   "source": [
    "## 1.7 Выводим информацию о самой распространенной должности из искомых."
   ]
  },
  {
   "cell_type": "code",
   "execution_count": 8,
   "id": "612625f1",
   "metadata": {},
   "outputs": [
    {
     "name": "stdout",
     "output_type": "stream",
     "text": [
      "Системный администратор    3099\n",
      "Name: Ищет работу на должность:, dtype: int64\n"
     ]
    }
   ],
   "source": [
    "print(data_hh['Ищет работу на должность:'].value_counts().nlargest(1))"
   ]
  },
  {
   "attachments": {},
   "cell_type": "markdown",
   "id": "8d62a9f3-f64e-4fe7-bdac-c4dffa16155e",
   "metadata": {},
   "source": [
    "# **2. Преобразование данных**"
   ]
  },
  {
   "attachments": {},
   "cell_type": "markdown",
   "id": "f474193a",
   "metadata": {},
   "source": [
    "## 2.1 Преобразование данных с признаком \"Образование и ВУЗ\"."
   ]
  },
  {
   "cell_type": "code",
   "execution_count": 9,
   "id": "3f069da6-fdc9-4ae7-b514-fafe2675efd3",
   "metadata": {},
   "outputs": [],
   "source": [
    "# описываем функцию для выделения 4 категорий признака \"Образования\" \n",
    "def get_education(string):\n",
    "    if 'Высшее образование' in string:\n",
    "        return 'высшее'\n",
    "    elif 'Неоконченное высшее образование' in string:\n",
    "        return 'неоконченное высшее'\n",
    "    elif 'Среднее специальное образование' in string:\n",
    "        return 'среднее специальное'\n",
    "    elif 'Среднее образование' in string:\n",
    "        return 'среднее'\n",
    "    else:\n",
    "        return"
   ]
  },
  {
   "cell_type": "code",
   "execution_count": 10,
   "id": "f515f640",
   "metadata": {},
   "outputs": [
    {
     "data": {
      "text/plain": [
       "44744"
      ]
     },
     "metadata": {},
     "output_type": "display_data"
    }
   ],
   "source": [
    "# создаем новый признак \"Образование\" применив к нему функцию education\n",
    "data_hh['Образование'] = data_hh['Образование и ВУЗ'].apply(get_education)\n",
    "# выводим информацию по созданному признаку \"Образование\"\n",
    "# display(data_hh['Образование'].value_counts())\n",
    "# display(data_hh['Образование'].value_counts(normalize=True).round(3)*100)\n",
    "# выводим информацию по количестуву заполненых строк (проверка данных)\n",
    "display(data_hh['Образование'].count())"
   ]
  },
  {
   "cell_type": "code",
   "execution_count": 11,
   "id": "49c30e31",
   "metadata": {},
   "outputs": [],
   "source": [
    "# удаляем признак \"Образование и ВУЗ\"\n",
    "data_hh = data_hh.drop('Образование и ВУЗ', axis=1)"
   ]
  },
  {
   "cell_type": "code",
   "execution_count": 12,
   "id": "80b306fa",
   "metadata": {},
   "outputs": [],
   "source": [
    "# проверка данных\n",
    "# display(data_hh.info())"
   ]
  },
  {
   "attachments": {},
   "cell_type": "markdown",
   "id": "e9d36314",
   "metadata": {},
   "source": [
    "### Комментарии / Выводы 2.1:\n",
    "1. Был сформирован новый признак \"Образование\" с выделением 4 категорий;\n",
    "2. Колличество кандидатов по категориям распределилось следующим образом: \"Высшее образование\" - 33863 (75.7%), \"Среднее специальное\" - 5765 (12.9%), \"Неоконченное высшее\" - 4557 (10.2%), \"Среднее\" - 559 (1.2%)."
   ]
  },
  {
   "attachments": {},
   "cell_type": "markdown",
   "id": "d1c1ff1e",
   "metadata": {},
   "source": [
    "## 2.2 Преобразование данных с признаком \"Пол, возраст\"."
   ]
  },
  {
   "cell_type": "code",
   "execution_count": 13,
   "id": "0c44b350-72eb-4d65-8b54-a1fc449ba9fd",
   "metadata": {},
   "outputs": [],
   "source": [
    "# описываем функцию для выделения пола кандидатов\n",
    "def get_sex(string):\n",
    "    return (\"M\" if 'Мужчина' in string else \"Ж\")\n",
    "\n",
    "# описываем функцию для выделения возраста кандидатов\n",
    "def get_age (string):\n",
    "    string_split = string.split(',')[1].strip()\n",
    "    return string_split.split()[0]"
   ]
  },
  {
   "cell_type": "code",
   "execution_count": 14,
   "id": "468936b9",
   "metadata": {},
   "outputs": [
    {
     "data": {
      "text/plain": [
       "44744"
      ]
     },
     "metadata": {},
     "output_type": "display_data"
    }
   ],
   "source": [
    "# создаем столбец \"Пол\" и выводим необходимую информацию\n",
    "data_hh['Пол'] = data_hh['Пол, возраст'].apply(get_sex)\n",
    "#display(data_hh['Пол'].value_counts())\n",
    "#display(data_hh['Пол'].value_counts(normalize=True).round(4)*100)\n",
    "display(data_hh['Пол'].count())"
   ]
  },
  {
   "cell_type": "code",
   "execution_count": 15,
   "id": "84f247a6",
   "metadata": {},
   "outputs": [
    {
     "name": "stdout",
     "output_type": "stream",
     "text": [
      "Средний возраст кандидатов составляет: 32.2\n"
     ]
    }
   ],
   "source": [
    "# создаем столбец \"Возраст\" и выводим необходимую информацию\n",
    "data_hh['Возраст'] = data_hh['Пол, возраст'].apply(get_age)\n",
    "# меняем тип данных в столбце \"Возраст\" на int\n",
    "data_hh['Возраст'] = data_hh['Возраст'].astype(int)\n",
    "#display(data_hh['Возраст'].describe())\n",
    "#display(data_hh['Возраст'].count())\n",
    "\n",
    "mean_age = data_hh['Возраст'].mean().round(1)\n",
    "print(f'Средний возраст кандидатов составляет: {mean_age}')\n"
   ]
  },
  {
   "cell_type": "code",
   "execution_count": 16,
   "id": "9f37be8c",
   "metadata": {},
   "outputs": [],
   "source": [
    "# удаляем признак \"Пол, возраст\"\n",
    "data_hh = data_hh.drop('Пол, возраст', axis=1)\n",
    "# display(data_hh.info())"
   ]
  },
  {
   "attachments": {},
   "cell_type": "markdown",
   "id": "d22fbf36",
   "metadata": {},
   "source": [
    "### Комментарии / Выводы 2.2:\n",
    "1. С учетом проведенных преобразований мы получили 2 признака - \"Пол\" и \"Возраст\";\n",
    "2. В базе данных мужчины составляют 81%, женщины - 19%;\n",
    "3. Средний возраст кандидатов - 32 года;\n",
    "4. Требует внимания показатель максимальный возраст - 100 лет. "
   ]
  },
  {
   "attachments": {},
   "cell_type": "markdown",
   "id": "e42cd6f3",
   "metadata": {},
   "source": [
    "## 2.3 Преобразование данных с признаком \"Опыт работы\"."
   ]
  },
  {
   "cell_type": "code",
   "execution_count": 17,
   "id": "603cdbe4-0ec3-4106-8eaf-c73fcdd29165",
   "metadata": {},
   "outputs": [],
   "source": [
    "# описываем функцию для выделения стажа работы\n",
    "def get_work_expirience (strings):\n",
    "  \n",
    "    if strings is np.nan or strings == \"Не указано\":\n",
    "        return np.nan\n",
    "    \n",
    "    strings = str(strings)\n",
    "    string = strings[:40].split()\n",
    "    \n",
    "    years, months = 0, 0\n",
    "    for i in range(len(string)):\n",
    "        if string[i] in ['лет', 'года', 'год']:\n",
    "            years = string[i - 1]\n",
    "    for j in range(len(string)):\n",
    "        if string[j] in ['месяц', 'месяца', 'месяцев']:\n",
    "            months = string[j - 1]\n",
    "    return int(years) * 12 + int(months)"
   ]
  },
  {
   "cell_type": "code",
   "execution_count": 18,
   "id": "e7cf54f6",
   "metadata": {},
   "outputs": [
    {
     "data": {
      "text/plain": [
       "44574"
      ]
     },
     "metadata": {},
     "output_type": "display_data"
    }
   ],
   "source": [
    "# Создаем новый признак \"Опыт работы (месяц)\"\n",
    "data_hh['Опыт работы (месяц)'] = data_hh['Опыт работы'].apply(get_work_expirience)\n",
    "# проверяем количество non-null строк\n",
    "display(data_hh['Опыт работы (месяц)'].count())"
   ]
  },
  {
   "cell_type": "code",
   "execution_count": 19,
   "id": "55d09c21",
   "metadata": {},
   "outputs": [
    {
     "name": "stdout",
     "output_type": "stream",
     "text": [
      "Медианный опыт работы (в месяцах) кандидатов составляет: 100.0\n"
     ]
    }
   ],
   "source": [
    "# определяем медианный опыт работы кандидатов\n",
    "mean_work_experience = data_hh['Опыт работы (месяц)'].median()\n",
    "\n",
    "print(f'Медианный опыт работы (в месяцах) кандидатов составляет: {mean_work_experience}')"
   ]
  },
  {
   "cell_type": "code",
   "execution_count": 20,
   "id": "a54a702d",
   "metadata": {},
   "outputs": [],
   "source": [
    "# удаляем признак \"Опыт работы\"\n",
    "data_hh = data_hh.drop('Опыт работы', axis=1)\n",
    "# display(data_hh.info())"
   ]
  },
  {
   "cell_type": "code",
   "execution_count": 21,
   "id": "17f5842a",
   "metadata": {},
   "outputs": [
    {
     "data": {
      "text/plain": [
       "count    44574.000000\n",
       "mean       114.418944\n",
       "std         79.047861\n",
       "min          1.000000\n",
       "25%         57.000000\n",
       "50%        100.000000\n",
       "75%        154.000000\n",
       "max       1188.000000\n",
       "Name: Опыт работы (месяц), dtype: float64"
      ]
     },
     "metadata": {},
     "output_type": "display_data"
    }
   ],
   "source": [
    "# выводим статестические данные по признаку \"Опыт работы (месяцы)\"\n",
    "display(data_hh['Опыт работы (месяц)'].describe())"
   ]
  },
  {
   "attachments": {},
   "cell_type": "markdown",
   "id": "26b2ad95",
   "metadata": {},
   "source": [
    "### Комментарии / Выводы 2.3:\n",
    "1. С учетом проведенных преобразований мы получили признак - \"Опыт работы (месяцах)\";\n",
    "2. Согласно статистических данных: средний опыт работы - 114.4 месяца, медиана - 100 месяцев;\n",
    "3. Вызывает сомнения максимальный опыт - 1188 месяцев или 99 лет.\n"
   ]
  },
  {
   "attachments": {},
   "cell_type": "markdown",
   "id": "40c4e627",
   "metadata": {},
   "source": [
    "## 2.4 Преобразование данных с признаком \"Город, переезд, командировки\"."
   ]
  },
  {
   "cell_type": "code",
   "execution_count": 22,
   "id": "1ea710ec-871b-431e-9462-c7d0fd87011b",
   "metadata": {},
   "outputs": [],
   "source": [
    "# создаем функцию для создания признака \"Город\"\n",
    "def get_city(string):\n",
    "    million_cities = [\"Новосибирск\", \"Екатеринбург\", \"Нижний Новгород\", \"Казань\", \"Челябинск\", \"Омск\", \"Самара\",\n",
    "                      \"Ростов-на-Дону\", \"Уфа\", \"Красноярск\", \"Пермь\", \"Воронеж\",\"Волгоград\"]\n",
    "    string_split = string.split()\n",
    "    if string_split[0] == \"Москва\":\n",
    "        return \"Москва\"\n",
    "    elif string_split[0] == \"Санкт-Петербург\":\n",
    "        return \"Санкт-Петербург\"\n",
    "    elif string_split[0] in million_cities:\n",
    "        return \"город миллионник\"\n",
    "    else:\n",
    "        return \"другие\""
   ]
  },
  {
   "cell_type": "code",
   "execution_count": 23,
   "id": "11227a92",
   "metadata": {},
   "outputs": [
    {
     "data": {
      "text/plain": [
       "11.0"
      ]
     },
     "metadata": {},
     "output_type": "display_data"
    }
   ],
   "source": [
    "# создаем новый признак \"Город\"\n",
    "data_hh[\"Город\"] = data_hh[\"Город, переезд, командировки\"].apply(get_city)\n",
    "# выводим информацию по распределению кандидатов в разрезе города Санкт-Петербург\n",
    "display(data_hh['Город'].value_counts(normalize=True)['Санкт-Петербург'].round(2)*100)"
   ]
  },
  {
   "cell_type": "code",
   "execution_count": 24,
   "id": "b31c8a71",
   "metadata": {},
   "outputs": [
    {
     "data": {
      "text/plain": [
       "Москва              0.371469\n",
       "другие              0.367692\n",
       "город миллионник    0.150501\n",
       "Санкт-Петербург     0.110339\n",
       "Name: Город, dtype: float64"
      ]
     },
     "metadata": {},
     "output_type": "display_data"
    }
   ],
   "source": [
    "# выводим информацию по распределению кандидатов в разрезе городов РФ\n",
    "display(data_hh['Город'].value_counts(normalize=True))"
   ]
  },
  {
   "cell_type": "code",
   "execution_count": 25,
   "id": "c647b259",
   "metadata": {},
   "outputs": [],
   "source": [
    "# описываем функцию для нового признака \"Готовность к переезду\"\n",
    "def get_relocation(string):\n",
    "    if  ('не готов к переезду' in string) or ('не готова к переезду' in string):\n",
    "        return False\n",
    "    elif 'хочу' in string:\n",
    "        return True\n",
    "    else:\n",
    "        return True"
   ]
  },
  {
   "cell_type": "code",
   "execution_count": 26,
   "id": "3ae895c9",
   "metadata": {},
   "outputs": [
    {
     "data": {
      "text/plain": [
       "False    28719\n",
       "True     16025\n",
       "Name: Готовность к переезду, dtype: int64"
      ]
     },
     "metadata": {},
     "output_type": "display_data"
    }
   ],
   "source": [
    "# создаем новый признак \"Готовность к переезду\"\n",
    "data_hh['Готовность к переезду'] = data_hh['Город, переезд, командировки'].apply(get_relocation)\n",
    "# проверяем количество записей\n",
    "display(data_hh['Готовность к переезду'].value_counts())"
   ]
  },
  {
   "cell_type": "code",
   "execution_count": 27,
   "id": "0e096f10",
   "metadata": {},
   "outputs": [],
   "source": [
    "# описываем функцию для нового признака \"Готовность к командировкам\" !!! Не смог добиться идентичных цифр, фзял образец функции\n",
    "def get_ready_for_bisiness_trips(arg):\n",
    "    if ('командировка' in arg):\n",
    "        if ('не готов к командировкам' in arg) or('не готова к командировкам' in arg):\n",
    "            return False\n",
    "        else: \n",
    "            \n",
    "            return True\n",
    "    else:\n",
    "        return False"
   ]
  },
  {
   "cell_type": "code",
   "execution_count": 28,
   "id": "c551f532",
   "metadata": {},
   "outputs": [
    {
     "data": {
      "text/plain": [
       "True     31640\n",
       "False    13104\n",
       "Name: Готовность к командировкам, dtype: int64"
      ]
     },
     "metadata": {},
     "output_type": "display_data"
    }
   ],
   "source": [
    "# создаем новый признак \"Готовность к командировкам\"\n",
    "data_hh['Готовность к командировкам'] = data_hh['Город, переезд, командировки'].apply(get_ready_for_bisiness_trips)\n",
    "# проверяем количество записей\n",
    "display(data_hh['Готовность к командировкам'].value_counts())"
   ]
  },
  {
   "cell_type": "code",
   "execution_count": 29,
   "id": "eeb5f677",
   "metadata": {},
   "outputs": [
    {
     "name": "stdout",
     "output_type": "stream",
     "text": [
      "Количество кандидатов готовых к переезду и командировкам одновременно составляет 32 % от общего количества.\n"
     ]
    }
   ],
   "source": [
    "# выводим информацию о количестве кандидатов готовых к релокации и командировкам\n",
    "mask_1 = data_hh['Готовность к командировкам'] == True \n",
    "mask_2 = data_hh['Готовность к переезду'] == True\n",
    "index = data_hh[mask_1 & mask_2].shape[0] / data_hh.shape[0] * 100\n",
    "print(f'Количество кандидатов готовых к переезду и командировкам одновременно составляет{index: 0.0f} % от общего количества.')"
   ]
  },
  {
   "cell_type": "code",
   "execution_count": 30,
   "id": "cf27559a",
   "metadata": {},
   "outputs": [],
   "source": [
    "# удаляем признак \"Город, переезд, командировки\"\n",
    "data_hh = data_hh.drop('Город, переезд, командировки', axis=1)"
   ]
  },
  {
   "cell_type": "code",
   "execution_count": 31,
   "id": "036dd74e",
   "metadata": {},
   "outputs": [
    {
     "name": "stdout",
     "output_type": "stream",
     "text": [
      "<class 'pandas.core.frame.DataFrame'>\n",
      "RangeIndex: 44744 entries, 0 to 44743\n",
      "Data columns (total 15 columns):\n",
      " #   Column                           Non-Null Count  Dtype  \n",
      "---  ------                           --------------  -----  \n",
      " 0   ЗП                               44744 non-null  object \n",
      " 1   Ищет работу на должность:        44744 non-null  object \n",
      " 2   Занятость                        44744 non-null  object \n",
      " 3   График                           44744 non-null  object \n",
      " 4   Последнее/нынешнее место работы  44743 non-null  object \n",
      " 5   Последняя/нынешняя должность     44742 non-null  object \n",
      " 6   Обновление резюме                44744 non-null  object \n",
      " 7   Авто                             44744 non-null  object \n",
      " 8   Образование                      44744 non-null  object \n",
      " 9   Пол                              44744 non-null  object \n",
      " 10  Возраст                          44744 non-null  int64  \n",
      " 11  Опыт работы (месяц)              44574 non-null  float64\n",
      " 12  Город                            44744 non-null  object \n",
      " 13  Готовность к переезду            44744 non-null  bool   \n",
      " 14  Готовность к командировкам       44744 non-null  bool   \n",
      "dtypes: bool(2), float64(1), int64(1), object(11)\n",
      "memory usage: 4.5+ MB\n"
     ]
    },
    {
     "data": {
      "text/plain": [
       "None"
      ]
     },
     "metadata": {},
     "output_type": "display_data"
    }
   ],
   "source": [
    "# выводим информацию для проверки\n",
    "display(data_hh.info())"
   ]
  },
  {
   "attachments": {},
   "cell_type": "markdown",
   "id": "6b5c7edd",
   "metadata": {},
   "source": [
    "### Комментарии / Выводы 2.4:\n",
    "1. В результате преобразований были выделены 3 новых признака \"Город\", \"Готовность к переезду\", \"Готовность к командировкам\";\n",
    "2. Согласно анализа данных основное количество кандидатов представлено в г.Москва - 37%;\n",
    "3. В части признака \"Готовность к переезду\" - большая часть кандидатов не готова к переезду, в разрезе \"Готовность к командировкам\" -противоположная статистика;\n",
    "4. 32% кандидатов готовы и к переезду и к командировкам. "
   ]
  },
  {
   "attachments": {},
   "cell_type": "markdown",
   "id": "ef729c75",
   "metadata": {},
   "source": [
    "## 2.5 Преобразование данных по признакам \"Занятость\" и \"График\"."
   ]
  },
  {
   "cell_type": "code",
   "execution_count": 32,
   "id": "5b3a8e79-f7ab-4008-b767-12aea3a205ea",
   "metadata": {},
   "outputs": [],
   "source": [
    "# создаем новые признаки\n",
    "data_hh['полная занятость'] = data_hh['Занятость'].apply(lambda x: 'полная занятость' in x)\n",
    "data_hh['частичная занятость'] = data_hh['Занятость'].apply(lambda x: 'частичная занятость' in x)\n",
    "data_hh['проектная работа'] = data_hh['Занятость'].apply(lambda x: 'проектная работа' in x)\n",
    "data_hh['стажировка'] = data_hh['Занятость'].apply(lambda x: 'стажировка' in x)\n",
    "data_hh['волонтерство'] = data_hh['Занятость'].apply(lambda x: 'волонтерство' in x)\n",
    "\n",
    "data_hh['полный день'] = data_hh['График'].apply(lambda x: 'полный день' in x)\n",
    "data_hh['гибкий график'] = data_hh['График'].apply(lambda x: 'гибкий график' in x)\n",
    "data_hh['сменный график'] = data_hh['График'].apply(lambda x: 'сменный график' in x)\n",
    "data_hh['вахтовый метод'] = data_hh['График'].apply(lambda x: 'вахтовый метод' in x)\n",
    "data_hh['удаленная работа'] = data_hh['График'].apply(lambda x: 'удаленная работа' in x)\n",
    "\n",
    "# проверяем наличие записей в таблице\n",
    "# display(data_hh.info())"
   ]
  },
  {
   "cell_type": "code",
   "execution_count": 33,
   "id": "fcf1f187",
   "metadata": {},
   "outputs": [
    {
     "name": "stdout",
     "output_type": "stream",
     "text": [
      "Количество кандидатов готовых работать на проектной работе и совмещать волонтерство: 436\n"
     ]
    }
   ],
   "source": [
    "# выводим информацию по количеству кандидатов которые ищут проектную работу и волонтерство (в обоих столбцах стоит True)\n",
    "mask_3 = data_hh['проектная работа'] == True\n",
    "mask_4 = data_hh['волонтерство'] == True\n",
    "\n",
    "print(f'Количество кандидатов готовых работать на проектной работе и совмещать волонтерство: {(data_hh[mask_3 & mask_4]).shape[0]}')"
   ]
  },
  {
   "cell_type": "code",
   "execution_count": 34,
   "id": "c2fe6a5f",
   "metadata": {},
   "outputs": [
    {
     "name": "stdout",
     "output_type": "stream",
     "text": [
      "Количество кандидатов готовых работать вахтовым методом с гибким графиком: 2311\n"
     ]
    }
   ],
   "source": [
    "# выводим информацию готовых работать вахтовым методом с гибким графиком (в обоих столбцах стоит True)\n",
    "mask_5 = data_hh['вахтовый метод'] == True\n",
    "mask_6 = data_hh['гибкий график'] == True\n",
    "\n",
    "print(f'Количество кандидатов готовых работать вахтовым методом с гибким графиком: {(data_hh[mask_5 & mask_6]).shape[0]}')"
   ]
  },
  {
   "cell_type": "code",
   "execution_count": 35,
   "id": "71f1f0d5",
   "metadata": {},
   "outputs": [],
   "source": [
    "# удаляем признаки \"Занятость\" и \"График\"\n",
    "data_hh = data_hh.drop('Занятость', axis=1)\n",
    "data_hh = data_hh.drop('График', axis=1)"
   ]
  },
  {
   "cell_type": "code",
   "execution_count": 36,
   "id": "fc5bbe7c",
   "metadata": {},
   "outputs": [],
   "source": [
    "# проверяем наличие записей в таблицу\n",
    "# display(data_hh.info())"
   ]
  },
  {
   "attachments": {},
   "cell_type": "markdown",
   "id": "f4cdffc8",
   "metadata": {},
   "source": [
    "### Комментарии / Выводы 2.5:\n",
    "1. В результате преобразований были созданы признаки-мигалки для категориий из признаков \"Занятость\" и \"График\" в соответсвии с методом преобразования категориальных признаков \"One Hot Encoding\"."
   ]
  },
  {
   "attachments": {},
   "cell_type": "markdown",
   "id": "3642153a",
   "metadata": {},
   "source": [
    "## 2.6 Преобразование данных по признаку \"ЗП\" - заработная плата."
   ]
  },
  {
   "cell_type": "code",
   "execution_count": 37,
   "id": "e91f87ed-e25c-4f96-9f92-b642e8c0b4fa",
   "metadata": {},
   "outputs": [],
   "source": [
    "# загружаем DataFrame с курсами валют\n",
    "data_curr = pd.read_csv('data/ExchangeRates.csv')"
   ]
  },
  {
   "cell_type": "code",
   "execution_count": 38,
   "id": "6970c6a9",
   "metadata": {},
   "outputs": [
    {
     "name": "stdout",
     "output_type": "stream",
     "text": [
      "<class 'pandas.core.frame.DataFrame'>\n",
      "RangeIndex: 5664 entries, 0 to 5663\n",
      "Data columns (total 7 columns):\n",
      " #   Column      Non-Null Count  Dtype  \n",
      "---  ------      --------------  -----  \n",
      " 0   currency    5664 non-null   object \n",
      " 1   per         5664 non-null   object \n",
      " 2   date        5664 non-null   object \n",
      " 3   time        5664 non-null   object \n",
      " 4   close       5664 non-null   float64\n",
      " 5   vol         5664 non-null   int64  \n",
      " 6   proportion  5664 non-null   int64  \n",
      "dtypes: float64(1), int64(2), object(4)\n",
      "memory usage: 309.9+ KB\n"
     ]
    },
    {
     "data": {
      "text/plain": [
       "None"
      ]
     },
     "metadata": {},
     "output_type": "display_data"
    },
    {
     "data": {
      "text/plain": [
       "(5664, 7)"
      ]
     },
     "metadata": {},
     "output_type": "display_data"
    }
   ],
   "source": [
    "# выводим тнформацию для проверки и краткого анализа данных\n",
    "display(data_curr.info())\n",
    "display(data_curr.shape)"
   ]
  },
  {
   "cell_type": "code",
   "execution_count": 39,
   "id": "c8fef3e2",
   "metadata": {},
   "outputs": [],
   "source": [
    "# переводим даты в dataset в формат datetime\n",
    "data_hh['Обновление резюме'] = pd.to_datetime(data_hh['Обновление резюме'], dayfirst=True).dt.date\n",
    "data_curr['date'] = pd.to_datetime(data_curr['date'], dayfirst=True).dt.date"
   ]
  },
  {
   "cell_type": "code",
   "execution_count": 40,
   "id": "8042d759",
   "metadata": {},
   "outputs": [
    {
     "data": {
      "text/plain": [
       "0    2019-04-16\n",
       "Name: Обновление резюме, dtype: object"
      ]
     },
     "metadata": {},
     "output_type": "display_data"
    },
    {
     "data": {
      "text/plain": [
       "0    2017-12-29\n",
       "Name: date, dtype: object"
      ]
     },
     "metadata": {},
     "output_type": "display_data"
    }
   ],
   "source": [
    "# выводим информацию для проверки данных\n",
    "display(data_hh['Обновление резюме'].head(1))\n",
    "display(data_curr['date'].head(1))"
   ]
  },
  {
   "cell_type": "code",
   "execution_count": 41,
   "id": "81168ec9",
   "metadata": {},
   "outputs": [],
   "source": [
    "# создаем промежуточный признак \"ЗП (ном)\" с численным показателем уровня ЗП из признака \"ЗП\"\n",
    "def get_salary(arg):\n",
    "    arg_split = arg.split(' ')\n",
    "    return arg_split[0]\n",
    "\n",
    "data_hh['ЗП (ном)'] = data_hh['ЗП'].apply(get_salary)\n",
    "#display(data_hh['ЗП (ном)'])"
   ]
  },
  {
   "cell_type": "code",
   "execution_count": 42,
   "id": "36bb0add",
   "metadata": {},
   "outputs": [],
   "source": [
    "# создаем признак \"Валюта\"\n",
    "def get_currency(arg):\n",
    "    arg_split = arg.split(' ')\n",
    "    return arg_split[1]\n",
    "data_hh['Валюта'] = data_hh['ЗП'].apply(get_currency)\n",
    "#display(data_hh['Валюта'])"
   ]
  },
  {
   "cell_type": "code",
   "execution_count": 43,
   "id": "652bfcbe",
   "metadata": {},
   "outputs": [],
   "source": [
    "# переводим текущее наименование валюты в наименование согласно ISO\n",
    "def get_change_currency(arg):\n",
    "    currency_dict = {'USD': 'USD', 'EUR': 'EUR', 'KZT': 'KZT', 'KGS': 'KGS', 'бел.руб.': 'BYN', \n",
    "                     'грн.': 'UAH', 'сум': 'UZS', 'AZN': 'AZN', 'руб.': 'RUB'}\n",
    "    if arg in currency_dict:\n",
    "        return currency_dict[arg]\n",
    "    \n",
    "data_hh['Валюта'] = data_hh['Валюта'].apply(get_change_currency)\n",
    "#display(data_hh['Валюта'].value_counts())\n"
   ]
  },
  {
   "cell_type": "code",
   "execution_count": 44,
   "id": "d1942b5c",
   "metadata": {},
   "outputs": [
    {
     "data": {
      "text/html": [
       "<div>\n",
       "<style scoped>\n",
       "    .dataframe tbody tr th:only-of-type {\n",
       "        vertical-align: middle;\n",
       "    }\n",
       "\n",
       "    .dataframe tbody tr th {\n",
       "        vertical-align: top;\n",
       "    }\n",
       "\n",
       "    .dataframe thead th {\n",
       "        text-align: right;\n",
       "    }\n",
       "</style>\n",
       "<table border=\"1\" class=\"dataframe\">\n",
       "  <thead>\n",
       "    <tr style=\"text-align: right;\">\n",
       "      <th></th>\n",
       "      <th>ЗП</th>\n",
       "      <th>Ищет работу на должность:</th>\n",
       "      <th>Последнее/нынешнее место работы</th>\n",
       "      <th>Последняя/нынешняя должность</th>\n",
       "      <th>Обновление резюме</th>\n",
       "      <th>Авто</th>\n",
       "      <th>Образование</th>\n",
       "      <th>Пол</th>\n",
       "      <th>Возраст</th>\n",
       "      <th>Опыт работы (месяц)</th>\n",
       "      <th>...</th>\n",
       "      <th>удаленная работа</th>\n",
       "      <th>ЗП (ном)</th>\n",
       "      <th>Валюта</th>\n",
       "      <th>currency</th>\n",
       "      <th>per</th>\n",
       "      <th>date</th>\n",
       "      <th>time</th>\n",
       "      <th>close</th>\n",
       "      <th>vol</th>\n",
       "      <th>proportion</th>\n",
       "    </tr>\n",
       "  </thead>\n",
       "  <tbody>\n",
       "    <tr>\n",
       "      <th>0</th>\n",
       "      <td>29000 руб.</td>\n",
       "      <td>Системный администратор</td>\n",
       "      <td>МАОУ \"СОШ № 1 г.Немана\"</td>\n",
       "      <td>Системный администратор</td>\n",
       "      <td>2019-04-16</td>\n",
       "      <td>Имеется собственный автомобиль</td>\n",
       "      <td>неоконченное высшее</td>\n",
       "      <td>M</td>\n",
       "      <td>39</td>\n",
       "      <td>202.0</td>\n",
       "      <td>...</td>\n",
       "      <td>True</td>\n",
       "      <td>29000</td>\n",
       "      <td>RUB</td>\n",
       "      <td>NaN</td>\n",
       "      <td>NaN</td>\n",
       "      <td>NaN</td>\n",
       "      <td>NaN</td>\n",
       "      <td>NaN</td>\n",
       "      <td>NaN</td>\n",
       "      <td>NaN</td>\n",
       "    </tr>\n",
       "  </tbody>\n",
       "</table>\n",
       "<p>1 rows × 32 columns</p>\n",
       "</div>"
      ],
      "text/plain": [
       "           ЗП Ищет работу на должность: Последнее/нынешнее место работы  \\\n",
       "0  29000 руб.   Системный администратор         МАОУ \"СОШ № 1 г.Немана\"   \n",
       "\n",
       "  Последняя/нынешняя должность Обновление резюме  \\\n",
       "0      Системный администратор        2019-04-16   \n",
       "\n",
       "                             Авто          Образование Пол  Возраст  \\\n",
       "0  Имеется собственный автомобиль  неоконченное высшее   M       39   \n",
       "\n",
       "   Опыт работы (месяц)  ... удаленная работа  ЗП (ном)  Валюта  currency  per  \\\n",
       "0                202.0  ...             True     29000     RUB       NaN  NaN   \n",
       "\n",
       "   date  time  close  vol  proportion  \n",
       "0   NaN   NaN    NaN  NaN         NaN  \n",
       "\n",
       "[1 rows x 32 columns]"
      ]
     },
     "metadata": {},
     "output_type": "display_data"
    }
   ],
   "source": [
    "# соединяем 2 таблицы с помощью метода merge\n",
    "data_hh = data_hh.merge(right=data_curr, how='left', left_on=['Обновление резюме', 'Валюта'], right_on=['date', 'currency'])\n",
    "display(data_hh.head(1))"
   ]
  },
  {
   "cell_type": "code",
   "execution_count": 45,
   "id": "142ea5bb",
   "metadata": {},
   "outputs": [],
   "source": [
    "# устанавливаем значения NaN на 1 в признаках \"close\" и \"proportion\" для пересчета заработнойт платы в рубли\n",
    "data_hh['proportion'] = data_hh['proportion'].fillna(1.0)\n",
    "data_hh['close'] = data_hh['close'].fillna(1.0)"
   ]
  },
  {
   "cell_type": "code",
   "execution_count": 46,
   "id": "77def1f2",
   "metadata": {},
   "outputs": [],
   "source": [
    "# создаем новый признак \"ЗП (руб)\"\n",
    "data_hh['close'] = data_hh['close'].astype(float)\n",
    "data_hh['ЗП (ном)'] = data_hh['ЗП (ном)'].astype(float)\n",
    "\n",
    "data_hh['ЗП (руб)'] = data_hh['ЗП (ном)'] * data_hh['close'] / data_hh['proportion']"
   ]
  },
  {
   "cell_type": "code",
   "execution_count": 47,
   "id": "380e6fcb",
   "metadata": {},
   "outputs": [
    {
     "data": {
      "text/plain": [
       "count    4.474400e+04\n",
       "mean     7.653354e+04\n",
       "std      1.359315e+05\n",
       "min      1.000000e+00\n",
       "25%      3.708220e+04\n",
       "50%      5.901900e+04\n",
       "75%      9.500000e+04\n",
       "max      2.430488e+07\n",
       "Name: ЗП (руб), dtype: float64"
      ]
     },
     "metadata": {},
     "output_type": "display_data"
    }
   ],
   "source": [
    "# выводим статистическую информацию по признаку \"ЗП (руб)\"\n",
    "display(data_hh['ЗП (руб)'].describe())"
   ]
  },
  {
   "cell_type": "code",
   "execution_count": 48,
   "id": "340b58fc",
   "metadata": {},
   "outputs": [
    {
     "name": "stdout",
     "output_type": "stream",
     "text": [
      "Желаемая медианная зароботная плата состовляет: 59019.0 рублей\n"
     ]
    }
   ],
   "source": [
    "# выводим информацию по желаемой медианной ЗП кандидатов\n",
    "median_salary = data_hh['ЗП (руб)'].median()\n",
    "print(f'Желаемая медианная зароботная плата состовляет: {median_salary} рублей')"
   ]
  },
  {
   "cell_type": "code",
   "execution_count": 49,
   "id": "dbc501aa",
   "metadata": {},
   "outputs": [],
   "source": [
    "# удаляем вспомогательные признаки\n",
    "data_hh = data_hh.drop('ЗП', axis=1)\n",
    "data_hh = data_hh.drop('ЗП (ном)', axis=1)\n",
    "data_hh = data_hh.drop('currency', axis=1)\n",
    "data_hh = data_hh.drop('per', axis=1)\n",
    "data_hh = data_hh.drop('date', axis=1)\n",
    "data_hh = data_hh.drop('time', axis=1)\n",
    "data_hh = data_hh.drop('vol', axis=1)\n",
    "data_hh = data_hh.drop('close', axis=1)\n",
    "data_hh = data_hh.drop('Валюта', axis=1)\n",
    "data_hh = data_hh.drop('proportion', axis=1)"
   ]
  },
  {
   "attachments": {},
   "cell_type": "markdown",
   "id": "09180984",
   "metadata": {},
   "source": [
    "### Комментарии / Выводы 2.6:\n",
    "1. В результате преобразований был создан новый признак \"ЗП (руб)\" - заработная плата в рублях и обеспечен перерасчет с учетом курса других валют;\n",
    "2. Средний уровень желаемой ЗП составляет 76.5 тыс.рублей, медианный 59 тыс.рублей;\n",
    "3. Требует дополнительного анализа максимальный уровень - 24 млн.рублей, а так же минимальный - 1 рубль. "
   ]
  },
  {
   "cell_type": "code",
   "execution_count": 50,
   "id": "878f55de",
   "metadata": {},
   "outputs": [
    {
     "name": "stdout",
     "output_type": "stream",
     "text": [
      "<class 'pandas.core.frame.DataFrame'>\n",
      "Int64Index: 44744 entries, 0 to 44743\n",
      "Data columns (total 23 columns):\n",
      " #   Column                           Non-Null Count  Dtype  \n",
      "---  ------                           --------------  -----  \n",
      " 0   Ищет работу на должность:        44744 non-null  object \n",
      " 1   Последнее/нынешнее место работы  44743 non-null  object \n",
      " 2   Последняя/нынешняя должность     44742 non-null  object \n",
      " 3   Обновление резюме                44744 non-null  object \n",
      " 4   Авто                             44744 non-null  object \n",
      " 5   Образование                      44744 non-null  object \n",
      " 6   Пол                              44744 non-null  object \n",
      " 7   Возраст                          44744 non-null  int64  \n",
      " 8   Опыт работы (месяц)              44574 non-null  float64\n",
      " 9   Город                            44744 non-null  object \n",
      " 10  Готовность к переезду            44744 non-null  bool   \n",
      " 11  Готовность к командировкам       44744 non-null  bool   \n",
      " 12  полная занятость                 44744 non-null  bool   \n",
      " 13  частичная занятость              44744 non-null  bool   \n",
      " 14  проектная работа                 44744 non-null  bool   \n",
      " 15  стажировка                       44744 non-null  bool   \n",
      " 16  волонтерство                     44744 non-null  bool   \n",
      " 17  полный день                      44744 non-null  bool   \n",
      " 18  гибкий график                    44744 non-null  bool   \n",
      " 19  сменный график                   44744 non-null  bool   \n",
      " 20  вахтовый метод                   44744 non-null  bool   \n",
      " 21  удаленная работа                 44744 non-null  bool   \n",
      " 22  ЗП (руб)                         44744 non-null  float64\n",
      "dtypes: bool(12), float64(2), int64(1), object(8)\n",
      "memory usage: 4.6+ MB\n"
     ]
    }
   ],
   "source": [
    "# выводим информацию по таблице для сверки данных перед Исследований зависимостей\n",
    "data_hh.info()"
   ]
  },
  {
   "attachments": {},
   "cell_type": "markdown",
   "id": "7ea20ab6-04a7-40a0-adec-443a0e5a42c3",
   "metadata": {},
   "source": [
    "# 3. Исследование зависимостей в данных"
   ]
  },
  {
   "attachments": {},
   "cell_type": "markdown",
   "id": "f277091f",
   "metadata": {},
   "source": [
    "## 3.1 Анализ признака \"Возраст\""
   ]
  },
  {
   "cell_type": "code",
   "execution_count": 1,
   "id": "338fb9fc",
   "metadata": {},
   "outputs": [],
   "source": [
    "# строим гистограмму распределения по признаку \"Возраст\"\n",
    "\n",
    "#fig = px.histogram(data_hh, x=\"Возраст\",\n",
    "#                   marginal=\"box\", # or violin, rug, box\n",
    "#                   title=\"Распределение кандидатов по возрасту\",\n",
    "#                   hover_data=data_hh.columns)\n",
    "#fig.show()\n",
    "# сохранение графика Plotly\n",
    "#fig.write_html(\"plotlyplots/old_31.html\")"
   ]
  },
  {
   "cell_type": "code",
   "execution_count": 2,
   "id": "67602ee5",
   "metadata": {},
   "outputs": [],
   "source": [
    "# строим дополнительную гистограмму в разрезе пола\n",
    "#fig = px.histogram(data_hh, x=\"Возраст\", color=\"Пол\", title=\"Распределение кандидатов по возрасту в разрезе пола\")\n",
    "#fig.show()\n",
    "# сохранение графика Plotly\n",
    "#fig.write_html(\"plotlyplots/old_31_2.html\")"
   ]
  },
  {
   "attachments": {},
   "cell_type": "markdown",
   "id": "88967466-5070-4bea-9e71-b3efefdc6e4a",
   "metadata": {},
   "source": [
    "### Комментарии / Выводы 3.1:\n",
    "1. Мода распределения равна 30 лет;\n",
    "2. Возраст большинства соискателей находится в интервале от 24 до 33 лет;\n",
    "3. Максимальный возраст соискателя составляет 100 лет;\n",
    "4. Анамалии для признака есть, показатели в интервале меньше 18 лет и более 75 лет;\n",
    "5. Распределение по возрасту между мужчинами и женщинами сохраняется."
   ]
  },
  {
   "attachments": {},
   "cell_type": "markdown",
   "id": "b1023a71",
   "metadata": {},
   "source": [
    "## 3.2 Анализ признака \"Опыт работы (месяц)\"\n"
   ]
  },
  {
   "cell_type": "code",
   "execution_count": 3,
   "id": "dd7df27a-e3e8-412e-a21a-5d389b71e891",
   "metadata": {},
   "outputs": [],
   "source": [
    "# строим гистограмму распределения по признаку \"Опыт работы (месяц)\"\n",
    "\n",
    "#fig = px.histogram(data_hh, x=\"Опыт работы (месяц)\",\n",
    "#                   marginal=\"box\", # or violin, rug, box\n",
    "#                   title=\"Распределение кандидатов по 'Опыту работы'\",\n",
    "#                   hover_data=data_hh.columns)\n",
    "#fig.show()\n",
    "# сохранение графика Plotly\n",
    "#fig.write_html(\"plotlyplots/expirience_32.html\")"
   ]
  },
  {
   "cell_type": "code",
   "execution_count": 4,
   "id": "ba1be261",
   "metadata": {},
   "outputs": [],
   "source": [
    "# строим дополнительную гистограмму распределения по признаку \"Опыт работы (месяц)\" в разрезе пола\n",
    "\n",
    "#fig = px.histogram(data_hh, x=\"Опыт работы (месяц)\", color=\"Пол\",\n",
    "#                   marginal=\"box\", # or violin, rug, box\n",
    "#                   title=\"Распределение кандидатов по 'Опыту работы' в разрезе пола\",\n",
    "#                   hover_data=data_hh.columns)\n",
    "#fig.show()\n",
    "# сохранение графика Plotly\n",
    "#fig.write_html(\"plotlyplots/expirience_32_2.html\")"
   ]
  },
  {
   "attachments": {},
   "cell_type": "markdown",
   "id": "5e1e61a1",
   "metadata": {},
   "source": [
    "### Комментарии / Выводы 3.2:\n",
    "1. Мода распределения равна 80-84 месяца;\n",
    "2. Опыт работы большинства соискателей находится в интервале от 10 до 150 месяцев;\n",
    "3. Максимальный опыт соискателя составляет 1188 месяцев (99 лет);\n",
    "4. Анамалии для признака есть. Предварительно отнес интервал более 600 месяцев;\n",
    "5. В разрезе пола мы видим, что у женщин медиана меньше и меж.квартильный разброс меньше."
   ]
  },
  {
   "attachments": {},
   "cell_type": "markdown",
   "id": "00c6a0ca",
   "metadata": {},
   "source": [
    "## 3.3 Анализ признака \"Заработная плата (рублях)\""
   ]
  },
  {
   "cell_type": "code",
   "execution_count": 5,
   "id": "6271f8ad-bd2e-4196-ae4a-5b39c4c1010e",
   "metadata": {},
   "outputs": [],
   "source": [
    "# строим гистограмму распределения по признаку \"Заработная плата (рублях)\"\n",
    "\n",
    "#fig = px.histogram(data_hh, x=\"ЗП (руб)\",\n",
    "#                   marginal=\"box\", # or violin, rug, box\n",
    "#                   title=\"Распределение пожеланий кандидатов по 'Заработной плате'\",\n",
    "#                   hover_data=data_hh.columns)\n",
    "#fig.show()\n",
    "# сохранение графика Plotly\n",
    "#fig.write_html(\"plotlyplots/salary_33.html\")"
   ]
  },
  {
   "attachments": {},
   "cell_type": "markdown",
   "id": "6c39ca13-225e-48f7-a85c-ab07a6cc852a",
   "metadata": {},
   "source": [
    "### Комментарии / Выводы 3.3:\n",
    "1. Мода распределения равна 47,5 - 52,49 тыс.руб;\n",
    "2. Основные пожелания по ЗП большинства соискателей находится в интервале от 27,5 до 62,49 тыс.руб;\n",
    "3. Максимальная ЗП составляет 24,30488 млн.рублей;\n",
    "4. Анамалии для признака есть. Предварительно отнес интервал более 1 млн.рублей в месяц."
   ]
  },
  {
   "attachments": {},
   "cell_type": "markdown",
   "id": "d42f5236",
   "metadata": {},
   "source": [
    "## 3.4 Анализ влияния уровня образования на \"Заработную плату (рублях)\""
   ]
  },
  {
   "cell_type": "code",
   "execution_count": 6,
   "id": "80defb23-bfb1-4a18-8be6-bf36aa7165d5",
   "metadata": {},
   "outputs": [],
   "source": [
    "# вводим ограничения по ЗП < 1 млн.руб и группируем данные с вычеслением медианы и средней\n",
    "#mask_34 = data_hh['ЗП (руб)'] < 1_000_000\n",
    "#df_34 = data_hh[mask_34].pivot_table(values=\"ЗП (руб)\", index=\"Образование\", aggfunc=[\"median\", \"mean\"], fill_value=0)\n",
    "\n",
    "#print(df_34)\n"
   ]
  },
  {
   "cell_type": "code",
   "execution_count": 7,
   "id": "d04e7bf0",
   "metadata": {},
   "outputs": [],
   "source": [
    "# строим график зависимости ожиданий по Заработной платы от Образования\n",
    "#df_34.plot(kind='bar', figsize=(15,5), grid=True, title=\"Ожидания по ЗП (руб) в зависимости от 'Образования'\", ylabel=\"Руб.\")"
   ]
  },
  {
   "cell_type": "code",
   "execution_count": 8,
   "id": "b8536999",
   "metadata": {},
   "outputs": [],
   "source": [
    "# строим дополнительный график \n",
    "#fig = px.box(data_hh[mask_34], x=\"Образование\", y=\"ЗП (руб)\", title=\"Ожидание по ЗП(руб) в зависимости от 'Образования'\", color=\"Образование\")\n",
    "#fig.show()\n",
    "# сохранение графика Plotly\n",
    "#fig.write_html(\"plotlyplots/salary_34.html\")"
   ]
  },
  {
   "attachments": {},
   "cell_type": "markdown",
   "id": "dc463319-3f85-47dd-b66e-aecb0be0c76f",
   "metadata": {},
   "source": [
    "### Комментарии / Выводы 3.4:\n",
    "1. Наибольшее медианное и среднее значение от ожиданий по ЗП в категории \"Высшее\" образование;\n",
    "2. Корреляция между признаками есть, соответсвенно уровень образования необходимо учитывать при прогназировании ЗП."
   ]
  },
  {
   "attachments": {},
   "cell_type": "markdown",
   "id": "e22d0dc6",
   "metadata": {},
   "source": [
    "## 3.5 Анализ зависимости \"Заработная плата (рублях)\" от места нахождения кандидата"
   ]
  },
  {
   "cell_type": "code",
   "execution_count": 9,
   "id": "973b0cfc-a972-470a-8b4a-68744ef220c4",
   "metadata": {},
   "outputs": [],
   "source": [
    "# вводим ограничения по ЗП < 1 млн.руб и группируем данные\n",
    "#mask_35 = data_hh['ЗП (руб)'] < 1_000_000\n",
    "#df_35 = data_hh[mask_35].pivot_table(values=\"ЗП (руб)\", index=\"Город\", aggfunc=[\"median\", \"mean\"], fill_value=0)\n",
    "\n",
    "#print(df_35)"
   ]
  },
  {
   "cell_type": "code",
   "execution_count": 10,
   "id": "bc3986b0",
   "metadata": {},
   "outputs": [],
   "source": [
    "# строим график ожиданий по Заработной платы в зависимости от места проживания\n",
    "#df_35.plot(kind='bar', figsize=(15,5), grid=True, title=\"Ожидания по ЗП (руб) в зависимости от 'Города'\", ylabel=\"Руб.\")"
   ]
  },
  {
   "cell_type": "code",
   "execution_count": 11,
   "id": "c27eeb0a",
   "metadata": {},
   "outputs": [],
   "source": [
    "# формируем дополнительный график зависимости ЗП от места проживания кандидата \n",
    "#fig = px.box(data_hh[mask_35], x=\"Город\", y=\"ЗП (руб)\", title=\"Ожидание по ЗП(руб) в зависимости от места проживания\", color=\"Город\")\n",
    "#fig.show()\n",
    "# сохранение графика Plotly\n",
    "#fig.write_html(\"plotlyplots/salary_35.html\")"
   ]
  },
  {
   "attachments": {},
   "cell_type": "markdown",
   "id": "2710ce73-2e81-4e38-b52f-833cd14ba47a",
   "metadata": {
    "tags": []
   },
   "source": [
    "### Комментарии / Выводы 3.5:\n",
    "1. Наибольшие ожидания от ЗП (медиана и средняя) ожидаются в г.Москве и г.Санкт-Петербург: 85 и 60 тыс.рублей;\n",
    "2. Ожидания в других городах, в том числе в городах - миллиониках, примерно одинаковые;\n",
    "3. Корреляция признаков есть, соответственно место проживания необходимо учитывать при прогнозировании."
   ]
  },
  {
   "attachments": {},
   "cell_type": "markdown",
   "id": "819706bc",
   "metadata": {},
   "source": [
    "## 3.6 Анализ зависимости \"Заработной платы (рублях)\" от готовности кандидатов к релокации и командировкам"
   ]
  },
  {
   "cell_type": "code",
   "execution_count": 12,
   "id": "ad3f270f-2991-47eb-929b-e8f88a55b0d1",
   "metadata": {},
   "outputs": [],
   "source": [
    "# формируем сводную таблицу зависимости медианной ЗП от готовности кандидатов к релокации и командировкам\n",
    "#df_36 = data_hh.pivot_table(values=\"ЗП (руб)\", index=\"Готовность к переезду\", columns=\"Готовность к командировкам\", aggfunc=[\"median\"], fill_value=0)\n",
    "#display(df_36)"
   ]
  },
  {
   "cell_type": "code",
   "execution_count": 13,
   "id": "43e43160",
   "metadata": {},
   "outputs": [],
   "source": [
    "# формируем график зависимости ЗП от Релокации и Командировок\n",
    "#df_36.plot(kind='bar', figsize=(15,5), grid=True, title=\"Ожидания по ЗП (руб) в зависимости от Релокации и Командировок'\", ylabel=\"Руб.\")"
   ]
  },
  {
   "cell_type": "code",
   "execution_count": 14,
   "id": "e7b38d83",
   "metadata": {},
   "outputs": [],
   "source": [
    "# формируем дополнительный график зависимости ЗП от Релокации и Командировок\n",
    "#heatmap = sns.heatmap(data=df_36, cmap='Blues')\n",
    "#heatmap.set_title('Тепловая карта ЗП в зависимости от готовности к Релокации и Командировкам', fontsize=10, color='black')"
   ]
  },
  {
   "attachments": {},
   "cell_type": "markdown",
   "id": "4fdd3663",
   "metadata": {},
   "source": [
    "### Комментарии / Выводы 3.6:\n",
    "1. Наибольшие ожидания по ЗП у кандидатов готовых к релокации и командировкам, медиана составляет 66 тыс.руб;\n",
    "2. Следует отметить факт, что у кандидатов готовых к переезду, но не готовых к командировкам ожидания ниже, чем у готовых к командировкам, но не готовых к переезду. Данный факт требует дополнительной проверки, возможно влияние образования и уровня вакансии."
   ]
  },
  {
   "attachments": {},
   "cell_type": "markdown",
   "id": "2fc070a6",
   "metadata": {},
   "source": [
    "## 3.7 Анализ зависимости \"Заработной платы (рублях)\" от \"Возраста\" и \"Образования\""
   ]
  },
  {
   "cell_type": "code",
   "execution_count": 15,
   "id": "5a0e32a4-e68a-4365-8a39-2fe24c542c36",
   "metadata": {},
   "outputs": [],
   "source": [
    "# формируем сводную таблицу зависимости ЗП от образования и возраста\n",
    "#df_37 = data_hh.pivot_table(values=\"ЗП (руб)\", index=\"Образование\", columns=\"Возраст\", aggfunc=[\"median\"], fill_value=0)\n",
    "\n",
    "#print(df_37)"
   ]
  },
  {
   "cell_type": "code",
   "execution_count": 16,
   "id": "0434bf9e",
   "metadata": {},
   "outputs": [],
   "source": [
    "# формируем график зависимости ЗП от образования и возраста\n",
    "#heatmap = sns.heatmap(data=df_37, cmap='YlOrRd')\n",
    "#heatmap.set_title('Тепловая карта ожиданий ЗП от Образование и Возраста', fontsize=10, color='black')"
   ]
  },
  {
   "cell_type": "code",
   "execution_count": 17,
   "id": "bd901512",
   "metadata": {},
   "outputs": [],
   "source": [
    "# формируем дополнительный график зависимости ЗП от возраста и образования\n",
    "#fig = px.density_heatmap(data_hh, x=\"Опыт работы (месяц)\", y=\"Образование\", z=\"ЗП (руб)\", histfunc=\"avg\")\n",
    "#fig.show()\n",
    "# сохранение графика Plotly\n",
    "#fig.write_html(\"plotlyplots/salary_37.html\")"
   ]
  },
  {
   "attachments": {},
   "cell_type": "markdown",
   "id": "7aade1c2-16a0-418c-8427-ad93927c7705",
   "metadata": {},
   "source": [
    "### Комментарии / Выводы 3.7:\n",
    "1. На основном и дополнительном графиках хорошо прослеживается тенденция по росту ЗП по признаку \"Высшее образование\" до 40 лет и далее незначительное снижение и стабилизация, аналогичная тенденция наблюдается и по Опыту работы;\n",
    "2. Аналогично пункту №1 прослеживается тенденция по признаку \"Неоконченное высшее\";\n",
    "3. В категории \"Среднее\" и \"Среднее специальное\" выбросы чередуются с провалами. Необходимо проводить дополнительный анализ."
   ]
  },
  {
   "attachments": {},
   "cell_type": "markdown",
   "id": "d1ac55bf",
   "metadata": {},
   "source": [
    "## 3.8 Анализ зависимости \"Опыта работы (месяц)\" от \"Возраста\""
   ]
  },
  {
   "cell_type": "code",
   "execution_count": 18,
   "id": "a4143e50-b900-4ec8-9ae9-fc3ec3347287",
   "metadata": {},
   "outputs": [],
   "source": [
    "# подготовка данных\n",
    "#data_hh['Опыт работы (лет)'] = data_hh['Опыт работы (месяц)'] / 12\n",
    "#df_line = pd.DataFrame({'x': range(0, 101), 'y': range(0, 101)})"
   ]
  },
  {
   "cell_type": "code",
   "execution_count": 19,
   "id": "1f53eb36",
   "metadata": {},
   "outputs": [],
   "source": [
    "# формируем график зависимости опыта работы от возраста\n",
    "#fig = plt.figure(figsize=(10,10))\n",
    "#axes = fig.add_axes([0,0,1,1])\n",
    "#axes.scatter(data=data_hh, x=\"Возраст\", y=\"Опыт работы (лет)\")\n",
    "#axes.scatter(data=df_line, x=\"x\", y=\"y\")\n",
    "\n",
    "#axes.set_title('Зависимость опыта работы от возраста', fontsize=20)\n",
    "#axes.set_xlabel(\"Возраст, лет\")\n",
    "#axes.set_ylabel(\"Опыт, лет\")"
   ]
  },
  {
   "cell_type": "code",
   "execution_count": 20,
   "id": "951a129a",
   "metadata": {},
   "outputs": [],
   "source": [
    "# удаляем созданный для расчетов столбец\n",
    "#data_hh = data_hh.drop(\"Опыт работы (лет)\", axis=1)"
   ]
  },
  {
   "attachments": {},
   "cell_type": "markdown",
   "id": "6f9218ff-52c7-4742-b328-4db5d4da7262",
   "metadata": {},
   "source": [
    "### Комментарии / Выводы 3.8:"
   ]
  },
  {
   "attachments": {},
   "cell_type": "markdown",
   "id": "1e04e8af",
   "metadata": {},
   "source": [
    "1. Из графика видна кореляция опыта работы в завмсимости от возраста и прослеживается разрыв в 18-20 лет с последующим увеличением;\n",
    "2. Есть выбросы в виде наличия опыта работы больше возраста (7 показателей);\n",
    "3. Так же необходимо обратить внимание на показатели в интервале разрыва (пример: возраст 28 лет - опыт работы 19 лет)."
   ]
  },
  {
   "attachments": {},
   "cell_type": "markdown",
   "id": "2c0e510f",
   "metadata": {},
   "source": [
    "## 3.9 Дополнительный график - 1"
   ]
  },
  {
   "cell_type": "code",
   "execution_count": 21,
   "id": "85da2182",
   "metadata": {},
   "outputs": [],
   "source": [
    "# описываем функцию выделения желаемой должности по 2 первым словам\n",
    "#def get_name_position(arg):\n",
    "#    position = arg.split(\",\")[0]\n",
    "#    return position\n",
    "\n",
    "# применяем функцию\n",
    "#data_hh[\"Должность\"] = data_hh[\"Ищет работу на должность:\"].apply(get_name_position)\n",
    "\n",
    "# выводим 10 первых позиций и общее количество уникальных\n",
    "#print(data_hh[\"Должность\"].value_counts().nlargest(10))                                                     \n",
    "#print(data_hh[\"Должность\"].nunique())"
   ]
  },
  {
   "cell_type": "code",
   "execution_count": 22,
   "id": "692b0ef1",
   "metadata": {},
   "outputs": [],
   "source": [
    "# в ручном режиме приводим к единой должности Руководитель проекта (Руквоводитель проектов) и IT-специалист (всех специалистов ИТ) \n",
    "#data_hh[\"Должность\"] = data_hh[\"Должность\"].apply(lambda x: \"Руководитель проекта\" if x == \"Руководитель проектов\" else x)\n",
    "#data_hh[\"Должность\"] = data_hh[\"Должность\"].apply(lambda x: \"IT-специалист\" if x == \"Специалист по IT\" or x == \"ИТ-специалист\" else x)"
   ]
  },
  {
   "cell_type": "code",
   "execution_count": 23,
   "id": "27c5ccbd",
   "metadata": {},
   "outputs": [],
   "source": [
    "# выводим первый список и выбираем первые 5 позиций для анализа\n",
    "#print(data_hh[\"Должность\"].value_counts().nlargest(5))"
   ]
  },
  {
   "cell_type": "code",
   "execution_count": 24,
   "id": "88774267",
   "metadata": {},
   "outputs": [],
   "source": [
    "# формируем данные для построения графика\n",
    "#mask_391 = data_hh[\"Должность\"] == \"Системный администратор\"\n",
    "#mask_392 = data_hh[\"Должность\"] == \"Инженер\"\n",
    "#mask_393 = data_hh[\"Должность\"] == \"Аналитик\"\n",
    "#mask_394 = data_hh[\"Должность\"] == \"Руководитель проекта\"\n",
    "#mask_395 = data_hh[\"Должность\"] == \"IT-специалист\"\n",
    "\n",
    "#df_39 = data_hh[mask_391 | mask_392 | mask_393 | mask_394 | mask_395]\n",
    "#df_391 = df_39.pivot_table(values=\"ЗП (руб)\", index=\"Должность\", columns=\"Возраст\", aggfunc=[\"median\"], fill_value=0)\n",
    "\n",
    "# формируем график\n",
    "#heatmap = sns.heatmap(data=df_391, cmap='GnBu')\n",
    "#heatmap.set_title('Тепловая карта ожиданий ЗП по ТОП 5 должностей в зависимоти от возраста', fontsize=10, color='black')"
   ]
  },
  {
   "attachments": {},
   "cell_type": "markdown",
   "id": "dd1afb3c",
   "metadata": {},
   "source": [
    "### Комментарии / Выводы 3.9:\n",
    "1. На графике представлены ожидания по ЗП кандидатов по ТОП-5 должностей;\n",
    "2. Из графика видно, что с учетом накопленного опыта работы, уровня компетенций и знаний растут ожидания по \"Руководитель проекта\" и незначительно \"Аналитик\";\n",
    "3. По остальным категориям есть выбросы, но значительной динамики роста ЗП с опытом не наблюдаетс. Данный факт печальный для IT - зачем мы учимся??? "
   ]
  },
  {
   "attachments": {},
   "cell_type": "markdown",
   "id": "fc23e670",
   "metadata": {},
   "source": [
    "## 3.10 Дополнительный график - 2"
   ]
  },
  {
   "cell_type": "code",
   "execution_count": 25,
   "id": "24b03d82",
   "metadata": {},
   "outputs": [],
   "source": [
    "# группируем данные для построения графика\n",
    "#df_310 = data_hh.groupby(\"Пол\").mean()\n",
    "#display(df_310)"
   ]
  },
  {
   "cell_type": "code",
   "execution_count": 26,
   "id": "648bc442",
   "metadata": {},
   "outputs": [],
   "source": [
    "# формируем сводный график по признакм в разрезе пола кандидатов\n",
    "#fig = px.bar(df_310, title=\"Сводная информация по признакам в разрезе пола кандидатов\", text_auto=True, width=1200, height=500)\n",
    "#fig.show()\n",
    "# сохранение графика Plotly\n",
    "#fig.write_html(\"plotlyplots/sex_310.html\")"
   ]
  },
  {
   "cell_type": "code",
   "execution_count": 27,
   "id": "3900961f",
   "metadata": {},
   "outputs": [],
   "source": [
    "# группируем данные для построения графика\n",
    "#df_311 = data_hh.groupby(\"Город\").mean()\n",
    "#display(df_311)"
   ]
  },
  {
   "cell_type": "code",
   "execution_count": 28,
   "id": "2e93794c",
   "metadata": {},
   "outputs": [],
   "source": [
    "# формируем сводный график по признакм в разрезе Городов\n",
    "#fig = px.bar(df_311, title=\"Сводная информация по признакам в разрезе Городов\", text_auto=True, width=1200, height=500)\n",
    "#fig.show()\n",
    "# сохранение графика Plotly\n",
    "#fig.write_html(\"plotlyplots/sex_310_2.html\")"
   ]
  },
  {
   "attachments": {},
   "cell_type": "markdown",
   "id": "6ec3abde",
   "metadata": {},
   "source": [
    "### Комментарии / Выводы 3.10:\n",
    "1. В данном разделе представлены сгруппированные графики, которые позволяют провести предварительную оценку показателей по суммирующему признаку;\n",
    "2. Если посмотреть на график в разрезе пола кандидатов: ожидания у мужчин на 20 тыс.рублей больше чем у женщин, всего 2 процента женщин согласны на вахтовый метод работы при 8% у мужчин и т.д.;\n",
    "3. В разрезе городов: ожидания по ЗП в г.Москве выше чем в городах миллиониках и других в 2 раза, при этом москвичи не желают работать вахтовым методом."
   ]
  },
  {
   "attachments": {},
   "cell_type": "markdown",
   "id": "b1ef156a-efcb-49ce-bb23-90763e7f35b2",
   "metadata": {
    "tags": []
   },
   "source": [
    "# 4. Очистка данных"
   ]
  },
  {
   "attachments": {},
   "cell_type": "markdown",
   "id": "d87d3c65",
   "metadata": {},
   "source": [
    "## 4.1 Работа с дубликатами"
   ]
  },
  {
   "cell_type": "code",
   "execution_count": 79,
   "id": "54ab0e50-c0f1-47cc-a54b-bc5c8bc363f9",
   "metadata": {},
   "outputs": [
    {
     "name": "stdout",
     "output_type": "stream",
     "text": [
      "Число найденных дубликатов: 161\n"
     ]
    }
   ],
   "source": [
    "# определяем количество полных дубликатов\n",
    "dupl_colms = list(data_hh.columns)\n",
    "\n",
    "mask = data_hh.duplicated(subset=dupl_colms)\n",
    "data_dedupped = data_hh[mask]\n",
    "print(f'Число найденных дубликатов: {data_dedupped.shape[0]}')"
   ]
  },
  {
   "cell_type": "code",
   "execution_count": 80,
   "id": "af63e090",
   "metadata": {},
   "outputs": [
    {
     "name": "stdout",
     "output_type": "stream",
     "text": [
      "Результирующее число записей: 44583\n"
     ]
    }
   ],
   "source": [
    "# удаляем дубликаты\n",
    "data_dedupped = data_hh.drop_duplicates(subset=dupl_colms)\n",
    "print(f'Результирующее число записей: {data_dedupped.shape[0]}')"
   ]
  },
  {
   "attachments": {},
   "cell_type": "markdown",
   "id": "54667967",
   "metadata": {},
   "source": [
    "### Комментарии / Выводы 4.1:\n",
    "1. В таблице было определено и удалено 161 полный дубликат."
   ]
  },
  {
   "attachments": {},
   "cell_type": "markdown",
   "id": "1153a9d4",
   "metadata": {},
   "source": [
    "## 4.2 Работа с пропусками"
   ]
  },
  {
   "cell_type": "code",
   "execution_count": 81,
   "id": "46e8b0e4",
   "metadata": {},
   "outputs": [
    {
     "data": {
      "text/plain": [
       "Последнее/нынешнее место работы      1\n",
       "Последняя/нынешняя должность         2\n",
       "Опыт работы (месяц)                168\n",
       "dtype: int64"
      ]
     },
     "metadata": {},
     "output_type": "display_data"
    }
   ],
   "source": [
    "# выводим информацию о числе пропусков в столбцах\n",
    "null_data = data_dedupped.isnull().sum()\n",
    "display(null_data[null_data > 0])"
   ]
  },
  {
   "cell_type": "code",
   "execution_count": 82,
   "id": "69621713-0cc5-4f1b-a1d7-bb144fa6148c",
   "metadata": {},
   "outputs": [],
   "source": [
    "# заполняем записи \"Опыт работы (месяц)\" медианным значением\n",
    "data_combine = data_dedupped.fillna({\"Опыт работы (месяц)\": data_dedupped[\"Опыт работы (месяц)\"].median()})\n",
    "# удаляем пустые строки в столбцах \"Последнее/нынешнее место работы\" и \"Последняя/нынешняя должность\"\n",
    "data_combine = data_combine.dropna(how=\"any\", axis=0) "
   ]
  },
  {
   "cell_type": "code",
   "execution_count": 83,
   "id": "c3804a7b",
   "metadata": {},
   "outputs": [
    {
     "data": {
      "text/plain": [
       "Ищет работу на должность:          0.0\n",
       "Последнее/нынешнее место работы    0.0\n",
       "Последняя/нынешняя должность       0.0\n",
       "Обновление резюме                  0.0\n",
       "Авто                               0.0\n",
       "Образование                        0.0\n",
       "Пол                                0.0\n",
       "Возраст                            0.0\n",
       "Опыт работы (месяц)                0.0\n",
       "Город                              0.0\n",
       "Готовность к переезду              0.0\n",
       "Готовность к командировкам         0.0\n",
       "полная занятость                   0.0\n",
       "частичная занятость                0.0\n",
       "проектная работа                   0.0\n",
       "стажировка                         0.0\n",
       "волонтерство                       0.0\n",
       "полный день                        0.0\n",
       "гибкий график                      0.0\n",
       "сменный график                     0.0\n",
       "вахтовый метод                     0.0\n",
       "удаленная работа                   0.0\n",
       "ЗП (руб)                           0.0\n",
       "Должность                          0.0\n",
       "dtype: float64"
      ]
     },
     "metadata": {},
     "output_type": "display_data"
    }
   ],
   "source": [
    "# отображаем результат для проверки\n",
    "display(data_combine.isnull().mean())"
   ]
  },
  {
   "cell_type": "code",
   "execution_count": 84,
   "id": "683031b0",
   "metadata": {},
   "outputs": [
    {
     "data": {
      "text/plain": [
       "114.0"
      ]
     },
     "metadata": {},
     "output_type": "display_data"
    }
   ],
   "source": [
    "# выводим результирующее среднее значение в столбце \"Опыт работы (месяц)\"\n",
    "display(data_combine['Опыт работы (месяц)'].mean().round())"
   ]
  },
  {
   "attachments": {},
   "cell_type": "markdown",
   "id": "8f1ae1c5",
   "metadata": {},
   "source": [
    "### Комментарии / Выводы 4.2:\n",
    "1. В таблице было определено 171 пропуск в 3 признаках: \"Последнее / нынешнее место работы\" - 1, \"Последняя / нынешняя должность\" - 2 и \"Опыт работы (мес)\" - 168;\n",
    "2. Пропуски во признаку \"Опыт работы (мес)\" заполнены медианным значением по столбцу. Среднее значение по столбцу после преобразования составило - 114 месяцев;\n",
    "3. Остальные строки с пропусками удалены."
   ]
  },
  {
   "attachments": {},
   "cell_type": "markdown",
   "id": "4deb59f7",
   "metadata": {},
   "source": [
    "## 4.3 Работа с выбросами"
   ]
  },
  {
   "cell_type": "code",
   "execution_count": 85,
   "id": "0036a355-9ccf-4564-8b01-73d8194297e7",
   "metadata": {},
   "outputs": [
    {
     "data": {
      "text/plain": [
       "(5, 24)"
      ]
     },
     "metadata": {},
     "output_type": "display_data"
    },
    {
     "data": {
      "text/plain": [
       "(84, 24)"
      ]
     },
     "metadata": {},
     "output_type": "display_data"
    }
   ],
   "source": [
    "# выводим информацию по количеству строк с ЗП > 1 млн.руб\n",
    "mask_43 = data_combine[\"ЗП (руб)\"] > 1_000_000\n",
    "# выводим информацию по количеству строк с ЗП < 1_000 руб\n",
    "mask_44 = data_combine[\"ЗП (руб)\"] < 1000\n",
    " \n",
    "display(data_combine[mask_43].shape)\n",
    "display(data_combine[mask_44].shape)"
   ]
  },
  {
   "cell_type": "code",
   "execution_count": 86,
   "id": "58daded3",
   "metadata": {},
   "outputs": [
    {
     "name": "stdout",
     "output_type": "stream",
     "text": [
      "44492\n"
     ]
    }
   ],
   "source": [
    "# удаляем строки с показателями по ЗП > 1 000 000 млн.руб и меньше 1_000 руб.\n",
    "outliers = data_combine[mask_43 | mask_44]\n",
    "data_combine = data_combine.drop(outliers.index)\n",
    "# print(outliers.shape[0])\n",
    "print(data_combine.shape[0])"
   ]
  },
  {
   "cell_type": "code",
   "execution_count": 87,
   "id": "949132bc-d5b6-4611-8218-0b9a504d74f4",
   "metadata": {},
   "outputs": [
    {
     "name": "stdout",
     "output_type": "stream",
     "text": [
      "44485\n"
     ]
    }
   ],
   "source": [
    "# удаляем строки с показателями Опыт работы > Возраста\n",
    "mask_45 = data_combine[\"Опыт работы (месяц)\"] / 12 >= data_combine[\"Возраст\"]\n",
    "outliers = data_combine[mask_45]\n",
    "\n",
    "data_combine = data_combine.drop(outliers.index)\n",
    "\n",
    "print(data_combine.shape[0])\n"
   ]
  },
  {
   "cell_type": "code",
   "execution_count": 88,
   "id": "383e3d00",
   "metadata": {},
   "outputs": [
    {
     "data": {
      "text/plain": [
       "Text(0.5, 1.0, \"Распределение признака 'Возраст' в log масштабе\")"
      ]
     },
     "execution_count": 88,
     "metadata": {},
     "output_type": "execute_result"
    },
    {
     "data": {
      "image/png": "[encoded data removed]",
      "text/plain": [
       "<Figure size 800x400 with 1 Axes>"
      ]
     },
     "metadata": {},
     "output_type": "display_data"
    }
   ],
   "source": [
    "# строим график логарифмического рапределения признака Возраст\n",
    "fig, ax = plt.subplots(1, 1, figsize=(8, 4))\n",
    "log_age = np.log(data_combine['Возраст'] + 1)\n",
    "histplot = sns.histplot(log_age, bins=30, ax=ax)\n",
    "histplot.axvline(log_age.mean(), color='red', lw=2)\n",
    "histplot.axvline(log_age.mean()+ 4 *log_age.std(), color='red', ls='--', lw=2)\n",
    "histplot.axvline(log_age.mean()- 3 *log_age.std(), color='red', ls='--', lw=2)\n",
    "histplot.set_title(\"Распределение признака 'Возраст' в log масштабе\")"
   ]
  },
  {
   "cell_type": "code",
   "execution_count": 89,
   "id": "6a743d39-5204-48d3-8271-b9f88e68d40e",
   "metadata": {},
   "outputs": [],
   "source": [
    "# описываем функцию поиска выбросов с помощью метода Z-отклонений \n",
    "def outliers_z_score_mod(data, feature, left=3, right=3, log_scale=False):\n",
    "    if log_scale:\n",
    "        x = np.log(data[feature]+1)\n",
    "    else:\n",
    "        x = data[feature]\n",
    "    mu = x.mean()\n",
    "    sigma = x.std()\n",
    "    lower_bound = mu - left * sigma\n",
    "    upper_bound = mu + right * sigma\n",
    "    outliers = data[(x < lower_bound) | (x > upper_bound)]\n",
    "    cleaned = data[(x > lower_bound) & (x < upper_bound)]\n",
    "    return outliers, cleaned"
   ]
  },
  {
   "cell_type": "code",
   "execution_count": 90,
   "id": "499074ee",
   "metadata": {},
   "outputs": [
    {
     "name": "stdout",
     "output_type": "stream",
     "text": [
      "Число выбросов по методу z-отклонения: 3\n",
      "Результирующее число записей: 44482\n"
     ]
    }
   ],
   "source": [
    "# формируем данные по выбросам и результирующим строкам\n",
    "outliers, cleaned = outliers_z_score_mod(data_combine, 'Возраст', left=3, right=4, log_scale=True)\n",
    "print(f'Число выбросов по методу z-отклонения: {outliers.shape[0]}')\n",
    "print(f'Результирующее число записей: {cleaned.shape[0]}')"
   ]
  },
  {
   "cell_type": "code",
   "execution_count": 91,
   "id": "742b98eb",
   "metadata": {},
   "outputs": [
    {
     "name": "stdout",
     "output_type": "stream",
     "text": [
      "31137     15\n",
      "32950     15\n",
      "33654    100\n",
      "Name: Возраст, dtype: int64\n"
     ]
    }
   ],
   "source": [
    "# выводим информацию по возрасту, который попал в выбросы\n",
    "print(outliers[\"Возраст\"])"
   ]
  },
  {
   "cell_type": "code",
   "execution_count": 92,
   "id": "9bb6a871",
   "metadata": {},
   "outputs": [
    {
     "name": "stdout",
     "output_type": "stream",
     "text": [
      "44482\n"
     ]
    }
   ],
   "source": [
    "# удаляем данные с возрастом 100 и 15 лет\n",
    "data_combine = data_combine.drop(outliers.index)\n",
    "# выводим окончательное количество строк\n",
    "print(data_combine.shape[0])"
   ]
  },
  {
   "cell_type": "code",
   "execution_count": 93,
   "id": "99b67a00",
   "metadata": {},
   "outputs": [],
   "source": [
    "# создаем копию преобразованного dataset и сохраняем \n",
    "#data_hh_clean = data_combine.copy()\n",
    "#data_hh_clean.to_csv(\"data/data_hh_clean.csv\", index=False, sep=\";\")\n",
    "\n",
    "#print(data_hh_clean.info())"
   ]
  },
  {
   "attachments": {},
   "cell_type": "markdown",
   "id": "6a7892b4-4113-4746-adce-18aa2844f18e",
   "metadata": {},
   "source": [
    "### Комментарии / Выводы 4:\n",
    "1. В результате работы с выбросами были удалены строки с признаку \"ЗП (руб)\" с показателями более 1 млн.руб, и менее 1 тыс.рублей (всего 89 строк);\n",
    "2. Удалены строки по признаку \"Опыт работы\" где он превышал возраст кандидатов (7 строк);\n",
    "3. С помощью метода Z отклонений определены и удалены строки (3 шт.) чей возраст преклонный или слишком мал."
   ]
  }
 ],
 "metadata": {
  "kernelspec": {
   "display_name": "Python 3 (ipykernel)",
   "language": "python",
   "name": "python3"
  },
  "language_info": {
   "codemirror_mode": {
    "name": "ipython",
    "version": 3
   },
   "file_extension": ".py",
   "mimetype": "text/x-python",
   "name": "python",
   "nbconvert_exporter": "python",
   "pygments_lexer": "ipython3",
   "version": "3.11.0"
  }
 },
 "nbformat": 4,
 "nbformat_minor": 5
}
