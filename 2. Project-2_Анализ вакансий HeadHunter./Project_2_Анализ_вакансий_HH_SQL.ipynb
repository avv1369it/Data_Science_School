{
  "cells": [
    {
      "cell_type": "markdown",
      "id": "42289889-bd57-434e-9637-d3e354756316",
      "metadata": {
        "id": "42289889-bd57-434e-9637-d3e354756316"
      },
      "source": [
        "<center> <img src = https://raw.githubusercontent.com/AndreyRysistov/DatasetsForPandas/main/hh%20label.jpg alt=\"drawing\" style=\"width:400px;\">"
      ]
    },
    {
      "cell_type": "markdown",
      "id": "829cb75b-f14e-4ba8-9195-7ba929a7d656",
      "metadata": {
        "id": "829cb75b-f14e-4ba8-9195-7ba929a7d656",
        "tags": []
      },
      "source": [
        "# <center> Проект: Анализ вакансий из HeadHunter\n",
        "   "
      ]
    },
    {
      "cell_type": "code",
      "execution_count": 31,
      "id": "dccfde33-2452-43fb-a8a5-5c6ebc02a71d",
      "metadata": {
        "id": "dccfde33-2452-43fb-a8a5-5c6ebc02a71d"
      },
      "outputs": [],
      "source": [
        "import pandas as pd\n",
        "import psycopg2"
      ]
    },
    {
      "cell_type": "code",
      "execution_count": 32,
      "id": "oVKH4ehvf8Ay",
      "metadata": {
        "id": "oVKH4ehvf8Ay"
      },
      "outputs": [],
      "source": [
        "DBNAME = '....'\n",
        "USER = '....'\n",
        "PASSWORD = '....'\n",
        "HOST = '....'\n",
        "PORT = ...."
      ]
    },
    {
      "cell_type": "code",
      "execution_count": 33,
      "id": "G4X_q8KBf7SF",
      "metadata": {
        "id": "G4X_q8KBf7SF"
      },
      "outputs": [],
      "source": [
        "connection = psycopg2.connect(\n",
        "    dbname=DBNAME,\n",
        "    user=USER,\n",
        "    host=HOST,\n",
        "    password=PASSWORD,\n",
        "    port=PORT\n",
        ")"
      ]
    },
    {
      "cell_type": "markdown",
      "id": "0dc6476b-7a00-44f1-ac93-6e3baed33a29",
      "metadata": {
        "id": "0dc6476b-7a00-44f1-ac93-6e3baed33a29"
      },
      "source": [
        "# Юнит 3. Предварительный анализ данных"
      ]
    },
    {
      "attachments": {},
      "cell_type": "markdown",
      "id": "889782b6-8d1c-410e-8920-e57f27917c64",
      "metadata": {
        "id": "889782b6-8d1c-410e-8920-e57f27917c64"
      },
      "source": [
        "**Задание 3.1 - Напишите запрос, который посчитает количество вакансий в нашей базе (вакансии находятся в таблице vacancies).** "
      ]
    },
    {
      "cell_type": "code",
      "execution_count": 6,
      "id": "bc39e68e-ed02-4ee2-9235-7258a2f867a8",
      "metadata": {
        "id": "bc39e68e-ed02-4ee2-9235-7258a2f867a8"
      },
      "outputs": [],
      "source": [
        "# текст запроса\n",
        "query_3_1 = f'''\n",
        "            select\n",
        "                count(*) as total_vacancies\n",
        "            from public.vacancies\n",
        "            '''"
      ]
    },
    {
      "cell_type": "code",
      "execution_count": 7,
      "id": "7mAwtsk4hEHY",
      "metadata": {
        "id": "7mAwtsk4hEHY"
      },
      "outputs": [
        {
          "name": "stderr",
          "output_type": "stream",
          "text": [
            "/Users/alexander.v.varlamov/opt/anaconda3/lib/python3.9/site-packages/pandas/io/sql.py:762: UserWarning: pandas only support SQLAlchemy connectable(engine/connection) ordatabase string URI or sqlite3 DBAPI2 connectionother DBAPI2 objects are not tested, please consider using SQLAlchemy\n",
            "  warnings.warn(\n"
          ]
        },
        {
          "data": {
            "text/html": [
              "<div>\n",
              "<style scoped>\n",
              "    .dataframe tbody tr th:only-of-type {\n",
              "        vertical-align: middle;\n",
              "    }\n",
              "\n",
              "    .dataframe tbody tr th {\n",
              "        vertical-align: top;\n",
              "    }\n",
              "\n",
              "    .dataframe thead th {\n",
              "        text-align: right;\n",
              "    }\n",
              "</style>\n",
              "<table border=\"1\" class=\"dataframe\">\n",
              "  <thead>\n",
              "    <tr style=\"text-align: right;\">\n",
              "      <th></th>\n",
              "      <th>total_vacancies</th>\n",
              "    </tr>\n",
              "  </thead>\n",
              "  <tbody>\n",
              "    <tr>\n",
              "      <th>0</th>\n",
              "      <td>49197</td>\n",
              "    </tr>\n",
              "  </tbody>\n",
              "</table>\n",
              "</div>"
            ],
            "text/plain": [
              "   total_vacancies\n",
              "0            49197"
            ]
          },
          "metadata": {},
          "output_type": "display_data"
        }
      ],
      "source": [
        "total_vacancies = pd.read_sql_query(query_3_1, connection)\n",
        "display(total_vacancies)"
      ]
    },
    {
      "attachments": {},
      "cell_type": "markdown",
      "id": "b583485d-1f9e-494e-ada4-80ffff7c53d6",
      "metadata": {
        "id": "b583485d-1f9e-494e-ada4-80ffff7c53d6"
      },
      "source": [
        "**Задание 3.2 - Напишите запрос, который посчитает количество работодателей (таблица employers).** "
      ]
    },
    {
      "cell_type": "code",
      "execution_count": 8,
      "id": "5408c52c-3407-4a63-b25b-1aafa2322d28",
      "metadata": {
        "id": "5408c52c-3407-4a63-b25b-1aafa2322d28"
      },
      "outputs": [],
      "source": [
        "# текст запроса\n",
        "query_3_2 = f'''\n",
        "            select\n",
        "                count(*) as total_employers\n",
        "            from public.employers\n",
        "            '''"
      ]
    },
    {
      "cell_type": "code",
      "execution_count": 9,
      "id": "jVL4eshKhdqc",
      "metadata": {
        "id": "jVL4eshKhdqc"
      },
      "outputs": [
        {
          "name": "stderr",
          "output_type": "stream",
          "text": [
            "/Users/alexander.v.varlamov/opt/anaconda3/lib/python3.9/site-packages/pandas/io/sql.py:762: UserWarning: pandas only support SQLAlchemy connectable(engine/connection) ordatabase string URI or sqlite3 DBAPI2 connectionother DBAPI2 objects are not tested, please consider using SQLAlchemy\n",
            "  warnings.warn(\n"
          ]
        },
        {
          "data": {
            "text/html": [
              "<div>\n",
              "<style scoped>\n",
              "    .dataframe tbody tr th:only-of-type {\n",
              "        vertical-align: middle;\n",
              "    }\n",
              "\n",
              "    .dataframe tbody tr th {\n",
              "        vertical-align: top;\n",
              "    }\n",
              "\n",
              "    .dataframe thead th {\n",
              "        text-align: right;\n",
              "    }\n",
              "</style>\n",
              "<table border=\"1\" class=\"dataframe\">\n",
              "  <thead>\n",
              "    <tr style=\"text-align: right;\">\n",
              "      <th></th>\n",
              "      <th>total_employers</th>\n",
              "    </tr>\n",
              "  </thead>\n",
              "  <tbody>\n",
              "    <tr>\n",
              "      <th>0</th>\n",
              "      <td>23501</td>\n",
              "    </tr>\n",
              "  </tbody>\n",
              "</table>\n",
              "</div>"
            ],
            "text/plain": [
              "   total_employers\n",
              "0            23501"
            ]
          },
          "metadata": {},
          "output_type": "display_data"
        }
      ],
      "source": [
        "total_employers = pd.read_sql_query(query_3_2, connection)\n",
        "display(total_employers)"
      ]
    },
    {
      "attachments": {},
      "cell_type": "markdown",
      "id": "a2bfff1f-c975-4bf6-84be-2185d79dcb76",
      "metadata": {
        "id": "a2bfff1f-c975-4bf6-84be-2185d79dcb76"
      },
      "source": [
        "**Задание 3.3 - Посчитате с помощью запроса количество регионов (таблица areas).**"
      ]
    },
    {
      "cell_type": "code",
      "execution_count": 10,
      "id": "1m8QJwBYhey6",
      "metadata": {
        "id": "1m8QJwBYhey6"
      },
      "outputs": [],
      "source": [
        "# текст запроса\n",
        "query_3_3 = f'''\n",
        "            select\n",
        "                count(*) as total_areas\n",
        "            from public.areas\n",
        "            '''"
      ]
    },
    {
      "cell_type": "code",
      "execution_count": 11,
      "id": "EZsn9tlfhe7f",
      "metadata": {
        "id": "EZsn9tlfhe7f"
      },
      "outputs": [
        {
          "name": "stderr",
          "output_type": "stream",
          "text": [
            "/Users/alexander.v.varlamov/opt/anaconda3/lib/python3.9/site-packages/pandas/io/sql.py:762: UserWarning: pandas only support SQLAlchemy connectable(engine/connection) ordatabase string URI or sqlite3 DBAPI2 connectionother DBAPI2 objects are not tested, please consider using SQLAlchemy\n",
            "  warnings.warn(\n"
          ]
        },
        {
          "data": {
            "text/html": [
              "<div>\n",
              "<style scoped>\n",
              "    .dataframe tbody tr th:only-of-type {\n",
              "        vertical-align: middle;\n",
              "    }\n",
              "\n",
              "    .dataframe tbody tr th {\n",
              "        vertical-align: top;\n",
              "    }\n",
              "\n",
              "    .dataframe thead th {\n",
              "        text-align: right;\n",
              "    }\n",
              "</style>\n",
              "<table border=\"1\" class=\"dataframe\">\n",
              "  <thead>\n",
              "    <tr style=\"text-align: right;\">\n",
              "      <th></th>\n",
              "      <th>total_areas</th>\n",
              "    </tr>\n",
              "  </thead>\n",
              "  <tbody>\n",
              "    <tr>\n",
              "      <th>0</th>\n",
              "      <td>1362</td>\n",
              "    </tr>\n",
              "  </tbody>\n",
              "</table>\n",
              "</div>"
            ],
            "text/plain": [
              "   total_areas\n",
              "0         1362"
            ]
          },
          "metadata": {},
          "output_type": "display_data"
        }
      ],
      "source": [
        "# результат запроса\n",
        "total_areas = pd.read_sql_query(query_3_3, connection)\n",
        "display(total_areas)"
      ]
    },
    {
      "attachments": {},
      "cell_type": "markdown",
      "id": "41bb59f3-53cc-4a67-a5bc-bedf573955e4",
      "metadata": {
        "id": "41bb59f3-53cc-4a67-a5bc-bedf573955e4"
      },
      "source": [
        "**Задание 3.4 - Посчитате с помощью запроса количество сфер деятельности в базе (таблица industries).**"
      ]
    },
    {
      "cell_type": "code",
      "execution_count": 12,
      "id": "d286cf4c-707b-4cd2-9190-7ab3587d04a1",
      "metadata": {
        "id": "d286cf4c-707b-4cd2-9190-7ab3587d04a1"
      },
      "outputs": [],
      "source": [
        "# текст запроса\n",
        "query_3_4 = f'''\n",
        "            select\n",
        "                count(*) as total_industries\n",
        "            from public.industries\n",
        "            '''"
      ]
    },
    {
      "cell_type": "code",
      "execution_count": 13,
      "id": "JYAaoZ4qhfzW",
      "metadata": {
        "id": "JYAaoZ4qhfzW"
      },
      "outputs": [
        {
          "name": "stderr",
          "output_type": "stream",
          "text": [
            "/Users/alexander.v.varlamov/opt/anaconda3/lib/python3.9/site-packages/pandas/io/sql.py:762: UserWarning: pandas only support SQLAlchemy connectable(engine/connection) ordatabase string URI or sqlite3 DBAPI2 connectionother DBAPI2 objects are not tested, please consider using SQLAlchemy\n",
            "  warnings.warn(\n"
          ]
        },
        {
          "data": {
            "text/html": [
              "<div>\n",
              "<style scoped>\n",
              "    .dataframe tbody tr th:only-of-type {\n",
              "        vertical-align: middle;\n",
              "    }\n",
              "\n",
              "    .dataframe tbody tr th {\n",
              "        vertical-align: top;\n",
              "    }\n",
              "\n",
              "    .dataframe thead th {\n",
              "        text-align: right;\n",
              "    }\n",
              "</style>\n",
              "<table border=\"1\" class=\"dataframe\">\n",
              "  <thead>\n",
              "    <tr style=\"text-align: right;\">\n",
              "      <th></th>\n",
              "      <th>total_industries</th>\n",
              "    </tr>\n",
              "  </thead>\n",
              "  <tbody>\n",
              "    <tr>\n",
              "      <th>0</th>\n",
              "      <td>294</td>\n",
              "    </tr>\n",
              "  </tbody>\n",
              "</table>\n",
              "</div>"
            ],
            "text/plain": [
              "   total_industries\n",
              "0               294"
            ]
          },
          "metadata": {},
          "output_type": "display_data"
        }
      ],
      "source": [
        "# результат запроса\n",
        "total_industries = pd.read_sql_query(query_3_4, connection)\n",
        "display(total_industries)"
      ]
    },
    {
      "cell_type": "markdown",
      "id": "9a8a2181-6914-448b-85f1-38f5f18b8a93",
      "metadata": {
        "id": "9a8a2181-6914-448b-85f1-38f5f18b8a93"
      },
      "source": [
        "***"
      ]
    },
    {
      "attachments": {},
      "cell_type": "markdown",
      "id": "90c40f43",
      "metadata": {},
      "source": [
        "### Выводы по результатам \"Знакомства с данными\" и предварительного анализа данных\n",
        "\n",
        "База данных состоит из 5 таблиц связанных с собой посредством ключей:\n",
        "\n",
        "1. База \"Areas\" - таблица справочник, которая хранит код города и и его название:\n",
        "    * В таблице 1362 строки и 2 столбца, пустых строк нет;\n",
        "    * Все значения уникальные, общее количество регионов / городов - 1362.\n",
        "    \n",
        "2. База \"Employers\" - таблица справочник со списком работодателей:\n",
        "    * В таблице 23501 строка и 3 столбца, пустых строк нет;\n",
        "    * Уникальных значений по ID - 23501, по названию - 23175. Есть одноименные компании, наибольшее повторение - 7, компания \"Перспектива\";\n",
        "    * Общее количество работодателей - 23501.\n",
        "\n",
        "3. База \"Industries\" - таблица-справочник вариантов сфер деятельности работодателей:\n",
        "    * В таблице 294 строки и 2 столбца, пустых строк нет;\n",
        "    * Все значения уникальны, общее количество сфер деятельности - 294.\n",
        "\n",
        "4. База \"Employers_industries\" - дополнительная таблица показывающая связь между работодателями и сферами их деятельности:\n",
        "    * В таблице 32333 строки и 2 столбца. пустых строк нет.\n",
        "\n",
        "5. База \"Vacancies\" - таблица хранит в себе перечень вакансий:\n",
        "    * В таблице 49197 строк и 10 столбцов. Пустые строки есть в 3 признаках: Ключевые навыки, ЗП минимум и ЗП максимум;\n",
        "    * Уникальных значений по наименованию - 21223, самое распространенное наименование \"Системный администратор\" - 1761;\n",
        "    * Общее количество вакансий в базе - 49197."
      ]
    },
    {
      "cell_type": "markdown",
      "id": "8d62a9f3-f64e-4fe7-bdac-c4dffa16155e",
      "metadata": {
        "id": "8d62a9f3-f64e-4fe7-bdac-c4dffa16155e"
      },
      "source": [
        "# Юнит 4. Детальный анализ вакансий"
      ]
    },
    {
      "attachments": {},
      "cell_type": "markdown",
      "id": "93053d3d-b284-481a-9cf7-012d7014c0e0",
      "metadata": {
        "id": "93053d3d-b284-481a-9cf7-012d7014c0e0"
      },
      "source": [
        "**Задание 4.1 - Напишите запрос, который позволит узнать, сколько (cnt) вакансий в каждом регионе (area). Отсортируйте по количеству вакансий в порядке убывания.**"
      ]
    },
    {
      "cell_type": "code",
      "execution_count": 26,
      "id": "3f069da6-fdc9-4ae7-b514-fafe2675efd3",
      "metadata": {
        "id": "3f069da6-fdc9-4ae7-b514-fafe2675efd3"
      },
      "outputs": [],
      "source": [
        "# текст запроса\n",
        "query_4_1 = f'''\n",
        "            select\n",
        "                a.name as area,\n",
        "                count(*) as cnt\n",
        "            from public.areas as a\n",
        "            join public.vacancies as v on a.id = v.area_id\n",
        "            group by area\n",
        "            order by cnt desc\n",
        "            limit 5\n",
        "            '''"
      ]
    },
    {
      "cell_type": "code",
      "execution_count": 27,
      "id": "P7QL86hrjhRJ",
      "metadata": {
        "id": "P7QL86hrjhRJ"
      },
      "outputs": [
        {
          "name": "stderr",
          "output_type": "stream",
          "text": [
            "/Users/alexander.v.varlamov/opt/anaconda3/lib/python3.9/site-packages/pandas/io/sql.py:762: UserWarning: pandas only support SQLAlchemy connectable(engine/connection) ordatabase string URI or sqlite3 DBAPI2 connectionother DBAPI2 objects are not tested, please consider using SQLAlchemy\n",
            "  warnings.warn(\n"
          ]
        },
        {
          "data": {
            "text/html": [
              "<div>\n",
              "<style scoped>\n",
              "    .dataframe tbody tr th:only-of-type {\n",
              "        vertical-align: middle;\n",
              "    }\n",
              "\n",
              "    .dataframe tbody tr th {\n",
              "        vertical-align: top;\n",
              "    }\n",
              "\n",
              "    .dataframe thead th {\n",
              "        text-align: right;\n",
              "    }\n",
              "</style>\n",
              "<table border=\"1\" class=\"dataframe\">\n",
              "  <thead>\n",
              "    <tr style=\"text-align: right;\">\n",
              "      <th></th>\n",
              "      <th>area</th>\n",
              "      <th>cnt</th>\n",
              "    </tr>\n",
              "  </thead>\n",
              "  <tbody>\n",
              "    <tr>\n",
              "      <th>0</th>\n",
              "      <td>Москва</td>\n",
              "      <td>5333</td>\n",
              "    </tr>\n",
              "    <tr>\n",
              "      <th>1</th>\n",
              "      <td>Санкт-Петербург</td>\n",
              "      <td>2851</td>\n",
              "    </tr>\n",
              "    <tr>\n",
              "      <th>2</th>\n",
              "      <td>Минск</td>\n",
              "      <td>2112</td>\n",
              "    </tr>\n",
              "    <tr>\n",
              "      <th>3</th>\n",
              "      <td>Новосибирск</td>\n",
              "      <td>2006</td>\n",
              "    </tr>\n",
              "    <tr>\n",
              "      <th>4</th>\n",
              "      <td>Алматы</td>\n",
              "      <td>1892</td>\n",
              "    </tr>\n",
              "  </tbody>\n",
              "</table>\n",
              "</div>"
            ],
            "text/plain": [
              "              area   cnt\n",
              "0           Москва  5333\n",
              "1  Санкт-Петербург  2851\n",
              "2            Минск  2112\n",
              "3      Новосибирск  2006\n",
              "4           Алматы  1892"
            ]
          },
          "metadata": {},
          "output_type": "display_data"
        }
      ],
      "source": [
        "# результат запроса\n",
        "total_vacancies_areas = pd.read_sql_query(query_4_1, connection)\n",
        "display(total_vacancies_areas)"
      ]
    },
    {
      "attachments": {},
      "cell_type": "markdown",
      "id": "4266f0b6-1646-492a-88b4-2f6a46502135",
      "metadata": {
        "id": "4266f0b6-1646-492a-88b4-2f6a46502135"
      },
      "source": [
        "**Задание 4.2 - Напишите запрос, чтобы определить у какого количества вакансий заполнено хотя бы одно из двух полей с зарплатой.**"
      ]
    },
    {
      "cell_type": "code",
      "execution_count": 17,
      "id": "0c44b350-72eb-4d65-8b54-a1fc449ba9fd",
      "metadata": {
        "id": "0c44b350-72eb-4d65-8b54-a1fc449ba9fd"
      },
      "outputs": [],
      "source": [
        "# текст запроса\n",
        "query_4_2 = f'''\n",
        "            select\n",
        "                count(*)\n",
        "            from public.vacancies as v\n",
        "            where salary_from is not null or salary_to is not null\n",
        "            '''"
      ]
    },
    {
      "cell_type": "code",
      "execution_count": 18,
      "id": "rhvwaMDkoWTi",
      "metadata": {
        "id": "rhvwaMDkoWTi"
      },
      "outputs": [
        {
          "name": "stderr",
          "output_type": "stream",
          "text": [
            "/Users/alexander.v.varlamov/opt/anaconda3/lib/python3.9/site-packages/pandas/io/sql.py:762: UserWarning: pandas only support SQLAlchemy connectable(engine/connection) ordatabase string URI or sqlite3 DBAPI2 connectionother DBAPI2 objects are not tested, please consider using SQLAlchemy\n",
            "  warnings.warn(\n"
          ]
        },
        {
          "data": {
            "text/html": [
              "<div>\n",
              "<style scoped>\n",
              "    .dataframe tbody tr th:only-of-type {\n",
              "        vertical-align: middle;\n",
              "    }\n",
              "\n",
              "    .dataframe tbody tr th {\n",
              "        vertical-align: top;\n",
              "    }\n",
              "\n",
              "    .dataframe thead th {\n",
              "        text-align: right;\n",
              "    }\n",
              "</style>\n",
              "<table border=\"1\" class=\"dataframe\">\n",
              "  <thead>\n",
              "    <tr style=\"text-align: right;\">\n",
              "      <th></th>\n",
              "      <th>count</th>\n",
              "    </tr>\n",
              "  </thead>\n",
              "  <tbody>\n",
              "    <tr>\n",
              "      <th>0</th>\n",
              "      <td>24073</td>\n",
              "    </tr>\n",
              "  </tbody>\n",
              "</table>\n",
              "</div>"
            ],
            "text/plain": [
              "   count\n",
              "0  24073"
            ]
          },
          "metadata": {},
          "output_type": "display_data"
        }
      ],
      "source": [
        "# результат запроса\n",
        "salary_from_to_is_not_null = pd.read_sql_query(query_4_2, connection)\n",
        "display(salary_from_to_is_not_null)"
      ]
    },
    {
      "attachments": {},
      "cell_type": "markdown",
      "id": "635c4d5d-f323-4c66-b428-50a088120aa0",
      "metadata": {
        "id": "635c4d5d-f323-4c66-b428-50a088120aa0"
      },
      "source": [
        "**Задание 4.3 - Найдите средние значения для нижней и верхней границы зарплатной вилки. Округлите значения до целого.**"
      ]
    },
    {
      "cell_type": "code",
      "execution_count": 19,
      "id": "603cdbe4-0ec3-4106-8eaf-c73fcdd29165",
      "metadata": {
        "id": "603cdbe4-0ec3-4106-8eaf-c73fcdd29165"
      },
      "outputs": [],
      "source": [
        "# текст запроса\n",
        "query_4_3 = f'''\n",
        "            select\n",
        "                avg(salary_from) as avg_salary_from,\n",
        "                avg(salary_to) as avg_salary_to\n",
        "            from public.vacancies as v\n",
        "            '''"
      ]
    },
    {
      "cell_type": "code",
      "execution_count": 20,
      "id": "pswpAb66ovZZ",
      "metadata": {
        "id": "pswpAb66ovZZ"
      },
      "outputs": [
        {
          "name": "stderr",
          "output_type": "stream",
          "text": [
            "/Users/alexander.v.varlamov/opt/anaconda3/lib/python3.9/site-packages/pandas/io/sql.py:762: UserWarning: pandas only support SQLAlchemy connectable(engine/connection) ordatabase string URI or sqlite3 DBAPI2 connectionother DBAPI2 objects are not tested, please consider using SQLAlchemy\n",
            "  warnings.warn(\n"
          ]
        },
        {
          "data": {
            "text/html": [
              "<div>\n",
              "<style scoped>\n",
              "    .dataframe tbody tr th:only-of-type {\n",
              "        vertical-align: middle;\n",
              "    }\n",
              "\n",
              "    .dataframe tbody tr th {\n",
              "        vertical-align: top;\n",
              "    }\n",
              "\n",
              "    .dataframe thead th {\n",
              "        text-align: right;\n",
              "    }\n",
              "</style>\n",
              "<table border=\"1\" class=\"dataframe\">\n",
              "  <thead>\n",
              "    <tr style=\"text-align: right;\">\n",
              "      <th></th>\n",
              "      <th>avg_salary_from</th>\n",
              "      <th>avg_salary_to</th>\n",
              "    </tr>\n",
              "  </thead>\n",
              "  <tbody>\n",
              "    <tr>\n",
              "      <th>0</th>\n",
              "      <td>71065.0</td>\n",
              "      <td>110537.0</td>\n",
              "    </tr>\n",
              "  </tbody>\n",
              "</table>\n",
              "</div>"
            ],
            "text/plain": [
              "   avg_salary_from  avg_salary_to\n",
              "0          71065.0       110537.0"
            ]
          },
          "metadata": {},
          "output_type": "display_data"
        }
      ],
      "source": [
        "# результат запроса\n",
        "avarege_salary = pd.read_sql_query(query_4_3, connection)\n",
        "display(round(avarege_salary))"
      ]
    },
    {
      "attachments": {},
      "cell_type": "markdown",
      "id": "c14d301a",
      "metadata": {},
      "source": [
        "### Дополнительный запрос 4.3.1 - средняя ЗП в части признака - опыт работы."
      ]
    },
    {
      "cell_type": "code",
      "execution_count": 22,
      "id": "a366213b",
      "metadata": {},
      "outputs": [],
      "source": [
        "# текст запроса\n",
        "query_4_3_1 = f'''\n",
        "            select\n",
        "                v.experience as experience,\n",
        "                count(v.id) as cnt_vacancies,\n",
        "                avg(salary_from) as avg_salary_from,\n",
        "                avg(salary_to) as avg_salary_to\n",
        "            from public.vacancies as v\n",
        "            group by v.experience\n",
        "            order by avg_salary_from desc\n",
        "            '''"
      ]
    },
    {
      "cell_type": "code",
      "execution_count": 23,
      "id": "9fc7fdb5",
      "metadata": {},
      "outputs": [
        {
          "name": "stderr",
          "output_type": "stream",
          "text": [
            "/Users/alexander.v.varlamov/opt/anaconda3/lib/python3.9/site-packages/pandas/io/sql.py:762: UserWarning: pandas only support SQLAlchemy connectable(engine/connection) ordatabase string URI or sqlite3 DBAPI2 connectionother DBAPI2 objects are not tested, please consider using SQLAlchemy\n",
            "  warnings.warn(\n"
          ]
        },
        {
          "data": {
            "text/html": [
              "<div>\n",
              "<style scoped>\n",
              "    .dataframe tbody tr th:only-of-type {\n",
              "        vertical-align: middle;\n",
              "    }\n",
              "\n",
              "    .dataframe tbody tr th {\n",
              "        vertical-align: top;\n",
              "    }\n",
              "\n",
              "    .dataframe thead th {\n",
              "        text-align: right;\n",
              "    }\n",
              "</style>\n",
              "<table border=\"1\" class=\"dataframe\">\n",
              "  <thead>\n",
              "    <tr style=\"text-align: right;\">\n",
              "      <th></th>\n",
              "      <th>experience</th>\n",
              "      <th>cnt_vacancies</th>\n",
              "      <th>avg_salary_from</th>\n",
              "      <th>avg_salary_to</th>\n",
              "    </tr>\n",
              "  </thead>\n",
              "  <tbody>\n",
              "    <tr>\n",
              "      <th>0</th>\n",
              "      <td>Более 6 лет</td>\n",
              "      <td>1337</td>\n",
              "      <td>150156.0</td>\n",
              "      <td>197819.0</td>\n",
              "    </tr>\n",
              "    <tr>\n",
              "      <th>1</th>\n",
              "      <td>От 3 до 6 лет</td>\n",
              "      <td>14511</td>\n",
              "      <td>112544.0</td>\n",
              "      <td>171974.0</td>\n",
              "    </tr>\n",
              "    <tr>\n",
              "      <th>2</th>\n",
              "      <td>От 1 года до 3 лет</td>\n",
              "      <td>26152</td>\n",
              "      <td>64456.0</td>\n",
              "      <td>97436.0</td>\n",
              "    </tr>\n",
              "    <tr>\n",
              "      <th>3</th>\n",
              "      <td>Нет опыта</td>\n",
              "      <td>7197</td>\n",
              "      <td>34699.0</td>\n",
              "      <td>56990.0</td>\n",
              "    </tr>\n",
              "  </tbody>\n",
              "</table>\n",
              "</div>"
            ],
            "text/plain": [
              "           experience  cnt_vacancies  avg_salary_from  avg_salary_to\n",
              "0         Более 6 лет           1337         150156.0       197819.0\n",
              "1       От 3 до 6 лет          14511         112544.0       171974.0\n",
              "2  От 1 года до 3 лет          26152          64456.0        97436.0\n",
              "3           Нет опыта           7197          34699.0        56990.0"
            ]
          },
          "metadata": {},
          "output_type": "display_data"
        }
      ],
      "source": [
        "avarege_salary_experience = pd.read_sql_query(query_4_3_1, connection)\n",
        "display(round(avarege_salary_experience))"
      ]
    },
    {
      "attachments": {},
      "cell_type": "markdown",
      "id": "f3fdaec9-5fd3-4260-9cf5-1d7406b628a5",
      "metadata": {
        "id": "f3fdaec9-5fd3-4260-9cf5-1d7406b628a5"
      },
      "source": [
        "**Задание 4.4 - Напишите запрос, который выведет количество вакансий для каждого сочетания типа рабочего графика (schedule) и типа трудоустройства (employment), используемого в вакансиях. Результат отсортируйте по убыванию количества.**\n"
      ]
    },
    {
      "cell_type": "code",
      "execution_count": 21,
      "id": "1ea710ec-871b-431e-9462-c7d0fd87011b",
      "metadata": {
        "id": "1ea710ec-871b-431e-9462-c7d0fd87011b"
      },
      "outputs": [],
      "source": [
        "# текст запроса\n",
        "query_4_4 = f'''\n",
        "            select\n",
        "                v.schedule as schedule,\n",
        "                v.employment as employment,\n",
        "                count(*) as cnt\n",
        "            from public.vacancies as v\n",
        "            group by schedule, employment\n",
        "            order by cnt desc\n",
        "            '''"
      ]
    },
    {
      "cell_type": "code",
      "execution_count": 22,
      "id": "lGUVqavdo4JQ",
      "metadata": {
        "id": "lGUVqavdo4JQ"
      },
      "outputs": [
        {
          "name": "stderr",
          "output_type": "stream",
          "text": [
            "/Users/alexander.v.varlamov/opt/anaconda3/lib/python3.9/site-packages/pandas/io/sql.py:762: UserWarning: pandas only support SQLAlchemy connectable(engine/connection) ordatabase string URI or sqlite3 DBAPI2 connectionother DBAPI2 objects are not tested, please consider using SQLAlchemy\n",
            "  warnings.warn(\n"
          ]
        },
        {
          "data": {
            "text/html": [
              "<div>\n",
              "<style scoped>\n",
              "    .dataframe tbody tr th:only-of-type {\n",
              "        vertical-align: middle;\n",
              "    }\n",
              "\n",
              "    .dataframe tbody tr th {\n",
              "        vertical-align: top;\n",
              "    }\n",
              "\n",
              "    .dataframe thead th {\n",
              "        text-align: right;\n",
              "    }\n",
              "</style>\n",
              "<table border=\"1\" class=\"dataframe\">\n",
              "  <thead>\n",
              "    <tr style=\"text-align: right;\">\n",
              "      <th></th>\n",
              "      <th>schedule</th>\n",
              "      <th>employment</th>\n",
              "      <th>cnt</th>\n",
              "    </tr>\n",
              "  </thead>\n",
              "  <tbody>\n",
              "    <tr>\n",
              "      <th>0</th>\n",
              "      <td>Полный день</td>\n",
              "      <td>Полная занятость</td>\n",
              "      <td>35367</td>\n",
              "    </tr>\n",
              "    <tr>\n",
              "      <th>1</th>\n",
              "      <td>Удаленная работа</td>\n",
              "      <td>Полная занятость</td>\n",
              "      <td>7802</td>\n",
              "    </tr>\n",
              "    <tr>\n",
              "      <th>2</th>\n",
              "      <td>Гибкий график</td>\n",
              "      <td>Полная занятость</td>\n",
              "      <td>1593</td>\n",
              "    </tr>\n",
              "    <tr>\n",
              "      <th>3</th>\n",
              "      <td>Удаленная работа</td>\n",
              "      <td>Частичная занятость</td>\n",
              "      <td>1312</td>\n",
              "    </tr>\n",
              "    <tr>\n",
              "      <th>4</th>\n",
              "      <td>Сменный график</td>\n",
              "      <td>Полная занятость</td>\n",
              "      <td>940</td>\n",
              "    </tr>\n",
              "    <tr>\n",
              "      <th>5</th>\n",
              "      <td>Полный день</td>\n",
              "      <td>Стажировка</td>\n",
              "      <td>569</td>\n",
              "    </tr>\n",
              "    <tr>\n",
              "      <th>6</th>\n",
              "      <td>Вахтовый метод</td>\n",
              "      <td>Полная занятость</td>\n",
              "      <td>367</td>\n",
              "    </tr>\n",
              "    <tr>\n",
              "      <th>7</th>\n",
              "      <td>Полный день</td>\n",
              "      <td>Частичная занятость</td>\n",
              "      <td>347</td>\n",
              "    </tr>\n",
              "    <tr>\n",
              "      <th>8</th>\n",
              "      <td>Гибкий график</td>\n",
              "      <td>Частичная занятость</td>\n",
              "      <td>312</td>\n",
              "    </tr>\n",
              "    <tr>\n",
              "      <th>9</th>\n",
              "      <td>Полный день</td>\n",
              "      <td>Проектная работа</td>\n",
              "      <td>141</td>\n",
              "    </tr>\n",
              "    <tr>\n",
              "      <th>10</th>\n",
              "      <td>Удаленная работа</td>\n",
              "      <td>Проектная работа</td>\n",
              "      <td>133</td>\n",
              "    </tr>\n",
              "    <tr>\n",
              "      <th>11</th>\n",
              "      <td>Гибкий график</td>\n",
              "      <td>Стажировка</td>\n",
              "      <td>116</td>\n",
              "    </tr>\n",
              "    <tr>\n",
              "      <th>12</th>\n",
              "      <td>Сменный график</td>\n",
              "      <td>Частичная занятость</td>\n",
              "      <td>101</td>\n",
              "    </tr>\n",
              "    <tr>\n",
              "      <th>13</th>\n",
              "      <td>Удаленная работа</td>\n",
              "      <td>Стажировка</td>\n",
              "      <td>64</td>\n",
              "    </tr>\n",
              "    <tr>\n",
              "      <th>14</th>\n",
              "      <td>Гибкий график</td>\n",
              "      <td>Проектная работа</td>\n",
              "      <td>18</td>\n",
              "    </tr>\n",
              "    <tr>\n",
              "      <th>15</th>\n",
              "      <td>Сменный график</td>\n",
              "      <td>Стажировка</td>\n",
              "      <td>12</td>\n",
              "    </tr>\n",
              "    <tr>\n",
              "      <th>16</th>\n",
              "      <td>Вахтовый метод</td>\n",
              "      <td>Проектная работа</td>\n",
              "      <td>2</td>\n",
              "    </tr>\n",
              "    <tr>\n",
              "      <th>17</th>\n",
              "      <td>Сменный график</td>\n",
              "      <td>Проектная работа</td>\n",
              "      <td>1</td>\n",
              "    </tr>\n",
              "  </tbody>\n",
              "</table>\n",
              "</div>"
            ],
            "text/plain": [
              "            schedule           employment    cnt\n",
              "0        Полный день     Полная занятость  35367\n",
              "1   Удаленная работа     Полная занятость   7802\n",
              "2      Гибкий график     Полная занятость   1593\n",
              "3   Удаленная работа  Частичная занятость   1312\n",
              "4     Сменный график     Полная занятость    940\n",
              "5        Полный день           Стажировка    569\n",
              "6     Вахтовый метод     Полная занятость    367\n",
              "7        Полный день  Частичная занятость    347\n",
              "8      Гибкий график  Частичная занятость    312\n",
              "9        Полный день     Проектная работа    141\n",
              "10  Удаленная работа     Проектная работа    133\n",
              "11     Гибкий график           Стажировка    116\n",
              "12    Сменный график  Частичная занятость    101\n",
              "13  Удаленная работа           Стажировка     64\n",
              "14     Гибкий график     Проектная работа     18\n",
              "15    Сменный график           Стажировка     12\n",
              "16    Вахтовый метод     Проектная работа      2\n",
              "17    Сменный график     Проектная работа      1"
            ]
          },
          "metadata": {},
          "output_type": "display_data"
        }
      ],
      "source": [
        "# результат запроса\n",
        "schedule_employment = pd.read_sql_query(query_4_4, connection)\n",
        "display(round(schedule_employment))"
      ]
    },
    {
      "attachments": {},
      "cell_type": "markdown",
      "id": "0136ffee-0ead-4a6b-b608-61d1c753a438",
      "metadata": {
        "id": "0136ffee-0ead-4a6b-b608-61d1c753a438"
      },
      "source": [
        "**Задание 4.5 - Напишите запрос, выводящий значения поля Требуемый опыт работы (experience) в порядке возрастания количества вакансий, в которых указан данный вариант опыта.** "
      ]
    },
    {
      "cell_type": "code",
      "execution_count": 23,
      "id": "5b3a8e79-f7ab-4008-b767-12aea3a205ea",
      "metadata": {
        "id": "5b3a8e79-f7ab-4008-b767-12aea3a205ea"
      },
      "outputs": [],
      "source": [
        "# текст запроса\n",
        "query_4_5 = f'''\n",
        "            select\n",
        "                v.experience as experience,\n",
        "                count(*) as cnt\n",
        "            from public.vacancies as v\n",
        "            group by experience\n",
        "            order by cnt\n",
        "            '''"
      ]
    },
    {
      "cell_type": "code",
      "execution_count": 24,
      "id": "3Is64Y-hpDpq",
      "metadata": {
        "id": "3Is64Y-hpDpq"
      },
      "outputs": [
        {
          "name": "stderr",
          "output_type": "stream",
          "text": [
            "/Users/alexander.v.varlamov/opt/anaconda3/lib/python3.9/site-packages/pandas/io/sql.py:762: UserWarning: pandas only support SQLAlchemy connectable(engine/connection) ordatabase string URI or sqlite3 DBAPI2 connectionother DBAPI2 objects are not tested, please consider using SQLAlchemy\n",
            "  warnings.warn(\n"
          ]
        },
        {
          "data": {
            "text/html": [
              "<div>\n",
              "<style scoped>\n",
              "    .dataframe tbody tr th:only-of-type {\n",
              "        vertical-align: middle;\n",
              "    }\n",
              "\n",
              "    .dataframe tbody tr th {\n",
              "        vertical-align: top;\n",
              "    }\n",
              "\n",
              "    .dataframe thead th {\n",
              "        text-align: right;\n",
              "    }\n",
              "</style>\n",
              "<table border=\"1\" class=\"dataframe\">\n",
              "  <thead>\n",
              "    <tr style=\"text-align: right;\">\n",
              "      <th></th>\n",
              "      <th>experience</th>\n",
              "      <th>cnt</th>\n",
              "    </tr>\n",
              "  </thead>\n",
              "  <tbody>\n",
              "    <tr>\n",
              "      <th>0</th>\n",
              "      <td>Более 6 лет</td>\n",
              "      <td>1337</td>\n",
              "    </tr>\n",
              "    <tr>\n",
              "      <th>1</th>\n",
              "      <td>Нет опыта</td>\n",
              "      <td>7197</td>\n",
              "    </tr>\n",
              "    <tr>\n",
              "      <th>2</th>\n",
              "      <td>От 3 до 6 лет</td>\n",
              "      <td>14511</td>\n",
              "    </tr>\n",
              "    <tr>\n",
              "      <th>3</th>\n",
              "      <td>От 1 года до 3 лет</td>\n",
              "      <td>26152</td>\n",
              "    </tr>\n",
              "  </tbody>\n",
              "</table>\n",
              "</div>"
            ],
            "text/plain": [
              "           experience    cnt\n",
              "0         Более 6 лет   1337\n",
              "1           Нет опыта   7197\n",
              "2       От 3 до 6 лет  14511\n",
              "3  От 1 года до 3 лет  26152"
            ]
          },
          "metadata": {},
          "output_type": "display_data"
        }
      ],
      "source": [
        "# результат запроса\n",
        "experience_vacancies = pd.read_sql_query(query_4_5, connection)\n",
        "display(experience_vacancies)"
      ]
    },
    {
      "attachments": {},
      "cell_type": "markdown",
      "id": "a6e245f6",
      "metadata": {},
      "source": [
        "### Дополнительный запрос 4.5.1 : 4.5.2 : 4.5.3  - анализ вакнсий с опытом работы более 6 лет."
      ]
    },
    {
      "cell_type": "code",
      "execution_count": 34,
      "id": "eefc2848",
      "metadata": {},
      "outputs": [],
      "source": [
        "# текст запроса - вывести наименование вакансий с опытом работы 6+ лет и их количество.\n",
        "query_4_5_1 = f'''\n",
        "            select\n",
        "                v.name as name_vacancies,\n",
        "                count(*) as cnt\n",
        "            from public.vacancies as v\n",
        "            where v.experience = 'Более 6 лет'\n",
        "            group by v.name\n",
        "            order by cnt desc\n",
        "            limit 10\n",
        "            '''"
      ]
    },
    {
      "cell_type": "code",
      "execution_count": 37,
      "id": "5bc7d576",
      "metadata": {},
      "outputs": [
        {
          "name": "stderr",
          "output_type": "stream",
          "text": [
            "/Users/alexander.v.varlamov/opt/anaconda3/lib/python3.9/site-packages/pandas/io/sql.py:762: UserWarning: pandas only support SQLAlchemy connectable(engine/connection) ordatabase string URI or sqlite3 DBAPI2 connectionother DBAPI2 objects are not tested, please consider using SQLAlchemy\n",
            "  warnings.warn(\n"
          ]
        },
        {
          "data": {
            "text/html": [
              "<div>\n",
              "<style scoped>\n",
              "    .dataframe tbody tr th:only-of-type {\n",
              "        vertical-align: middle;\n",
              "    }\n",
              "\n",
              "    .dataframe tbody tr th {\n",
              "        vertical-align: top;\n",
              "    }\n",
              "\n",
              "    .dataframe thead th {\n",
              "        text-align: right;\n",
              "    }\n",
              "</style>\n",
              "<table border=\"1\" class=\"dataframe\">\n",
              "  <thead>\n",
              "    <tr style=\"text-align: right;\">\n",
              "      <th></th>\n",
              "      <th>name_vacancies</th>\n",
              "      <th>cnt</th>\n",
              "    </tr>\n",
              "  </thead>\n",
              "  <tbody>\n",
              "    <tr>\n",
              "      <th>0</th>\n",
              "      <td>Руководитель проекта</td>\n",
              "      <td>37</td>\n",
              "    </tr>\n",
              "    <tr>\n",
              "      <th>1</th>\n",
              "      <td>Системный администратор</td>\n",
              "      <td>31</td>\n",
              "    </tr>\n",
              "    <tr>\n",
              "      <th>2</th>\n",
              "      <td>Технический директор</td>\n",
              "      <td>28</td>\n",
              "    </tr>\n",
              "    <tr>\n",
              "      <th>3</th>\n",
              "      <td>Программист 1С</td>\n",
              "      <td>15</td>\n",
              "    </tr>\n",
              "    <tr>\n",
              "      <th>4</th>\n",
              "      <td>Senior Data Scientist</td>\n",
              "      <td>14</td>\n",
              "    </tr>\n",
              "    <tr>\n",
              "      <th>5</th>\n",
              "      <td>Программист</td>\n",
              "      <td>11</td>\n",
              "    </tr>\n",
              "    <tr>\n",
              "      <th>6</th>\n",
              "      <td>Директор научно-исследовательского центра (химия)</td>\n",
              "      <td>10</td>\n",
              "    </tr>\n",
              "    <tr>\n",
              "      <th>7</th>\n",
              "      <td>Senior Java Developer</td>\n",
              "      <td>9</td>\n",
              "    </tr>\n",
              "    <tr>\n",
              "      <th>8</th>\n",
              "      <td>Руководитель направления ТОиР Центра развития ...</td>\n",
              "      <td>8</td>\n",
              "    </tr>\n",
              "    <tr>\n",
              "      <th>9</th>\n",
              "      <td>Senior System Administrator</td>\n",
              "      <td>8</td>\n",
              "    </tr>\n",
              "  </tbody>\n",
              "</table>\n",
              "</div>"
            ],
            "text/plain": [
              "                                      name_vacancies  cnt\n",
              "0                               Руководитель проекта   37\n",
              "1                            Системный администратор   31\n",
              "2                               Технический директор   28\n",
              "3                                     Программист 1С   15\n",
              "4                              Senior Data Scientist   14\n",
              "5                                        Программист   11\n",
              "6  Директор научно-исследовательского центра (химия)   10\n",
              "7                              Senior Java Developer    9\n",
              "8  Руководитель направления ТОиР Центра развития ...    8\n",
              "9                        Senior System Administrator    8"
            ]
          },
          "metadata": {},
          "output_type": "display_data"
        }
      ],
      "source": [
        "# результат запроса\n",
        "experience_vacancies_6 = pd.read_sql_query(query_4_5_1, connection)\n",
        "display(experience_vacancies_6)"
      ]
    },
    {
      "cell_type": "markdown",
      "id": "oq2b7n1QpIka",
      "metadata": {
        "id": "oq2b7n1QpIka"
      },
      "source": [
        "***"
      ]
    },
    {
      "cell_type": "code",
      "execution_count": 42,
      "id": "5134651e",
      "metadata": {},
      "outputs": [],
      "source": [
        "# текст запроса - вывести распределение вакансий с опытом работы 6+ лет по городам и уровень СЗ.\n",
        "query_4_5_2 = f'''\n",
        "            select\n",
        "                a.name as name_cities,\n",
        "                count(*) as cnt,\n",
        "                round(avg(salary_from)) as avg_salary_from,\n",
        "                round(avg(salary_to)) as avg_salary_to\n",
        "            from public.vacancies as v\n",
        "                left join public.areas as a on a.id = v.area_id\n",
        "            where v.experience = 'Более 6 лет'\n",
        "            group by a.name\n",
        "            order by cnt desc\n",
        "            limit 10\n",
        "            '''"
      ]
    },
    {
      "cell_type": "code",
      "execution_count": 43,
      "id": "8ce880b1",
      "metadata": {},
      "outputs": [
        {
          "name": "stderr",
          "output_type": "stream",
          "text": [
            "/Users/alexander.v.varlamov/opt/anaconda3/lib/python3.9/site-packages/pandas/io/sql.py:762: UserWarning: pandas only support SQLAlchemy connectable(engine/connection) ordatabase string URI or sqlite3 DBAPI2 connectionother DBAPI2 objects are not tested, please consider using SQLAlchemy\n",
            "  warnings.warn(\n"
          ]
        },
        {
          "data": {
            "text/html": [
              "<div>\n",
              "<style scoped>\n",
              "    .dataframe tbody tr th:only-of-type {\n",
              "        vertical-align: middle;\n",
              "    }\n",
              "\n",
              "    .dataframe tbody tr th {\n",
              "        vertical-align: top;\n",
              "    }\n",
              "\n",
              "    .dataframe thead th {\n",
              "        text-align: right;\n",
              "    }\n",
              "</style>\n",
              "<table border=\"1\" class=\"dataframe\">\n",
              "  <thead>\n",
              "    <tr style=\"text-align: right;\">\n",
              "      <th></th>\n",
              "      <th>name_cities</th>\n",
              "      <th>cnt</th>\n",
              "      <th>avg_salary_from</th>\n",
              "      <th>avg_salary_to</th>\n",
              "    </tr>\n",
              "  </thead>\n",
              "  <tbody>\n",
              "    <tr>\n",
              "      <th>0</th>\n",
              "      <td>Москва</td>\n",
              "      <td>205</td>\n",
              "      <td>217389.0</td>\n",
              "      <td>273931.0</td>\n",
              "    </tr>\n",
              "    <tr>\n",
              "      <th>1</th>\n",
              "      <td>Алматы</td>\n",
              "      <td>101</td>\n",
              "      <td>117164.0</td>\n",
              "      <td>165683.0</td>\n",
              "    </tr>\n",
              "    <tr>\n",
              "      <th>2</th>\n",
              "      <td>Санкт-Петербург</td>\n",
              "      <td>74</td>\n",
              "      <td>174463.0</td>\n",
              "      <td>190000.0</td>\n",
              "    </tr>\n",
              "    <tr>\n",
              "      <th>3</th>\n",
              "      <td>Минск</td>\n",
              "      <td>66</td>\n",
              "      <td>118480.0</td>\n",
              "      <td>175265.0</td>\n",
              "    </tr>\n",
              "    <tr>\n",
              "      <th>4</th>\n",
              "      <td>Новосибирск</td>\n",
              "      <td>55</td>\n",
              "      <td>218100.0</td>\n",
              "      <td>292215.0</td>\n",
              "    </tr>\n",
              "    <tr>\n",
              "      <th>5</th>\n",
              "      <td>Нур-Султан</td>\n",
              "      <td>47</td>\n",
              "      <td>124462.0</td>\n",
              "      <td>114330.0</td>\n",
              "    </tr>\n",
              "    <tr>\n",
              "      <th>6</th>\n",
              "      <td>Нижний Новгород</td>\n",
              "      <td>42</td>\n",
              "      <td>193662.0</td>\n",
              "      <td>426808.0</td>\n",
              "    </tr>\n",
              "    <tr>\n",
              "      <th>7</th>\n",
              "      <td>Тбилиси</td>\n",
              "      <td>38</td>\n",
              "      <td>246068.0</td>\n",
              "      <td>317083.0</td>\n",
              "    </tr>\n",
              "    <tr>\n",
              "      <th>8</th>\n",
              "      <td>Ташкент</td>\n",
              "      <td>36</td>\n",
              "      <td>109015.0</td>\n",
              "      <td>145805.0</td>\n",
              "    </tr>\n",
              "    <tr>\n",
              "      <th>9</th>\n",
              "      <td>Красноярск</td>\n",
              "      <td>33</td>\n",
              "      <td>130088.0</td>\n",
              "      <td>115385.0</td>\n",
              "    </tr>\n",
              "  </tbody>\n",
              "</table>\n",
              "</div>"
            ],
            "text/plain": [
              "       name_cities  cnt  avg_salary_from  avg_salary_to\n",
              "0           Москва  205         217389.0       273931.0\n",
              "1           Алматы  101         117164.0       165683.0\n",
              "2  Санкт-Петербург   74         174463.0       190000.0\n",
              "3            Минск   66         118480.0       175265.0\n",
              "4      Новосибирск   55         218100.0       292215.0\n",
              "5       Нур-Султан   47         124462.0       114330.0\n",
              "6  Нижний Новгород   42         193662.0       426808.0\n",
              "7          Тбилиси   38         246068.0       317083.0\n",
              "8          Ташкент   36         109015.0       145805.0\n",
              "9       Красноярск   33         130088.0       115385.0"
            ]
          },
          "metadata": {},
          "output_type": "display_data"
        }
      ],
      "source": [
        "# результат запроса\n",
        "experience_vacancies_6_city = pd.read_sql_query(query_4_5_2, connection)\n",
        "display(experience_vacancies_6_city)"
      ]
    },
    {
      "cell_type": "code",
      "execution_count": 44,
      "id": "1aca6d7c",
      "metadata": {},
      "outputs": [],
      "source": [
        "# текст запроса - вывести распределение вакансий с опытом работы 6+ лет по названию работодателей.\n",
        "query_4_5_3 = f'''\n",
        "            select\n",
        "                e.name as name_employer,\n",
        "                count(*) as cnt,\n",
        "                round(avg(salary_from)) as avg_salary_from,\n",
        "                round(avg(salary_to)) as avg_salary_to\n",
        "            from public.vacancies as v\n",
        "                left join public.employers as e on e.id = v.employer_id\n",
        "            where v.experience = 'Более 6 лет'\n",
        "            group by e.name\n",
        "            order by cnt desc\n",
        "            limit 10\n",
        "            '''"
      ]
    },
    {
      "cell_type": "code",
      "execution_count": 45,
      "id": "668ac488",
      "metadata": {},
      "outputs": [
        {
          "name": "stderr",
          "output_type": "stream",
          "text": [
            "/Users/alexander.v.varlamov/opt/anaconda3/lib/python3.9/site-packages/pandas/io/sql.py:762: UserWarning: pandas only support SQLAlchemy connectable(engine/connection) ordatabase string URI or sqlite3 DBAPI2 connectionother DBAPI2 objects are not tested, please consider using SQLAlchemy\n",
            "  warnings.warn(\n"
          ]
        },
        {
          "data": {
            "text/html": [
              "<div>\n",
              "<style scoped>\n",
              "    .dataframe tbody tr th:only-of-type {\n",
              "        vertical-align: middle;\n",
              "    }\n",
              "\n",
              "    .dataframe tbody tr th {\n",
              "        vertical-align: top;\n",
              "    }\n",
              "\n",
              "    .dataframe thead th {\n",
              "        text-align: right;\n",
              "    }\n",
              "</style>\n",
              "<table border=\"1\" class=\"dataframe\">\n",
              "  <thead>\n",
              "    <tr style=\"text-align: right;\">\n",
              "      <th></th>\n",
              "      <th>name_employer</th>\n",
              "      <th>cnt</th>\n",
              "      <th>avg_salary_from</th>\n",
              "      <th>avg_salary_to</th>\n",
              "    </tr>\n",
              "  </thead>\n",
              "  <tbody>\n",
              "    <tr>\n",
              "      <th>0</th>\n",
              "      <td>Bell Integrator</td>\n",
              "      <td>27</td>\n",
              "      <td>NaN</td>\n",
              "      <td>NaN</td>\n",
              "    </tr>\n",
              "    <tr>\n",
              "      <th>1</th>\n",
              "      <td>Айсбит</td>\n",
              "      <td>17</td>\n",
              "      <td>80000.0</td>\n",
              "      <td>NaN</td>\n",
              "    </tr>\n",
              "    <tr>\n",
              "      <th>2</th>\n",
              "      <td>ЭФКО, Управляющая компания</td>\n",
              "      <td>15</td>\n",
              "      <td>NaN</td>\n",
              "      <td>NaN</td>\n",
              "    </tr>\n",
              "    <tr>\n",
              "      <th>3</th>\n",
              "      <td>Volna.tech</td>\n",
              "      <td>13</td>\n",
              "      <td>116154.0</td>\n",
              "      <td>346154.0</td>\n",
              "    </tr>\n",
              "    <tr>\n",
              "      <th>4</th>\n",
              "      <td>Playrix</td>\n",
              "      <td>12</td>\n",
              "      <td>NaN</td>\n",
              "      <td>NaN</td>\n",
              "    </tr>\n",
              "    <tr>\n",
              "      <th>5</th>\n",
              "      <td>Удоканская медь</td>\n",
              "      <td>11</td>\n",
              "      <td>NaN</td>\n",
              "      <td>NaN</td>\n",
              "    </tr>\n",
              "    <tr>\n",
              "      <th>6</th>\n",
              "      <td>Август, Фирма</td>\n",
              "      <td>10</td>\n",
              "      <td>500000.0</td>\n",
              "      <td>NaN</td>\n",
              "    </tr>\n",
              "    <tr>\n",
              "      <th>7</th>\n",
              "      <td>РОДЖИИ ЕВРОПА</td>\n",
              "      <td>10</td>\n",
              "      <td>278870.0</td>\n",
              "      <td>275345.0</td>\n",
              "    </tr>\n",
              "    <tr>\n",
              "      <th>8</th>\n",
              "      <td>Восток.Софт</td>\n",
              "      <td>9</td>\n",
              "      <td>150000.0</td>\n",
              "      <td>NaN</td>\n",
              "    </tr>\n",
              "    <tr>\n",
              "      <th>9</th>\n",
              "      <td>Газпром нефть</td>\n",
              "      <td>8</td>\n",
              "      <td>NaN</td>\n",
              "      <td>NaN</td>\n",
              "    </tr>\n",
              "  </tbody>\n",
              "</table>\n",
              "</div>"
            ],
            "text/plain": [
              "                name_employer  cnt  avg_salary_from  avg_salary_to\n",
              "0             Bell Integrator   27              NaN            NaN\n",
              "1                      Айсбит   17          80000.0            NaN\n",
              "2  ЭФКО, Управляющая компания   15              NaN            NaN\n",
              "3                  Volna.tech   13         116154.0       346154.0\n",
              "4                     Playrix   12              NaN            NaN\n",
              "5             Удоканская медь   11              NaN            NaN\n",
              "6               Август, Фирма   10         500000.0            NaN\n",
              "7               РОДЖИИ ЕВРОПА   10         278870.0       275345.0\n",
              "8                 Восток.Софт    9         150000.0            NaN\n",
              "9               Газпром нефть    8              NaN            NaN"
            ]
          },
          "metadata": {},
          "output_type": "display_data"
        }
      ],
      "source": [
        "# результат запроса\n",
        "experience_vacancies_6_employer = pd.read_sql_query(query_4_5_3, connection)\n",
        "display(experience_vacancies_6_employer)"
      ]
    },
    {
      "attachments": {},
      "cell_type": "markdown",
      "id": "4f0c9262",
      "metadata": {},
      "source": [
        "### Выводы по детальному анализу вакансий\n",
        "\n",
        "1. В базе представлена информация по 49197 вакансиям;\n",
        "2. В 5 лидеров по количеству вакансий: Москва - 5333 (11%), Санкт-Петербург - 2851 (6%), Минск - 2112 (4%), Алматы - 1892 (4%). Из лидеров мы видим, что в базе представлены вакансии по РФ и странам СНГ;\n",
        "3. По признаку - опыту работы, основной категорией являетс \"От 1 года до 3 лет\" - 26152 (53%) и \"От 3 до 6 лет\" - 14511 (29%). Очень низкое количество вакансий в категории опытных работников \"Более 6 лет\" - 1337 (3%);\n",
        "4. Дополнительный исследования вакансий с опытом работы 6+ лет: \n",
        "    - к вакансиям с опытом работы \"Более 6 лет\" относятяся руководители проектов / направлений, директора (технические и прочие), лидеры / Senior и т.д. (запрос 4_5_1);\n",
        "    - в разрезе городов - основная потребность представлена в городах миллиониках и столицах (запрос 4_5_2);\n",
        "    - в разрезе работодателей информация представлена в запросе 4_5_3. Выводы сделать сложно, в основном не известные компании. ЗП в большей части не отображена (по договоренности).\n",
        "5. Основные условия по рабочему графику и типу трудоуствройству: \"Полный день\" - \"Полная занятость\" - 35367 (72%);\n",
        "6. Средний уровень ЗП по вакансиям в которых отражены предложения по ЗП ( 24073 / 49%) составляет от 71тыс.руб до 110тыс.руб. В разрезе признака \"Опыт работы\" средний уровень ЗП повышается - больше ЗП, выше ЗП (запрос 4_3_1).  "
      ]
    },
    {
      "cell_type": "markdown",
      "id": "7ea20ab6-04a7-40a0-adec-443a0e5a42c3",
      "metadata": {
        "id": "7ea20ab6-04a7-40a0-adec-443a0e5a42c3"
      },
      "source": [
        "# Юнит 5. Анализ работодателей"
      ]
    },
    {
      "attachments": {},
      "cell_type": "markdown",
      "id": "968aed80-74ef-4ffb-b5bf-c65b84e9caea",
      "metadata": {
        "id": "968aed80-74ef-4ffb-b5bf-c65b84e9caea"
      },
      "source": [
        "**Задание 5.1 - Напишите запрос, который позволит узнать, какие работодатели находятся на первом и пятом месте по количеству вакансий.**"
      ]
    },
    {
      "cell_type": "code",
      "execution_count": 26,
      "id": "f2d62796-d400-4ec1-a675-88112739a50e",
      "metadata": {
        "id": "f2d62796-d400-4ec1-a675-88112739a50e"
      },
      "outputs": [],
      "source": [
        "# текст запроса\n",
        "query_5_1 = f'''\n",
        "            select\n",
        "                e.name as name_employers,\n",
        "                count(*) as cnt\n",
        "            from public.employers as e\n",
        "            join public.vacancies as v on e.id = v.employer_id\n",
        "            group by name_employers\n",
        "            order by cnt desc\n",
        "            limit 5\n",
        "            '''"
      ]
    },
    {
      "cell_type": "code",
      "execution_count": 27,
      "id": "64tOMkAxqkQk",
      "metadata": {
        "id": "64tOMkAxqkQk"
      },
      "outputs": [
        {
          "name": "stderr",
          "output_type": "stream",
          "text": [
            "/Users/alexander.v.varlamov/opt/anaconda3/lib/python3.9/site-packages/pandas/io/sql.py:762: UserWarning: pandas only support SQLAlchemy connectable(engine/connection) ordatabase string URI or sqlite3 DBAPI2 connectionother DBAPI2 objects are not tested, please consider using SQLAlchemy\n",
            "  warnings.warn(\n"
          ]
        },
        {
          "data": {
            "text/html": [
              "<div>\n",
              "<style scoped>\n",
              "    .dataframe tbody tr th:only-of-type {\n",
              "        vertical-align: middle;\n",
              "    }\n",
              "\n",
              "    .dataframe tbody tr th {\n",
              "        vertical-align: top;\n",
              "    }\n",
              "\n",
              "    .dataframe thead th {\n",
              "        text-align: right;\n",
              "    }\n",
              "</style>\n",
              "<table border=\"1\" class=\"dataframe\">\n",
              "  <thead>\n",
              "    <tr style=\"text-align: right;\">\n",
              "      <th></th>\n",
              "      <th>name_employers</th>\n",
              "      <th>cnt</th>\n",
              "    </tr>\n",
              "  </thead>\n",
              "  <tbody>\n",
              "    <tr>\n",
              "      <th>0</th>\n",
              "      <td>Яндекс</td>\n",
              "      <td>1933</td>\n",
              "    </tr>\n",
              "    <tr>\n",
              "      <th>1</th>\n",
              "      <td>Ростелеком</td>\n",
              "      <td>491</td>\n",
              "    </tr>\n",
              "    <tr>\n",
              "      <th>2</th>\n",
              "      <td>Тинькофф</td>\n",
              "      <td>444</td>\n",
              "    </tr>\n",
              "    <tr>\n",
              "      <th>3</th>\n",
              "      <td>СБЕР</td>\n",
              "      <td>428</td>\n",
              "    </tr>\n",
              "    <tr>\n",
              "      <th>4</th>\n",
              "      <td>Газпром нефть</td>\n",
              "      <td>331</td>\n",
              "    </tr>\n",
              "  </tbody>\n",
              "</table>\n",
              "</div>"
            ],
            "text/plain": [
              "  name_employers   cnt\n",
              "0         Яндекс  1933\n",
              "1     Ростелеком   491\n",
              "2       Тинькофф   444\n",
              "3           СБЕР   428\n",
              "4  Газпром нефть   331"
            ]
          },
          "metadata": {},
          "output_type": "display_data"
        }
      ],
      "source": [
        "# результат запроса\n",
        "top_5_employers = pd.read_sql_query(query_5_1, connection)\n",
        "display(top_5_employers)"
      ]
    },
    {
      "attachments": {},
      "cell_type": "markdown",
      "id": "68377cfc-b378-43dc-ab7d-1195abf2c515",
      "metadata": {
        "id": "68377cfc-b378-43dc-ab7d-1195abf2c515"
      },
      "source": [
        "**Задание 5.2 - Напишите запрос, который для каждого региона выведет количество работодателей и вакансий в нём. Среди регионов, в которых нет вакансий, найдите тот, в котором наибольшее количество работодателей.**\n"
      ]
    },
    {
      "cell_type": "code",
      "execution_count": 45,
      "id": "3c8f9d2a",
      "metadata": {},
      "outputs": [],
      "source": [
        "# текст запроса\n",
        "query_5_2 = f'''\n",
        "            select\n",
        "                a.name as name_area,\n",
        "                count(distinct e.id) as cnt_employer,\n",
        "                count(distinct v.id) as cnt_vacancies                \n",
        "            from public.areas as a\n",
        "                left join public.employers as e on a.id = e.area\n",
        "                left join public.vacancies as v on v.area_id = a.id\n",
        "            where v.id is null\n",
        "            group by name_area\n",
        "            order by cnt_employer desc\n",
        "            limit 1\n",
        "            '''"
      ]
    },
    {
      "cell_type": "code",
      "execution_count": 46,
      "id": "504d974d",
      "metadata": {},
      "outputs": [
        {
          "name": "stderr",
          "output_type": "stream",
          "text": [
            "/Users/alexander.v.varlamov/opt/anaconda3/lib/python3.9/site-packages/pandas/io/sql.py:762: UserWarning: pandas only support SQLAlchemy connectable(engine/connection) ordatabase string URI or sqlite3 DBAPI2 connectionother DBAPI2 objects are not tested, please consider using SQLAlchemy\n",
            "  warnings.warn(\n"
          ]
        },
        {
          "data": {
            "text/html": [
              "<div>\n",
              "<style scoped>\n",
              "    .dataframe tbody tr th:only-of-type {\n",
              "        vertical-align: middle;\n",
              "    }\n",
              "\n",
              "    .dataframe tbody tr th {\n",
              "        vertical-align: top;\n",
              "    }\n",
              "\n",
              "    .dataframe thead th {\n",
              "        text-align: right;\n",
              "    }\n",
              "</style>\n",
              "<table border=\"1\" class=\"dataframe\">\n",
              "  <thead>\n",
              "    <tr style=\"text-align: right;\">\n",
              "      <th></th>\n",
              "      <th>name_area</th>\n",
              "      <th>cnt_employer</th>\n",
              "      <th>cnt_vacancies</th>\n",
              "    </tr>\n",
              "  </thead>\n",
              "  <tbody>\n",
              "    <tr>\n",
              "      <th>0</th>\n",
              "      <td>Россия</td>\n",
              "      <td>410</td>\n",
              "      <td>0</td>\n",
              "    </tr>\n",
              "  </tbody>\n",
              "</table>\n",
              "</div>"
            ],
            "text/plain": [
              "  name_area  cnt_employer  cnt_vacancies\n",
              "0    Россия           410              0"
            ]
          },
          "metadata": {},
          "output_type": "display_data"
        }
      ],
      "source": [
        "area_employer_vacancies = pd.read_sql_query(query_5_2, connection)\n",
        "display(area_employer_vacancies)"
      ]
    },
    {
      "attachments": {},
      "cell_type": "markdown",
      "id": "f2fe0acb-ab1a-4e15-9326-2560e22d73c1",
      "metadata": {
        "id": "f2fe0acb-ab1a-4e15-9326-2560e22d73c1"
      },
      "source": [
        "**Задание 5.3 - Для каждого работодателя посчитайте количество регионов, в которых он публикует свои вакансии. Отсортируйте результат по убыванию количества.**\n"
      ]
    },
    {
      "cell_type": "code",
      "execution_count": 10,
      "id": "6271f8ad-bd2e-4196-ae4a-5b39c4c1010e",
      "metadata": {
        "id": "6271f8ad-bd2e-4196-ae4a-5b39c4c1010e"
      },
      "outputs": [],
      "source": [
        "# текст запроса\n",
        "query_5_3 = f'''\n",
        "            select\n",
        "                e.name as name_employer,\n",
        "                count(distinct v.area_id) as cnt_area_public\n",
        "            from public.employers as e\n",
        "                left join public.vacancies as v on e.id = v.employer_id\n",
        "            group by name_employer\n",
        "            order by cnt_area_public desc\n",
        "            limit 1\n",
        "            '''"
      ]
    },
    {
      "cell_type": "code",
      "execution_count": 11,
      "id": "1EIvX3HasH4F",
      "metadata": {
        "id": "1EIvX3HasH4F"
      },
      "outputs": [
        {
          "name": "stderr",
          "output_type": "stream",
          "text": [
            "/Users/alexander.v.varlamov/opt/anaconda3/lib/python3.9/site-packages/pandas/io/sql.py:762: UserWarning: pandas only support SQLAlchemy connectable(engine/connection) ordatabase string URI or sqlite3 DBAPI2 connectionother DBAPI2 objects are not tested, please consider using SQLAlchemy\n",
            "  warnings.warn(\n"
          ]
        },
        {
          "data": {
            "text/html": [
              "<div>\n",
              "<style scoped>\n",
              "    .dataframe tbody tr th:only-of-type {\n",
              "        vertical-align: middle;\n",
              "    }\n",
              "\n",
              "    .dataframe tbody tr th {\n",
              "        vertical-align: top;\n",
              "    }\n",
              "\n",
              "    .dataframe thead th {\n",
              "        text-align: right;\n",
              "    }\n",
              "</style>\n",
              "<table border=\"1\" class=\"dataframe\">\n",
              "  <thead>\n",
              "    <tr style=\"text-align: right;\">\n",
              "      <th></th>\n",
              "      <th>name_employer</th>\n",
              "      <th>cnt_area_public</th>\n",
              "    </tr>\n",
              "  </thead>\n",
              "  <tbody>\n",
              "    <tr>\n",
              "      <th>0</th>\n",
              "      <td>Яндекс</td>\n",
              "      <td>181</td>\n",
              "    </tr>\n",
              "  </tbody>\n",
              "</table>\n",
              "</div>"
            ],
            "text/plain": [
              "  name_employer  cnt_area_public\n",
              "0        Яндекс              181"
            ]
          },
          "metadata": {},
          "output_type": "display_data"
        }
      ],
      "source": [
        "# результат запроса\n",
        "public_area = pd.read_sql_query(query_5_3, connection)\n",
        "display(public_area)"
      ]
    },
    {
      "attachments": {},
      "cell_type": "markdown",
      "id": "eab2206d-d95b-468b-8e5f-34381abf0ce7",
      "metadata": {
        "id": "eab2206d-d95b-468b-8e5f-34381abf0ce7"
      },
      "source": [
        "**Задание 5.4 - Напишите запрос для подсчёта количества работодателей, у которых не указана сфера деятельности.** "
      ]
    },
    {
      "cell_type": "code",
      "execution_count": 35,
      "id": "80defb23-bfb1-4a18-8be6-bf36aa7165d5",
      "metadata": {
        "id": "80defb23-bfb1-4a18-8be6-bf36aa7165d5"
      },
      "outputs": [],
      "source": [
        "# текст запроса\n",
        "query_5_4 = f'''\n",
        "            select\n",
        "                count(*) as cnt_employer_industries_null\n",
        "            from public.employers as e\n",
        "                left join public.employers_industries as ei on e.id = ei.employer_id\n",
        "            where ei.industry_id is null\n",
        "            \n",
        "            '''"
      ]
    },
    {
      "cell_type": "code",
      "execution_count": 36,
      "id": "Dp_yCx6ysQSu",
      "metadata": {
        "id": "Dp_yCx6ysQSu"
      },
      "outputs": [
        {
          "name": "stderr",
          "output_type": "stream",
          "text": [
            "/Users/alexander.v.varlamov/opt/anaconda3/lib/python3.9/site-packages/pandas/io/sql.py:762: UserWarning: pandas only support SQLAlchemy connectable(engine/connection) ordatabase string URI or sqlite3 DBAPI2 connectionother DBAPI2 objects are not tested, please consider using SQLAlchemy\n",
            "  warnings.warn(\n"
          ]
        },
        {
          "data": {
            "text/html": [
              "<div>\n",
              "<style scoped>\n",
              "    .dataframe tbody tr th:only-of-type {\n",
              "        vertical-align: middle;\n",
              "    }\n",
              "\n",
              "    .dataframe tbody tr th {\n",
              "        vertical-align: top;\n",
              "    }\n",
              "\n",
              "    .dataframe thead th {\n",
              "        text-align: right;\n",
              "    }\n",
              "</style>\n",
              "<table border=\"1\" class=\"dataframe\">\n",
              "  <thead>\n",
              "    <tr style=\"text-align: right;\">\n",
              "      <th></th>\n",
              "      <th>cnt_employer_industries_null</th>\n",
              "    </tr>\n",
              "  </thead>\n",
              "  <tbody>\n",
              "    <tr>\n",
              "      <th>0</th>\n",
              "      <td>8419</td>\n",
              "    </tr>\n",
              "  </tbody>\n",
              "</table>\n",
              "</div>"
            ],
            "text/plain": [
              "   cnt_employer_industries_null\n",
              "0                          8419"
            ]
          },
          "metadata": {},
          "output_type": "display_data"
        }
      ],
      "source": [
        "# результат запроса\n",
        "employer_industries_null = pd.read_sql_query(query_5_4, connection)\n",
        "display(employer_industries_null)"
      ]
    },
    {
      "attachments": {},
      "cell_type": "markdown",
      "id": "0112af31-f6b0-4e3b-82ab-71296e752e5e",
      "metadata": {
        "id": "0112af31-f6b0-4e3b-82ab-71296e752e5e"
      },
      "source": [
        "**Задание 5.5 - Напишите запрос, чтобы узнать название компании, находящейся на третьем месте в алфавитном списке (по названию) компаний, у которых указано четыре сферы деятельности.** "
      ]
    },
    {
      "cell_type": "code",
      "execution_count": 44,
      "id": "973b0cfc-a972-470a-8b4a-68744ef220c4",
      "metadata": {
        "id": "973b0cfc-a972-470a-8b4a-68744ef220c4"
      },
      "outputs": [],
      "source": [
        "# текст запроса\n",
        "query_5_5 = f'''\n",
        "            select\n",
        "                e.name as name_employer,\n",
        "                count(distinct ei.industry_id) as cnt_employer_industries\n",
        "            from public.employers as e\n",
        "                left join public.employers_industries as ei on e.id = ei.employer_id\n",
        "            group by name_employer\n",
        "            having count(distinct ei.industry_id) = 4\n",
        "            offset 2 limit 1\n",
        "            '''"
      ]
    },
    {
      "cell_type": "code",
      "execution_count": 45,
      "id": "xsPtpp8EsaED",
      "metadata": {
        "id": "xsPtpp8EsaED"
      },
      "outputs": [
        {
          "name": "stderr",
          "output_type": "stream",
          "text": [
            "/Users/alexander.v.varlamov/opt/anaconda3/lib/python3.9/site-packages/pandas/io/sql.py:762: UserWarning: pandas only support SQLAlchemy connectable(engine/connection) ordatabase string URI or sqlite3 DBAPI2 connectionother DBAPI2 objects are not tested, please consider using SQLAlchemy\n",
            "  warnings.warn(\n"
          ]
        },
        {
          "data": {
            "text/html": [
              "<div>\n",
              "<style scoped>\n",
              "    .dataframe tbody tr th:only-of-type {\n",
              "        vertical-align: middle;\n",
              "    }\n",
              "\n",
              "    .dataframe tbody tr th {\n",
              "        vertical-align: top;\n",
              "    }\n",
              "\n",
              "    .dataframe thead th {\n",
              "        text-align: right;\n",
              "    }\n",
              "</style>\n",
              "<table border=\"1\" class=\"dataframe\">\n",
              "  <thead>\n",
              "    <tr style=\"text-align: right;\">\n",
              "      <th></th>\n",
              "      <th>name_employer</th>\n",
              "      <th>cnt_employer_industries</th>\n",
              "    </tr>\n",
              "  </thead>\n",
              "  <tbody>\n",
              "    <tr>\n",
              "      <th>0</th>\n",
              "      <td>2ГИС</td>\n",
              "      <td>4</td>\n",
              "    </tr>\n",
              "  </tbody>\n",
              "</table>\n",
              "</div>"
            ],
            "text/plain": [
              "  name_employer  cnt_employer_industries\n",
              "0          2ГИС                        4"
            ]
          },
          "metadata": {},
          "output_type": "display_data"
        }
      ],
      "source": [
        "# результат запроса\n",
        "employer_industries_4 = pd.read_sql_query(query_5_5, connection)\n",
        "display(employer_industries_4)"
      ]
    },
    {
      "attachments": {},
      "cell_type": "markdown",
      "id": "3bfcfdaf-755d-4d2b-8ed8-326201dc07ab",
      "metadata": {
        "id": "3bfcfdaf-755d-4d2b-8ed8-326201dc07ab"
      },
      "source": [
        "**Задание 5.6 - С помощью запроса выясните, у какого количества работодателей в качестве сферы деятельности указана Разработка программного обеспечения.**\n"
      ]
    },
    {
      "cell_type": "code",
      "execution_count": 46,
      "id": "ad3f270f-2991-47eb-929b-e8f88a55b0d1",
      "metadata": {
        "id": "ad3f270f-2991-47eb-929b-e8f88a55b0d1"
      },
      "outputs": [],
      "source": [
        "# текст запроса\n",
        "query_5_6 = f'''\n",
        "            select\n",
        "                --e.name\n",
        "                count(e.name) as cnt_software_development\n",
        "            from\n",
        "                public.employers as e\n",
        "                left join public.employers_industries as ei on e.id = ei.employer_id\n",
        "                left join public.industries as i on ei.industry_id = i.id\n",
        "            where i.name ilike '%Разработка программного обеспечения%'\n",
        "            '''"
      ]
    },
    {
      "cell_type": "code",
      "execution_count": 47,
      "id": "H72qxWM0shPR",
      "metadata": {
        "id": "H72qxWM0shPR"
      },
      "outputs": [
        {
          "name": "stderr",
          "output_type": "stream",
          "text": [
            "/Users/alexander.v.varlamov/opt/anaconda3/lib/python3.9/site-packages/pandas/io/sql.py:762: UserWarning: pandas only support SQLAlchemy connectable(engine/connection) ordatabase string URI or sqlite3 DBAPI2 connectionother DBAPI2 objects are not tested, please consider using SQLAlchemy\n",
            "  warnings.warn(\n"
          ]
        },
        {
          "data": {
            "text/html": [
              "<div>\n",
              "<style scoped>\n",
              "    .dataframe tbody tr th:only-of-type {\n",
              "        vertical-align: middle;\n",
              "    }\n",
              "\n",
              "    .dataframe tbody tr th {\n",
              "        vertical-align: top;\n",
              "    }\n",
              "\n",
              "    .dataframe thead th {\n",
              "        text-align: right;\n",
              "    }\n",
              "</style>\n",
              "<table border=\"1\" class=\"dataframe\">\n",
              "  <thead>\n",
              "    <tr style=\"text-align: right;\">\n",
              "      <th></th>\n",
              "      <th>cnt_software_development</th>\n",
              "    </tr>\n",
              "  </thead>\n",
              "  <tbody>\n",
              "    <tr>\n",
              "      <th>0</th>\n",
              "      <td>3553</td>\n",
              "    </tr>\n",
              "  </tbody>\n",
              "</table>\n",
              "</div>"
            ],
            "text/plain": [
              "   cnt_software_development\n",
              "0                      3553"
            ]
          },
          "metadata": {},
          "output_type": "display_data"
        }
      ],
      "source": [
        "# результат запроса\n",
        "employers_software_development = pd.read_sql_query(query_5_6, connection)\n",
        "display(employers_software_development)"
      ]
    },
    {
      "attachments": {},
      "cell_type": "markdown",
      "id": "7b02bb86-0546-40fb-94a4-242f050a5c57",
      "metadata": {
        "id": "7b02bb86-0546-40fb-94a4-242f050a5c57"
      },
      "source": [
        "**Задание 5.7 - Для компании «Яндекс» выведите список регионов-миллионников, в которых представлены вакансии компании, вместе с количеством вакансий в этих регионах. Также добавьте строку Total с общим количеством вакансий компании. Результат отсортируйте по возрастанию количества.**\n",
        "\n",
        "Список городов-милионников надо взять [отсюда](https://ru.wikipedia.org/wiki/%D0%93%D0%BE%D1%80%D0%BE%D0%B4%D0%B0-%D0%BC%D0%B8%D0%BB%D0%BB%D0%B8%D0%BE%D0%BD%D0%B5%D1%80%D1%8B_%D0%A0%D0%BE%D1%81%D1%81%D0%B8%D0%B8). \n",
        "\n",
        "Если возникнут трудности с этим задание посмотрите материалы модуля  PYTHON-17. Как получать данные из веб-источников и API. "
      ]
    },
    {
      "cell_type": "code",
      "execution_count": 20,
      "id": "ZdfrL6gIs1Pn",
      "metadata": {
        "id": "ZdfrL6gIs1Pn"
      },
      "outputs": [],
      "source": [
        "# код для получения списка городов-милионников\n",
        "import urllib.parse as req\n",
        "import pandas as pd\n",
        "\n",
        "url_k = 'https://ru.wikipedia.org/wiki/Города-миллионеры_России#Список_городов-миллионеров'\n",
        "path_common = req.urlparse(url_k)\n",
        "url = path_common.scheme + '://' + req.quote(path_common.netloc) +  req.quote(path_common.path) + '#'+ req.quote(path_common.fragment)\n",
        "table = pd.read_html(url)[1]\n",
        "\n",
        "cities = tuple(table['Город'].unique())"
      ]
    },
    {
      "cell_type": "code",
      "execution_count": 25,
      "id": "5a0e32a4-e68a-4365-8a39-2fe24c542c36",
      "metadata": {
        "id": "5a0e32a4-e68a-4365-8a39-2fe24c542c36"
      },
      "outputs": [],
      "source": [
        "# текст запроса\n",
        "query_5_7 = f'''\n",
        "            select\n",
        "                a.name as name_city,\n",
        "                count(distinct v.id) as cnt_vacancies\n",
        "            from \n",
        "                public.areas as a\n",
        "                left join public.vacancies as v on a.id = v.area_id\n",
        "                left join public.employers as e on v.employer_id = e.id\n",
        "            where e.name = 'Яндекс'\n",
        "                and a.name in {cities}\n",
        "            group by name_city\n",
        "            \n",
        "            union all\n",
        "            \n",
        "            select\n",
        "                'Total'::text,\n",
        "                count(distinct v.id) as cnt_vacancies\n",
        "            from \n",
        "                public.areas as a\n",
        "                left join public.vacancies as v on a.id = v.area_id\n",
        "                left join public.employers as e on v.employer_id = e.id\n",
        "            where e.name = 'Яндекс'\n",
        "                and a.name in {cities}\n",
        "                 \n",
        "            order by cnt_vacancies\n",
        "            '''"
      ]
    },
    {
      "cell_type": "code",
      "execution_count": 26,
      "id": "ttPhiO1rsvPq",
      "metadata": {
        "id": "ttPhiO1rsvPq"
      },
      "outputs": [
        {
          "name": "stderr",
          "output_type": "stream",
          "text": [
            "/Users/alexander.v.varlamov/opt/anaconda3/lib/python3.9/site-packages/pandas/io/sql.py:762: UserWarning: pandas only support SQLAlchemy connectable(engine/connection) ordatabase string URI or sqlite3 DBAPI2 connectionother DBAPI2 objects are not tested, please consider using SQLAlchemy\n",
            "  warnings.warn(\n"
          ]
        },
        {
          "data": {
            "text/html": [
              "<div>\n",
              "<style scoped>\n",
              "    .dataframe tbody tr th:only-of-type {\n",
              "        vertical-align: middle;\n",
              "    }\n",
              "\n",
              "    .dataframe tbody tr th {\n",
              "        vertical-align: top;\n",
              "    }\n",
              "\n",
              "    .dataframe thead th {\n",
              "        text-align: right;\n",
              "    }\n",
              "</style>\n",
              "<table border=\"1\" class=\"dataframe\">\n",
              "  <thead>\n",
              "    <tr style=\"text-align: right;\">\n",
              "      <th></th>\n",
              "      <th>name_city</th>\n",
              "      <th>cnt_vacancies</th>\n",
              "    </tr>\n",
              "  </thead>\n",
              "  <tbody>\n",
              "    <tr>\n",
              "      <th>0</th>\n",
              "      <td>Омск</td>\n",
              "      <td>21</td>\n",
              "    </tr>\n",
              "    <tr>\n",
              "      <th>1</th>\n",
              "      <td>Челябинск</td>\n",
              "      <td>22</td>\n",
              "    </tr>\n",
              "    <tr>\n",
              "      <th>2</th>\n",
              "      <td>Красноярск</td>\n",
              "      <td>23</td>\n",
              "    </tr>\n",
              "    <tr>\n",
              "      <th>3</th>\n",
              "      <td>Волгоград</td>\n",
              "      <td>24</td>\n",
              "    </tr>\n",
              "    <tr>\n",
              "      <th>4</th>\n",
              "      <td>Пермь</td>\n",
              "      <td>25</td>\n",
              "    </tr>\n",
              "    <tr>\n",
              "      <th>5</th>\n",
              "      <td>Казань</td>\n",
              "      <td>25</td>\n",
              "    </tr>\n",
              "    <tr>\n",
              "      <th>6</th>\n",
              "      <td>Ростов-на-Дону</td>\n",
              "      <td>25</td>\n",
              "    </tr>\n",
              "    <tr>\n",
              "      <th>7</th>\n",
              "      <td>Уфа</td>\n",
              "      <td>26</td>\n",
              "    </tr>\n",
              "    <tr>\n",
              "      <th>8</th>\n",
              "      <td>Самара</td>\n",
              "      <td>26</td>\n",
              "    </tr>\n",
              "    <tr>\n",
              "      <th>9</th>\n",
              "      <td>Краснодар</td>\n",
              "      <td>30</td>\n",
              "    </tr>\n",
              "    <tr>\n",
              "      <th>10</th>\n",
              "      <td>Воронеж</td>\n",
              "      <td>32</td>\n",
              "    </tr>\n",
              "    <tr>\n",
              "      <th>11</th>\n",
              "      <td>Новосибирск</td>\n",
              "      <td>35</td>\n",
              "    </tr>\n",
              "    <tr>\n",
              "      <th>12</th>\n",
              "      <td>Нижний Новгород</td>\n",
              "      <td>36</td>\n",
              "    </tr>\n",
              "    <tr>\n",
              "      <th>13</th>\n",
              "      <td>Екатеринбург</td>\n",
              "      <td>39</td>\n",
              "    </tr>\n",
              "    <tr>\n",
              "      <th>14</th>\n",
              "      <td>Санкт-Петербург</td>\n",
              "      <td>42</td>\n",
              "    </tr>\n",
              "    <tr>\n",
              "      <th>15</th>\n",
              "      <td>Москва</td>\n",
              "      <td>54</td>\n",
              "    </tr>\n",
              "    <tr>\n",
              "      <th>16</th>\n",
              "      <td>Total</td>\n",
              "      <td>485</td>\n",
              "    </tr>\n",
              "  </tbody>\n",
              "</table>\n",
              "</div>"
            ],
            "text/plain": [
              "          name_city  cnt_vacancies\n",
              "0              Омск             21\n",
              "1         Челябинск             22\n",
              "2        Красноярск             23\n",
              "3         Волгоград             24\n",
              "4             Пермь             25\n",
              "5            Казань             25\n",
              "6    Ростов-на-Дону             25\n",
              "7               Уфа             26\n",
              "8            Самара             26\n",
              "9         Краснодар             30\n",
              "10          Воронеж             32\n",
              "11      Новосибирск             35\n",
              "12  Нижний Новгород             36\n",
              "13     Екатеринбург             39\n",
              "14  Санкт-Петербург             42\n",
              "15           Москва             54\n",
              "16            Total            485"
            ]
          },
          "metadata": {},
          "output_type": "display_data"
        }
      ],
      "source": [
        "# результат запроса\n",
        "area_vacancies = pd.read_sql_query(query_5_7, connection)\n",
        "display(area_vacancies)"
      ]
    },
    {
      "cell_type": "markdown",
      "id": "04966e40-3bc3-4dc8-9ba2-e80580ce3abc",
      "metadata": {
        "id": "04966e40-3bc3-4dc8-9ba2-e80580ce3abc"
      },
      "source": [
        "***"
      ]
    },
    {
      "attachments": {},
      "cell_type": "markdown",
      "id": "35409e9e",
      "metadata": {},
      "source": [
        "### Выводы по анализу работодателей\n",
        "\n",
        "1. В базе представлена информация по 23501 работадателю;\n",
        "2. Лидерами по количеству вакансий, представленных в базе, являются: Яндекс (информационные технологии) - 1933(4%),  (телекоммуникации) - 491(1%), Тинькофф (банковский сектор) - 444(0,9%), СБЕР (банковский сектор) - 428(0,9%), Газпромнефть (нефтяная компания) - 331 (0,7%);\n",
        "3. В базе представлена информация по 294 наименованиям сфер деятельности работодателей. 8419(36%) компаний - работодателей не указали свою сферу деятельности. Максимальное количество указанных сфер деятельности составляет - 16 (2 компании: Модуль, Энергия). По 1 сфере указано у 6377 компаний(27%), 2 - 3602(15%), 3 - 2574(11%);\n",
        "4. 3553(15%) компаний указали своей сферой деятельностью \"Разработка программного обеспечения\";\n",
        "5. В базе указано 593 региона в которых 0 вакансий. В данную выборку входят страны (Россия, Казахстан, Беларусь, Сингапур и т.д), регионы / субьекты (Московская область, Ставропольский край и т.д). Как предложение - доработать таблицу и выделить отдельные столбцы: страна / область или субьект / город или населенный пункт.          "
      ]
    },
    {
      "cell_type": "markdown",
      "id": "b1ef156a-efcb-49ce-bb23-90763e7f35b2",
      "metadata": {
        "id": "b1ef156a-efcb-49ce-bb23-90763e7f35b2",
        "tags": []
      },
      "source": [
        "# Юнит 6. Предметный анализ"
      ]
    },
    {
      "attachments": {},
      "cell_type": "markdown",
      "id": "b9cd50a0-992d-4988-8463-2b2b1c4629b4",
      "metadata": {
        "id": "b9cd50a0-992d-4988-8463-2b2b1c4629b4"
      },
      "source": [
        "**Задание 6.1 - Сколько вакансий имеет отношение к данным?**\n",
        "\n",
        "Считаем, что вакансия имеет отношение к данным, если в её названии содержатся слова 'data' или 'данн'.\n",
        "\n",
        "*Подсказка: Обратите внимание, что названия вакансий могут быть написаны в любом регистре.* \n"
      ]
    },
    {
      "cell_type": "code",
      "execution_count": 120,
      "id": "54ab0e50-c0f1-47cc-a54b-bc5c8bc363f9",
      "metadata": {
        "id": "54ab0e50-c0f1-47cc-a54b-bc5c8bc363f9"
      },
      "outputs": [],
      "source": [
        "# текст запроса\n",
        "query_6_1 = f'''\n",
        "            select\n",
        "                count(lower(v.name)) as cnt\n",
        "            from\n",
        "                public.vacancies as v\n",
        "            where lower(v.name) like '%data%' or lower(v.name) like '%данн%'\n",
        "            '''"
      ]
    },
    {
      "cell_type": "code",
      "execution_count": 121,
      "id": "9F1meAqsuUjd",
      "metadata": {
        "id": "9F1meAqsuUjd"
      },
      "outputs": [
        {
          "name": "stderr",
          "output_type": "stream",
          "text": [
            "/Users/alexander.v.varlamov/opt/anaconda3/lib/python3.9/site-packages/pandas/io/sql.py:762: UserWarning: pandas only support SQLAlchemy connectable(engine/connection) ordatabase string URI or sqlite3 DBAPI2 connectionother DBAPI2 objects are not tested, please consider using SQLAlchemy\n",
            "  warnings.warn(\n"
          ]
        },
        {
          "data": {
            "text/html": [
              "<div>\n",
              "<style scoped>\n",
              "    .dataframe tbody tr th:only-of-type {\n",
              "        vertical-align: middle;\n",
              "    }\n",
              "\n",
              "    .dataframe tbody tr th {\n",
              "        vertical-align: top;\n",
              "    }\n",
              "\n",
              "    .dataframe thead th {\n",
              "        text-align: right;\n",
              "    }\n",
              "</style>\n",
              "<table border=\"1\" class=\"dataframe\">\n",
              "  <thead>\n",
              "    <tr style=\"text-align: right;\">\n",
              "      <th></th>\n",
              "      <th>cnt</th>\n",
              "    </tr>\n",
              "  </thead>\n",
              "  <tbody>\n",
              "    <tr>\n",
              "      <th>0</th>\n",
              "      <td>1771</td>\n",
              "    </tr>\n",
              "  </tbody>\n",
              "</table>\n",
              "</div>"
            ],
            "text/plain": [
              "    cnt\n",
              "0  1771"
            ]
          },
          "metadata": {},
          "output_type": "display_data"
        }
      ],
      "source": [
        "# результат запроса\n",
        "vacancies_data = pd.read_sql_query(query_6_1, connection)\n",
        "display(vacancies_data)"
      ]
    },
    {
      "attachments": {},
      "cell_type": "markdown",
      "id": "4dea20cb-a36b-474a-a0b9-e08e8e3857a5",
      "metadata": {
        "id": "4dea20cb-a36b-474a-a0b9-e08e8e3857a5"
      },
      "source": [
        "**Задание 6.2 - Сколько есть подходящих вакансий для начинающего дата-сайентиста?**\n",
        " \n",
        "Будем считать вакансиями для дата-сайентистов такие, в названии которых есть хотя бы одно из следующих сочетаний:\n",
        "* 'data scientist'\n",
        "* 'data science'\n",
        "* 'исследователь данных'\n",
        "* 'ML' (здесь не нужно брать вакансии по HTML)\n",
        "* 'machine learning'\n",
        "* 'машинн%обучен%'\n",
        "\n",
        "** В следующих заданиях мы продолжим работать с вакансиями по этому условию.*\n",
        "\n",
        "Считаем вакансиями для специалистов уровня Junior следующие:\n",
        "* в названии есть слово 'junior' *или*\n",
        "* требуемый опыт — Нет опыта *или*\n",
        "* тип трудоустройства — Стажировка.\n",
        " "
      ]
    },
    {
      "cell_type": "code",
      "execution_count": 309,
      "id": "9c61b3c0-bb66-46c9-ae1e-81d3f5752b4a",
      "metadata": {
        "id": "9c61b3c0-bb66-46c9-ae1e-81d3f5752b4a"
      },
      "outputs": [],
      "source": [
        "# текст запроса\n",
        "query_6_2 = f'''\n",
        "            select\n",
        "                count(v.name) as cnt\n",
        "            from\n",
        "                public.vacancies as v\n",
        "            where (\n",
        "                    lower(v.name) like '%data scientist%'\n",
        "                    or lower(v.name) like '%data science%'\n",
        "                    or lower(v.name) like '%исследователь данных%'\n",
        "                    or (v.name ilike '%ML%' and not v.name ilike '%HTML%')\n",
        "                    or lower(v.name) like '%machine learning%'\n",
        "                    or lower(v.name) like '%машинн%обучен%'\n",
        "                    )\n",
        "                    and\n",
        "                    (v.name ilike '%junior%' \n",
        "                    or v.experience ilike 'нет опыта' \n",
        "                    or v.employment ilike '%стажировка%'\n",
        "                    )  \n",
        "            '''\n"
      ]
    },
    {
      "cell_type": "code",
      "execution_count": 310,
      "id": "ZNM-LLYuu1dj",
      "metadata": {
        "id": "ZNM-LLYuu1dj"
      },
      "outputs": [
        {
          "name": "stderr",
          "output_type": "stream",
          "text": [
            "/Users/alexander.v.varlamov/opt/anaconda3/lib/python3.9/site-packages/pandas/io/sql.py:762: UserWarning: pandas only support SQLAlchemy connectable(engine/connection) ordatabase string URI or sqlite3 DBAPI2 connectionother DBAPI2 objects are not tested, please consider using SQLAlchemy\n",
            "  warnings.warn(\n"
          ]
        },
        {
          "data": {
            "text/html": [
              "<div>\n",
              "<style scoped>\n",
              "    .dataframe tbody tr th:only-of-type {\n",
              "        vertical-align: middle;\n",
              "    }\n",
              "\n",
              "    .dataframe tbody tr th {\n",
              "        vertical-align: top;\n",
              "    }\n",
              "\n",
              "    .dataframe thead th {\n",
              "        text-align: right;\n",
              "    }\n",
              "</style>\n",
              "<table border=\"1\" class=\"dataframe\">\n",
              "  <thead>\n",
              "    <tr style=\"text-align: right;\">\n",
              "      <th></th>\n",
              "      <th>cnt</th>\n",
              "    </tr>\n",
              "  </thead>\n",
              "  <tbody>\n",
              "    <tr>\n",
              "      <th>0</th>\n",
              "      <td>51</td>\n",
              "    </tr>\n",
              "  </tbody>\n",
              "</table>\n",
              "</div>"
            ],
            "text/plain": [
              "   cnt\n",
              "0   51"
            ]
          },
          "metadata": {},
          "output_type": "display_data"
        }
      ],
      "source": [
        "# результат запроса\n",
        "vacancies_junior = pd.read_sql_query(query_6_2, connection)\n",
        "display(vacancies_junior)"
      ]
    },
    {
      "attachments": {},
      "cell_type": "markdown",
      "id": "eedceb80-c5ca-480e-b27a-278dfb8b4438",
      "metadata": {
        "id": "eedceb80-c5ca-480e-b27a-278dfb8b4438"
      },
      "source": [
        "**Задание 6.3 - Сколько есть вакансий для DS, в которых в качестве ключевого навыка указан SQL или postgres?**\n",
        "\n",
        "** Критерии для отнесения вакансии к DS указаны в предыдущем задании.*"
      ]
    },
    {
      "cell_type": "code",
      "execution_count": 97,
      "id": "310982db",
      "metadata": {},
      "outputs": [],
      "source": [
        "query_6_3 = f'''\n",
        "            select \n",
        "                count(*) as cnt\n",
        "            from \n",
        "                public.vacancies as v  \n",
        "            where\n",
        "                (lower(v.name) like '%data scientist%'\n",
        "                or lower(v.name) like '%data science%'            \n",
        "                or v.name like '%ML%' and not v.name like '%HTML%'\n",
        "                or lower(v.name) like '%исследователь данных%'\n",
        "                or lower(v.name) like '%machine learning%'\n",
        "                or lower(v.name) like '%машинн%обучен%')             \n",
        "                and (lower(v.key_skills) like '%sql%' \n",
        "                or lower(v.key_skills) like '%postgres%'\n",
        "                )     \n",
        "            '''"
      ]
    },
    {
      "cell_type": "code",
      "execution_count": 98,
      "id": "c731e245",
      "metadata": {},
      "outputs": [
        {
          "name": "stderr",
          "output_type": "stream",
          "text": [
            "/Users/alexander.v.varlamov/opt/anaconda3/lib/python3.9/site-packages/pandas/io/sql.py:762: UserWarning: pandas only support SQLAlchemy connectable(engine/connection) ordatabase string URI or sqlite3 DBAPI2 connectionother DBAPI2 objects are not tested, please consider using SQLAlchemy\n",
            "  warnings.warn(\n"
          ]
        },
        {
          "data": {
            "text/html": [
              "<div>\n",
              "<style scoped>\n",
              "    .dataframe tbody tr th:only-of-type {\n",
              "        vertical-align: middle;\n",
              "    }\n",
              "\n",
              "    .dataframe tbody tr th {\n",
              "        vertical-align: top;\n",
              "    }\n",
              "\n",
              "    .dataframe thead th {\n",
              "        text-align: right;\n",
              "    }\n",
              "</style>\n",
              "<table border=\"1\" class=\"dataframe\">\n",
              "  <thead>\n",
              "    <tr style=\"text-align: right;\">\n",
              "      <th></th>\n",
              "      <th>cnt</th>\n",
              "    </tr>\n",
              "  </thead>\n",
              "  <tbody>\n",
              "    <tr>\n",
              "      <th>0</th>\n",
              "      <td>201</td>\n",
              "    </tr>\n",
              "  </tbody>\n",
              "</table>\n",
              "</div>"
            ],
            "text/plain": [
              "   cnt\n",
              "0  201"
            ]
          },
          "metadata": {},
          "output_type": "display_data"
        }
      ],
      "source": [
        "vacancies_SQL_postgres = pd.read_sql_query(query_6_3, connection)\n",
        "display(vacancies_SQL_postgres)"
      ]
    },
    {
      "cell_type": "code",
      "execution_count": 96,
      "id": "41b3495c",
      "metadata": {},
      "outputs": [],
      "source": [
        "# текст запроса - дополнительный материал (ответ не правильный)\n",
        "query_6_3_1 = f'''\n",
        "            select\n",
        "                count(*) as cnt\n",
        "            from\n",
        "                public.vacancies as v\n",
        "            where\n",
        "                (v.name ~* 'data scien(ce|tist)|исследователь данных|ML|machine learning|машинн.обучен.' and v.name !~* 'HTML')\n",
        "                and (v.key_skills ~* 'SQL' or v.key_skills ~* 'postgres') \n",
        "            '''"
      ]
    },
    {
      "cell_type": "code",
      "execution_count": 113,
      "id": "5e332c2f",
      "metadata": {},
      "outputs": [
        {
          "name": "stderr",
          "output_type": "stream",
          "text": [
            "/Users/alexander.v.varlamov/opt/anaconda3/lib/python3.9/site-packages/pandas/io/sql.py:762: UserWarning: pandas only support SQLAlchemy connectable(engine/connection) ordatabase string URI or sqlite3 DBAPI2 connectionother DBAPI2 objects are not tested, please consider using SQLAlchemy\n",
            "  warnings.warn(\n"
          ]
        },
        {
          "data": {
            "text/html": [
              "<div>\n",
              "<style scoped>\n",
              "    .dataframe tbody tr th:only-of-type {\n",
              "        vertical-align: middle;\n",
              "    }\n",
              "\n",
              "    .dataframe tbody tr th {\n",
              "        vertical-align: top;\n",
              "    }\n",
              "\n",
              "    .dataframe thead th {\n",
              "        text-align: right;\n",
              "    }\n",
              "</style>\n",
              "<table border=\"1\" class=\"dataframe\">\n",
              "  <thead>\n",
              "    <tr style=\"text-align: right;\">\n",
              "      <th></th>\n",
              "      <th>cnt</th>\n",
              "    </tr>\n",
              "  </thead>\n",
              "  <tbody>\n",
              "    <tr>\n",
              "      <th>0</th>\n",
              "      <td>225</td>\n",
              "    </tr>\n",
              "  </tbody>\n",
              "</table>\n",
              "</div>"
            ],
            "text/plain": [
              "   cnt\n",
              "0  225"
            ]
          },
          "metadata": {},
          "output_type": "display_data"
        }
      ],
      "source": [
        "# результат запроса - дополнительный материал (ответ не правильный)\n",
        "vacancies_SQL = pd.read_sql_query(query_6_3_1, connection)\n",
        "display(vacancies_SQL)"
      ]
    },
    {
      "attachments": {},
      "cell_type": "markdown",
      "id": "1be1e9c6-37cf-4a5f-bfeb-04cab799dc80",
      "metadata": {
        "id": "1be1e9c6-37cf-4a5f-bfeb-04cab799dc80"
      },
      "source": [
        "**Задание 6.4 - Проверьте, насколько популярен Python в требованиях работодателей к DS.Для этого вычислите количество вакансий, в которых в качестве ключевого навыка указан Python.**\n",
        "\n",
        "** Это можно сделать помощью запроса, аналогичного предыдущему.*"
      ]
    },
    {
      "cell_type": "code",
      "execution_count": 110,
      "id": "7767adc5",
      "metadata": {},
      "outputs": [],
      "source": [
        "query_6_4 = f'''\n",
        "            select \n",
        "                count(*) as cnt\n",
        "            from \n",
        "                public.vacancies as v  \n",
        "            where\n",
        "                (lower(v.name) like '%data scientist%'\n",
        "                or lower(v.name) like '%data science%'            \n",
        "                or v.name like '%ML%' and not v.name like '%HTML%'\n",
        "                or lower(v.name) like '%исследователь данных%'\n",
        "                or lower(v.name) like '%machine learning%'\n",
        "                or lower(v.name) like '%машинн%обучен%')             \n",
        "                and v.key_skills ilike '%Python%'     \n",
        "            '''"
      ]
    },
    {
      "cell_type": "code",
      "execution_count": 108,
      "id": "408526ee",
      "metadata": {},
      "outputs": [
        {
          "name": "stderr",
          "output_type": "stream",
          "text": [
            "/Users/alexander.v.varlamov/opt/anaconda3/lib/python3.9/site-packages/pandas/io/sql.py:762: UserWarning: pandas only support SQLAlchemy connectable(engine/connection) ordatabase string URI or sqlite3 DBAPI2 connectionother DBAPI2 objects are not tested, please consider using SQLAlchemy\n",
            "  warnings.warn(\n"
          ]
        },
        {
          "data": {
            "text/html": [
              "<div>\n",
              "<style scoped>\n",
              "    .dataframe tbody tr th:only-of-type {\n",
              "        vertical-align: middle;\n",
              "    }\n",
              "\n",
              "    .dataframe tbody tr th {\n",
              "        vertical-align: top;\n",
              "    }\n",
              "\n",
              "    .dataframe thead th {\n",
              "        text-align: right;\n",
              "    }\n",
              "</style>\n",
              "<table border=\"1\" class=\"dataframe\">\n",
              "  <thead>\n",
              "    <tr style=\"text-align: right;\">\n",
              "      <th></th>\n",
              "      <th>cnt</th>\n",
              "    </tr>\n",
              "  </thead>\n",
              "  <tbody>\n",
              "    <tr>\n",
              "      <th>0</th>\n",
              "      <td>351</td>\n",
              "    </tr>\n",
              "  </tbody>\n",
              "</table>\n",
              "</div>"
            ],
            "text/plain": [
              "   cnt\n",
              "0  351"
            ]
          },
          "metadata": {},
          "output_type": "display_data"
        }
      ],
      "source": [
        "# результат запроса\n",
        "vacancies_python = pd.read_sql_query(query_6_4, connection)\n",
        "display(vacancies_python)"
      ]
    },
    {
      "cell_type": "code",
      "execution_count": 111,
      "id": "0036a355-9ccf-4564-8b01-73d8194297e7",
      "metadata": {
        "id": "0036a355-9ccf-4564-8b01-73d8194297e7"
      },
      "outputs": [],
      "source": [
        "# текст запроса - дополнительный материал \n",
        "query_6_4_1 = f'''\n",
        "            select\n",
        "                count(*) as cnt\n",
        "            from\n",
        "                public.vacancies as v\n",
        "            where(v.name ~* 'data scien(ce|tist)|исследователь данных|ML|machine learning|машинн.обучен.' and v.name !~* 'HTML')\n",
        "            and (v.key_skills ~* 'Python')\n",
        "            '''"
      ]
    },
    {
      "cell_type": "code",
      "execution_count": 112,
      "id": "1i-5WyucvQ6v",
      "metadata": {
        "id": "1i-5WyucvQ6v"
      },
      "outputs": [
        {
          "name": "stderr",
          "output_type": "stream",
          "text": [
            "/Users/alexander.v.varlamov/opt/anaconda3/lib/python3.9/site-packages/pandas/io/sql.py:762: UserWarning: pandas only support SQLAlchemy connectable(engine/connection) ordatabase string URI or sqlite3 DBAPI2 connectionother DBAPI2 objects are not tested, please consider using SQLAlchemy\n",
            "  warnings.warn(\n"
          ]
        },
        {
          "data": {
            "text/html": [
              "<div>\n",
              "<style scoped>\n",
              "    .dataframe tbody tr th:only-of-type {\n",
              "        vertical-align: middle;\n",
              "    }\n",
              "\n",
              "    .dataframe tbody tr th {\n",
              "        vertical-align: top;\n",
              "    }\n",
              "\n",
              "    .dataframe thead th {\n",
              "        text-align: right;\n",
              "    }\n",
              "</style>\n",
              "<table border=\"1\" class=\"dataframe\">\n",
              "  <thead>\n",
              "    <tr style=\"text-align: right;\">\n",
              "      <th></th>\n",
              "      <th>cnt</th>\n",
              "    </tr>\n",
              "  </thead>\n",
              "  <tbody>\n",
              "    <tr>\n",
              "      <th>0</th>\n",
              "      <td>351</td>\n",
              "    </tr>\n",
              "  </tbody>\n",
              "</table>\n",
              "</div>"
            ],
            "text/plain": [
              "   cnt\n",
              "0  351"
            ]
          },
          "metadata": {},
          "output_type": "display_data"
        }
      ],
      "source": [
        "# результат запроса - дополнительный материал\n",
        "vacancies_python1 = pd.read_sql_query(query_6_4_1, connection)\n",
        "display(vacancies_python1)"
      ]
    },
    {
      "attachments": {},
      "cell_type": "markdown",
      "id": "ec3c8db7-fa21-4a41-a994-1af63742a642",
      "metadata": {
        "id": "ec3c8db7-fa21-4a41-a994-1af63742a642"
      },
      "source": [
        "**Задание 6.5 - Сколько ключевых навыков в среднем указывают в вакансиях для DS?**\n",
        "\n",
        "Ответ округлите до двух знаков после точки-разделителя."
      ]
    },
    {
      "cell_type": "code",
      "execution_count": 141,
      "id": "949132bc-d5b6-4611-8218-0b9a504d74f4",
      "metadata": {
        "id": "949132bc-d5b6-4611-8218-0b9a504d74f4"
      },
      "outputs": [],
      "source": [
        "# текст запроса\n",
        "query_6_5 = f'''\n",
        "            select \n",
        "                replace(v.key_skills, CHR(9), ',') as key_skills_ds,\n",
        "                --length(v.key_skills) as cnt1,\n",
        "                --length(replace(v.key_skills, CHR(9), '')) as cnt2,\n",
        "                (length(v.key_skills) - length(replace(v.key_skills, CHR(9), '')))+1 as cnt_key_skills_ds\n",
        "            from \n",
        "                public.vacancies as v  \n",
        "            where\n",
        "                (lower(v.name) like '%data scientist%'\n",
        "                or lower(v.name) like '%data science%'            \n",
        "                or v.name like '%ML%' and not v.name like '%HTML%'\n",
        "                or lower(v.name) like '%исследователь данных%'\n",
        "                or lower(v.name) like '%machine learning%'\n",
        "                or lower(v.name) like '%машинн%обучен%'     \n",
        "                )  \n",
        "            union all\n",
        "            select \n",
        "                'Total (avg)'::text,\n",
        "                round(avg((length(v.key_skills) - length(replace(v.key_skills, CHR(9), '')))+1),2) as cnt_key_skills_ds\n",
        "            from \n",
        "                public.vacancies as v  \n",
        "            where\n",
        "                (lower(v.name) like '%data scientist%'\n",
        "                or lower(v.name) like '%data science%'            \n",
        "                or v.name like '%ML%' and not v.name like '%HTML%'\n",
        "                or lower(v.name) like '%исследователь данных%'\n",
        "                or lower(v.name) like '%machine learning%'\n",
        "                or lower(v.name) like '%машинн%обучен%'     \n",
        "                )\n",
        "            '''"
      ]
    },
    {
      "cell_type": "code",
      "execution_count": 142,
      "id": "a3V24Tvmviqk",
      "metadata": {
        "id": "a3V24Tvmviqk"
      },
      "outputs": [
        {
          "data": {
            "text/html": [
              "<div>\n",
              "<style scoped>\n",
              "    .dataframe tbody tr th:only-of-type {\n",
              "        vertical-align: middle;\n",
              "    }\n",
              "\n",
              "    .dataframe tbody tr th {\n",
              "        vertical-align: top;\n",
              "    }\n",
              "\n",
              "    .dataframe thead th {\n",
              "        text-align: right;\n",
              "    }\n",
              "</style>\n",
              "<table border=\"1\" class=\"dataframe\">\n",
              "  <thead>\n",
              "    <tr style=\"text-align: right;\">\n",
              "      <th></th>\n",
              "      <th>key_skills_ds</th>\n",
              "      <th>cnt_key_skills_ds</th>\n",
              "    </tr>\n",
              "  </thead>\n",
              "  <tbody>\n",
              "    <tr>\n",
              "      <th>0</th>\n",
              "      <td>Python,SQL,Работа в команде,OpenCV,ML</td>\n",
              "      <td>5.00</td>\n",
              "    </tr>\n",
              "    <tr>\n",
              "      <th>1</th>\n",
              "      <td>Oracle Pl/SQL,Базы данных,Machine Learning,Маш...</td>\n",
              "      <td>9.00</td>\n",
              "    </tr>\n",
              "    <tr>\n",
              "      <th>2</th>\n",
              "      <td>Python,OpenCV,Tensorflow,Computer Vision,Нейро...</td>\n",
              "      <td>8.00</td>\n",
              "    </tr>\n",
              "    <tr>\n",
              "      <th>3</th>\n",
              "      <td>Python,Flask,Linux,AWS,Git</td>\n",
              "      <td>5.00</td>\n",
              "    </tr>\n",
              "    <tr>\n",
              "      <th>4</th>\n",
              "      <td>Python,SQL,NLP,Scikit-learn,Machine Learning</td>\n",
              "      <td>5.00</td>\n",
              "    </tr>\n",
              "    <tr>\n",
              "      <th>...</th>\n",
              "      <td>...</td>\n",
              "      <td>...</td>\n",
              "    </tr>\n",
              "    <tr>\n",
              "      <th>476</th>\n",
              "      <td>Python,Scikit-learn,Pandas,Git,Numpy</td>\n",
              "      <td>5.00</td>\n",
              "    </tr>\n",
              "    <tr>\n",
              "      <th>477</th>\n",
              "      <td>Qt,ООП,C++,MS Visual Studio,Разработка компьют...</td>\n",
              "      <td>6.00</td>\n",
              "    </tr>\n",
              "    <tr>\n",
              "      <th>478</th>\n",
              "      <td>SCALA,SQL,Математический анализ,Статистический...</td>\n",
              "      <td>7.00</td>\n",
              "    </tr>\n",
              "    <tr>\n",
              "      <th>479</th>\n",
              "      <td>Python,Linux,Kubernetes,AWS,Git,People Management</td>\n",
              "      <td>6.00</td>\n",
              "    </tr>\n",
              "    <tr>\n",
              "      <th>480</th>\n",
              "      <td>Total (avg)</td>\n",
              "      <td>6.41</td>\n",
              "    </tr>\n",
              "  </tbody>\n",
              "</table>\n",
              "<p>481 rows × 2 columns</p>\n",
              "</div>"
            ],
            "text/plain": [
              "                                         key_skills_ds  cnt_key_skills_ds\n",
              "0                Python,SQL,Работа в команде,OpenCV,ML               5.00\n",
              "1    Oracle Pl/SQL,Базы данных,Machine Learning,Маш...               9.00\n",
              "2    Python,OpenCV,Tensorflow,Computer Vision,Нейро...               8.00\n",
              "3                           Python,Flask,Linux,AWS,Git               5.00\n",
              "4         Python,SQL,NLP,Scikit-learn,Machine Learning               5.00\n",
              "..                                                 ...                ...\n",
              "476               Python,Scikit-learn,Pandas,Git,Numpy               5.00\n",
              "477  Qt,ООП,C++,MS Visual Studio,Разработка компьют...               6.00\n",
              "478  SCALA,SQL,Математический анализ,Статистический...               7.00\n",
              "479  Python,Linux,Kubernetes,AWS,Git,People Management               6.00\n",
              "480                                        Total (avg)               6.41\n",
              "\n",
              "[481 rows x 2 columns]"
            ]
          },
          "metadata": {},
          "output_type": "display_data"
        }
      ],
      "source": [
        "# результат запроса\n",
        "key_skills_ds = pd.read_sql_query(query_6_5, connection)\n",
        "display(key_skills_ds)"
      ]
    },
    {
      "attachments": {},
      "cell_type": "markdown",
      "id": "1041c17a-ca8f-4543-a0ca-32778914fb00",
      "metadata": {
        "id": "1041c17a-ca8f-4543-a0ca-32778914fb00"
      },
      "source": [
        "**Задание 6.6 - Напишите запрос, позволяющий вычислить, какую зарплату для DS в *среднем* указывают для каждого типа требуемого опыта (уникальное значение из поля *experience*).**\n",
        "\n",
        "При решении задачи примите во внимание следующее:\n",
        "1. Рассматриваем только вакансии, у которых заполнено хотя бы одно из двух полей с зарплатой.\n",
        "2. Если заполнены оба поля с зарплатой, то считаем зарплату по каждой вакансии как сумму двух полей, делённую на 2. Если заполнено только одно из полей, то его и считаем зарплатой по вакансии.\n",
        "3. Если в расчётах участвует null, в результате он тоже даст null (посмотрите, что возвращает запрос select 1 + null). Чтобы избежать этой ситуацию, мы воспользуемся функцией [coalesce](https://postgrespro.ru/docs/postgresql/9.5/functions-conditional#functions-coalesce-nvl-ifnull), которая заменит null на значение, которое мы передадим. Например, посмотрите, что возвращает запрос `select 1 + coalesce(null, 0)`\n",
        "\n",
        "Выясните, на какую зарплату в среднем может рассчитывать дата-сайентист с опытом работы от 3 до 6 лет. Результат округлите до целого числа. "
      ]
    },
    {
      "cell_type": "code",
      "execution_count": 224,
      "id": "6a743d39-5204-48d3-8271-b9f88e68d40e",
      "metadata": {
        "id": "6a743d39-5204-48d3-8271-b9f88e68d40e"
      },
      "outputs": [],
      "source": [
        "# текст запроса\n",
        "query_6_6 = f'''\n",
        "            select\n",
        "                v.experience as experience, \n",
        "                --v.salary_from as salary_from,\n",
        "                --v.salary_to as salary_to,\n",
        "                round(avg(coalesce((salary_from+salary_to)/2, salary_from, salary_to)), 0) as avg_salary \n",
        "            from \n",
        "                public.vacancies as v\n",
        "            where\n",
        "                (lower(v.name) like '%data scientist%'\n",
        "                or lower(v.name) like '%data science%'            \n",
        "                or v.name like '%ML%' and not v.name like '%HTML%'\n",
        "                or lower(v.name) like '%исследователь данных%'\n",
        "                or lower(v.name) like '%machine learning%'\n",
        "                or lower(v.name) like '%машинн%обучен%'     \n",
        "                )\n",
        "                and\n",
        "                (v.salary_from is not null or v.salary_to is not null)  \n",
        "            group by v.experience\n",
        "            '''"
      ]
    },
    {
      "cell_type": "code",
      "execution_count": 225,
      "id": "aRIJ0mZEwU1_",
      "metadata": {
        "id": "aRIJ0mZEwU1_"
      },
      "outputs": [
        {
          "data": {
            "text/html": [
              "<div>\n",
              "<style scoped>\n",
              "    .dataframe tbody tr th:only-of-type {\n",
              "        vertical-align: middle;\n",
              "    }\n",
              "\n",
              "    .dataframe tbody tr th {\n",
              "        vertical-align: top;\n",
              "    }\n",
              "\n",
              "    .dataframe thead th {\n",
              "        text-align: right;\n",
              "    }\n",
              "</style>\n",
              "<table border=\"1\" class=\"dataframe\">\n",
              "  <thead>\n",
              "    <tr style=\"text-align: right;\">\n",
              "      <th></th>\n",
              "      <th>experience</th>\n",
              "      <th>avg_salary</th>\n",
              "    </tr>\n",
              "  </thead>\n",
              "  <tbody>\n",
              "    <tr>\n",
              "      <th>0</th>\n",
              "      <td>Нет опыта</td>\n",
              "      <td>74643.0</td>\n",
              "    </tr>\n",
              "    <tr>\n",
              "      <th>1</th>\n",
              "      <td>От 1 года до 3 лет</td>\n",
              "      <td>139675.0</td>\n",
              "    </tr>\n",
              "    <tr>\n",
              "      <th>2</th>\n",
              "      <td>От 3 до 6 лет</td>\n",
              "      <td>243115.0</td>\n",
              "    </tr>\n",
              "  </tbody>\n",
              "</table>\n",
              "</div>"
            ],
            "text/plain": [
              "           experience  avg_salary\n",
              "0           Нет опыта     74643.0\n",
              "1  От 1 года до 3 лет    139675.0\n",
              "2       От 3 до 6 лет    243115.0"
            ]
          },
          "metadata": {},
          "output_type": "display_data"
        }
      ],
      "source": [
        "# результат запроса\n",
        "avg_salary_ds = pd.read_sql_query(query_6_6, connection)\n",
        "display(avg_salary_ds)"
      ]
    },
    {
      "cell_type": "markdown",
      "id": "6a7892b4-4113-4746-adce-18aa2844f18e",
      "metadata": {
        "id": "6a7892b4-4113-4746-adce-18aa2844f18e"
      },
      "source": [
        "***"
      ]
    },
    {
      "attachments": {},
      "cell_type": "markdown",
      "id": "aa2eb1b9",
      "metadata": {},
      "source": [
        "### Выводы по предметному анализу\n",
        "\n",
        "1. В приведенной базе отношение к \"Data\" имеет 1771(3.6%) вакансия, в том числе к \"Data Science\" - 536(1%) вакансий;\n",
        "2. Для \"Data Science\" Junior подходит 51(9,5% от \"Data\") вакансия;\n",
        "3. Среднее количество ключевых навыков в \"Data Science\" составляет 6,41, в том числе знание \"Python\" выделено у 351(65% от DS) вакансии, знание \"SQL/Postgres\" выделено у 201(37% от DS) вакансии;\n",
        "4. Средний уровень ЗП в \"Data Science\" по признаку \"Опыт работы\" составляет: \"нет опыта\" - 75тыс.руб., \" от 1 до 3 лет\" - 140тыс.руб., \"от 3 до 6 лет\" - 243тыс.руб.  "
      ]
    },
    {
      "cell_type": "markdown",
      "id": "c0ED6fh7wiBT",
      "metadata": {
        "id": "c0ED6fh7wiBT"
      },
      "source": [
        "# Общий вывод по проекту"
      ]
    },
    {
      "attachments": {},
      "cell_type": "markdown",
      "id": "ddca1e2c",
      "metadata": {},
      "source": [
        "1. База данных состоит из 5 таблиц в которых представлена информация о 49197 вакансиях в 23501 компаниях - работодателях, которые работают в 294 сферах деятельности и представлены в 1362 регионах (в том числе странах ближнего и дальнего зарубежья);\n",
        "\n",
        "2. Наибольшее количество вакансий представлено в г.Москве, г.Санкт-Петербург, г.Минск и других столичных городах и городах с населением 1+ млн.чел. В базе присутсвуют регионы в которых вакансии не представлены - 0 и которые несут общие характеристики: страна, область / регион и т.д;\n",
        "\n",
        "3. Крупнейшими работодателями (наибольшее количество вакансий) являются: Яндекс, Ростелеком, Тинькофф. Здесь надо проводить дополнительный анализ на предмет повторяющихся вакансий, с учетом того, что компании публикуют свои вакансии в нескольких регионах одновременно (Яндекс -181, Ростелеком - 152 и т.д.);\n",
        "\n",
        "4. В основном требуется работники с опытом работы \"от 1 до 3 лет\" - 53% и \"от 3 до 6 лет\" - 29%. Основные предложения в части графика работы и трудоуствройства - \"полный рабочий день - полная занятость\" - 72%;\n",
        "\n",
        "5. Ориентир по заработной плате указан у 49% вакансий, средний уровень ЗП составляет от 71 тыс.рублей до 110 тыс.рублей;\n",
        "\n",
        "6. В части \"Data Science\" представлено около 1% вакансий. Ддополнительные исследования представлены в Юните - 7."
      ]
    },
    {
      "attachments": {},
      "cell_type": "markdown",
      "id": "e7e54d28",
      "metadata": {},
      "source": [
        "# Юнит 7. Дополнительный анализ в части \"Data Science\""
      ]
    },
    {
      "attachments": {},
      "cell_type": "markdown",
      "id": "ff55ba70",
      "metadata": {},
      "source": [
        "### Исследование 7.1 - Определим, сколько вакансий относится к \"Data Science\"."
      ]
    },
    {
      "cell_type": "code",
      "execution_count": 161,
      "id": "329356df",
      "metadata": {},
      "outputs": [],
      "source": [
        "# текст запроса\n",
        "query_7_1 = f'''\n",
        "            select\n",
        "                count(v.name) as cnt\n",
        "            from\n",
        "                public.vacancies as v\n",
        "            where (\n",
        "                    lower(v.name) like '%data scientist%'\n",
        "                    or lower(v.name) like '%data science%'\n",
        "                    or lower(v.name) like '%исследователь данных%'\n",
        "                    or (v.name ilike '%ML%' and not v.name ilike '%HTML%')\n",
        "                    or lower(v.name) like '%machine learning%'\n",
        "                    or lower(v.name) like '%машинн%обучен%'\n",
        "                    )\n",
        "            '''\n"
      ]
    },
    {
      "cell_type": "code",
      "execution_count": 162,
      "id": "c3dcab61",
      "metadata": {},
      "outputs": [
        {
          "name": "stderr",
          "output_type": "stream",
          "text": [
            "/Users/alexander.v.varlamov/opt/anaconda3/lib/python3.9/site-packages/pandas/io/sql.py:762: UserWarning: pandas only support SQLAlchemy connectable(engine/connection) ordatabase string URI or sqlite3 DBAPI2 connectionother DBAPI2 objects are not tested, please consider using SQLAlchemy\n",
            "  warnings.warn(\n"
          ]
        },
        {
          "data": {
            "text/html": [
              "<div>\n",
              "<style scoped>\n",
              "    .dataframe tbody tr th:only-of-type {\n",
              "        vertical-align: middle;\n",
              "    }\n",
              "\n",
              "    .dataframe tbody tr th {\n",
              "        vertical-align: top;\n",
              "    }\n",
              "\n",
              "    .dataframe thead th {\n",
              "        text-align: right;\n",
              "    }\n",
              "</style>\n",
              "<table border=\"1\" class=\"dataframe\">\n",
              "  <thead>\n",
              "    <tr style=\"text-align: right;\">\n",
              "      <th></th>\n",
              "      <th>cnt</th>\n",
              "    </tr>\n",
              "  </thead>\n",
              "  <tbody>\n",
              "    <tr>\n",
              "      <th>0</th>\n",
              "      <td>536</td>\n",
              "    </tr>\n",
              "  </tbody>\n",
              "</table>\n",
              "</div>"
            ],
            "text/plain": [
              "   cnt\n",
              "0  536"
            ]
          },
          "metadata": {},
          "output_type": "display_data"
        }
      ],
      "source": [
        "# результат запроса\n",
        "vacancies_data_science = pd.read_sql_query(query_7_1, connection)\n",
        "display(vacancies_data_science)"
      ]
    },
    {
      "attachments": {},
      "cell_type": "markdown",
      "id": "e3ade607",
      "metadata": {},
      "source": [
        "**Комментарии:**\n",
        "\n",
        "1. К DS относится 536 вакнсий, что составляет 1% от базы. "
      ]
    },
    {
      "attachments": {},
      "cell_type": "markdown",
      "id": "45dd02fb",
      "metadata": {},
      "source": [
        "### Исследование 7.2 - Определим, по скольким вакансиям в \"Data Science\" есть информация по уровню ЗП (\"от\" или \"до\")."
      ]
    },
    {
      "cell_type": "code",
      "execution_count": 163,
      "id": "3eda140c",
      "metadata": {},
      "outputs": [],
      "source": [
        "# текст запроса\n",
        "query_7_2 = f'''\n",
        "            select\n",
        "                count(v.name) as cnt\n",
        "            from\n",
        "                public.vacancies as v\n",
        "            where (\n",
        "                    lower(v.name) like '%data scientist%'\n",
        "                    or lower(v.name) like '%data science%'\n",
        "                    or lower(v.name) like '%исследователь данных%'\n",
        "                    or (v.name ilike '%ML%' and not v.name ilike '%HTML%')\n",
        "                    or lower(v.name) like '%machine learning%'\n",
        "                    or lower(v.name) like '%машинн%обучен%'\n",
        "                    )\n",
        "                    and \n",
        "                    (v.salary_from is not null and v.salary_to is not null)\n",
        "            '''"
      ]
    },
    {
      "cell_type": "code",
      "execution_count": 164,
      "id": "e14d43de",
      "metadata": {},
      "outputs": [
        {
          "name": "stderr",
          "output_type": "stream",
          "text": [
            "/Users/alexander.v.varlamov/opt/anaconda3/lib/python3.9/site-packages/pandas/io/sql.py:762: UserWarning: pandas only support SQLAlchemy connectable(engine/connection) ordatabase string URI or sqlite3 DBAPI2 connectionother DBAPI2 objects are not tested, please consider using SQLAlchemy\n",
            "  warnings.warn(\n"
          ]
        },
        {
          "data": {
            "text/html": [
              "<div>\n",
              "<style scoped>\n",
              "    .dataframe tbody tr th:only-of-type {\n",
              "        vertical-align: middle;\n",
              "    }\n",
              "\n",
              "    .dataframe tbody tr th {\n",
              "        vertical-align: top;\n",
              "    }\n",
              "\n",
              "    .dataframe thead th {\n",
              "        text-align: right;\n",
              "    }\n",
              "</style>\n",
              "<table border=\"1\" class=\"dataframe\">\n",
              "  <thead>\n",
              "    <tr style=\"text-align: right;\">\n",
              "      <th></th>\n",
              "      <th>cnt</th>\n",
              "    </tr>\n",
              "  </thead>\n",
              "  <tbody>\n",
              "    <tr>\n",
              "      <th>0</th>\n",
              "      <td>39</td>\n",
              "    </tr>\n",
              "  </tbody>\n",
              "</table>\n",
              "</div>"
            ],
            "text/plain": [
              "   cnt\n",
              "0   39"
            ]
          },
          "metadata": {},
          "output_type": "display_data"
        }
      ],
      "source": [
        "# результат запроса\n",
        "vacancies_DS_with_salary = pd.read_sql_query(query_7_2, connection)\n",
        "display(vacancies_DS_with_salary)"
      ]
    },
    {
      "attachments": {},
      "cell_type": "markdown",
      "id": "b18df2a8",
      "metadata": {},
      "source": [
        "**Комментарии:**\n",
        "\n",
        "1. Из выборки 536 вакнсий по 39 позициям указан ориентировочный уровень ЗП что составляет, что составляет 0,7% от выборки и не может служить (серьезным) ориентиром для анализа. "
      ]
    },
    {
      "attachments": {},
      "cell_type": "markdown",
      "id": "aae1aa42",
      "metadata": {},
      "source": [
        "### Исследование 7.3 - Определим в каких регионах представлены ваканси \"Data Science\" и средний уровень ЗП."
      ]
    },
    {
      "cell_type": "code",
      "execution_count": 16,
      "id": "823b8de6",
      "metadata": {},
      "outputs": [],
      "source": [
        "# текст запроса\n",
        "query_7_3 = f'''\n",
        "            select\n",
        "                a.name as city_name,\n",
        "                count(a.name) as cnt,\n",
        "                round(avg(coalesce((salary_from+salary_to)/2, salary_from, salary_to)), 0) as avg_salary\n",
        "            from\n",
        "                public.vacancies as v\n",
        "                left join public.areas as a on v.area_id = a.id\n",
        "            where (\n",
        "                    lower(v.name) like '%data scientist%'\n",
        "                    or lower(v.name) like '%data science%'\n",
        "                    or lower(v.name) like '%исследователь данных%'\n",
        "                    or (v.name ilike '%ML%' and not v.name ilike '%HTML%')\n",
        "                    or lower(v.name) like '%machine learning%'\n",
        "                    or lower(v.name) like '%машинн%обучен%'\n",
        "                    )\n",
        "            group by a.name\n",
        "            order by cnt desc\n",
        "            limit 10\n",
        "            '''"
      ]
    },
    {
      "cell_type": "code",
      "execution_count": 17,
      "id": "7d585c70",
      "metadata": {},
      "outputs": [
        {
          "data": {
            "text/html": [
              "<div>\n",
              "<style scoped>\n",
              "    .dataframe tbody tr th:only-of-type {\n",
              "        vertical-align: middle;\n",
              "    }\n",
              "\n",
              "    .dataframe tbody tr th {\n",
              "        vertical-align: top;\n",
              "    }\n",
              "\n",
              "    .dataframe thead th {\n",
              "        text-align: right;\n",
              "    }\n",
              "</style>\n",
              "<table border=\"1\" class=\"dataframe\">\n",
              "  <thead>\n",
              "    <tr style=\"text-align: right;\">\n",
              "      <th></th>\n",
              "      <th>city_name</th>\n",
              "      <th>cnt</th>\n",
              "      <th>avg_salary</th>\n",
              "    </tr>\n",
              "  </thead>\n",
              "  <tbody>\n",
              "    <tr>\n",
              "      <th>0</th>\n",
              "      <td>Москва</td>\n",
              "      <td>225</td>\n",
              "      <td>214000.0</td>\n",
              "    </tr>\n",
              "    <tr>\n",
              "      <th>1</th>\n",
              "      <td>Санкт-Петербург</td>\n",
              "      <td>69</td>\n",
              "      <td>183150.0</td>\n",
              "    </tr>\n",
              "    <tr>\n",
              "      <th>2</th>\n",
              "      <td>Новосибирск</td>\n",
              "      <td>23</td>\n",
              "      <td>166333.0</td>\n",
              "    </tr>\n",
              "    <tr>\n",
              "      <th>3</th>\n",
              "      <td>Алматы</td>\n",
              "      <td>22</td>\n",
              "      <td>120013.0</td>\n",
              "    </tr>\n",
              "    <tr>\n",
              "      <th>4</th>\n",
              "      <td>Нижний Новгород</td>\n",
              "      <td>20</td>\n",
              "      <td>NaN</td>\n",
              "    </tr>\n",
              "    <tr>\n",
              "      <th>5</th>\n",
              "      <td>Казань</td>\n",
              "      <td>19</td>\n",
              "      <td>161833.0</td>\n",
              "    </tr>\n",
              "    <tr>\n",
              "      <th>6</th>\n",
              "      <td>Ростов-на-Дону</td>\n",
              "      <td>11</td>\n",
              "      <td>241667.0</td>\n",
              "    </tr>\n",
              "    <tr>\n",
              "      <th>7</th>\n",
              "      <td>Томск</td>\n",
              "      <td>11</td>\n",
              "      <td>NaN</td>\n",
              "    </tr>\n",
              "    <tr>\n",
              "      <th>8</th>\n",
              "      <td>Минск</td>\n",
              "      <td>11</td>\n",
              "      <td>314785.0</td>\n",
              "    </tr>\n",
              "    <tr>\n",
              "      <th>9</th>\n",
              "      <td>Пермь</td>\n",
              "      <td>8</td>\n",
              "      <td>116667.0</td>\n",
              "    </tr>\n",
              "  </tbody>\n",
              "</table>\n",
              "</div>"
            ],
            "text/plain": [
              "         city_name  cnt  avg_salary\n",
              "0           Москва  225    214000.0\n",
              "1  Санкт-Петербург   69    183150.0\n",
              "2      Новосибирск   23    166333.0\n",
              "3           Алматы   22    120013.0\n",
              "4  Нижний Новгород   20         NaN\n",
              "5           Казань   19    161833.0\n",
              "6   Ростов-на-Дону   11    241667.0\n",
              "7            Томск   11         NaN\n",
              "8            Минск   11    314785.0\n",
              "9            Пермь    8    116667.0"
            ]
          },
          "metadata": {},
          "output_type": "display_data"
        }
      ],
      "source": [
        "# результат запроса\n",
        "vacancies_DS_city = pd.read_sql_query(query_7_3, connection)\n",
        "display(vacancies_DS_city)"
      ]
    },
    {
      "attachments": {},
      "cell_type": "markdown",
      "id": "6792c00b",
      "metadata": {},
      "source": [
        "**Комментарии:**\n",
        "\n",
        "1. Лидером по количеству вакансий в DS является Москва. Уровень ЗП в зависимости от города / региона меняется, но с учетом малого количества заполненных данных по ЗП нужно относится к нему с осторожностью. Так же необходимо проводить дополнительный анализ по уровню вакансии (Junior, Middle, Senior / Lead) "
      ]
    },
    {
      "attachments": {},
      "cell_type": "markdown",
      "id": "bd0c2d91",
      "metadata": {},
      "source": [
        "### Исследование 7.4 - Определим в каких компаниях представлены ваканси \"Data Science\"."
      ]
    },
    {
      "cell_type": "code",
      "execution_count": 20,
      "id": "7a5a11ce",
      "metadata": {},
      "outputs": [],
      "source": [
        "# текст запроса\n",
        "query_7_4 = f'''\n",
        "            select\n",
        "                e.name as employers_name,\n",
        "                count(a.name) as cnt,\n",
        "                round(avg(coalesce((salary_from+salary_to)/2, salary_from, salary_to)), 0) as avg_salary\n",
        "            from\n",
        "                public.vacancies as v\n",
        "                left join public.areas as a on v.area_id = a.id\n",
        "                left join public.employers as e on v.employer_id = e.id \n",
        "                \n",
        "            where (\n",
        "                    lower(v.name) like '%data scientist%'\n",
        "                    or lower(v.name) like '%data science%'\n",
        "                    or lower(v.name) like '%исследователь данных%'\n",
        "                    or (v.name ilike '%ML%' and not v.name ilike '%HTML%')\n",
        "                    or lower(v.name) like '%machine learning%'\n",
        "                    or lower(v.name) like '%машинн%обучен%'\n",
        "                    )\n",
        "            group by e.name\n",
        "            order by cnt desc\n",
        "            limit 10\n",
        "            '''"
      ]
    },
    {
      "cell_type": "code",
      "execution_count": 21,
      "id": "66b6e956",
      "metadata": {},
      "outputs": [
        {
          "data": {
            "text/html": [
              "<div>\n",
              "<style scoped>\n",
              "    .dataframe tbody tr th:only-of-type {\n",
              "        vertical-align: middle;\n",
              "    }\n",
              "\n",
              "    .dataframe tbody tr th {\n",
              "        vertical-align: top;\n",
              "    }\n",
              "\n",
              "    .dataframe thead th {\n",
              "        text-align: right;\n",
              "    }\n",
              "</style>\n",
              "<table border=\"1\" class=\"dataframe\">\n",
              "  <thead>\n",
              "    <tr style=\"text-align: right;\">\n",
              "      <th></th>\n",
              "      <th>employers_name</th>\n",
              "      <th>cnt</th>\n",
              "      <th>avg_salary</th>\n",
              "    </tr>\n",
              "  </thead>\n",
              "  <tbody>\n",
              "    <tr>\n",
              "      <th>0</th>\n",
              "      <td>СБЕР</td>\n",
              "      <td>39</td>\n",
              "      <td>NaN</td>\n",
              "    </tr>\n",
              "    <tr>\n",
              "      <th>1</th>\n",
              "      <td>Bell Integrator</td>\n",
              "      <td>25</td>\n",
              "      <td>NaN</td>\n",
              "    </tr>\n",
              "    <tr>\n",
              "      <th>2</th>\n",
              "      <td>Банк ВТБ (ПАО)</td>\n",
              "      <td>18</td>\n",
              "      <td>NaN</td>\n",
              "    </tr>\n",
              "    <tr>\n",
              "      <th>3</th>\n",
              "      <td>VK</td>\n",
              "      <td>15</td>\n",
              "      <td>NaN</td>\n",
              "    </tr>\n",
              "    <tr>\n",
              "      <th>4</th>\n",
              "      <td>Positive Technologies</td>\n",
              "      <td>11</td>\n",
              "      <td>NaN</td>\n",
              "    </tr>\n",
              "    <tr>\n",
              "      <th>5</th>\n",
              "      <td>Яндекс</td>\n",
              "      <td>9</td>\n",
              "      <td>NaN</td>\n",
              "    </tr>\n",
              "    <tr>\n",
              "      <th>6</th>\n",
              "      <td>EvenBet Gaming</td>\n",
              "      <td>9</td>\n",
              "      <td>NaN</td>\n",
              "    </tr>\n",
              "    <tr>\n",
              "      <th>7</th>\n",
              "      <td>МегаФон</td>\n",
              "      <td>8</td>\n",
              "      <td>NaN</td>\n",
              "    </tr>\n",
              "    <tr>\n",
              "      <th>8</th>\n",
              "      <td>Andersen</td>\n",
              "      <td>7</td>\n",
              "      <td>268863.0</td>\n",
              "    </tr>\n",
              "    <tr>\n",
              "      <th>9</th>\n",
              "      <td>Бэнкс Софт Системс</td>\n",
              "      <td>6</td>\n",
              "      <td>NaN</td>\n",
              "    </tr>\n",
              "  </tbody>\n",
              "</table>\n",
              "</div>"
            ],
            "text/plain": [
              "          employers_name  cnt  avg_salary\n",
              "0                   СБЕР   39         NaN\n",
              "1        Bell Integrator   25         NaN\n",
              "2         Банк ВТБ (ПАО)   18         NaN\n",
              "3                     VK   15         NaN\n",
              "4  Positive Technologies   11         NaN\n",
              "5                 Яндекс    9         NaN\n",
              "6         EvenBet Gaming    9         NaN\n",
              "7                МегаФон    8         NaN\n",
              "8               Andersen    7    268863.0\n",
              "9     Бэнкс Софт Системс    6         NaN"
            ]
          },
          "metadata": {},
          "output_type": "display_data"
        }
      ],
      "source": [
        "# результат запроса\n",
        "vacancies_DS_employers = pd.read_sql_query(query_7_4, connection)\n",
        "display(vacancies_DS_employers)"
      ]
    },
    {
      "attachments": {},
      "cell_type": "markdown",
      "id": "1a619dfb",
      "metadata": {},
      "source": [
        "**Комментарии:**\n",
        "\n",
        "1. Лидером по количеству вакансий в DS является СБЕР. Уровень ЗП у 9 из 10 выведенных компаний не указан. Малое количество вакансий у Яндекса, при том, что самое большое количество вакансий - 1933 (есть предположение, что вакансии повторяющиеся в разных регионах)."
      ]
    },
    {
      "attachments": {},
      "cell_type": "markdown",
      "id": "67323115",
      "metadata": {},
      "source": [
        "### Исследование 7.5 - Определим вакансии уровня Middle \"Data Science\", выделим ключевые навыки и требования по опыту работы."
      ]
    },
    {
      "cell_type": "code",
      "execution_count": 22,
      "id": "944de432",
      "metadata": {},
      "outputs": [],
      "source": [
        "# текст запроса\n",
        "query_7_5 = f'''\n",
        "            select\n",
        "                v.name as vacancies_name,\n",
        "                v.key_skills as key_skills_middle,\n",
        "                v.experience as experience_middle\n",
        "            from\n",
        "                public.vacancies as v\n",
        "                \n",
        "            where (\n",
        "                    lower(v.name) like '%data scientist%'\n",
        "                    or lower(v.name) like '%data science%'\n",
        "                    or lower(v.name) like '%исследователь данных%'\n",
        "                    or (v.name ilike '%ML%' and not v.name ilike '%HTML%')\n",
        "                    or lower(v.name) like '%machine learning%'\n",
        "                    or lower(v.name) like '%машинн%обучен%'\n",
        "                    )\n",
        "                    and\n",
        "                    (v.name not ilike '%junior%' \n",
        "                    or v.experience not ilike '%нет опыта%' \n",
        "                    or v.employment not ilike '%стажировка%'\n",
        "                    )\n",
        "                    and v.name ilike '%middle%' \n",
        "                    and v.name not ilike '%senior%'\n",
        "            '''"
      ]
    },
    {
      "cell_type": "code",
      "execution_count": 23,
      "id": "66627524",
      "metadata": {},
      "outputs": [
        {
          "name": "stderr",
          "output_type": "stream",
          "text": [
            "/Users/alexander.v.varlamov/opt/anaconda3/lib/python3.9/site-packages/pandas/io/sql.py:762: UserWarning: pandas only support SQLAlchemy connectable(engine/connection) ordatabase string URI or sqlite3 DBAPI2 connectionother DBAPI2 objects are not tested, please consider using SQLAlchemy\n",
            "  warnings.warn(\n"
          ]
        },
        {
          "data": {
            "text/html": [
              "<div>\n",
              "<style scoped>\n",
              "    .dataframe tbody tr th:only-of-type {\n",
              "        vertical-align: middle;\n",
              "    }\n",
              "\n",
              "    .dataframe tbody tr th {\n",
              "        vertical-align: top;\n",
              "    }\n",
              "\n",
              "    .dataframe thead th {\n",
              "        text-align: right;\n",
              "    }\n",
              "</style>\n",
              "<table border=\"1\" class=\"dataframe\">\n",
              "  <thead>\n",
              "    <tr style=\"text-align: right;\">\n",
              "      <th></th>\n",
              "      <th>vacancies_name</th>\n",
              "      <th>key_skills_middle</th>\n",
              "      <th>experience_middle</th>\n",
              "    </tr>\n",
              "  </thead>\n",
              "  <tbody>\n",
              "    <tr>\n",
              "      <th>0</th>\n",
              "      <td>Middle Data Scientist</td>\n",
              "      <td>Python\\tLearning to Rank\\tData Science\\tNLP</td>\n",
              "      <td>От 3 до 6 лет</td>\n",
              "    </tr>\n",
              "    <tr>\n",
              "      <th>1</th>\n",
              "      <td>Data Scientist (junior+/middle)</td>\n",
              "      <td>Python\\tМатематическая статистика\\tOracle Pl/S...</td>\n",
              "      <td>От 1 года до 3 лет</td>\n",
              "    </tr>\n",
              "    <tr>\n",
              "      <th>2</th>\n",
              "      <td>Junior/Middle Data Scientist</td>\n",
              "      <td>Linux\\tPython</td>\n",
              "      <td>От 1 года до 3 лет</td>\n",
              "    </tr>\n",
              "    <tr>\n",
              "      <th>3</th>\n",
              "      <td>Middle Data Scientist (Big Data)</td>\n",
              "      <td>Python\\tSQL\\tGit\\tLinux\\tHadoop</td>\n",
              "      <td>От 1 года до 3 лет</td>\n",
              "    </tr>\n",
              "    <tr>\n",
              "      <th>4</th>\n",
              "      <td>Data Scientist (middle)</td>\n",
              "      <td>Python\\tSQL\\tData Mining\\tC++\\tМатематический ...</td>\n",
              "      <td>От 1 года до 3 лет</td>\n",
              "    </tr>\n",
              "    <tr>\n",
              "      <th>5</th>\n",
              "      <td>Middle Data Scientist</td>\n",
              "      <td>Python\\tLearning to Rank\\tData Science\\tNLP</td>\n",
              "      <td>От 3 до 6 лет</td>\n",
              "    </tr>\n",
              "    <tr>\n",
              "      <th>6</th>\n",
              "      <td>Middle Data Scientist</td>\n",
              "      <td>Python\\tLearning to Rank\\tData Science\\tNLP</td>\n",
              "      <td>От 3 до 6 лет</td>\n",
              "    </tr>\n",
              "    <tr>\n",
              "      <th>7</th>\n",
              "      <td>Middle Data Scientist</td>\n",
              "      <td>Python\\tLearning to Rank\\tData Science\\tNLP</td>\n",
              "      <td>От 3 до 6 лет</td>\n",
              "    </tr>\n",
              "    <tr>\n",
              "      <th>8</th>\n",
              "      <td>Middle Data Scientist</td>\n",
              "      <td>Python\\tLearning to Rank\\tData Science\\tNLP</td>\n",
              "      <td>От 3 до 6 лет</td>\n",
              "    </tr>\n",
              "    <tr>\n",
              "      <th>9</th>\n",
              "      <td>Middle Data Scientist (Computer Vision)</td>\n",
              "      <td>OpenCV\\tPyTorch\\tPython\\tАнглийский язык\\tРабо...</td>\n",
              "      <td>От 1 года до 3 лет</td>\n",
              "    </tr>\n",
              "    <tr>\n",
              "      <th>10</th>\n",
              "      <td>Middle data scientist (Рекомендательные системы)</td>\n",
              "      <td>None</td>\n",
              "      <td>От 1 года до 3 лет</td>\n",
              "    </tr>\n",
              "    <tr>\n",
              "      <th>11</th>\n",
              "      <td>Data Scientist/ML Engineer (Middle+)</td>\n",
              "      <td>SCALA\\tJava\\tSQL\\tАнализ данных\\tPython\\tElast...</td>\n",
              "      <td>От 1 года до 3 лет</td>\n",
              "    </tr>\n",
              "    <tr>\n",
              "      <th>12</th>\n",
              "      <td>Middle Data Scientist</td>\n",
              "      <td>Python\\tSQL\\tHadoop\\tMachine Learning\\tАнглийс...</td>\n",
              "      <td>От 3 до 6 лет</td>\n",
              "    </tr>\n",
              "    <tr>\n",
              "      <th>13</th>\n",
              "      <td>Data scientist (Junior/Middle) в консалтинг</td>\n",
              "      <td>Python\\tML</td>\n",
              "      <td>Нет опыта</td>\n",
              "    </tr>\n",
              "    <tr>\n",
              "      <th>14</th>\n",
              "      <td>Data Scientist (Middle)</td>\n",
              "      <td>Python\\tSQL\\tSpark\\tУправление проектами\\tScru...</td>\n",
              "      <td>От 3 до 6 лет</td>\n",
              "    </tr>\n",
              "    <tr>\n",
              "      <th>15</th>\n",
              "      <td>Middle ML / Data Science разработчик</td>\n",
              "      <td>NLP\\tComputer Vision\\tData Analysis\\tData Scie...</td>\n",
              "      <td>От 1 года до 3 лет</td>\n",
              "    </tr>\n",
              "    <tr>\n",
              "      <th>16</th>\n",
              "      <td>Программист Python/ Data Scientist (junior / m...</td>\n",
              "      <td>Python\\tDjango Framework\\tSQL\\tXML\\tMS SQL</td>\n",
              "      <td>Нет опыта</td>\n",
              "    </tr>\n",
              "    <tr>\n",
              "      <th>17</th>\n",
              "      <td>Middle MLE (Big Data Department)</td>\n",
              "      <td>Python\\tGit\\tSQL\\tScrum\\tML\\tSpark</td>\n",
              "      <td>От 1 года до 3 лет</td>\n",
              "    </tr>\n",
              "    <tr>\n",
              "      <th>18</th>\n",
              "      <td>Middle MLE (Big Data Department)</td>\n",
              "      <td>Python\\tGit\\tSQL\\tScrum\\tML\\tSpark</td>\n",
              "      <td>От 1 года до 3 лет</td>\n",
              "    </tr>\n",
              "    <tr>\n",
              "      <th>19</th>\n",
              "      <td>Middle Data Scientist (Big Data)</td>\n",
              "      <td>Python\\tSQL\\tGit</td>\n",
              "      <td>От 1 года до 3 лет</td>\n",
              "    </tr>\n",
              "    <tr>\n",
              "      <th>20</th>\n",
              "      <td>Data Scientist (Middle)</td>\n",
              "      <td>Python\\tMachine Learning\\tSpark\\tDocker\\tMS Po...</td>\n",
              "      <td>От 3 до 6 лет</td>\n",
              "    </tr>\n",
              "    <tr>\n",
              "      <th>21</th>\n",
              "      <td>Data scientist (middle)</td>\n",
              "      <td>Математическое моделирование\\tMATLAB\\tМатемати...</td>\n",
              "      <td>От 1 года до 3 лет</td>\n",
              "    </tr>\n",
              "    <tr>\n",
              "      <th>22</th>\n",
              "      <td>Middle Data Scientist</td>\n",
              "      <td>Python\\tLearning to Rank\\tData Science\\tNLP</td>\n",
              "      <td>От 3 до 6 лет</td>\n",
              "    </tr>\n",
              "    <tr>\n",
              "      <th>23</th>\n",
              "      <td>Data scientist (Juniour-Middle)</td>\n",
              "      <td>Python\\tSQL\\tMS PowerPoint\\tАналитическое мышл...</td>\n",
              "      <td>От 1 года до 3 лет</td>\n",
              "    </tr>\n",
              "    <tr>\n",
              "      <th>24</th>\n",
              "      <td>Data scientist (Middle)</td>\n",
              "      <td>Анализ данных\\tMS PowerPoint\\tPandas\\tPython\\t...</td>\n",
              "      <td>От 3 до 6 лет</td>\n",
              "    </tr>\n",
              "    <tr>\n",
              "      <th>25</th>\n",
              "      <td>Middle Data Scientist</td>\n",
              "      <td>Python\\tSQL\\tData Mining\\tMachine Learning\\tАн...</td>\n",
              "      <td>От 1 года до 3 лет</td>\n",
              "    </tr>\n",
              "    <tr>\n",
              "      <th>26</th>\n",
              "      <td>Middle Data Scientist (клиентская аналитика)</td>\n",
              "      <td>Python\\tSQL\\tАнглийский язык\\tМатематическое м...</td>\n",
              "      <td>От 1 года до 3 лет</td>\n",
              "    </tr>\n",
              "    <tr>\n",
              "      <th>27</th>\n",
              "      <td>Middle Data Scientist (клиентская аналитика)</td>\n",
              "      <td>Python\\tSQL\\tАнглийский язык\\tМатематическое м...</td>\n",
              "      <td>От 1 года до 3 лет</td>\n",
              "    </tr>\n",
              "    <tr>\n",
              "      <th>28</th>\n",
              "      <td>Data Scientist (Computer Vision) / Middle</td>\n",
              "      <td>Python\\tLinux\\tGit\\tSQL\\tDocker\\tBash\\tNumpy\\t...</td>\n",
              "      <td>От 1 года до 3 лет</td>\n",
              "    </tr>\n",
              "    <tr>\n",
              "      <th>29</th>\n",
              "      <td>Middle ML Engineer</td>\n",
              "      <td>Python\\tmachine learning\\tsklearn\\tpytorch\\tdo...</td>\n",
              "      <td>От 3 до 6 лет</td>\n",
              "    </tr>\n",
              "    <tr>\n",
              "      <th>30</th>\n",
              "      <td>Middle ML Engineer</td>\n",
              "      <td>Python\\tmachine learning\\tsklearn\\tpytorch\\tdo...</td>\n",
              "      <td>От 3 до 6 лет</td>\n",
              "    </tr>\n",
              "  </tbody>\n",
              "</table>\n",
              "</div>"
            ],
            "text/plain": [
              "                                       vacancies_name  \\\n",
              "0                               Middle Data Scientist   \n",
              "1                     Data Scientist (junior+/middle)   \n",
              "2                        Junior/Middle Data Scientist   \n",
              "3                    Middle Data Scientist (Big Data)   \n",
              "4                             Data Scientist (middle)   \n",
              "5                               Middle Data Scientist   \n",
              "6                               Middle Data Scientist   \n",
              "7                               Middle Data Scientist   \n",
              "8                               Middle Data Scientist   \n",
              "9             Middle Data Scientist (Computer Vision)   \n",
              "10   Middle data scientist (Рекомендательные системы)   \n",
              "11               Data Scientist/ML Engineer (Middle+)   \n",
              "12                              Middle Data Scientist   \n",
              "13        Data scientist (Junior/Middle) в консалтинг   \n",
              "14                            Data Scientist (Middle)   \n",
              "15               Middle ML / Data Science разработчик   \n",
              "16  Программист Python/ Data Scientist (junior / m...   \n",
              "17                   Middle MLE (Big Data Department)   \n",
              "18                   Middle MLE (Big Data Department)   \n",
              "19                   Middle Data Scientist (Big Data)   \n",
              "20                            Data Scientist (Middle)   \n",
              "21                            Data scientist (middle)   \n",
              "22                              Middle Data Scientist   \n",
              "23                    Data scientist (Juniour-Middle)   \n",
              "24                            Data scientist (Middle)   \n",
              "25                              Middle Data Scientist   \n",
              "26       Middle Data Scientist (клиентская аналитика)   \n",
              "27       Middle Data Scientist (клиентская аналитика)   \n",
              "28          Data Scientist (Computer Vision) / Middle   \n",
              "29                                 Middle ML Engineer   \n",
              "30                                 Middle ML Engineer   \n",
              "\n",
              "                                    key_skills_middle   experience_middle  \n",
              "0         Python\\tLearning to Rank\\tData Science\\tNLP       От 3 до 6 лет  \n",
              "1   Python\\tМатематическая статистика\\tOracle Pl/S...  От 1 года до 3 лет  \n",
              "2                                       Linux\\tPython  От 1 года до 3 лет  \n",
              "3                     Python\\tSQL\\tGit\\tLinux\\tHadoop  От 1 года до 3 лет  \n",
              "4   Python\\tSQL\\tData Mining\\tC++\\tМатематический ...  От 1 года до 3 лет  \n",
              "5         Python\\tLearning to Rank\\tData Science\\tNLP       От 3 до 6 лет  \n",
              "6         Python\\tLearning to Rank\\tData Science\\tNLP       От 3 до 6 лет  \n",
              "7         Python\\tLearning to Rank\\tData Science\\tNLP       От 3 до 6 лет  \n",
              "8         Python\\tLearning to Rank\\tData Science\\tNLP       От 3 до 6 лет  \n",
              "9   OpenCV\\tPyTorch\\tPython\\tАнглийский язык\\tРабо...  От 1 года до 3 лет  \n",
              "10                                               None  От 1 года до 3 лет  \n",
              "11  SCALA\\tJava\\tSQL\\tАнализ данных\\tPython\\tElast...  От 1 года до 3 лет  \n",
              "12  Python\\tSQL\\tHadoop\\tMachine Learning\\tАнглийс...       От 3 до 6 лет  \n",
              "13                                         Python\\tML           Нет опыта  \n",
              "14  Python\\tSQL\\tSpark\\tУправление проектами\\tScru...       От 3 до 6 лет  \n",
              "15  NLP\\tComputer Vision\\tData Analysis\\tData Scie...  От 1 года до 3 лет  \n",
              "16         Python\\tDjango Framework\\tSQL\\tXML\\tMS SQL           Нет опыта  \n",
              "17                 Python\\tGit\\tSQL\\tScrum\\tML\\tSpark  От 1 года до 3 лет  \n",
              "18                 Python\\tGit\\tSQL\\tScrum\\tML\\tSpark  От 1 года до 3 лет  \n",
              "19                                   Python\\tSQL\\tGit  От 1 года до 3 лет  \n",
              "20  Python\\tMachine Learning\\tSpark\\tDocker\\tMS Po...       От 3 до 6 лет  \n",
              "21  Математическое моделирование\\tMATLAB\\tМатемати...  От 1 года до 3 лет  \n",
              "22        Python\\tLearning to Rank\\tData Science\\tNLP       От 3 до 6 лет  \n",
              "23  Python\\tSQL\\tMS PowerPoint\\tАналитическое мышл...  От 1 года до 3 лет  \n",
              "24  Анализ данных\\tMS PowerPoint\\tPandas\\tPython\\t...       От 3 до 6 лет  \n",
              "25  Python\\tSQL\\tData Mining\\tMachine Learning\\tАн...  От 1 года до 3 лет  \n",
              "26  Python\\tSQL\\tАнглийский язык\\tМатематическое м...  От 1 года до 3 лет  \n",
              "27  Python\\tSQL\\tАнглийский язык\\tМатематическое м...  От 1 года до 3 лет  \n",
              "28  Python\\tLinux\\tGit\\tSQL\\tDocker\\tBash\\tNumpy\\t...  От 1 года до 3 лет  \n",
              "29  Python\\tmachine learning\\tsklearn\\tpytorch\\tdo...       От 3 до 6 лет  \n",
              "30  Python\\tmachine learning\\tsklearn\\tpytorch\\tdo...       От 3 до 6 лет  "
            ]
          },
          "metadata": {},
          "output_type": "display_data"
        }
      ],
      "source": [
        "# результат запроса\n",
        "vacancies_DSM = pd.read_sql_query(query_7_5, connection)\n",
        "display(vacancies_DSM)"
      ]
    },
    {
      "attachments": {},
      "cell_type": "markdown",
      "id": "cc7f279f",
      "metadata": {},
      "source": [
        "**Комментарии:**\n",
        "\n",
        "1. В задание 6.2 было определено, что к Junior можно отнести 51 вакансию. Согласно запроса выведено 27 позиций по которым есть прямая ссылка на уровень Middle;\n",
        "2. В требования по опыту работы разделились примерно по полам \"от 1 до 3 лет\" и \"от 3 до 6 лет\"."
      ]
    },
    {
      "attachments": {},
      "cell_type": "markdown",
      "id": "f407774d",
      "metadata": {},
      "source": [
        "### Исследование 7.6 - Определим вакансии уровня Senior \"Data Science\", выделим ключевые навыки и требования по опыту работы."
      ]
    },
    {
      "cell_type": "code",
      "execution_count": 24,
      "id": "db2043fd",
      "metadata": {},
      "outputs": [],
      "source": [
        "# текст запроса\n",
        "query_7_6 = f'''\n",
        "            select\n",
        "                v.name as vacancies_name,\n",
        "                v.key_skills as key_skills_middle,\n",
        "                v.experience as experience_middle\n",
        "            from\n",
        "                public.vacancies as v\n",
        "                \n",
        "            where (\n",
        "                    lower(v.name) like '%data scientist%'\n",
        "                    or lower(v.name) like '%data science%'\n",
        "                    or lower(v.name) like '%исследователь данных%'\n",
        "                    or (v.name ilike '%ML%' and not v.name ilike '%HTML%')\n",
        "                    or lower(v.name) like '%machine learning%'\n",
        "                    or lower(v.name) like '%машинн%обучен%'\n",
        "                    )\n",
        "                    and\n",
        "                    (v.name not ilike '%junior%' \n",
        "                    or v.experience not ilike '%нет опыта%' \n",
        "                    or v.employment not ilike '%стажировка%'\n",
        "                    )\n",
        "                    --and v.name not ilike '%middle%' \n",
        "                    and v.name ilike '%senior%'\n",
        "            '''"
      ]
    },
    {
      "cell_type": "code",
      "execution_count": 25,
      "id": "2e32733f",
      "metadata": {},
      "outputs": [
        {
          "name": "stderr",
          "output_type": "stream",
          "text": [
            "/Users/alexander.v.varlamov/opt/anaconda3/lib/python3.9/site-packages/pandas/io/sql.py:762: UserWarning: pandas only support SQLAlchemy connectable(engine/connection) ordatabase string URI or sqlite3 DBAPI2 connectionother DBAPI2 objects are not tested, please consider using SQLAlchemy\n",
            "  warnings.warn(\n"
          ]
        },
        {
          "data": {
            "text/html": [
              "<div>\n",
              "<style scoped>\n",
              "    .dataframe tbody tr th:only-of-type {\n",
              "        vertical-align: middle;\n",
              "    }\n",
              "\n",
              "    .dataframe tbody tr th {\n",
              "        vertical-align: top;\n",
              "    }\n",
              "\n",
              "    .dataframe thead th {\n",
              "        text-align: right;\n",
              "    }\n",
              "</style>\n",
              "<table border=\"1\" class=\"dataframe\">\n",
              "  <thead>\n",
              "    <tr style=\"text-align: right;\">\n",
              "      <th></th>\n",
              "      <th>vacancies_name</th>\n",
              "      <th>key_skills_middle</th>\n",
              "      <th>experience_middle</th>\n",
              "    </tr>\n",
              "  </thead>\n",
              "  <tbody>\n",
              "    <tr>\n",
              "      <th>0</th>\n",
              "      <td>AI/ML Senior Engineer</td>\n",
              "      <td>Python\\tFlask\\tLinux\\tAWS\\tGit</td>\n",
              "      <td>От 3 до 6 лет</td>\n",
              "    </tr>\n",
              "    <tr>\n",
              "      <th>1</th>\n",
              "      <td>PHP Senior/TeamLead</td>\n",
              "      <td>Разработка ПО\\tJavaScript\\tSQL\\tMySQL\\tВеб-про...</td>\n",
              "      <td>От 1 года до 3 лет</td>\n",
              "    </tr>\n",
              "    <tr>\n",
              "      <th>2</th>\n",
              "      <td>AI/ML Senior Engineer</td>\n",
              "      <td>Python\\tFlask\\tLinux\\tAWS\\tGit</td>\n",
              "      <td>От 3 до 6 лет</td>\n",
              "    </tr>\n",
              "    <tr>\n",
              "      <th>3</th>\n",
              "      <td>Математик, Junior/Middle/Senior Data Scientist</td>\n",
              "      <td>Python\\tMATLAB\\tМатематическое моделирование\\t...</td>\n",
              "      <td>От 1 года до 3 лет</td>\n",
              "    </tr>\n",
              "    <tr>\n",
              "      <th>4</th>\n",
              "      <td>Senior Developer (teamlead)</td>\n",
              "      <td>Git\\tООП\\tPostgreSQL\\tBPMN\\tBackend\\tРабота с ...</td>\n",
              "      <td>Более 6 лет</td>\n",
              "    </tr>\n",
              "    <tr>\n",
              "      <th>...</th>\n",
              "      <td>...</td>\n",
              "      <td>...</td>\n",
              "      <td>...</td>\n",
              "    </tr>\n",
              "    <tr>\n",
              "      <th>66</th>\n",
              "      <td>TeamLead/Senior</td>\n",
              "      <td>Java\\tGithub\\tOpenDNS\\tPostgreSQL</td>\n",
              "      <td>От 3 до 6 лет</td>\n",
              "    </tr>\n",
              "    <tr>\n",
              "      <th>67</th>\n",
              "      <td>Senior Developer (teamlead)</td>\n",
              "      <td>Git\\tООП\\tPostgreSQL\\tBPMN\\tBackend\\tРабота с ...</td>\n",
              "      <td>Более 6 лет</td>\n",
              "    </tr>\n",
              "    <tr>\n",
              "      <th>68</th>\n",
              "      <td>Middle+/Senior Data Scientist</td>\n",
              "      <td>SCALA\\tSQL\\tМатематический анализ\\tСтатистичес...</td>\n",
              "      <td>От 3 до 6 лет</td>\n",
              "    </tr>\n",
              "    <tr>\n",
              "      <th>69</th>\n",
              "      <td>Системный аналитик /Middle+/Senior/TeamLead</td>\n",
              "      <td>UML\\tSQL\\tBPMN\\tSOAP\\tREST\\tПостановка задач р...</td>\n",
              "      <td>От 3 до 6 лет</td>\n",
              "    </tr>\n",
              "    <tr>\n",
              "      <th>70</th>\n",
              "      <td>Frontend разработчик, VueJS (Senior), TeamLead</td>\n",
              "      <td>Git\\tJavaScript\\tHTML\\tCSS\\tVue.js\\tVue\\tREST ...</td>\n",
              "      <td>От 1 года до 3 лет</td>\n",
              "    </tr>\n",
              "  </tbody>\n",
              "</table>\n",
              "<p>71 rows × 3 columns</p>\n",
              "</div>"
            ],
            "text/plain": [
              "                                    vacancies_name  \\\n",
              "0                            AI/ML Senior Engineer   \n",
              "1                              PHP Senior/TeamLead   \n",
              "2                            AI/ML Senior Engineer   \n",
              "3   Математик, Junior/Middle/Senior Data Scientist   \n",
              "4                      Senior Developer (teamlead)   \n",
              "..                                             ...   \n",
              "66                                 TeamLead/Senior   \n",
              "67                     Senior Developer (teamlead)   \n",
              "68                   Middle+/Senior Data Scientist   \n",
              "69     Системный аналитик /Middle+/Senior/TeamLead   \n",
              "70  Frontend разработчик, VueJS (Senior), TeamLead   \n",
              "\n",
              "                                    key_skills_middle   experience_middle  \n",
              "0                      Python\\tFlask\\tLinux\\tAWS\\tGit       От 3 до 6 лет  \n",
              "1   Разработка ПО\\tJavaScript\\tSQL\\tMySQL\\tВеб-про...  От 1 года до 3 лет  \n",
              "2                      Python\\tFlask\\tLinux\\tAWS\\tGit       От 3 до 6 лет  \n",
              "3   Python\\tMATLAB\\tМатематическое моделирование\\t...  От 1 года до 3 лет  \n",
              "4   Git\\tООП\\tPostgreSQL\\tBPMN\\tBackend\\tРабота с ...         Более 6 лет  \n",
              "..                                                ...                 ...  \n",
              "66                  Java\\tGithub\\tOpenDNS\\tPostgreSQL       От 3 до 6 лет  \n",
              "67  Git\\tООП\\tPostgreSQL\\tBPMN\\tBackend\\tРабота с ...         Более 6 лет  \n",
              "68  SCALA\\tSQL\\tМатематический анализ\\tСтатистичес...       От 3 до 6 лет  \n",
              "69  UML\\tSQL\\tBPMN\\tSOAP\\tREST\\tПостановка задач р...       От 3 до 6 лет  \n",
              "70  Git\\tJavaScript\\tHTML\\tCSS\\tVue.js\\tVue\\tREST ...  От 1 года до 3 лет  \n",
              "\n",
              "[71 rows x 3 columns]"
            ]
          },
          "metadata": {},
          "output_type": "display_data"
        }
      ],
      "source": [
        "# результат запроса\n",
        "vacancies_DSS = pd.read_sql_query(query_7_6, connection)\n",
        "display(vacancies_DSS)"
      ]
    },
    {
      "attachments": {},
      "cell_type": "markdown",
      "id": "a48daca9",
      "metadata": {},
      "source": [
        "**Комментарии:**\n",
        "\n",
        "1. Согласно запроса выведено 71 позиция по которым есть прямая ссылка на уровень Senior;\n",
        "2. В требования по опыту работы разделились примерно по полам \"от 3 до 6 лет\" и \"более 6 лет\";\n",
        "3. С учетом ранее определенного количества Junior и Middle остается большое количество вакансий в которых четко не определен уровень (скорей всего между Middle и Senior)."
      ]
    },
    {
      "attachments": {},
      "cell_type": "markdown",
      "id": "713f25bd",
      "metadata": {},
      "source": [
        "### Исследование 7.7 - Определим прочие вакансии \"Data Science\", выделим ключевые навыки и требования по опыту работы."
      ]
    },
    {
      "cell_type": "code",
      "execution_count": 26,
      "id": "f8877e11",
      "metadata": {},
      "outputs": [],
      "source": [
        "# текст запроса\n",
        "query_7_7 = f'''\n",
        "            select\n",
        "                v.name as vacancies_name,\n",
        "                v.key_skills as key_skills_middle,\n",
        "                v.experience as experience_middle\n",
        "            from\n",
        "                public.vacancies as v\n",
        "                \n",
        "            where (\n",
        "                    lower(v.name) like '%data scientist%'\n",
        "                    or lower(v.name) like '%data science%'\n",
        "                    or lower(v.name) like '%исследователь данных%'\n",
        "                    or (v.name ilike '%ML%' and not v.name ilike '%HTML%')\n",
        "                    or lower(v.name) like '%machine learning%'\n",
        "                    or lower(v.name) like '%машинн%обучен%'\n",
        "                    )\n",
        "                    and v.name not ilike '%junior%' \n",
        "                    and v.experience not ilike '%нет опыта%' \n",
        "                    and v.employment not ilike '%стажировка%'\n",
        "                    and v.name not ilike '%middle%' \n",
        "                    and v.name not ilike '%senior%'\n",
        "            '''"
      ]
    },
    {
      "cell_type": "code",
      "execution_count": 27,
      "id": "6d94e769",
      "metadata": {},
      "outputs": [
        {
          "name": "stderr",
          "output_type": "stream",
          "text": [
            "/Users/alexander.v.varlamov/opt/anaconda3/lib/python3.9/site-packages/pandas/io/sql.py:762: UserWarning: pandas only support SQLAlchemy connectable(engine/connection) ordatabase string URI or sqlite3 DBAPI2 connectionother DBAPI2 objects are not tested, please consider using SQLAlchemy\n",
            "  warnings.warn(\n"
          ]
        },
        {
          "data": {
            "text/html": [
              "<div>\n",
              "<style scoped>\n",
              "    .dataframe tbody tr th:only-of-type {\n",
              "        vertical-align: middle;\n",
              "    }\n",
              "\n",
              "    .dataframe tbody tr th {\n",
              "        vertical-align: top;\n",
              "    }\n",
              "\n",
              "    .dataframe thead th {\n",
              "        text-align: right;\n",
              "    }\n",
              "</style>\n",
              "<table border=\"1\" class=\"dataframe\">\n",
              "  <thead>\n",
              "    <tr style=\"text-align: right;\">\n",
              "      <th></th>\n",
              "      <th>vacancies_name</th>\n",
              "      <th>key_skills_middle</th>\n",
              "      <th>experience_middle</th>\n",
              "    </tr>\n",
              "  </thead>\n",
              "  <tbody>\n",
              "    <tr>\n",
              "      <th>0</th>\n",
              "      <td>Data Scientist</td>\n",
              "      <td>Oracle Pl/SQL\\tБазы данных\\tMachine Learning\\t...</td>\n",
              "      <td>От 1 года до 3 лет</td>\n",
              "    </tr>\n",
              "    <tr>\n",
              "      <th>1</th>\n",
              "      <td>Разработчик C++/Qt/QML</td>\n",
              "      <td>C++\\tQt\\tVoIP\\tTCP/IP\\tQML</td>\n",
              "      <td>От 1 года до 3 лет</td>\n",
              "    </tr>\n",
              "    <tr>\n",
              "      <th>2</th>\n",
              "      <td>QA Automation TeamLead</td>\n",
              "      <td>Atlassian Jira\\tФункциональное тестирование\\tS...</td>\n",
              "      <td>От 3 до 6 лет</td>\n",
              "    </tr>\n",
              "    <tr>\n",
              "      <th>3</th>\n",
              "      <td>Data Scientist</td>\n",
              "      <td>Python\\tSQL\\tNLP\\tScikit-learn\\tMachine Learning</td>\n",
              "      <td>От 1 года до 3 лет</td>\n",
              "    </tr>\n",
              "    <tr>\n",
              "      <th>4</th>\n",
              "      <td>Data Scientist</td>\n",
              "      <td>Python\\tSQL\\tNLP\\tScikit-learn\\tMachine Learning</td>\n",
              "      <td>От 1 года до 3 лет</td>\n",
              "    </tr>\n",
              "    <tr>\n",
              "      <th>...</th>\n",
              "      <td>...</td>\n",
              "      <td>...</td>\n",
              "      <td>...</td>\n",
              "    </tr>\n",
              "    <tr>\n",
              "      <th>385</th>\n",
              "      <td>Data scientist / Исследователь-программист данных</td>\n",
              "      <td>Python\\tАналитическое мышление\\tАнализ данных\\...</td>\n",
              "      <td>От 1 года до 3 лет</td>\n",
              "    </tr>\n",
              "    <tr>\n",
              "      <th>386</th>\n",
              "      <td>C++ разработчик (QML)</td>\n",
              "      <td>Qt\\tООП\\tC++\\tMS Visual Studio\\tРазработка ком...</td>\n",
              "      <td>От 3 до 6 лет</td>\n",
              "    </tr>\n",
              "    <tr>\n",
              "      <th>387</th>\n",
              "      <td>Специалист ML/DS</td>\n",
              "      <td>Python\\tNumpy\\tPyTorch\\tPandas\\tМатематический...</td>\n",
              "      <td>От 3 до 6 лет</td>\n",
              "    </tr>\n",
              "    <tr>\n",
              "      <th>388</th>\n",
              "      <td>Data Scientist в области рекомендательных систем</td>\n",
              "      <td>Python\\tScikit-learn\\tPandas\\tGit\\tNumpy</td>\n",
              "      <td>От 3 до 6 лет</td>\n",
              "    </tr>\n",
              "    <tr>\n",
              "      <th>389</th>\n",
              "      <td>ML Engineer Team Lead (to Cyprus)</td>\n",
              "      <td>Python\\tLinux\\tKubernetes\\tAWS\\tGit\\tPeople Ma...</td>\n",
              "      <td>От 3 до 6 лет</td>\n",
              "    </tr>\n",
              "  </tbody>\n",
              "</table>\n",
              "<p>390 rows × 3 columns</p>\n",
              "</div>"
            ],
            "text/plain": [
              "                                        vacancies_name  \\\n",
              "0                                       Data Scientist   \n",
              "1                               Разработчик C++/Qt/QML   \n",
              "2                               QA Automation TeamLead   \n",
              "3                                       Data Scientist   \n",
              "4                                       Data Scientist   \n",
              "..                                                 ...   \n",
              "385  Data scientist / Исследователь-программист данных   \n",
              "386                              C++ разработчик (QML)   \n",
              "387                                   Специалист ML/DS   \n",
              "388   Data Scientist в области рекомендательных систем   \n",
              "389                  ML Engineer Team Lead (to Cyprus)   \n",
              "\n",
              "                                     key_skills_middle   experience_middle  \n",
              "0    Oracle Pl/SQL\\tБазы данных\\tMachine Learning\\t...  От 1 года до 3 лет  \n",
              "1                           C++\\tQt\\tVoIP\\tTCP/IP\\tQML  От 1 года до 3 лет  \n",
              "2    Atlassian Jira\\tФункциональное тестирование\\tS...       От 3 до 6 лет  \n",
              "3     Python\\tSQL\\tNLP\\tScikit-learn\\tMachine Learning  От 1 года до 3 лет  \n",
              "4     Python\\tSQL\\tNLP\\tScikit-learn\\tMachine Learning  От 1 года до 3 лет  \n",
              "..                                                 ...                 ...  \n",
              "385  Python\\tАналитическое мышление\\tАнализ данных\\...  От 1 года до 3 лет  \n",
              "386  Qt\\tООП\\tC++\\tMS Visual Studio\\tРазработка ком...       От 3 до 6 лет  \n",
              "387  Python\\tNumpy\\tPyTorch\\tPandas\\tМатематический...       От 3 до 6 лет  \n",
              "388           Python\\tScikit-learn\\tPandas\\tGit\\tNumpy       От 3 до 6 лет  \n",
              "389  Python\\tLinux\\tKubernetes\\tAWS\\tGit\\tPeople Ma...       От 3 до 6 лет  \n",
              "\n",
              "[390 rows x 3 columns]"
            ]
          },
          "metadata": {},
          "output_type": "display_data"
        }
      ],
      "source": [
        "# результат запроса\n",
        "vacancies_DS_other = pd.read_sql_query(query_7_7, connection)\n",
        "display(vacancies_DS_other)"
      ]
    },
    {
      "attachments": {},
      "cell_type": "markdown",
      "id": "c6128cf6",
      "metadata": {},
      "source": [
        "**Комментарии:**\n",
        "\n",
        "1. Согласно запроса выведено 390(73%) позиций по которым не определен уровень вакансии;\n",
        "2. Можно предположить, что в компаниях нет четкого понимания / определения границ между Middle и Senior или она размыта;\n",
        "3. "
      ]
    },
    {
      "attachments": {},
      "cell_type": "markdown",
      "id": "bb9be1ca",
      "metadata": {},
      "source": [
        "### Исследование 7.8 Распределение прочих вакансий по опыту работы в \"Data Science\"."
      ]
    },
    {
      "cell_type": "code",
      "execution_count": 12,
      "id": "b2f4fdf7",
      "metadata": {},
      "outputs": [],
      "source": [
        "# текст запроса\n",
        "query_7_9 = f'''\n",
        "            select\n",
        "                v.experience as experience,\n",
        "                count(*) as cnt\n",
        "            from\n",
        "                public.vacancies as v\n",
        "                \n",
        "            where (\n",
        "                    lower(v.name) like '%data scientist%'\n",
        "                    or lower(v.name) like '%data science%'\n",
        "                    or lower(v.name) like '%исследователь данных%'\n",
        "                    or (v.name ilike '%ML%' and not v.name ilike '%HTML%')\n",
        "                    or lower(v.name) like '%machine learning%'\n",
        "                    or lower(v.name) like '%машинн%обучен%'\n",
        "                    )\n",
        "                    and v.name not ilike '%junior%' \n",
        "                    and v.experience not ilike '%нет опыта%' \n",
        "                    and v.employment not ilike '%стажировка%'\n",
        "                    and v.name not ilike '%middle%' \n",
        "                    and v.name not ilike '%senior%'\n",
        "            group by v.experience\n",
        "            order by cnt desc\n",
        "            --limit 5\n",
        "            '''"
      ]
    },
    {
      "cell_type": "code",
      "execution_count": 13,
      "id": "0db5ed8a",
      "metadata": {},
      "outputs": [
        {
          "name": "stderr",
          "output_type": "stream",
          "text": [
            "/Users/alexander.v.varlamov/opt/anaconda3/lib/python3.9/site-packages/pandas/io/sql.py:762: UserWarning: pandas only support SQLAlchemy connectable(engine/connection) ordatabase string URI or sqlite3 DBAPI2 connectionother DBAPI2 objects are not tested, please consider using SQLAlchemy\n",
            "  warnings.warn(\n"
          ]
        },
        {
          "data": {
            "text/html": [
              "<div>\n",
              "<style scoped>\n",
              "    .dataframe tbody tr th:only-of-type {\n",
              "        vertical-align: middle;\n",
              "    }\n",
              "\n",
              "    .dataframe tbody tr th {\n",
              "        vertical-align: top;\n",
              "    }\n",
              "\n",
              "    .dataframe thead th {\n",
              "        text-align: right;\n",
              "    }\n",
              "</style>\n",
              "<table border=\"1\" class=\"dataframe\">\n",
              "  <thead>\n",
              "    <tr style=\"text-align: right;\">\n",
              "      <th></th>\n",
              "      <th>experience</th>\n",
              "      <th>cnt</th>\n",
              "    </tr>\n",
              "  </thead>\n",
              "  <tbody>\n",
              "    <tr>\n",
              "      <th>0</th>\n",
              "      <td>От 3 до 6 лет</td>\n",
              "      <td>183</td>\n",
              "    </tr>\n",
              "    <tr>\n",
              "      <th>1</th>\n",
              "      <td>От 1 года до 3 лет</td>\n",
              "      <td>182</td>\n",
              "    </tr>\n",
              "    <tr>\n",
              "      <th>2</th>\n",
              "      <td>Более 6 лет</td>\n",
              "      <td>25</td>\n",
              "    </tr>\n",
              "  </tbody>\n",
              "</table>\n",
              "</div>"
            ],
            "text/plain": [
              "           experience  cnt\n",
              "0       От 3 до 6 лет  183\n",
              "1  От 1 года до 3 лет  182\n",
              "2         Более 6 лет   25"
            ]
          },
          "metadata": {},
          "output_type": "display_data"
        }
      ],
      "source": [
        "# результат запроса\n",
        "vacancies_DS_exp = pd.read_sql_query(query_7_9, connection)\n",
        "display(vacancies_DS_exp)"
      ]
    },
    {
      "attachments": {},
      "cell_type": "markdown",
      "id": "b62f1d88",
      "metadata": {},
      "source": [
        "**Комментарии:**\n",
        "\n",
        "1. Согласно запроса выведено 390(73%) позиций по которым не определен уровень вакансии;\n",
        "2. Можно предположить, что в компаниях нет четкого понимания / определения границ между Middle и Senior;\n",
        "3. Остается 12 вакансий не учтенных в выборке."
      ]
    },
    {
      "cell_type": "code",
      "execution_count": 28,
      "id": "d4b89a04",
      "metadata": {},
      "outputs": [],
      "source": [
        "connection.close()"
      ]
    }
  ],
  "metadata": {
    "colab": {
      "collapsed_sections": [
        "8d62a9f3-f64e-4fe7-bdac-c4dffa16155e"
      ],
      "provenance": []
    },
    "kernelspec": {
      "display_name": "Python 3 (ipykernel)",
      "language": "python",
      "name": "python3"
    },
    "language_info": {
      "codemirror_mode": {
        "name": "ipython",
        "version": 3
      },
      "file_extension": ".py",
      "mimetype": "text/x-python",
      "name": "python",
      "nbconvert_exporter": "python",
      "pygments_lexer": "ipython3",
      "version": "3.9.13"
    }
  },
  "nbformat": 4,
  "nbformat_minor": 5
}
